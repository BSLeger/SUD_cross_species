{
 "cells": [
  {
   "cell_type": "markdown",
   "id": "65c78851-2905-4f8f-8230-4fecb67ebea9",
   "metadata": {},
   "source": [
    "purpose: make the reference file was from one of the .mlma files using the  for munging. used in the NICSA genomic SEM pipeline."
   ]
  },
  {
   "cell_type": "code",
   "execution_count": 3,
   "id": "1599e08b-a1a4-426b-ad93-a8cbfa2efacb",
   "metadata": {},
   "outputs": [],
   "source": [
    "import pandas as pd\n",
    "import os\n",
    "from glob import glob"
   ]
  },
  {
   "cell_type": "code",
   "execution_count": 2,
   "id": "0ef8fb50-66a7-4daa-ba51-594ae8b4374c",
   "metadata": {},
   "outputs": [],
   "source": [
    "os.chdir('/tscc/nfs/home/bsleger/bsl/SUD_cross_species/nicsa_gwas')"
   ]
  },
  {
   "cell_type": "markdown",
   "id": "2fc93e71-b71e-4ba2-a126-7fd8ccb4cf55",
   "metadata": {},
   "source": [
    "# get N rats per trait to study"
   ]
  },
  {
   "cell_type": "code",
   "execution_count": 6,
   "id": "6ce4939a-45e6-41ec-a8ce-a779e16390d2",
   "metadata": {},
   "outputs": [],
   "source": [
    "#list of traits that I want to analyze- chosen by hao chen\n",
    "traits=list(pd.read_csv('../nicsa_traits.txt', sep='\\t',header=None)[0])"
   ]
  },
  {
   "cell_type": "code",
   "execution_count": 45,
   "id": "9c0c88d2-9897-4020-9dd0-2d237464baa1",
   "metadata": {},
   "outputs": [
    {
     "data": {
      "text/plain": [
       "['regressedlr_nicsa_day1_activelick',\n",
       " 'regressedlr_nicsa_day1_active_inactive_ratio',\n",
       " 'regressedlr_nicsa_day1_infusion',\n",
       " 'regressedlr_nicsa_active_inactive_ratio_first_three_median',\n",
       " 'regressedlr_nicsa_first_three_days_activelick_median',\n",
       " 'regressedlr_nicsa_first_three_days_activelick_total',\n",
       " 'regressedlr_nicsa_first_three_days_infusion_median',\n",
       " 'regressedlr_nicsa_first_three_days_infusion_total',\n",
       " 'regressedlr_nicsa_day10_activelick',\n",
       " 'regressedlr_nicsa_day10_active_inactive_ratio',\n",
       " 'regressedlr_nicsa_day10_infusion',\n",
       " 'regressedlr_nicsa_active_inactive_ratio_last_three_median',\n",
       " 'regressedlr_nicsa_last_three_days_activelick_median',\n",
       " 'regressedlr_nicsa_last_three_days_activelick_total',\n",
       " 'regressedlr_nicsa_last_three_days_infusion_median',\n",
       " 'regressedlr_nicsa_last_three_days_infusion_total',\n",
       " 'regressedlr_nicsa_total_activelick_10days',\n",
       " 'regressedlr_nicsa_total_infusion_10days',\n",
       " 'regressedlr_nicsa_active_inactive_ratio_all_days']"
      ]
     },
     "execution_count": 45,
     "metadata": {},
     "output_type": "execute_result"
    }
   ],
   "source": [
    "list(pd.read_csv('../nicsa_traits.csv', sep=',')['file_prefix'])"
   ]
  },
  {
   "cell_type": "code",
   "execution_count": 20,
   "id": "ebb7900c-91a9-41bf-9d8b-712a36958b41",
   "metadata": {},
   "outputs": [
    {
     "data": {
      "text/plain": [
       "['day1_activelick',\n",
       " 'day1_active_inactive_ratio',\n",
       " 'day1_infusion',\n",
       " 'active_inactive_ratio_first_three_median',\n",
       " 'first_three_days_activelick_median',\n",
       " 'first_three_days_activelick_total',\n",
       " 'first_three_days_infusion_median',\n",
       " 'first_three_days_infusion_total',\n",
       " 'day10_activelick',\n",
       " 'day10_active_inactive_ratio',\n",
       " 'day10_infusion',\n",
       " 'active_inactive_ratio_last_three_median',\n",
       " 'last_three_days_activelick_median',\n",
       " 'last_three_days_activelick_total',\n",
       " 'last_three_days_infusion_median',\n",
       " 'last_three_days_infusion_total',\n",
       " 'total_activelick_10days',\n",
       " 'total_infusion_10days',\n",
       " 'active_inactive_ratio_all_days']"
      ]
     },
     "execution_count": 20,
     "metadata": {},
     "output_type": "execute_result"
    }
   ],
   "source": [
    "traits"
   ]
  },
  {
   "cell_type": "code",
   "execution_count": 3,
   "id": "eabf24d1-6da4-4c4d-bc83-b611ea3bdea7",
   "metadata": {},
   "outputs": [],
   "source": [
    "A = pd.read_csv('processed_data_ready.csv', dtype = {'rfid': str})"
   ]
  },
  {
   "cell_type": "code",
   "execution_count": 42,
   "id": "0e286c05-3391-41f0-a4ab-3c6067b669c6",
   "metadata": {},
   "outputs": [
    {
     "data": {
      "text/plain": [
       "Index(['nicsa_active_inactive_ratio_all_days', 'regressedlr_nicsa_active_inactive_ratio_all_days'], dtype='object')"
      ]
     },
     "execution_count": 42,
     "metadata": {},
     "output_type": "execute_result"
    }
   ],
   "source": [
    "#get list of measured traits- apparently on regressedls have mlma files so use regressed\n",
    "A.columns[A.columns.str.contains('active_inactive_ratio_all_days')]"
   ]
  },
  {
   "cell_type": "code",
   "execution_count": 41,
   "id": "b25b3c26-3c50-46ce-be28-05dc405896e2",
   "metadata": {
    "scrolled": true
   },
   "outputs": [
    {
     "data": {
      "text/plain": [
       "2018"
      ]
     },
     "execution_count": 41,
     "metadata": {},
     "output_type": "execute_result"
    }
   ],
   "source": [
    "#get N rats for given trait\n",
    "len(A['regressedlr_nicsa_active_inactive_ratio_all_days'].dropna())\n",
    "#data saved to nicsa_traits.csv"
   ]
  },
  {
   "cell_type": "markdown",
   "id": "d56ac428-2ebf-40ba-b759-434fbe843d0d",
   "metadata": {},
   "source": [
    "# export table with RFIDs - based on phenotype data"
   ]
  },
  {
   "cell_type": "code",
   "execution_count": 9,
   "id": "e1de17c2-f9e2-4b73-baea-d3ebe297b30e",
   "metadata": {},
   "outputs": [],
   "source": [
    "#make ref table\n",
    "#A = pd.read_csv('processed_data_ready.csv', dtype = {'rfid': str})\n",
    "#A.columns = A.columns.str.lower()\n",
    "#A[A['unnamed: 0']!=A.index]\n",
    "#A.to_csv('raw_data.csv', index=False)\n",
    "a = pd.read_csv('raw_data.csv')"
   ]
  },
  {
   "cell_type": "raw",
   "id": "da5e3b82-6319-4a46-a19e-3d53d34f99b6",
   "metadata": {},
   "source": [
    "#bash\n",
    "#run to concat all the files in order for a trait to get a both a ref file and concated mlma files for genomic sem- awk to remove header\n",
    "prefixes=('regressedlr_nicsa_day1_activelick' 'regressedlr_nicsa_day1_active_inactive_ratio' 'regressedlr_nicsa_day1_infusion' 'regressedlr_nicsa_active_inactive_ratio_first_three_median' 'regressedlr_nicsa_first_three_days_activelick_median' 'regressedlr_nicsa_first_three_days_activelick_total' 'regressedlr_nicsa_first_three_days_infusion_median' 'regressedlr_nicsa_first_three_days_infusion_total' 'regressedlr_nicsa_day10_activelick' 'regressedlr_nicsa_day10_active_inactive_ratio' 'regressedlr_nicsa_day10_infusion' 'regressedlr_nicsa_active_inactive_ratio_last_three_median' 'regressedlr_nicsa_last_three_days_activelick_median' 'regressedlr_nicsa_last_three_days_activelick_total' 'regressedlr_nicsa_last_three_days_infusion_median' 'regressedlr_nicsa_last_three_days_infusion_total' 'regressedlr_nicsa_total_activelick_10days' 'regressedlr_nicsa_total_infusion_10days' 'regressedlr_nicsa_active_inactive_ratio_all_days')\n",
    "\n",
    "for p in ${prefixes[@]}; do\n",
    "    for CHR in {1..20}; do\n",
    "        # Define the file\n",
    "        file=${p}_chrgwas${CHR}.mlma\n",
    "        echo $file\n",
    "        if [ ${CHR} -eq 1 ];\n",
    "        then\n",
    "            cp $file mlma_concat/${p}.mlma\n",
    "        else\n",
    "            awk 'FNR>1' $file >> mlma_concat/${p}.mlma\n",
    "        fi   \n",
    "    done\n",
    "done"
   ]
  },
  {
   "cell_type": "code",
   "execution_count": 4,
   "id": "63698099-06d4-4eaf-8b9c-934b7aba280d",
   "metadata": {},
   "outputs": [],
   "source": [
    "df = pd.read_csv('mlma/regressedlr_nicsa_day7_activelick_chrgwas_chrall.mlma', sep='\\t')"
   ]
  },
  {
   "cell_type": "code",
   "execution_count": 5,
   "id": "01363802-0453-49a1-8d68-4ed70d43c704",
   "metadata": {},
   "outputs": [
    {
     "data": {
      "text/html": [
       "<div>\n",
       "<style scoped>\n",
       "    .dataframe tbody tr th:only-of-type {\n",
       "        vertical-align: middle;\n",
       "    }\n",
       "\n",
       "    .dataframe tbody tr th {\n",
       "        vertical-align: top;\n",
       "    }\n",
       "\n",
       "    .dataframe thead th {\n",
       "        text-align: right;\n",
       "    }\n",
       "</style>\n",
       "<table border=\"1\" class=\"dataframe\">\n",
       "  <thead>\n",
       "    <tr style=\"text-align: right;\">\n",
       "      <th></th>\n",
       "      <th>Chr</th>\n",
       "      <th>SNP</th>\n",
       "      <th>bp</th>\n",
       "      <th>A1</th>\n",
       "      <th>A2</th>\n",
       "      <th>Freq</th>\n",
       "      <th>b</th>\n",
       "      <th>se</th>\n",
       "      <th>p</th>\n",
       "    </tr>\n",
       "  </thead>\n",
       "  <tbody>\n",
       "    <tr>\n",
       "      <th>0</th>\n",
       "      <td>1</td>\n",
       "      <td>1:735254</td>\n",
       "      <td>735254</td>\n",
       "      <td>A</td>\n",
       "      <td>G</td>\n",
       "      <td>0.927327</td>\n",
       "      <td>0.071200</td>\n",
       "      <td>0.058984</td>\n",
       "      <td>0.227396</td>\n",
       "    </tr>\n",
       "    <tr>\n",
       "      <th>1</th>\n",
       "      <td>1</td>\n",
       "      <td>1:763121</td>\n",
       "      <td>763121</td>\n",
       "      <td>C</td>\n",
       "      <td>T</td>\n",
       "      <td>0.923688</td>\n",
       "      <td>0.051701</td>\n",
       "      <td>0.060605</td>\n",
       "      <td>0.393610</td>\n",
       "    </tr>\n",
       "    <tr>\n",
       "      <th>2</th>\n",
       "      <td>1</td>\n",
       "      <td>1:767113</td>\n",
       "      <td>767113</td>\n",
       "      <td>A</td>\n",
       "      <td>G</td>\n",
       "      <td>0.923545</td>\n",
       "      <td>0.049313</td>\n",
       "      <td>0.060513</td>\n",
       "      <td>0.415117</td>\n",
       "    </tr>\n",
       "    <tr>\n",
       "      <th>3</th>\n",
       "      <td>1</td>\n",
       "      <td>1:1113500</td>\n",
       "      <td>1113500</td>\n",
       "      <td>T</td>\n",
       "      <td>A</td>\n",
       "      <td>0.947440</td>\n",
       "      <td>0.010916</td>\n",
       "      <td>0.072916</td>\n",
       "      <td>0.880996</td>\n",
       "    </tr>\n",
       "    <tr>\n",
       "      <th>4</th>\n",
       "      <td>1</td>\n",
       "      <td>1:1124362</td>\n",
       "      <td>1124362</td>\n",
       "      <td>G</td>\n",
       "      <td>A</td>\n",
       "      <td>0.947883</td>\n",
       "      <td>0.017060</td>\n",
       "      <td>0.073034</td>\n",
       "      <td>0.815304</td>\n",
       "    </tr>\n",
       "    <tr>\n",
       "      <th>...</th>\n",
       "      <td>...</td>\n",
       "      <td>...</td>\n",
       "      <td>...</td>\n",
       "      <td>...</td>\n",
       "      <td>...</td>\n",
       "      <td>...</td>\n",
       "      <td>...</td>\n",
       "      <td>...</td>\n",
       "      <td>...</td>\n",
       "    </tr>\n",
       "    <tr>\n",
       "      <th>5367082</th>\n",
       "      <td>20</td>\n",
       "      <td>20:54428480</td>\n",
       "      <td>54428480</td>\n",
       "      <td>A</td>\n",
       "      <td>T</td>\n",
       "      <td>0.019837</td>\n",
       "      <td>-0.076972</td>\n",
       "      <td>0.118927</td>\n",
       "      <td>0.517489</td>\n",
       "    </tr>\n",
       "    <tr>\n",
       "      <th>5367083</th>\n",
       "      <td>20</td>\n",
       "      <td>20:54428485</td>\n",
       "      <td>54428485</td>\n",
       "      <td>A</td>\n",
       "      <td>G</td>\n",
       "      <td>0.019837</td>\n",
       "      <td>-0.076972</td>\n",
       "      <td>0.118927</td>\n",
       "      <td>0.517489</td>\n",
       "    </tr>\n",
       "    <tr>\n",
       "      <th>5367084</th>\n",
       "      <td>20</td>\n",
       "      <td>20:54428858</td>\n",
       "      <td>54428858</td>\n",
       "      <td>A</td>\n",
       "      <td>C</td>\n",
       "      <td>0.019837</td>\n",
       "      <td>-0.076972</td>\n",
       "      <td>0.118927</td>\n",
       "      <td>0.517489</td>\n",
       "    </tr>\n",
       "    <tr>\n",
       "      <th>5367085</th>\n",
       "      <td>20</td>\n",
       "      <td>20:54429269</td>\n",
       "      <td>54429269</td>\n",
       "      <td>A</td>\n",
       "      <td>G</td>\n",
       "      <td>0.979908</td>\n",
       "      <td>0.063283</td>\n",
       "      <td>0.116537</td>\n",
       "      <td>0.587112</td>\n",
       "    </tr>\n",
       "    <tr>\n",
       "      <th>5367086</th>\n",
       "      <td>20</td>\n",
       "      <td>20:54429288</td>\n",
       "      <td>54429288</td>\n",
       "      <td>A</td>\n",
       "      <td>G</td>\n",
       "      <td>0.979908</td>\n",
       "      <td>0.063283</td>\n",
       "      <td>0.116537</td>\n",
       "      <td>0.587112</td>\n",
       "    </tr>\n",
       "  </tbody>\n",
       "</table>\n",
       "<p>5367087 rows × 9 columns</p>\n",
       "</div>"
      ],
      "text/plain": [
       "         Chr          SNP        bp A1 A2      Freq         b        se  \\\n",
       "0          1     1:735254    735254  A  G  0.927327  0.071200  0.058984   \n",
       "1          1     1:763121    763121  C  T  0.923688  0.051701  0.060605   \n",
       "2          1     1:767113    767113  A  G  0.923545  0.049313  0.060513   \n",
       "3          1    1:1113500   1113500  T  A  0.947440  0.010916  0.072916   \n",
       "4          1    1:1124362   1124362  G  A  0.947883  0.017060  0.073034   \n",
       "...      ...          ...       ... .. ..       ...       ...       ...   \n",
       "5367082   20  20:54428480  54428480  A  T  0.019837 -0.076972  0.118927   \n",
       "5367083   20  20:54428485  54428485  A  G  0.019837 -0.076972  0.118927   \n",
       "5367084   20  20:54428858  54428858  A  C  0.019837 -0.076972  0.118927   \n",
       "5367085   20  20:54429269  54429269  A  G  0.979908  0.063283  0.116537   \n",
       "5367086   20  20:54429288  54429288  A  G  0.979908  0.063283  0.116537   \n",
       "\n",
       "                p  \n",
       "0        0.227396  \n",
       "1        0.393610  \n",
       "2        0.415117  \n",
       "3        0.880996  \n",
       "4        0.815304  \n",
       "...           ...  \n",
       "5367082  0.517489  \n",
       "5367083  0.517489  \n",
       "5367084  0.517489  \n",
       "5367085  0.587112  \n",
       "5367086  0.587112  \n",
       "\n",
       "[5367087 rows x 9 columns]"
      ]
     },
     "execution_count": 5,
     "metadata": {},
     "output_type": "execute_result"
    }
   ],
   "source": [
    "df"
   ]
  },
  {
   "cell_type": "raw",
   "id": "80c550b3-05b3-48b3-bc25-60e4f47793da",
   "metadata": {},
   "source": [
    "# calculate the true minor allele frequency, as opposed to the A2 frequency (which may in fact be the major allele but just means the non-reference allele)\n",
    "#montana says using the true MAF doesn't work for LDSC, and to just use the A2 frequency\n",
    "\n",
    "#df['freq2'] = 0.5 - abs(df.Freq- 0.5)\n",
    "#%time df[['A1v', 'A2v']] = df.apply(lambda x: [x.A1, x.A2] if x.Freq< .5 else [x.A2, x.A1], axis =1  ).to_list()\n",
    "#df[['SNP','Chr', 'bp','freq2', 'A1v', 'A2v']].rename({'freq2': 'MAF', 'A1v': 'A1', 'A2v': 'A2'}, axis = 1).to_csv('ldscmlma/ddref_snplist.txt', index = False)\n",
    "\n",
    "glob('mlma/*.mlma')\n",
    "for file in glob('mlma/*.mlma'):\n",
    "    df = pd.read_csv('results/gwas/regressedlr_dd_indiff_16.loco.mlma', sep='\\t')\n",
    "    df['freq2'] = 0.5 - abs(df.Freq- 0.5)\n",
    "    %time df[['A1v', 'A2v']] = df.apply(lambda x: [x.A1, x.A2] if x.Freq< .5 else [x.A2, x.A1], axis =1  ).to_list()\n",
    "    df"
   ]
  },
  {
   "cell_type": "code",
   "execution_count": 6,
   "id": "a2ca47cd-8e69-4929-bf81-b722efec0f7f",
   "metadata": {},
   "outputs": [
    {
     "data": {
      "text/html": [
       "<div>\n",
       "<style scoped>\n",
       "    .dataframe tbody tr th:only-of-type {\n",
       "        vertical-align: middle;\n",
       "    }\n",
       "\n",
       "    .dataframe tbody tr th {\n",
       "        vertical-align: top;\n",
       "    }\n",
       "\n",
       "    .dataframe thead th {\n",
       "        text-align: right;\n",
       "    }\n",
       "</style>\n",
       "<table border=\"1\" class=\"dataframe\">\n",
       "  <thead>\n",
       "    <tr style=\"text-align: right;\">\n",
       "      <th></th>\n",
       "      <th>SNP</th>\n",
       "      <th>Chr</th>\n",
       "      <th>bp</th>\n",
       "      <th>MAF</th>\n",
       "      <th>A1</th>\n",
       "      <th>A2</th>\n",
       "    </tr>\n",
       "  </thead>\n",
       "  <tbody>\n",
       "    <tr>\n",
       "      <th>0</th>\n",
       "      <td>1:735254</td>\n",
       "      <td>1</td>\n",
       "      <td>735254</td>\n",
       "      <td>0.927327</td>\n",
       "      <td>A</td>\n",
       "      <td>G</td>\n",
       "    </tr>\n",
       "    <tr>\n",
       "      <th>1</th>\n",
       "      <td>1:763121</td>\n",
       "      <td>1</td>\n",
       "      <td>763121</td>\n",
       "      <td>0.923688</td>\n",
       "      <td>C</td>\n",
       "      <td>T</td>\n",
       "    </tr>\n",
       "    <tr>\n",
       "      <th>2</th>\n",
       "      <td>1:767113</td>\n",
       "      <td>1</td>\n",
       "      <td>767113</td>\n",
       "      <td>0.923545</td>\n",
       "      <td>A</td>\n",
       "      <td>G</td>\n",
       "    </tr>\n",
       "    <tr>\n",
       "      <th>3</th>\n",
       "      <td>1:1113500</td>\n",
       "      <td>1</td>\n",
       "      <td>1113500</td>\n",
       "      <td>0.947440</td>\n",
       "      <td>T</td>\n",
       "      <td>A</td>\n",
       "    </tr>\n",
       "    <tr>\n",
       "      <th>4</th>\n",
       "      <td>1:1124362</td>\n",
       "      <td>1</td>\n",
       "      <td>1124362</td>\n",
       "      <td>0.947883</td>\n",
       "      <td>G</td>\n",
       "      <td>A</td>\n",
       "    </tr>\n",
       "    <tr>\n",
       "      <th>...</th>\n",
       "      <td>...</td>\n",
       "      <td>...</td>\n",
       "      <td>...</td>\n",
       "      <td>...</td>\n",
       "      <td>...</td>\n",
       "      <td>...</td>\n",
       "    </tr>\n",
       "    <tr>\n",
       "      <th>5367082</th>\n",
       "      <td>20:54428480</td>\n",
       "      <td>20</td>\n",
       "      <td>54428480</td>\n",
       "      <td>0.019837</td>\n",
       "      <td>A</td>\n",
       "      <td>T</td>\n",
       "    </tr>\n",
       "    <tr>\n",
       "      <th>5367083</th>\n",
       "      <td>20:54428485</td>\n",
       "      <td>20</td>\n",
       "      <td>54428485</td>\n",
       "      <td>0.019837</td>\n",
       "      <td>A</td>\n",
       "      <td>G</td>\n",
       "    </tr>\n",
       "    <tr>\n",
       "      <th>5367084</th>\n",
       "      <td>20:54428858</td>\n",
       "      <td>20</td>\n",
       "      <td>54428858</td>\n",
       "      <td>0.019837</td>\n",
       "      <td>A</td>\n",
       "      <td>C</td>\n",
       "    </tr>\n",
       "    <tr>\n",
       "      <th>5367085</th>\n",
       "      <td>20:54429269</td>\n",
       "      <td>20</td>\n",
       "      <td>54429269</td>\n",
       "      <td>0.979908</td>\n",
       "      <td>A</td>\n",
       "      <td>G</td>\n",
       "    </tr>\n",
       "    <tr>\n",
       "      <th>5367086</th>\n",
       "      <td>20:54429288</td>\n",
       "      <td>20</td>\n",
       "      <td>54429288</td>\n",
       "      <td>0.979908</td>\n",
       "      <td>A</td>\n",
       "      <td>G</td>\n",
       "    </tr>\n",
       "  </tbody>\n",
       "</table>\n",
       "<p>5367087 rows × 6 columns</p>\n",
       "</div>"
      ],
      "text/plain": [
       "                 SNP  Chr        bp       MAF A1 A2\n",
       "0           1:735254    1    735254  0.927327  A  G\n",
       "1           1:763121    1    763121  0.923688  C  T\n",
       "2           1:767113    1    767113  0.923545  A  G\n",
       "3          1:1113500    1   1113500  0.947440  T  A\n",
       "4          1:1124362    1   1124362  0.947883  G  A\n",
       "...              ...  ...       ...       ... .. ..\n",
       "5367082  20:54428480   20  54428480  0.019837  A  T\n",
       "5367083  20:54428485   20  54428485  0.019837  A  G\n",
       "5367084  20:54428858   20  54428858  0.019837  A  C\n",
       "5367085  20:54429269   20  54429269  0.979908  A  G\n",
       "5367086  20:54429288   20  54429288  0.979908  A  G\n",
       "\n",
       "[5367087 rows x 6 columns]"
      ]
     },
     "execution_count": 6,
     "metadata": {},
     "output_type": "execute_result"
    }
   ],
   "source": [
    "df[['SNP','Chr', 'bp','Freq', 'A1', 'A2']].rename({'Freq': 'MAF'}, axis = 1)"
   ]
  },
  {
   "cell_type": "code",
   "execution_count": 7,
   "id": "3ae8659c-1c86-4f93-b3c2-0a82cbc66bf0",
   "metadata": {},
   "outputs": [],
   "source": [
    "df[['SNP','Chr', 'bp','Freq', 'A1', 'A2']].rename({'Freq': 'MAF'}, axis = 1).to_csv('scripts/nicsa_munge_ref/nicsa_ref_snplist_notmaf.tsv', sep='\\t',index = False)"
   ]
  }
 ],
 "metadata": {
  "kernelspec": {
   "display_name": "Python 3 (ipykernel)",
   "language": "python",
   "name": "python3"
  },
  "language_info": {
   "codemirror_mode": {
    "name": "ipython",
    "version": 3
   },
   "file_extension": ".py",
   "mimetype": "text/x-python",
   "name": "python",
   "nbconvert_exporter": "python",
   "pygments_lexer": "ipython3",
   "version": "3.9.12"
  }
 },
 "nbformat": 4,
 "nbformat_minor": 5
}
