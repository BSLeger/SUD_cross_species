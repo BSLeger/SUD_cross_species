{
 "cells": [
  {
   "cell_type": "markdown",
   "id": "9a272776-2b4c-41df-b694-7629ed264fa1",
   "metadata": {},
   "source": [
    "purpose: run network propagation for a given dataset, in this case used for locomotor activity and externalizing."
   ]
  },
  {
   "cell_type": "code",
   "execution_count": 1,
   "id": "25dace7e-17f0-4c00-aa9b-a3ce69b12844",
   "metadata": {},
   "outputs": [],
   "source": [
    "import os\n",
    "import pandas as pd\n",
    "import ndex2\n",
    "import networkx as nx\n",
    "from netcoloc import netprop_zscore\n",
    "from netcoloc import netprop\n",
    "from netcoloc import network_colocalization\n",
    "import sys\n",
    "import random\n",
    "#os.chdir('/tscc/projects/ps-palmer/brittany/rare_common_alcohol/rare_common_alcohol_comparison/notebooks/')\n",
    "#from rca_functions import *\n",
    "os.chdir('/tscc/projects/ps-palmer/brittany/SUD_cross_species/scripts')\n",
    "from network_functions import *\n",
    "from network_validation_functions import *\n",
    "from plotting_functions import *\n",
    "os.chdir('/tscc/projects/ps-palmer/brittany/SUD_cross_species/')"
   ]
  },
  {
   "cell_type": "code",
   "execution_count": 2,
   "id": "6b5aa207-0f4e-4030-8881-81abcb527391",
   "metadata": {},
   "outputs": [],
   "source": [
    "random_seed=random.seed(211)"
   ]
  },
  {
   "cell_type": "code",
   "execution_count": 3,
   "id": "5784e661-4360-43e3-bfb3-014f7ab7b2a5",
   "metadata": {},
   "outputs": [],
   "source": [
    "save_file=True"
   ]
  },
  {
   "cell_type": "code",
   "execution_count": 4,
   "id": "ca949eea-23ff-44c4-be6a-1be4d0a70116",
   "metadata": {},
   "outputs": [
    {
     "name": "stdout",
     "output_type": "stream",
     "text": [
      "NDEx credentials imported from meta file\n"
     ]
    }
   ],
   "source": [
    "#create a file called environ_ndex_meta.py where you save variables 'ndex_user' and 'ndex_password'\n",
    "#otherwise will prompt you to define those within the notebooks\n",
    "if os.path.isfile('../environ_ndex_meta.py'):\n",
    "    print ('NDEx credentials imported from meta file')\n",
    "    sys.path.insert(1, '../')\n",
    "    from environ_ndex_meta import *\n",
    "    sys.path.pop(1)\n",
    "else:\n",
    "    # Prompt the user for a username\n",
    "    ndex_user = input(\"Enter your NDEx username: \")\n",
    "    # Prompt the user for a password\n",
    "    ndex_password = input(\"Enter your NDEx password: \")"
   ]
  },
  {
   "cell_type": "markdown",
   "id": "5e400156-6ded-4956-8b70-74b0dc6af01b",
   "metadata": {},
   "source": [
    "# functions"
   ]
  },
  {
   "cell_type": "code",
   "execution_count": 5,
   "id": "41444419-4fba-4786-b74e-278d97cf9279",
   "metadata": {},
   "outputs": [],
   "source": [
    "#from rat bmi notebooks not netcoloc\n",
    "def calculate_heat_zscores_with_sampling(data, nodes, individual_heats, G_PC, trait=\"BMI\", max_genes=500, num_samples=100,\n",
    "                                        nominal_sig=0.05, num_reps=1000, out_path=\"\", minimum_bin_size=10,outfile='sample.tsv'):\n",
    "    \"\"\"Takes a set of summary statistics and a molecular interaction and performs sampling of the significant genes.\n",
    "    For each sample a random selection of seed genes is chosen, weighted by the p-value of each gene in the summary\n",
    "    statistics. Network propagation with zscore calculation is performed for each sample to generate a distribution\n",
    "    of z-scores for each gene in the seed_gene set.\n",
    "\n",
    "    Args:\n",
    "        data (pd.DataFrame): Gene level summary statistics\n",
    "        nodes (list): list of nodes in the interaction network\n",
    "        individual_heats (np.array): Heat matrix calculated by `netprop_zscore.get_individual_heats_matrix()`\n",
    "        G_PC (nx.Graph): molecular interaction network\n",
    "        trait (str, optional): name of trait being investigated. Defaults to \"BMI\".\n",
    "        max_genes (int, optional): Maximum number of seed genes to include in each sample (maximum=500). Defaults to 500.\n",
    "        num_samples (int, optional): Number of times to perform sampling. Defaults to 100.\n",
    "        nominal_sig (float, optional): Significance cutoff for keeping genes in data (Note: this value will be Bonferroni corrected). Defaults to 0.05.\n",
    "        num_reps (int, optional): Number of repetitions of randomization for generating null distribution for z_scores. Defaults to 1000.\n",
    "        out_path (str, optional): File path prefix for saving results of sampling. Defaults to \"\".\n",
    "        minimum_bin_size (int, optional): minimum number of genes that should be in each degree matching bin. Defaults to 10.\n",
    "\n",
    "    Returns:\n",
    "        pd.DataFrame: Gene x sampling run dataframe of sampled z-scores\n",
    "    \"\"\"\n",
    "    assert max_genes <= 500, \"NetColoc is only valid for sets of 500 or less genes so maximum number of genes for sampling must be <= 500\"\n",
    "    #outfile = out_path + trait + \"sampling_\" + str(max_genes) + \"_\" + str(num_samples) + \".tsv\"\n",
    "    data = data.loc[data.gene_symbol.isin(nodes)]  # subset to genes in interaction network\n",
    "    all_seeds = data.loc[data.pvalue <= nominal_sig / len(data)]  # Bonferroni correction\n",
    "    all_seeds = all_seeds.assign(log10p=-1 * np.log10(all_seeds.pvalue))  # get -log10p for weighted sampling\n",
    "    sampling_results = []\n",
    "    for i in tqdm(range(num_samples)):\n",
    "        # perform propagation for sample\n",
    "        sample_seeds = random.choices(population=all_seeds.gene_symbol.values, weights=all_seeds.log10p.values, k=max_genes)\n",
    "        sample_results = netprop_zscore.calculate_heat_zscores(individual_heats, nodes=list(G_PC.nodes), degrees=dict(G_PC.degree),\n",
    "                                                seed_genes=sample_seeds, num_reps=num_reps,\n",
    "                                                minimum_bin_size=minimum_bin_size, random_seed=i)[0]\n",
    "        sample_z = pd.DataFrame(sample_results, columns=[\"z\" + str(i)])\n",
    "        # save running results of sampling\n",
    "        if i == 0:\n",
    "            sample_z.to_csv(outfile, sep=\"\\t\")\n",
    "        else:\n",
    "            existing = pd.read_csv(outfile, sep=\"\\t\", index_col=0)\n",
    "            existing = existing.join(sample_z)\n",
    "            existing.to_csv(outfile, sep=\"\\t\")\n",
    "        sampling_results.append(sample_z)\n",
    "    return pd.concat(sampling_results, axis=1)"
   ]
  },
  {
   "cell_type": "markdown",
   "id": "f592e945-cccb-41fe-9a6b-0c00ad8031e4",
   "metadata": {},
   "source": [
    "# Interactome Set-up"
   ]
  },
  {
   "cell_type": "markdown",
   "id": "ac73a7e9-bea2-4e25-9ff4-db9b57947dd0",
   "metadata": {},
   "source": [
    "pcnet2- versions \n",
    "from wright et al. 2024 preprint:\n",
    "PCNet 2.0= best-performing ranked composite (top 15 interactomes, 3.85M interactions)\n",
    "PCNet 2.1= top 8 interactomes, 1.75M interactions\n",
    "PCNet 2.2= top 10 co-citation-free interactomes, 3.32M interactions "
   ]
  },
  {
   "cell_type": "code",
   "execution_count": 6,
   "id": "01545d7a-8ab7-4ef0-906b-2417e68e3610",
   "metadata": {},
   "outputs": [
    {
     "data": {
      "text/plain": [
       "{'PCNet2.0': 'd73d6357-e87b-11ee-9621-005056ae23aa',\n",
       " 'PCNet2.1': 'e9c574f4-e87a-11ee-9621-005056ae23aa',\n",
       " 'PCNet2.2': '8b4b54fa-e87d-11ee-9621-005056ae23aa',\n",
       " 'HumanNetv3FN': '40913318-3a9c-11ed-ac45-0ac135e8bacf',\n",
       " 'HumanNetv3XC': '8f929fb5-3ac6-11ed-b7d0-0ac135e8bacf',\n",
       " 'STRING': '5f5da339-f14a-11ee-9621-005056ae23aa',\n",
       " 'signor_rat': '76be57cd-afe8-11e9-8bb4-0ac135e8bacf',\n",
       " 'signor_human': '523fff27-afe8-11e9-8bb4-0ac135e8bacf',\n",
       " 'signor_mouse': '656370fa-afe8-11e9-8bb4-0ac135e8bacf'}"
      ]
     },
     "execution_count": 6,
     "metadata": {},
     "output_type": "execute_result"
    }
   ],
   "source": [
    "UUIDs"
   ]
  },
  {
   "cell_type": "code",
   "execution_count": 7,
   "id": "488cc94a-e67f-4812-ab44-052df086838c",
   "metadata": {},
   "outputs": [],
   "source": [
    "#choose which interactome you want to import\n",
    "tissue_network=False\n",
    "\n",
    "if tissue_network:\n",
    "    tissue='basal_ganglion'\n",
    "else:\n",
    "    interactome_name='PCNet2.2'"
   ]
  },
  {
   "cell_type": "code",
   "execution_count": 8,
   "id": "a6c0c2ac-e45d-4b85-aeea-e69d2faa5135",
   "metadata": {},
   "outputs": [
    {
     "name": "stdout",
     "output_type": "stream",
     "text": [
      "PCNet2.2\n",
      "Name: PCNet 2.2\n",
      "Nodes: 18558\n",
      "Edges: 3323928\n",
      "Node Attributes: 18558\n",
      "Edge Attributes: 16619640\n",
      "\n",
      "number of nodes:\n",
      "18558\n",
      "\n",
      "number of edges:\n",
      "3323928\n",
      "\n",
      "calculating w_prime\n",
      "\n",
      "calculating w_double_prime\n"
     ]
    }
   ],
   "source": [
    "if not tissue_network:\n",
    "    interactome=import_interactome(UUIDs=UUIDs,interactome_name=interactome_name)\n",
    "    all_nodes=list(interactome.nodes())\n",
    "    # pre calculate the matricies used for network propagation\n",
    "    print('\\ncalculating w_prime')\n",
    "    w_prime = netprop.get_normalized_adjacency_matrix(interactome, conserve_heat=True)\n",
    "    print('\\ncalculating w_double_prime')\n",
    "    w_double_prime = netprop.get_individual_heats_matrix(w_prime, .5)\n",
    "    edges=list(interactome.edges())\n",
    "    all_nodes=list(interactome.nodes())\n",
    "    degree=interactome.degree()\n",
    "else:\n",
    "    netdir='tissue_networks/intermediate/'\n",
    "    \n",
    "    print(f'available files for this tissue: {[x for x in os.listdir(netdir) if tissue in x]}')\n",
    "    interactome_name=f'hb_tissue_{tissue}_top'\n",
    "    #import node list\n",
    "    with open(f'{netdir}node_list_{tissue}_top.txt', 'r') as file:\n",
    "        lines = file.readlines()\n",
    "    # Remove newline characters from each line\n",
    "    all_nodes=[line.strip() for line in lines]\n",
    "    #import degrees\n",
    "    degree=pd.read_csv(f'{netdir}degree_{tissue}_top.csv', header=None)\n",
    "    degree.index=degree[0].astype(str)\n",
    "    degree=degree[1].to_dict()\n",
    "\n",
    "    print(f'importing files for {tissue}_top')\n",
    "    #import w_double_prime\n",
    "    if os.path.exists(f'{netdir}w_double_prime_{tissue}_top.npy'):\n",
    "        print('importing w_double_prime from file')\n",
    "        w_double_prime=np.load(f'{netdir}w_double_prime_{tissue}_top.npy')\n",
    "    elif os.path.exists(f'{netdir}normalized_adjacency_{tissue}_top.npz'):\n",
    "        print('w_double_prime not calculated previously- importing w_prime, from which w_double_prime will be calculated')\n",
    "        w_prime=sp.load_npz(f'{netdir}normalized_adjacency_{tissue}.npz')\n",
    "        w_double_prime=netprop.get_individual_heats_matrix(w_prime, .5)\n",
    "        np.save(f'{outdir}w_double_prime_{tissue}',w_double_prime)\n",
    "    else:\n",
    "        print('files not found- interactome files must be calculated before continuing')"
   ]
  },
  {
   "cell_type": "markdown",
   "id": "9d234624-1a8e-48af-adb3-f520966d2b47",
   "metadata": {},
   "source": [
    "# import seed genes"
   ]
  },
  {
   "cell_type": "code",
   "execution_count": 19,
   "id": "646cff6b-b0c3-44ea-ab53-a7be9dfbb840",
   "metadata": {},
   "outputs": [],
   "source": [
    "#psych_traits=['anxiety','panic', 'asd','adhd2022', 'scz', 'bipolar', 'dep', 'ptsd', 'ocd', 'alz', 'park', 'als','epilepsy', 'anorexia','park2019']\n"
   ]
  },
  {
   "cell_type": "code",
   "execution_count": 9,
   "id": "7316280f-d4c4-4acc-bd9e-e4fd31543293",
   "metadata": {},
   "outputs": [
    {
     "data": {
      "text/plain": [
       "dict_keys(['loco_bonf', 'loco_top500', 'loco_FDR', 'loco_gsem_bonf', 'loco_gsem_top500', 'loco_gsem_FDR', 'ext_bonf', 'ext_top500', 'ext_FDR', 'ext_st22', 'loco_mega_fus_naac_bonf', 'loco_mega_fus_naac_top500', 'loco_mega_fus_naac_FDR', 'ext_fus_naac_bonf', 'ext_fus_naac_top500', 'ext_fus_naac_FDR', 'loco_final_cf_bonf', 'loco_final_cf_top500', 'loco_final_cf_FDR', 'loco_final_mega_bonf', 'loco_final_mega_top500', 'loco_final_mega_FDR', 'ext_rat_bonf', 'ext_rat_top500', 'ext_rat_FDR', 'loco_final_cf_rat_bonf', 'loco_final_cf_rat_top500', 'loco_final_cf_rat_FDR', 'ext_db_bonf', 'ext_db_top500', 'ext_db_FDR', 'ext_rtb_bonf', 'ext_rtb_top500', 'ext_rtb_FDR', 'loco_final_cf_25_bonf', 'loco_final_cf_25_top500', 'loco_final_cf_25_FDR', 'facial_hair_FDR', 'facial_hair_bonf', 'facial_hair_top500', 'age_smkinit_FDR', 'age_smkinit_bonf', 'age_smkinit_top500', 'antisoc_FDR', 'antisoc_bonf', 'antisoc_top500', 'hr_FDR', 'hr_bonf', 'hr_top500', 'infant_bw_FDR', 'infant_bw_bonf', 'infant_bw_top500', 'LDL_FDR', 'LDL_bonf', 'LDL_top500', 'maternal_smok_FDR', 'maternal_smok_bonf', 'maternal_smok_top500', 'age_menarche_FDR', 'age_menarche_bonf', 'age_menarche_top500', 'addict-rf_FDR', 'addict-rf_bonf', 'addict-rf_top500', 'adhd_FDR', 'adhd_bonf', 'adhd_top500', 'dpw_FDR', 'dpw_bonf', 'dpw_top500', 'risk_FDR', 'risk_bonf', 'risk_top500', 'auto_speed_FDR', 'auto_speed_bonf', 'auto_speed_top500', 'nsex_FDR', 'nsex_bonf', 'nsex_top500', 'bmi_FDR', 'bmi_bonf', 'bmi_top500', 'height_FDR', 'height_bonf', 'height_top500', 'anxiety_FDR', 'anxiety_bonf', 'anxiety_top500', 'panic_FDR', 'panic_bonf', 'panic_top500', 'asd_FDR', 'asd_bonf', 'asd_top500', 'adhd2022_FDR', 'adhd2022_bonf', 'adhd2022_top500', 'scz_FDR', 'scz_bonf', 'scz_top500', 'bipolar_FDR', 'bipolar_bonf', 'bipolar_top500', 'dep_FDR', 'dep_bonf', 'dep_top500', 'ptsd_FDR', 'ptsd_bonf', 'ptsd_top500', 'ocd_FDR', 'ocd_bonf', 'ocd_top500', 'alz_FDR', 'alz_bonf', 'alz_top500', 'park_FDR', 'park_bonf', 'park_top500', 'als_FDR', 'als_bonf', 'als_top500', 'epilepsy_FDR', 'epilepsy_bonf', 'epilepsy_top500', 'anorexia_FDR', 'anorexia_bonf', 'anorexia_top500', 'park2019_FDR', 'park2019_bonf', 'park2019_top500', 'bipolar_euro_FDR', 'bipolar_euro_bonf', 'bipolar_euro_top500', 'dep_euro_FDR', 'dep_euro_bonf', 'dep_euro_top500', 'ptsd_euro_FDR', 'ptsd_euro_bonf', 'ptsd_euro_top500', 'epilepsy_euro_FDR', 'epilepsy_euro_bonf', 'epilepsy_euro_top500', 'bmi_rn6_FDR', 'bmi_rn6_bonf', 'bmi_rn6_top500', 'body_length_rn6_FDR', 'body_length_rn6_bonf', 'body_length_rn6_top500'])"
      ]
     },
     "execution_count": 9,
     "metadata": {},
     "output_type": "execute_result"
    }
   ],
   "source": [
    "if not tissue_network:\n",
    "    seed_dict=import_seed_dict(mag_dir,file_dict,ctrl_traits,ctrl_traits_rat,psych_traits,bonf_dict,gene_col_dict,all_nodes)\n",
    "else:\n",
    "    hgnc=pd.read_csv('hgnc_complete_set.txt',sep='\\t',low_memory=False)\n",
    "    hgnc=hgnc[['symbol','entrez_id']].dropna()\n",
    "    hgnc['entrez_id']=hgnc['entrez_id'].astype(int).astype(str)\n",
    "    seed_dict=import_seed_dict(mag_dir,file_dict,ctrl_traits,ctrl_traits_rat,bonf_dict,gene_col_dict,hgnc[hgnc.entrez_id.isin(all_nodes)]['symbol'])\n",
    "seed_dict.keys()"
   ]
  },
  {
   "cell_type": "code",
   "execution_count": 10,
   "id": "63ae2609-63c9-403a-b5e2-742cb5d0b1db",
   "metadata": {
    "scrolled": true
   },
   "outputs": [
    {
     "name": "stdout",
     "output_type": "stream",
     "text": [
      "loco_bonf: 11\n",
      "loco_top500: 499\n",
      "loco_FDR: 376\n",
      "loco_gsem_bonf: 30\n",
      "loco_gsem_top500: 498\n",
      "loco_gsem_FDR: 458\n",
      "ext_bonf: 1106\n",
      "ext_top500: 500\n",
      "ext_FDR: 5044\n",
      "ext_st22: 34\n",
      "loco_mega_fus_naac_bonf: 4\n",
      "loco_mega_fus_naac_top500: 497\n",
      "loco_mega_fus_naac_FDR: 140\n",
      "ext_fus_naac_bonf: 49\n",
      "ext_fus_naac_top500: 500\n",
      "ext_fus_naac_FDR: 134\n",
      "loco_final_cf_bonf: 9\n",
      "loco_final_cf_top500: 493\n",
      "loco_final_cf_FDR: 342\n",
      "loco_final_mega_bonf: 26\n",
      "loco_final_mega_top500: 494\n",
      "loco_final_mega_FDR: 640\n",
      "ext_rat_bonf: 980\n",
      "ext_rat_top500: 18\n",
      "ext_rat_FDR: 4373\n",
      "loco_final_cf_rat_bonf: 9\n",
      "loco_final_cf_rat_top500: 18\n",
      "loco_final_cf_rat_FDR: 338\n",
      "ext_db_bonf: 81\n",
      "ext_db_top500: 500\n",
      "ext_db_FDR: 479\n",
      "ext_rtb_bonf: 318\n",
      "ext_rtb_top500: 500\n",
      "ext_rtb_FDR: 2002\n",
      "loco_final_cf_25_bonf: 9\n",
      "loco_final_cf_25_top500: 490\n",
      "loco_final_cf_25_FDR: 373\n",
      "facial_hair_FDR: 763\n",
      "facial_hair_bonf: 159\n",
      "facial_hair_top500: 500\n",
      "age_smkinit_FDR: 33\n",
      "age_smkinit_bonf: 8\n",
      "age_smkinit_top500: 500\n",
      "antisoc_FDR: 0\n",
      "antisoc_bonf: 0\n",
      "antisoc_top500: 500\n",
      "hr_FDR: 2734\n",
      "hr_bonf: 485\n",
      "hr_top500: 500\n",
      "infant_bw_FDR: 1295\n",
      "infant_bw_bonf: 193\n",
      "infant_bw_top500: 500\n",
      "LDL_FDR: 296\n",
      "LDL_bonf: 128\n",
      "LDL_top500: 500\n",
      "maternal_smok_FDR: 210\n",
      "maternal_smok_bonf: 31\n",
      "maternal_smok_top500: 500\n",
      "age_menarche_FDR: 2722\n",
      "age_menarche_bonf: 488\n",
      "age_menarche_top500: 500\n",
      "addict-rf_FDR: 427\n",
      "addict-rf_bonf: 61\n",
      "addict-rf_top500: 500\n",
      "adhd_FDR: 97\n",
      "adhd_bonf: 17\n",
      "adhd_top500: 500\n",
      "dpw_FDR: 1305\n",
      "dpw_bonf: 210\n",
      "dpw_top500: 500\n",
      "risk_FDR: 93\n",
      "risk_bonf: 16\n",
      "risk_top500: 500\n",
      "auto_speed_FDR: 875\n",
      "auto_speed_bonf: 109\n",
      "auto_speed_top500: 500\n",
      "nsex_FDR: 1400\n",
      "nsex_bonf: 236\n",
      "nsex_top500: 500\n",
      "bmi_FDR: 7685\n",
      "bmi_bonf: 1849\n",
      "bmi_top500: 500\n",
      "height_FDR: 11456\n",
      "height_bonf: 5260\n",
      "height_top500: 500\n",
      "anxiety_FDR: 894\n",
      "anxiety_bonf: 110\n",
      "anxiety_top500: 500\n",
      "panic_FDR: 0\n",
      "panic_bonf: 0\n",
      "panic_top500: 500\n",
      "asd_FDR: 74\n",
      "asd_bonf: 8\n",
      "asd_top500: 500\n",
      "adhd2022_FDR: 481\n",
      "adhd2022_bonf: 40\n",
      "adhd2022_top500: 500\n",
      "scz_FDR: 3521\n",
      "scz_bonf: 709\n",
      "scz_top500: 500\n",
      "bipolar_FDR: 1637\n",
      "bipolar_bonf: 191\n",
      "bipolar_top500: 500\n",
      "dep_FDR: 3130\n",
      "dep_bonf: 423\n",
      "dep_top500: 500\n",
      "ptsd_FDR: 1238\n",
      "ptsd_bonf: 186\n",
      "ptsd_top500: 500\n",
      "ocd_FDR: 124\n",
      "ocd_bonf: 2\n",
      "ocd_top500: 500\n",
      "alz_FDR: 379\n",
      "alz_bonf: 100\n",
      "alz_top500: 500\n",
      "park_FDR: 2016\n",
      "park_bonf: 409\n",
      "park_top500: 500\n",
      "als_FDR: 210\n",
      "als_bonf: 16\n",
      "als_top500: 500\n",
      "epilepsy_FDR: 17\n",
      "epilepsy_bonf: 4\n",
      "epilepsy_top500: 500\n",
      "anorexia_FDR: 200\n",
      "anorexia_bonf: 40\n",
      "anorexia_top500: 500\n",
      "park2019_FDR: 119\n",
      "park2019_bonf: 66\n",
      "park2019_top500: 500\n",
      "bipolar_euro_FDR: 1671\n",
      "bipolar_euro_bonf: 191\n",
      "bipolar_euro_top500: 500\n",
      "dep_euro_FDR: 3230\n",
      "dep_euro_bonf: 454\n",
      "dep_euro_top500: 500\n",
      "ptsd_euro_FDR: 1449\n",
      "ptsd_euro_bonf: 237\n",
      "ptsd_euro_top500: 500\n",
      "epilepsy_euro_FDR: 10\n",
      "epilepsy_euro_bonf: 3\n",
      "epilepsy_euro_top500: 500\n",
      "bmi_rn6_FDR: 375\n",
      "bmi_rn6_bonf: 30\n",
      "bmi_rn6_top500: 497\n",
      "body_length_rn6_FDR: 492\n",
      "body_length_rn6_bonf: 38\n",
      "body_length_rn6_top500: 494\n"
     ]
    }
   ],
   "source": [
    "for t in seed_dict.keys():\n",
    "    print(f'{t}: {len(seed_dict[t])}')"
   ]
  },
  {
   "cell_type": "code",
   "execution_count": 11,
   "id": "ded1a9b4-bb86-4832-95f3-43f2b528bdef",
   "metadata": {},
   "outputs": [
    {
     "name": "stdout",
     "output_type": "stream",
     "text": [
      "BLA (NORTHO=5228) BONF: 11 FDR: 170 top500: 495\n",
      "Brain (NORTHO=7767) BONF: 16 FDR: 206 top500: 497\n",
      "IL (NORTHO=3226) BONF: 7 FDR: 106 top500: 491\n",
      "LHb (NORTHO=2802) BONF: 5 FDR: 75 top500: 492\n",
      "NAcc (NORTHO=5490) BONF: 8 FDR: 154 top500: 498\n",
      "NAcc1 (NORTHO=2887) BONF: 5 FDR: 104 top500: 494\n",
      "NAcc2 (NORTHO=4659) BONF: 9 FDR: 122 top500: 496\n",
      "OFC (NORTHO=3247) BONF: 8 FDR: 89 top500: 492\n",
      "PL (NORTHO=6421) BONF: 15 FDR: 162 top500: 495\n",
      "PL1 (NORTHO=3278) BONF: 9 FDR: 101 top500: 493\n",
      "PL2 (NORTHO=5530) BONF: 5 FDR: 184 top500: 494\n",
      "Adipose (NORTHO=7119) BONF: 7 FDR: 155 top500: 492\n",
      "Eye (NORTHO=989) BONF: 3 FDR: 14 top500: 496\n",
      "Liver (NORTHO=6216) BONF: 12 FDR: 190 top500: 492\n"
     ]
    }
   ],
   "source": [
    "rat_TWAS_tissue_label={'BLA':'Basolateral amygdala',\n",
    "'Brain':'Brain hemisphere',\n",
    "'IL':'Infralimbic cortex',\n",
    "'LHb':'Lateral habenula',\n",
    "'NAcc':'Nucleus accumbens core',\n",
    "'NAcc1':'Nucleus accumbens core 1',\n",
    "'NAcc2':'Nucleus accumbens core 2',\n",
    "'OFC':'Orbitofrontal cortex',\n",
    "'PL':'Prelimbic cortex',\n",
    "'PL1':'Prelimbic cortex 1',\n",
    "'PL2':'Prelimbic cortex 2',\n",
    "'Adipose':'Adipose',\n",
    "'Eye':'Eye',\n",
    "'Liver':'Liver'}\n",
    "\n",
    "prefix='loco_final_CF'\n",
    "if not tissue_network: \n",
    "    for t in rat_TWAS_tissue_label.keys():\n",
    "        path=f'rat_fusion/output/FUSION_concat/{prefix}_{t}_seed_genes.dat'\n",
    "        if os.path.exists(path):\n",
    "            tbl=pd.read_csv(path,low_memory=False, sep='\\t')\n",
    "            seed_dict[f'{prefix.lower()}_{t}_bonf']=set(tbl[tbl['TWAS.P']<0.05/len(tbl)]['HM_ORTHO'].dropna())\n",
    "            seed_dict[f'{prefix.lower()}_{t}_FDR']=set(tbl[tbl['Q']<0.05]['HM_ORTHO'].dropna())\n",
    "            tbl=tbl[~tbl.HM_ORTHO.isna()]\n",
    "            seed_dict[f'{prefix.lower()}_{t}_top500']=set(tbl[tbl['HM_ORTHO'].isin(all_nodes)].nsmallest(500,'TWAS.P')['HM_ORTHO'])\n",
    "            print(f'{t} (NORTHO={len(set(tbl.HM_ORTHO))}) BONF: {len(seed_dict[f\"{prefix.lower()}_{t}_bonf\"])} FDR: {len(seed_dict[f\"{prefix.lower()}_{t}_FDR\"])} top500: {len(seed_dict[f\"{prefix.lower()}_{t}_top500\"])}')\n",
    "        else:\n",
    "           print(f'{path} does not exist')  "
   ]
  },
  {
   "cell_type": "code",
   "execution_count": 12,
   "id": "33b37453-63dd-484f-956d-1a3993fc83df",
   "metadata": {},
   "outputs": [],
   "source": [
    "if tissue_network:\n",
    "    seed_dict={k: set(hgnc[hgnc.symbol.isin(v)]['entrez_id']) for k, v in seed_dict.items()}"
   ]
  },
  {
   "cell_type": "code",
   "execution_count": 13,
   "id": "d68382ef-b8b2-43b7-a8dc-5631c254bc35",
   "metadata": {},
   "outputs": [],
   "source": [
    "NPS_dict,NPS_dict_series=import_NPS_scores(seed_dict,interactome_name)"
   ]
  },
  {
   "cell_type": "markdown",
   "id": "24c1c445-255f-460d-a806-11ae02416f1d",
   "metadata": {},
   "source": [
    "# run straight propagation- no sampling"
   ]
  },
  {
   "cell_type": "code",
   "execution_count": 14,
   "id": "da1983b2-a421-45f6-bbe7-496eb1af9ef1",
   "metadata": {},
   "outputs": [],
   "source": [
    "ls=[i for i in seed_dict.keys() if 'loco_final_cf' in i]"
   ]
  },
  {
   "cell_type": "code",
   "execution_count": 15,
   "id": "e51ed1bd-8fd0-41e9-93b3-0e6d00e02de8",
   "metadata": {},
   "outputs": [],
   "source": [
    "overwrite=False"
   ]
  },
  {
   "cell_type": "code",
   "execution_count": 16,
   "id": "92587ea6-9281-4bef-8bf5-c959a4d9dd4f",
   "metadata": {},
   "outputs": [],
   "source": [
    "rm=['cud','alc_dep','loco','ext'] # remove these because WAY too few seed genes for these traits\n",
    "ls=[x for x in seed_dict.keys() if not any(rm in x for rm in rm)]"
   ]
  },
  {
   "cell_type": "code",
   "execution_count": 17,
   "id": "8c9c03d1-6af4-443a-b635-f227e4994d8b",
   "metadata": {
    "scrolled": true
   },
   "outputs": [],
   "source": [
    "ls=[x for x in seed_dict.keys() if any(ctrl_trait in x for ctrl_trait in psych_traits)]"
   ]
  },
  {
   "cell_type": "code",
   "execution_count": 18,
   "id": "8e92fa60-576e-4287-b6e6-5af634059ba9",
   "metadata": {
    "scrolled": true
   },
   "outputs": [],
   "source": [
    "ls=[x for x in seed_dict.keys() if any(ctrl_trait in x for ctrl_trait in ['park'])]"
   ]
  },
  {
   "cell_type": "code",
   "execution_count": 19,
   "id": "082d36ba-a8c9-4541-b718-3aaf371f36f7",
   "metadata": {},
   "outputs": [],
   "source": [
    "ls=[i for i in seed_dict.keys() if 'euro' in i]"
   ]
  },
  {
   "cell_type": "code",
   "execution_count": 20,
   "id": "cfdb4b23-29a9-4415-96af-6b956bfc27ba",
   "metadata": {
    "scrolled": true
   },
   "outputs": [],
   "source": [
    "ls=['LDL_bonf',\n",
    " 'infant_bw_bonf',\n",
    " 'hr_bonf',\n",
    " 'age_menarche_bonf',\n",
    " 'facial_hair_bonf',\n",
    " 'scz_top500',\n",
    " 'park_bonf',\n",
    " 'ptsd_bonf',\n",
    " 'ocd_FDR',\n",
    " 'dep_bonf',\n",
    " 'epilepsy_FDR',\n",
    " 'bipolar_bonf',\n",
    " 'asd_FDR',\n",
    " 'anxiety_bonf',\n",
    " 'anorexia_FDR',\n",
    " 'alz_FDR',\n",
    " 'als_FDR',\n",
    " 'adhd2022_FDR',\n",
    " 'adhd_FDR',\n",
    " 'maternal_smok_FDR',\n",
    " 'dpw_bonf',\n",
    " 'addict-rf_FDR',\n",
    " 'ext_top500',\n",
    "    'loco_final_cf_FDR']"
   ]
  },
  {
   "cell_type": "code",
   "execution_count": 21,
   "id": "91ba92ac-0144-4e0c-a922-97fdf4aabda4",
   "metadata": {},
   "outputs": [],
   "source": [
    "overwrite=False"
   ]
  },
  {
   "cell_type": "code",
   "execution_count": 22,
   "id": "69c84427-6eaa-4722-bf63-2741304ec90b",
   "metadata": {
    "scrolled": true
   },
   "outputs": [
    {
     "name": "stdout",
     "output_type": "stream",
     "text": [
      "analyzing LDL_bonf\n",
      "File already exists. If you would like to overwrite this file, set overwrite=True,and rerun\n",
      "analyzing infant_bw_bonf\n",
      "File already exists. If you would like to overwrite this file, set overwrite=True,and rerun\n",
      "analyzing hr_bonf\n",
      "File already exists. If you would like to overwrite this file, set overwrite=True,and rerun\n",
      "analyzing age_menarche_bonf\n",
      "File already exists. If you would like to overwrite this file, set overwrite=True,and rerun\n",
      "analyzing facial_hair_bonf\n",
      "File already exists. If you would like to overwrite this file, set overwrite=True,and rerun\n",
      "analyzing scz_top500\n"
     ]
    },
    {
     "data": {
      "application/vnd.jupyter.widget-view+json": {
       "model_id": "d595d9ec6b2e4b9faa5baf341e0ec0bb",
       "version_major": 2,
       "version_minor": 0
      },
      "text/plain": [
       "  0%|          | 0/1000 [00:00<?, ?it/s]"
      ]
     },
     "metadata": {},
     "output_type": "display_data"
    },
    {
     "name": "stdout",
     "output_type": "stream",
     "text": [
      "A2M      0.271031\n",
      "APP     -1.028285\n",
      "LRP1     0.565699\n",
      "APOA1    0.475778\n",
      "HP       1.324601\n",
      "dtype: float64\n",
      "saving to path: network_scores/scz_top500_PCNet2.2_zscore.tsv\n",
      "analyzing park_bonf\n"
     ]
    },
    {
     "data": {
      "application/vnd.jupyter.widget-view+json": {
       "model_id": "4dc0f5fd21b74c4da53d2d8bd8ca3eda",
       "version_major": 2,
       "version_minor": 0
      },
      "text/plain": [
       "  0%|          | 0/1000 [00:00<?, ?it/s]"
      ]
     },
     "metadata": {},
     "output_type": "display_data"
    },
    {
     "name": "stdout",
     "output_type": "stream",
     "text": [
      "A2M     -1.201746\n",
      "APP     -0.482490\n",
      "LRP1     4.915080\n",
      "APOA1   -0.624041\n",
      "HP      -0.707435\n",
      "dtype: float64\n",
      "saving to path: network_scores/park_bonf_PCNet2.2_zscore.tsv\n",
      "analyzing ptsd_bonf\n"
     ]
    },
    {
     "data": {
      "application/vnd.jupyter.widget-view+json": {
       "model_id": "fc2083784d7e43c299a6b7b9ed3eab7b",
       "version_major": 2,
       "version_minor": 0
      },
      "text/plain": [
       "  0%|          | 0/1000 [00:00<?, ?it/s]"
      ]
     },
     "metadata": {},
     "output_type": "display_data"
    },
    {
     "name": "stdout",
     "output_type": "stream",
     "text": [
      "A2M     -0.334621\n",
      "APP      0.731659\n",
      "LRP1     0.897060\n",
      "APOA1    1.485771\n",
      "HP      -0.192183\n",
      "dtype: float64\n",
      "saving to path: network_scores/ptsd_bonf_PCNet2.2_zscore.tsv\n",
      "analyzing ocd_FDR\n"
     ]
    },
    {
     "data": {
      "application/vnd.jupyter.widget-view+json": {
       "model_id": "2420e0131018478f90760dac6d01ad2a",
       "version_major": 2,
       "version_minor": 0
      },
      "text/plain": [
       "  0%|          | 0/1000 [00:00<?, ?it/s]"
      ]
     },
     "metadata": {},
     "output_type": "display_data"
    },
    {
     "name": "stdout",
     "output_type": "stream",
     "text": [
      "A2M     -0.570031\n",
      "APP      0.191440\n",
      "LRP1     0.445385\n",
      "APOA1    0.002714\n",
      "HP      -0.475413\n",
      "dtype: float64\n",
      "saving to path: network_scores/ocd_FDR_PCNet2.2_zscore.tsv\n",
      "analyzing dep_bonf\n"
     ]
    },
    {
     "data": {
      "application/vnd.jupyter.widget-view+json": {
       "model_id": "9a2babe539e442c0ac14d6de03a19a66",
       "version_major": 2,
       "version_minor": 0
      },
      "text/plain": [
       "  0%|          | 0/1000 [00:00<?, ?it/s]"
      ]
     },
     "metadata": {},
     "output_type": "display_data"
    },
    {
     "name": "stdout",
     "output_type": "stream",
     "text": [
      "A2M     -0.468135\n",
      "APP     -0.083671\n",
      "LRP1    -0.167171\n",
      "APOA1    0.400948\n",
      "HP       0.082761\n",
      "dtype: float64\n",
      "saving to path: network_scores/dep_bonf_PCNet2.2_zscore.tsv\n",
      "analyzing epilepsy_FDR\n"
     ]
    },
    {
     "data": {
      "application/vnd.jupyter.widget-view+json": {
       "model_id": "06a1f4cefab248b8876f89ed1d93f1ef",
       "version_major": 2,
       "version_minor": 0
      },
      "text/plain": [
       "  0%|          | 0/1000 [00:00<?, ?it/s]"
      ]
     },
     "metadata": {},
     "output_type": "display_data"
    },
    {
     "name": "stdout",
     "output_type": "stream",
     "text": [
      "A2M      0.441505\n",
      "APP     -0.127126\n",
      "LRP1    -0.423181\n",
      "APOA1   -0.349260\n",
      "HP      -0.467274\n",
      "dtype: float64\n",
      "saving to path: network_scores/epilepsy_FDR_PCNet2.2_zscore.tsv\n",
      "analyzing bipolar_bonf\n"
     ]
    },
    {
     "data": {
      "application/vnd.jupyter.widget-view+json": {
       "model_id": "fa8e7ef3d6c2460ab7e73aa3d1a84690",
       "version_major": 2,
       "version_minor": 0
      },
      "text/plain": [
       "  0%|          | 0/1000 [00:00<?, ?it/s]"
      ]
     },
     "metadata": {},
     "output_type": "display_data"
    },
    {
     "name": "stdout",
     "output_type": "stream",
     "text": [
      "A2M      0.813140\n",
      "APP      0.772587\n",
      "LRP1    -0.156082\n",
      "APOA1    0.348444\n",
      "HP       1.349262\n",
      "dtype: float64\n",
      "saving to path: network_scores/bipolar_bonf_PCNet2.2_zscore.tsv\n",
      "analyzing asd_FDR\n"
     ]
    },
    {
     "data": {
      "application/vnd.jupyter.widget-view+json": {
       "model_id": "e0a18333d0bd4e53b76feac95c53b6bb",
       "version_major": 2,
       "version_minor": 0
      },
      "text/plain": [
       "  0%|          | 0/1000 [00:00<?, ?it/s]"
      ]
     },
     "metadata": {},
     "output_type": "display_data"
    },
    {
     "name": "stdout",
     "output_type": "stream",
     "text": [
      "A2M     -0.333228\n",
      "APP      0.083599\n",
      "LRP1    -0.147765\n",
      "APOA1   -1.015412\n",
      "HP      -0.311945\n",
      "dtype: float64\n",
      "saving to path: network_scores/asd_FDR_PCNet2.2_zscore.tsv\n",
      "analyzing anxiety_bonf\n"
     ]
    },
    {
     "data": {
      "application/vnd.jupyter.widget-view+json": {
       "model_id": "039ed57deb774624812af1702d6b62a1",
       "version_major": 2,
       "version_minor": 0
      },
      "text/plain": [
       "  0%|          | 0/1000 [00:00<?, ?it/s]"
      ]
     },
     "metadata": {},
     "output_type": "display_data"
    },
    {
     "name": "stdout",
     "output_type": "stream",
     "text": [
      "A2M      0.464657\n",
      "APP      1.130546\n",
      "LRP1    -0.231344\n",
      "APOA1    0.900081\n",
      "HP       1.758481\n",
      "dtype: float64\n",
      "saving to path: network_scores/anxiety_bonf_PCNet2.2_zscore.tsv\n",
      "analyzing anorexia_FDR\n"
     ]
    },
    {
     "data": {
      "application/vnd.jupyter.widget-view+json": {
       "model_id": "191dace478ef4077aab5065463d43272",
       "version_major": 2,
       "version_minor": 0
      },
      "text/plain": [
       "  0%|          | 0/1000 [00:00<?, ?it/s]"
      ]
     },
     "metadata": {},
     "output_type": "display_data"
    },
    {
     "name": "stdout",
     "output_type": "stream",
     "text": [
      "A2M     -0.197149\n",
      "APP      0.226130\n",
      "LRP1     0.697621\n",
      "APOA1    0.726841\n",
      "HP      -0.437237\n",
      "dtype: float64\n",
      "saving to path: network_scores/anorexia_FDR_PCNet2.2_zscore.tsv\n",
      "analyzing alz_FDR\n"
     ]
    },
    {
     "data": {
      "application/vnd.jupyter.widget-view+json": {
       "model_id": "b598b13d2c694547b6a2c008e777c749",
       "version_major": 2,
       "version_minor": 0
      },
      "text/plain": [
       "  0%|          | 0/1000 [00:00<?, ?it/s]"
      ]
     },
     "metadata": {},
     "output_type": "display_data"
    },
    {
     "name": "stdout",
     "output_type": "stream",
     "text": [
      "A2M      0.009514\n",
      "APP      1.866329\n",
      "LRP1     1.645619\n",
      "APOA1    1.353402\n",
      "HP       1.778141\n",
      "dtype: float64\n",
      "saving to path: network_scores/alz_FDR_PCNet2.2_zscore.tsv\n",
      "analyzing als_FDR\n"
     ]
    },
    {
     "data": {
      "application/vnd.jupyter.widget-view+json": {
       "model_id": "01caf5ab3fa149eea56a23e470eaefb7",
       "version_major": 2,
       "version_minor": 0
      },
      "text/plain": [
       "  0%|          | 0/1000 [00:00<?, ?it/s]"
      ]
     },
     "metadata": {},
     "output_type": "display_data"
    },
    {
     "name": "stdout",
     "output_type": "stream",
     "text": [
      "A2M      0.386822\n",
      "APP      0.508268\n",
      "LRP1     0.936384\n",
      "APOA1    0.216446\n",
      "HP      -0.967991\n",
      "dtype: float64\n",
      "saving to path: network_scores/als_FDR_PCNet2.2_zscore.tsv\n",
      "analyzing adhd2022_FDR\n"
     ]
    },
    {
     "data": {
      "application/vnd.jupyter.widget-view+json": {
       "model_id": "5d56baeb8e394136981d7f163af30ca8",
       "version_major": 2,
       "version_minor": 0
      },
      "text/plain": [
       "  0%|          | 0/1000 [00:00<?, ?it/s]"
      ]
     },
     "metadata": {},
     "output_type": "display_data"
    },
    {
     "name": "stdout",
     "output_type": "stream",
     "text": [
      "A2M     -1.445976\n",
      "APP      0.776905\n",
      "LRP1     1.174104\n",
      "APOA1    0.191088\n",
      "HP      -0.328400\n",
      "dtype: float64\n",
      "saving to path: network_scores/adhd2022_FDR_PCNet2.2_zscore.tsv\n",
      "analyzing adhd_FDR\n"
     ]
    },
    {
     "data": {
      "application/vnd.jupyter.widget-view+json": {
       "model_id": "ef8581a4901f4691a5ed95892f9123fe",
       "version_major": 2,
       "version_minor": 0
      },
      "text/plain": [
       "  0%|          | 0/1000 [00:00<?, ?it/s]"
      ]
     },
     "metadata": {},
     "output_type": "display_data"
    },
    {
     "name": "stdout",
     "output_type": "stream",
     "text": [
      "A2M     -0.468100\n",
      "APP      0.350262\n",
      "LRP1     1.555125\n",
      "APOA1    2.024224\n",
      "HP       0.461719\n",
      "dtype: float64\n",
      "saving to path: network_scores/adhd_FDR_PCNet2.2_zscore.tsv\n",
      "analyzing maternal_smok_FDR\n",
      "File already exists. If you would like to overwrite this file, set overwrite=True,and rerun\n",
      "analyzing dpw_bonf\n"
     ]
    },
    {
     "data": {
      "application/vnd.jupyter.widget-view+json": {
       "model_id": "99d19a3dcbaa4b8d993ffe94221f741b",
       "version_major": 2,
       "version_minor": 0
      },
      "text/plain": [
       "  0%|          | 0/1000 [00:00<?, ?it/s]"
      ]
     },
     "metadata": {},
     "output_type": "display_data"
    },
    {
     "name": "stdout",
     "output_type": "stream",
     "text": [
      "A2M     -1.461568\n",
      "APP      0.218397\n",
      "LRP1     0.102239\n",
      "APOA1    0.734815\n",
      "HP       2.152465\n",
      "dtype: float64\n",
      "saving to path: network_scores/dpw_bonf_PCNet2.2_zscore.tsv\n",
      "analyzing addict-rf_FDR\n",
      "File already exists. If you would like to overwrite this file, set overwrite=True,and rerun\n",
      "analyzing ext_top500\n",
      "File already exists. If you would like to overwrite this file, set overwrite=True,and rerun\n",
      "analyzing loco_final_cf_FDR\n"
     ]
    },
    {
     "data": {
      "application/vnd.jupyter.widget-view+json": {
       "model_id": "46269724c7f143c29eba34169fd32eb8",
       "version_major": 2,
       "version_minor": 0
      },
      "text/plain": [
       "  0%|          | 0/1000 [00:00<?, ?it/s]"
      ]
     },
     "metadata": {},
     "output_type": "display_data"
    },
    {
     "name": "stdout",
     "output_type": "stream",
     "text": [
      "A2M     -0.598045\n",
      "APP     -1.029381\n",
      "LRP1    -0.403948\n",
      "APOA1   -0.495718\n",
      "HP       0.793747\n",
      "dtype: float64\n",
      "saving to path: network_scores/loco_final_cf_FDR_PCNet2.2_zscore.tsv\n"
     ]
    }
   ],
   "source": [
    "#ls=seed_dict.keys()\n",
    "for k in ls:  \n",
    "    seed_genes = list(seed_dict[k].intersection(all_nodes))\n",
    "    print(f'analyzing {k}')\n",
    "    if (len(seed_genes)>0):\n",
    "        file_path='network_scores/'+k+'_'+interactome_name+'_zscore.tsv'\n",
    "        if ((os.path.exists(file_path))&(overwrite==False)):\n",
    "            print('File already exists. If you would like to overwrite this file, set overwrite=True,and rerun')\n",
    "        else:\n",
    "            NPSc, Fnew_score, Fnew_rand_score = netprop_zscore.calculate_heat_zscores(\n",
    "                w_double_prime,  \n",
    "                list(all_nodes),\n",
    "                dict(degree), \n",
    "                seed_genes, num_reps=1000,\n",
    "                minimum_bin_size=100,\n",
    "                random_seed=random_seed)\n",
    "            print(NPSc.head())\n",
    "            if save_file:\n",
    "                file_path='network_scores/'+k+'_'+interactome_name+'_zscore.tsv'\n",
    "                print(f'saving to path: {file_path}')\n",
    "                NPSc.to_csv(file_path,sep='\\t',header=False)\n",
    "    else:\n",
    "        print('not enough seed genes for propagation (n=0)')"
   ]
  },
  {
   "cell_type": "markdown",
   "id": "9f42ea1d-3e5a-4e81-8077-e7aed2207dca",
   "metadata": {},
   "source": [
    "# run for an individual seed gene set"
   ]
  },
  {
   "cell_type": "code",
   "execution_count": 14,
   "id": "c917bd5a-e979-4b43-a063-fd7d81af2ae2",
   "metadata": {},
   "outputs": [],
   "source": [
    "overwrite=False"
   ]
  },
  {
   "cell_type": "code",
   "execution_count": 27,
   "id": "bc61c68a-994f-4cff-8e71-48661bd3ea8c",
   "metadata": {},
   "outputs": [
    {
     "name": "stdout",
     "output_type": "stream",
     "text": [
      "9\n"
     ]
    },
    {
     "data": {
      "application/vnd.jupyter.widget-view+json": {
       "model_id": "79636d852efb46c78981b61473968e73",
       "version_major": 2,
       "version_minor": 0
      },
      "text/plain": [
       "  0%|          | 0/1000 [00:00<?, ?it/s]"
      ]
     },
     "metadata": {},
     "output_type": "display_data"
    },
    {
     "name": "stdout",
     "output_type": "stream",
     "text": [
      "TGFBR1   -0.570225\n",
      "TGFBR2   -0.131549\n",
      "SMAD3     0.386757\n",
      "TGFB1    -0.176857\n",
      "SMAD2     0.195055\n",
      "dtype: float64\n",
      "network_scores/loco_final_cf_25_bonf_PCNet2.0_zscore.tsv\n"
     ]
    }
   ],
   "source": [
    "k='loco_final_cf_25_bonf'\n",
    "print(len(seed_dict[k]))\n",
    "seed_genes = list(seed_dict[k].intersection(all_nodes))\n",
    "\n",
    "NPSc, Fnew_score, Fnew_rand_score = netprop_zscore.calculate_heat_zscores(\n",
    "    w_double_prime,  \n",
    "    list(all_nodes),\n",
    "    dict(degree), \n",
    "    seed_genes, num_reps=1000,\n",
    "    minimum_bin_size=100,\n",
    "    random_seed=random_seed)\n",
    "print(NPSc.head())\n",
    "if save_file:\n",
    "    file_path='network_scores/'+k+'_'+interactome_name+'_zscore.tsv'\n",
    "    print(file_path)\n",
    "    if ((overwrite==False)&(os.path.exists(file_path))):\n",
    "        print('File already exists. If you would like to overwrite this file, set overwrite=True, and rerun')\n",
    "    else:\n",
    "        NPSc.to_csv(file_path,sep='\\t',header=False)"
   ]
  },
  {
   "cell_type": "markdown",
   "id": "3754d489-4dbe-42db-837c-235e2bc06a30",
   "metadata": {
    "jp-MarkdownHeadingCollapsed": true
   },
   "source": [
    "# run for comparitive control- permuted control"
   ]
  },
  {
   "cell_type": "code",
   "execution_count": 30,
   "id": "ff854eea-bf46-411d-8040-f3044abb9316",
   "metadata": {},
   "outputs": [],
   "source": [
    "from datetime import datetime"
   ]
  },
  {
   "cell_type": "code",
   "execution_count": 35,
   "id": "5685241d-03ef-4f5b-a9cf-93bb2dc5ec05",
   "metadata": {},
   "outputs": [],
   "source": [
    "overwrite=False"
   ]
  },
  {
   "cell_type": "code",
   "execution_count": 36,
   "id": "12be2169-81f7-4c93-b4ba-0d8214d753a4",
   "metadata": {},
   "outputs": [
    {
     "name": "stdout",
     "output_type": "stream",
     "text": [
      "2025-07-30 11:20:18.546992\n"
     ]
    },
    {
     "data": {
      "application/vnd.jupyter.widget-view+json": {
       "model_id": "ef92e6559cc945f684f108cbe7068169",
       "version_major": 2,
       "version_minor": 0
      },
      "text/plain": [
       "  0%|          | 0/1000 [00:00<?, ?it/s]"
      ]
     },
     "metadata": {},
     "output_type": "display_data"
    },
    {
     "name": "stdout",
     "output_type": "stream",
     "text": [
      "TGFBR1    1.249942\n",
      "TGFBR2    1.732448\n",
      "SMAD3     0.394492\n",
      "TGFB1    -0.808199\n",
      "SMAD2     1.165580\n",
      "dtype: float64\n",
      "network_scores/permuted_control/loco_final_cf_FDR_permuted_control_0_PCNet2.0_zscore.tsv\n",
      "2025-07-30 11:23:26.982199\n"
     ]
    }
   ],
   "source": [
    "k='loco_final_cf_FDR'\n",
    "n=len(seed_dict['loco_final_cf_FDR'].intersection(all_nodes))\n",
    "for i in range(1):\n",
    "    print(datetime.now())\n",
    "    seed_genes = random.sample(all_nodes, n)\n",
    "    NPSc, Fnew_score, Fnew_rand_score = netprop_zscore.calculate_heat_zscores(\n",
    "        w_double_prime,  \n",
    "        list(all_nodes),\n",
    "        dict(degree), \n",
    "        seed_genes, num_reps=1000,\n",
    "        minimum_bin_size=100,\n",
    "        random_seed=random_seed)\n",
    "    print(NPSc.head())\n",
    "    if save_file:\n",
    "        file_path=f'network_scores/permuted_control/{k}_permuted_control_{i}_{interactome_name}_zscore.tsv'\n",
    "        print(file_path)\n",
    "        pd.DataFrame(seed_genes).to_csv(f'network_scores/permuted_control/{k}_permuted_control_{i}_{interactome_name}_seedgenes.tsv',index=False)\n",
    "        if ((overwrite==False)&(os.path.exists(file_path))):\n",
    "            print('File already exists. If you would like to overwrite this file, set overwrite=True, and rerun')\n",
    "        else:\n",
    "            NPSc.to_csv(file_path,sep='\\t',header=False)\n",
    "print(datetime.now())"
   ]
  },
  {
   "cell_type": "code",
   "execution_count": 37,
   "id": "37913e45-7d73-4213-8863-f765741a2959",
   "metadata": {},
   "outputs": [
    {
     "data": {
      "text/plain": [
       "6.666666666666667"
      ]
     },
     "execution_count": 37,
     "metadata": {},
     "output_type": "execute_result"
    }
   ],
   "source": [
    "400/60"
   ]
  },
  {
   "cell_type": "code",
   "execution_count": 23,
   "id": "50cb316a-f268-43b9-99a1-15344ddbc822",
   "metadata": {},
   "outputs": [
    {
     "data": {
      "text/plain": [
       "336"
      ]
     },
     "execution_count": 23,
     "metadata": {},
     "output_type": "execute_result"
    }
   ],
   "source": [
    "trait='loco_final_cf_FDR'\n",
    "n=len(seed_dict['loco_final_cf_FDR'].intersection(all_nodes))\n",
    "n"
   ]
  },
  {
   "cell_type": "markdown",
   "id": "704bd6db-8086-4b59-939b-75cc245e1bfd",
   "metadata": {},
   "source": [
    "# test overlap between random seeds and externalizing"
   ]
  },
  {
   "cell_type": "code",
   "execution_count": 14,
   "id": "d84ae546-61ec-4822-857f-27f7181fa42c",
   "metadata": {},
   "outputs": [],
   "source": [
    "def plot_permutation_histogram(permuted, observed, title=\"\", xlabel=\"Observed vs Permuted\", color='#CCCCCC', arrow_color=\"blue\",savefig=False, filename=None):\n",
    "    \"\"\"Plot an observed value against a distribution of permuted values. Adapted from BMI\n",
    "\n",
    "    Args:\n",
    "        permuted (list): A list of permuted values that form the distribution\n",
    "        observed (float): The observed value of interest\n",
    "        title (str): Plot title. Defaults to \"\".\n",
    "        xlabel (str): The x axis title. Defaults to \"Observed vs Permuted\".\n",
    "        color (str, optional): The color of the histogram. Defaults to \"cornflowerblue\".\n",
    "        arrow_color (str, optional): The color of the arrow pointing to observed value. Defaults to \"red\".\n",
    "    \"\"\"\n",
    "    plt.figure(figsize=(2.5, 2.5))\n",
    "    dfig = sns.histplot(permuted, label='Permuted', alpha=0.4, stat='density', bins=25, kde=True, \n",
    "                        edgecolor='w', color=color)\n",
    "    params = {'mathtext.default': 'regular'}          \n",
    "    plt.rcParams.update(params)\n",
    "    plt.xlabel(xlabel, fontsize=8)\n",
    "    diff = max(observed, max(permuted))-min(permuted)\n",
    "    plt.arrow(x=observed, y=dfig.dataLim.bounds[3]/2, dx=0, dy=-1 * dfig.dataLim.bounds[3]/2, label=\"Observed\",\n",
    "              width=diff/100, head_width=diff/15, head_length=dfig.dataLim.bounds[3]/20, overhang=0.5, \n",
    "              length_includes_head=True, color=arrow_color, zorder=50)\n",
    "    plt.ylabel(\"Density\", fontsize=8)\n",
    "    plt.legend(fontsize=8, loc=(0.6,0.75))\n",
    "    plt.xticks(fontsize=8)\n",
    "    plt.yticks(fontsize=8)\n",
    "    plt.locator_params(axis=\"y\", nbins=6)\n",
    "    plt.title(title + \" (p=\" + str(get_p_from_permutation_results(observed, permuted)) + \")\", fontsize=8)\n",
    "    \n",
    "    if savefig:\n",
    "        plt.savefig('figures/' + filename + '.svg', bbox_inches='tight')"
   ]
  },
  {
   "cell_type": "code",
   "execution_count": 15,
   "id": "58698209-e3aa-4b7a-929d-3fca6e80eed9",
   "metadata": {},
   "outputs": [],
   "source": [
    "save_fig=True"
   ]
  },
  {
   "cell_type": "code",
   "execution_count": 16,
   "id": "d39b2dc2-cae4-4f58-8d96-432990f1e6fa",
   "metadata": {},
   "outputs": [],
   "source": [
    "plt.rcParams.update({'font.size': 16})"
   ]
  },
  {
   "cell_type": "code",
   "execution_count": 17,
   "id": "abff8b65-21ad-48c4-a4ef-f3bc359c83c1",
   "metadata": {},
   "outputs": [],
   "source": [
    "shared_colour='shared'\n",
    "shared_colour_alt='shared_alt'"
   ]
  },
  {
   "cell_type": "code",
   "execution_count": 18,
   "id": "ef62d44d-8fc6-4ed4-a28a-30805568bc0a",
   "metadata": {},
   "outputs": [],
   "source": [
    "interactome_name='PCNet2.0'"
   ]
  },
  {
   "cell_type": "code",
   "execution_count": 19,
   "id": "e05c38a8-0cad-4cd8-9dd5-94315903331c",
   "metadata": {},
   "outputs": [
    {
     "data": {
      "text/plain": [
       "dict_keys(['loco_bonf', 'loco_top500', 'loco_FDR', 'loco_gsem_bonf', 'loco_gsem_top500', 'loco_gsem_FDR', 'ext_bonf', 'ext_top500', 'ext_FDR', 'ext_st22', 'loco_mega_fus_naac_bonf', 'loco_mega_fus_naac_top500', 'loco_mega_fus_naac_FDR', 'ext_fus_naac_bonf', 'ext_fus_naac_top500', 'ext_fus_naac_FDR', 'loco_final_cf_bonf', 'loco_final_cf_top500', 'loco_final_cf_FDR', 'loco_final_mega_bonf', 'loco_final_mega_top500', 'loco_final_mega_FDR', 'ext_rat_bonf', 'ext_rat_top500', 'ext_rat_FDR', 'loco_final_cf_rat_bonf', 'loco_final_cf_rat_top500', 'loco_final_cf_rat_FDR', 'ext_db_bonf', 'ext_db_top500', 'ext_db_FDR', 'ext_rtb_bonf', 'ext_rtb_top500', 'ext_rtb_FDR', 'loco_final_cf_25_bonf', 'loco_final_cf_25_top500', 'loco_final_cf_25_FDR', 'facial_hair_FDR', 'facial_hair_bonf', 'facial_hair_top500', 'age_smkinit_FDR', 'age_smkinit_bonf', 'age_smkinit_top500', 'antisoc_FDR', 'antisoc_bonf', 'antisoc_top500', 'hr_FDR', 'hr_bonf', 'hr_top500', 'infant_bw_FDR', 'infant_bw_bonf', 'infant_bw_top500', 'LDL_FDR', 'LDL_bonf', 'LDL_top500', 'maternal_smok_FDR', 'maternal_smok_bonf', 'maternal_smok_top500', 'age_menarche_FDR', 'age_menarche_bonf', 'age_menarche_top500', 'addict-rf_FDR', 'addict-rf_bonf', 'addict-rf_top500', 'adhd_FDR', 'adhd_bonf', 'adhd_top500', 'dpw_FDR', 'dpw_bonf', 'dpw_top500', 'risk_FDR', 'risk_bonf', 'risk_top500', 'auto_speed_FDR', 'auto_speed_bonf', 'auto_speed_top500', 'nsex_FDR', 'nsex_bonf', 'nsex_top500', 'bmi_FDR', 'bmi_bonf', 'bmi_top500', 'height_FDR', 'height_bonf', 'height_top500', 'anxiety_FDR', 'anxiety_bonf', 'anxiety_top500', 'panic_FDR', 'panic_bonf', 'panic_top500', 'asd_FDR', 'asd_bonf', 'asd_top500', 'adhd2022_FDR', 'adhd2022_bonf', 'adhd2022_top500', 'scz_FDR', 'scz_bonf', 'scz_top500', 'bipolar_FDR', 'bipolar_bonf', 'bipolar_top500', 'dep_FDR', 'dep_bonf', 'dep_top500', 'ptsd_FDR', 'ptsd_bonf', 'ptsd_top500', 'ocd_FDR', 'ocd_bonf', 'ocd_top500', 'alz_FDR', 'alz_bonf', 'alz_top500', 'park_FDR', 'park_bonf', 'park_top500', 'als_FDR', 'als_bonf', 'als_top500', 'epilepsy_FDR', 'epilepsy_bonf', 'epilepsy_top500', 'anorexia_FDR', 'anorexia_bonf', 'anorexia_top500', 'park2019_FDR', 'park2019_bonf', 'park2019_top500', 'bipolar_euro_FDR', 'bipolar_euro_bonf', 'bipolar_euro_top500', 'dep_euro_FDR', 'dep_euro_bonf', 'dep_euro_top500', 'ptsd_euro_FDR', 'ptsd_euro_bonf', 'ptsd_euro_top500', 'epilepsy_euro_FDR', 'epilepsy_euro_bonf', 'epilepsy_euro_top500', 'bmi_rn6_FDR', 'bmi_rn6_bonf', 'bmi_rn6_top500', 'body_length_rn6_FDR', 'body_length_rn6_bonf', 'body_length_rn6_top500', 'loco_final_cf_BLA_bonf', 'loco_final_cf_BLA_FDR', 'loco_final_cf_BLA_top500', 'loco_final_cf_Brain_bonf', 'loco_final_cf_Brain_FDR', 'loco_final_cf_Brain_top500', 'loco_final_cf_IL_bonf', 'loco_final_cf_IL_FDR', 'loco_final_cf_IL_top500', 'loco_final_cf_LHb_bonf', 'loco_final_cf_LHb_FDR', 'loco_final_cf_LHb_top500', 'loco_final_cf_NAcc_bonf', 'loco_final_cf_NAcc_FDR', 'loco_final_cf_NAcc_top500', 'loco_final_cf_NAcc1_bonf', 'loco_final_cf_NAcc1_FDR', 'loco_final_cf_NAcc1_top500', 'loco_final_cf_NAcc2_bonf', 'loco_final_cf_NAcc2_FDR', 'loco_final_cf_NAcc2_top500', 'loco_final_cf_OFC_bonf', 'loco_final_cf_OFC_FDR', 'loco_final_cf_OFC_top500', 'loco_final_cf_PL_bonf', 'loco_final_cf_PL_FDR', 'loco_final_cf_PL_top500', 'loco_final_cf_PL1_bonf', 'loco_final_cf_PL1_FDR', 'loco_final_cf_PL1_top500', 'loco_final_cf_PL2_bonf', 'loco_final_cf_PL2_FDR', 'loco_final_cf_PL2_top500', 'loco_final_cf_Adipose_bonf', 'loco_final_cf_Adipose_FDR', 'loco_final_cf_Adipose_top500', 'loco_final_cf_Eye_bonf', 'loco_final_cf_Eye_FDR', 'loco_final_cf_Eye_top500', 'loco_final_cf_Liver_bonf', 'loco_final_cf_Liver_FDR', 'loco_final_cf_Liver_top500'])"
      ]
     },
     "execution_count": 19,
     "metadata": {},
     "output_type": "execute_result"
    }
   ],
   "source": [
    "seed_dict.keys()"
   ]
  },
  {
   "cell_type": "code",
   "execution_count": 23,
   "id": "89f69ec5-c0f7-47b4-85be-7323c319d85c",
   "metadata": {},
   "outputs": [],
   "source": [
    "trait_h='ext_top500'\n",
    "nps_h=NPS_dict[f'{trait_h}_{interactome_name}']\n",
    "trait_rand='loco_final_cf_FDR'\n"
   ]
  },
  {
   "cell_type": "code",
   "execution_count": 24,
   "id": "32a83cc0-115d-4f8c-9482-53aceb81c88d",
   "metadata": {},
   "outputs": [
    {
     "name": "stdout",
     "output_type": "stream",
     "text": [
      "500\n"
     ]
    }
   ],
   "source": [
    "print(len(seed_dict[trait_h]))"
   ]
  },
  {
   "cell_type": "code",
   "execution_count": 25,
   "id": "6bcb28e9-d4bd-43c3-b2cd-3dde5eef1ab5",
   "metadata": {},
   "outputs": [
    {
     "data": {
      "text/plain": [
       "263"
      ]
     },
     "execution_count": 25,
     "metadata": {},
     "output_type": "execute_result"
    }
   ],
   "source": [
    "\n",
    "nps_r=NPS_dict[f'{trait_rand}_{interactome_name}']\n",
    "nps=nps_r.merge(nps_h,left_index=True,right_index=True)\n",
    "nps.columns=['nps_r','nps_h']\n",
    "nps['nps_hr']=nps.nps_r*nps.nps_h\n",
    "observed_sz=len(nps[(nps.nps_r>cut_single)&(nps.nps_h>cut_single)&(nps.nps_hr>cut_comb)])\n",
    "observed_sz"
   ]
  },
  {
   "cell_type": "code",
   "execution_count": 27,
   "id": "4a6eb519-40e0-4868-a88a-bbf5e5c2a302",
   "metadata": {},
   "outputs": [
    {
     "data": {
      "text/plain": [
       "202.434"
      ]
     },
     "execution_count": 27,
     "metadata": {},
     "output_type": "execute_result"
    }
   ],
   "source": [
    "permuted_sz=[]\n",
    "for i in range(1000):\n",
    "    nps_rand=pd.read_csv(f'network_scores/permuted_control/{trait_rand}_permuted_control_{i}_{interactome_name}_zscore.tsv',sep='\\t',header=None, index_col=0)\n",
    "    nps=nps_rand.merge(nps_h,left_index=True,right_index=True)\n",
    "    nps.columns=['nps_rand','nps_h']\n",
    "    nps['nps_hr']=nps.nps_rand*nps.nps_h\n",
    "    t=len(nps[(nps.nps_rand>cut_single)&(nps.nps_h>cut_single)&(nps.nps_hr>cut_comb)])\n",
    "    permuted_sz.append(t)\n",
    "np.mean(permuted_sz)"
   ]
  },
  {
   "cell_type": "code",
   "execution_count": 28,
   "id": "d1ff8f83-460f-4205-9c90-08f07f8fe0f1",
   "metadata": {},
   "outputs": [
    {
     "data": {
      "image/png": "[encoded data removed]",
      "text/plain": [
       "<Figure size 250x250 with 1 Axes>"
      ]
     },
     "metadata": {},
     "output_type": "display_data"
    }
   ],
   "source": [
    "filename='networksize_hist_full_permuted_seeds_1000'+'_'+trait_rand+'_'+trait_h+'_'+interactome_name\n",
    "\n",
    "plot_permutation_histogram(permuted_sz, observed_sz, title=\"\", xlabel=\"Observed vs Permuted Network Size\", color=colour_dict['other'], arrow_color=colour_dict[shared_colour],savefig=save_fig, filename=filename)"
   ]
  },
  {
   "cell_type": "code",
   "execution_count": 29,
   "id": "4415fcce-3bdf-4935-85ef-ae132a1cc62d",
   "metadata": {},
   "outputs": [],
   "source": [
    "#modify for correct genesets\n",
    "trait_r='loco_final_cf'\n",
    "cut_r= 'FDR'\n",
    "\n",
    "trait_h='ext'\n",
    "cut_h='top500'\n",
    "\n",
    "label_h,label_r,seed_h,seed_r,NPS_h,NPS_r,NPS=return_analysis_datasets(trait_r,cut_r,trait_h,cut_h,seed_dict,NPS_dict,interactome_name)\n",
    "\n",
    "if ((trait_h=='addict-rf')):\n",
    "    shared_colour='shared_addict-rf'\n",
    "    shared_colour_alt='shared_alt_addict-rf'\n",
    "    \n",
    "else:\n",
    "    shared_colour='shared'\n",
    "    shared_colour_alt='shared_alt'"
   ]
  },
  {
   "cell_type": "code",
   "execution_count": 31,
   "id": "71d0558e-2af8-4c1b-975b-409f9c6fe7b5",
   "metadata": {},
   "outputs": [
    {
     "data": {
      "text/plain": [
       "206.36"
      ]
     },
     "execution_count": 31,
     "metadata": {},
     "output_type": "execute_result"
    }
   ],
   "source": [
    "np.mean(permuted_sz_trad)"
   ]
  },
  {
   "cell_type": "code",
   "execution_count": 32,
   "id": "d7ae97cb-e56a-4bfe-b507-8f079783b02b",
   "metadata": {},
   "outputs": [
    {
     "name": "stdout",
     "output_type": "stream",
     "text": [
      "calculating histogram\n"
     ]
    },
    {
     "data": {
      "image/png": "[encoded data removed]",
      "text/plain": [
       "<Figure size 250x250 with 1 Axes>"
      ]
     },
     "metadata": {},
     "output_type": "display_data"
    }
   ],
   "source": [
    "filename='networksize_hist_1000rep'+'_'+label_r+'_'+label_h+'_'+interactome_name\n",
    "\n",
    "print('calculating histogram')\n",
    "observed_sz_trad, permuted_sz_trad = network_colocalization.calculate_expected_overlap(NPS_r.iloc[:,0], NPS_h.iloc[:,0], \n",
    "                                                        z_score_threshold=cut_comb, z1_threshold=cut_single,\n",
    "                                                        z2_threshold=cut_single, num_reps=1000, plot=False)  \n",
    "plot_permutation_histogram(permuted_sz_trad, observed_sz_trad, title=\"\", xlabel=\"Observed vs Permuted Network Size\", color=colour_dict['other'], arrow_color=colour_dict[shared_colour],savefig=False, filename=filename)"
   ]
  },
  {
   "cell_type": "code",
   "execution_count": 271,
   "id": "758aae39-ae95-4002-b248-20e7ae1839dc",
   "metadata": {},
   "outputs": [],
   "source": [
    "import scipy.stats as stats"
   ]
  },
  {
   "cell_type": "code",
   "execution_count": 36,
   "id": "60bb7bd2-893e-4cef-b645-1d5fbbfed156",
   "metadata": {},
   "outputs": [
    {
     "data": {
      "text/plain": [
       "KstestResult(statistic=0.187, pvalue=1.0768117192423136e-15, statistic_location=181, statistic_sign=1)"
      ]
     },
     "execution_count": 36,
     "metadata": {},
     "output_type": "execute_result"
    }
   ],
   "source": [
    "stats.ks_2samp(permuted_sz,permuted_sz_trad)"
   ]
  },
  {
   "cell_type": "code",
   "execution_count": 35,
   "id": "e3dad4bb-b3b4-4d09-b524-6af7687c5acb",
   "metadata": {},
   "outputs": [
    {
     "data": {
      "text/plain": [
       "KstestResult(statistic=0.187, pvalue=5.384058596211566e-16, statistic_location=181, statistic_sign=1)"
      ]
     },
     "execution_count": 35,
     "metadata": {},
     "output_type": "execute_result"
    }
   ],
   "source": [
    "stats.ks_2samp(permuted_sz,permuted_sz_trad,alternative='greater')"
   ]
  },
  {
   "cell_type": "code",
   "execution_count": 34,
   "id": "048e89e6-ea0d-4eb5-a4ef-6be7f22e1d17",
   "metadata": {},
   "outputs": [
    {
     "data": {
      "text/plain": [
       "0.9964951315802428"
      ]
     },
     "execution_count": 34,
     "metadata": {},
     "output_type": "execute_result"
    }
   ],
   "source": [
    "np.mean(permuted_sz)/np.mean(permuted_sz_trad)"
   ]
  },
  {
   "cell_type": "code",
   "execution_count": 33,
   "id": "d782403b-af31-4782-8cb3-1845dc0e2dd6",
   "metadata": {},
   "outputs": [
    {
     "data": {
      "text/plain": [
       "<matplotlib.legend.Legend at 0x1552a2dbd340>"
      ]
     },
     "execution_count": 33,
     "metadata": {},
     "output_type": "execute_result"
    },
    {
     "data": {
      "image/png": "[encoded data removed]",
      "text/plain": [
       "<Figure size 640x480 with 1 Axes>"
      ]
     },
     "metadata": {},
     "output_type": "display_data"
    }
   ],
   "source": [
    "plt.hist(permuted_sz_trad,alpha=0.7,label='permute_zscore')\n",
    "plt.hist(permuted_sz,alpha=0.7,label='permute_seed')\n",
    "plt.legend()"
   ]
  }
 ],
 "metadata": {
  "kernelspec": {
   "display_name": "Python [conda env:env-std-py38]",
   "language": "python",
   "name": "conda-env-env-std-py38-py"
  },
  "language_info": {
   "codemirror_mode": {
    "name": "ipython",
    "version": 3
   },
   "file_extension": ".py",
   "mimetype": "text/x-python",
   "name": "python",
   "nbconvert_exporter": "python",
   "pygments_lexer": "ipython3",
   "version": "3.8.13"
  }
 },
 "nbformat": 4,
 "nbformat_minor": 5
}
