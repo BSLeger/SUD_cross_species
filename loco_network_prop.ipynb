{
 "cells": [
  {
   "cell_type": "markdown",
   "id": "9a272776-2b4c-41df-b694-7629ed264fa1",
   "metadata": {},
   "source": [
    "purpose: run network propagation for a given dataset, in this case used for locomotor activity and externalizing."
   ]
  },
  {
   "cell_type": "code",
   "execution_count": 1,
   "id": "25dace7e-17f0-4c00-aa9b-a3ce69b12844",
   "metadata": {},
   "outputs": [],
   "source": [
    "import os\n",
    "import pandas as pd\n",
    "import ndex2\n",
    "import networkx as nx\n",
    "from netcoloc import netprop_zscore\n",
    "from netcoloc import netprop\n",
    "from netcoloc import network_colocalization\n",
    "import sys\n",
    "import random\n",
    "#os.chdir('/tscc/projects/ps-palmer/brittany/rare_common_alcohol/rare_common_alcohol_comparison/notebooks/')\n",
    "#from rca_functions import *\n",
    "os.chdir('/tscc/projects/ps-palmer/brittany/SUD_cross_species/scripts')\n",
    "from network_functions import *\n",
    "from network_validation_functions import *\n",
    "from plotting_functions import *\n",
    "os.chdir('/tscc/projects/ps-palmer/brittany/SUD_cross_species/')"
   ]
  },
  {
   "cell_type": "code",
   "execution_count": 2,
   "id": "6b5aa207-0f4e-4030-8881-81abcb527391",
   "metadata": {},
   "outputs": [],
   "source": [
    "random_seed=random.seed(211)"
   ]
  },
  {
   "cell_type": "code",
   "execution_count": 3,
   "id": "5784e661-4360-43e3-bfb3-014f7ab7b2a5",
   "metadata": {},
   "outputs": [],
   "source": [
    "save_file=True"
   ]
  },
  {
   "cell_type": "markdown",
   "id": "5e400156-6ded-4956-8b70-74b0dc6af01b",
   "metadata": {},
   "source": [
    "# functions"
   ]
  },
  {
   "cell_type": "code",
   "execution_count": 4,
   "id": "41444419-4fba-4786-b74e-278d97cf9279",
   "metadata": {},
   "outputs": [],
   "source": [
    "#from rat bmi notebooks not netcoloc\n",
    "def calculate_heat_zscores_with_sampling(data, nodes, individual_heats, G_PC, trait=\"BMI\", max_genes=500, num_samples=100,\n",
    "                                        nominal_sig=0.05, num_reps=1000, out_path=\"\", minimum_bin_size=10,outfile='sample.tsv'):\n",
    "    \"\"\"Takes a set of summary statistics and a molecular interaction and performs sampling of the significant genes.\n",
    "    For each sample a random selection of seed genes is chosen, weighted by the p-value of each gene in the summary\n",
    "    statistics. Network propagation with zscore calculation is performed for each sample to generate a distribution\n",
    "    of z-scores for each gene in the seed_gene set.\n",
    "\n",
    "    Args:\n",
    "        data (pd.DataFrame): Gene level summary statistics\n",
    "        nodes (list): list of nodes in the interaction network\n",
    "        individual_heats (np.array): Heat matrix calculated by `netprop_zscore.get_individual_heats_matrix()`\n",
    "        G_PC (nx.Graph): molecular interaction network\n",
    "        trait (str, optional): name of trait being investigated. Defaults to \"BMI\".\n",
    "        max_genes (int, optional): Maximum number of seed genes to include in each sample (maximum=500). Defaults to 500.\n",
    "        num_samples (int, optional): Number of times to perform sampling. Defaults to 100.\n",
    "        nominal_sig (float, optional): Significance cutoff for keeping genes in data (Note: this value will be Bonferroni corrected). Defaults to 0.05.\n",
    "        num_reps (int, optional): Number of repetitions of randomization for generating null distribution for z_scores. Defaults to 1000.\n",
    "        out_path (str, optional): File path prefix for saving results of sampling. Defaults to \"\".\n",
    "        minimum_bin_size (int, optional): minimum number of genes that should be in each degree matching bin. Defaults to 10.\n",
    "\n",
    "    Returns:\n",
    "        pd.DataFrame: Gene x sampling run dataframe of sampled z-scores\n",
    "    \"\"\"\n",
    "    assert max_genes <= 500, \"NetColoc is only valid for sets of 500 or less genes so maximum number of genes for sampling must be <= 500\"\n",
    "    #outfile = out_path + trait + \"sampling_\" + str(max_genes) + \"_\" + str(num_samples) + \".tsv\"\n",
    "    data = data.loc[data.gene_symbol.isin(nodes)]  # subset to genes in interaction network\n",
    "    all_seeds = data.loc[data.pvalue <= nominal_sig / len(data)]  # Bonferroni correction\n",
    "    all_seeds = all_seeds.assign(log10p=-1 * np.log10(all_seeds.pvalue))  # get -log10p for weighted sampling\n",
    "    sampling_results = []\n",
    "    for i in tqdm(range(num_samples)):\n",
    "        # perform propagation for sample\n",
    "        sample_seeds = random.choices(population=all_seeds.gene_symbol.values, weights=all_seeds.log10p.values, k=max_genes)\n",
    "        sample_results = netprop_zscore.calculate_heat_zscores(individual_heats, nodes=list(G_PC.nodes), degrees=dict(G_PC.degree),\n",
    "                                                seed_genes=sample_seeds, num_reps=num_reps,\n",
    "                                                minimum_bin_size=minimum_bin_size, random_seed=i)[0]\n",
    "        sample_z = pd.DataFrame(sample_results, columns=[\"z\" + str(i)])\n",
    "        # save running results of sampling\n",
    "        if i == 0:\n",
    "            sample_z.to_csv(outfile, sep=\"\\t\")\n",
    "        else:\n",
    "            existing = pd.read_csv(outfile, sep=\"\\t\", index_col=0)\n",
    "            existing = existing.join(sample_z)\n",
    "            existing.to_csv(outfile, sep=\"\\t\")\n",
    "        sampling_results.append(sample_z)\n",
    "    return pd.concat(sampling_results, axis=1)"
   ]
  },
  {
   "cell_type": "markdown",
   "id": "f592e945-cccb-41fe-9a6b-0c00ad8031e4",
   "metadata": {},
   "source": [
    "# Interactome Set-up"
   ]
  },
  {
   "cell_type": "markdown",
   "id": "ac73a7e9-bea2-4e25-9ff4-db9b57947dd0",
   "metadata": {},
   "source": [
    "pcnet2- versions \n",
    "from wright et al. 2024 preprint:\n",
    "PCNet 2.0= best-performing ranked composite (top 15 interactomes, 3.85M interactions)\n",
    "PCNet 2.1= top 8 interactomes, 1.75M interactions\n",
    "PCNet 2.2= top 10 co-citation-free interactomes, 3.32M interactions "
   ]
  },
  {
   "cell_type": "code",
   "execution_count": 5,
   "id": "488cc94a-e67f-4812-ab44-052df086838c",
   "metadata": {},
   "outputs": [],
   "source": [
    "tissue_net=False"
   ]
  },
  {
   "cell_type": "code",
   "execution_count": 6,
   "id": "0117baed-abf1-4ccc-af87-cb177175dbe5",
   "metadata": {},
   "outputs": [
    {
     "data": {
      "text/plain": [
       "dict_keys(['PCNet2.0', 'PCNet2.1', 'PCNet2.2', 'signor_rat', 'signor_human', 'signor_mouse'])"
      ]
     },
     "execution_count": 6,
     "metadata": {},
     "output_type": "execute_result"
    }
   ],
   "source": [
    "UUIDs.keys()"
   ]
  },
  {
   "cell_type": "code",
   "execution_count": 7,
   "id": "a6c0c2ac-e45d-4b85-aeea-e69d2faa5135",
   "metadata": {},
   "outputs": [
    {
     "name": "stdout",
     "output_type": "stream",
     "text": [
      "importing PCNet2.0 from ndex\n",
      "PCNet2.0\n",
      "Name: PCNet 2.0\n",
      "Nodes: 19267\n",
      "Edges: 3852119\n",
      "Node Attributes: 19267\n",
      "Edge Attributes: 19260595\n",
      "\n",
      "number of nodes:\n",
      "19267\n",
      "\n",
      "number of edges:\n",
      "3852119\n"
     ]
    }
   ],
   "source": [
    "interactome_name='PCNet2.0'\n",
    "tissue='amygdala'\n",
    "if not tissue_net:\n",
    "    print(f'importing {interactome_name} from ndex')\n",
    "    graph=import_interactome(UUIDs=UUIDs,interactome_name=interactome_name)\n",
    "else:\n",
    "    print(f'importing tissue specific network of {tissue}')\n",
    "    #file=f'tissue_networks/{tissue}.gz'\n",
    "    graph = pickle.load(open(f'tissue_networks/{tissue}.pickle', 'rb'))\n",
    "    interactome_name=f'hb_{tissue}'"
   ]
  },
  {
   "cell_type": "code",
   "execution_count": 11,
   "id": "92f1dcd9-a4bf-4dab-94e5-c4d0737a2b5e",
   "metadata": {},
   "outputs": [],
   "source": [
    "edges=list(graph.edges())\n",
    "all_nodes=list(graph.nodes())"
   ]
  },
  {
   "cell_type": "code",
   "execution_count": 25,
   "id": "0ff6358b-83c2-4f7c-8470-a10aeb4a0c35",
   "metadata": {},
   "outputs": [
    {
     "name": "stdout",
     "output_type": "stream",
     "text": [
      "\n",
      "calculating w_prime\n",
      "\n",
      "calculating w_double_prime\n"
     ]
    }
   ],
   "source": [
    "# pre calculate the matricies used for network propagation\n",
    "print('\\ncalculating w_prime')\n",
    "w_prime = netprop.get_normalized_adjacency_matrix(graph, conserve_heat=True)\n",
    "print('\\ncalculating w_double_prime')\n",
    "w_double_prime = netprop.get_individual_heats_matrix(w_prime, .5)"
   ]
  },
  {
   "cell_type": "markdown",
   "id": "9d234624-1a8e-48af-adb3-f520966d2b47",
   "metadata": {},
   "source": [
    "# calculate gwas NPS"
   ]
  },
  {
   "cell_type": "code",
   "execution_count": 28,
   "id": "7316280f-d4c4-4acc-bd9e-e4fd31543293",
   "metadata": {},
   "outputs": [
    {
     "ename": "NameError",
     "evalue": "name 'all_nodes' is not defined",
     "output_type": "error",
     "traceback": [
      "\u001b[0;31m---------------------------------------------------------------------------\u001b[0m",
      "\u001b[0;31mNameError\u001b[0m                                 Traceback (most recent call last)",
      "Input \u001b[0;32mIn [28]\u001b[0m, in \u001b[0;36m<cell line: 1>\u001b[0;34m()\u001b[0m\n\u001b[0;32m----> 1\u001b[0m seed_dict\u001b[38;5;241m=\u001b[39mimport_seed_dict(mag_dir,file_dict,bonf_dict,gene_col_dict,\u001b[43mall_nodes\u001b[49m)\n\u001b[1;32m      2\u001b[0m seed_dict\u001b[38;5;241m.\u001b[39mkeys()\n",
      "\u001b[0;31mNameError\u001b[0m: name 'all_nodes' is not defined"
     ]
    }
   ],
   "source": [
    "seed_dict=import_seed_dict(mag_dir,file_dict,bonf_dict,gene_col_dict,all_nodes)\n",
    "seed_dict.keys()"
   ]
  },
  {
   "cell_type": "code",
   "execution_count": 4,
   "id": "d563476b-74d3-443c-84b2-6b8fa2057639",
   "metadata": {},
   "outputs": [
    {
     "ename": "NameError",
     "evalue": "name 'seed_dict' is not defined",
     "output_type": "error",
     "traceback": [
      "\u001b[0;31m---------------------------------------------------------------------------\u001b[0m",
      "\u001b[0;31mNameError\u001b[0m                                 Traceback (most recent call last)",
      "Input \u001b[0;32mIn [4]\u001b[0m, in \u001b[0;36m<cell line: 6>\u001b[0;34m()\u001b[0m\n\u001b[1;32m      5\u001b[0m     ctrl_dict[t]\u001b[38;5;241m=\u001b[39mpd\u001b[38;5;241m.\u001b[39mread_csv(\u001b[38;5;124m'\u001b[39m\u001b[38;5;124mgwas_ctrl_hm/magma/seed_genes/\u001b[39m\u001b[38;5;124m'\u001b[39m\u001b[38;5;241m+\u001b[39mt\u001b[38;5;241m+\u001b[39m\u001b[38;5;124m'\u001b[39m\u001b[38;5;124m_annot.tsv\u001b[39m\u001b[38;5;124m'\u001b[39m,sep\u001b[38;5;241m=\u001b[39m\u001b[38;5;124m'\u001b[39m\u001b[38;5;130;01m\\t\u001b[39;00m\u001b[38;5;124m'\u001b[39m)\n\u001b[1;32m      6\u001b[0m \u001b[38;5;28;01mfor\u001b[39;00m t \u001b[38;5;129;01min\u001b[39;00m ctrl_traits:\n\u001b[0;32m----> 7\u001b[0m     \u001b[43mseed_dict\u001b[49m[t\u001b[38;5;241m+\u001b[39m\u001b[38;5;124m'\u001b[39m\u001b[38;5;124m_FDR\u001b[39m\u001b[38;5;124m'\u001b[39m]\u001b[38;5;241m=\u001b[39m(\u001b[38;5;28mset\u001b[39m(ctrl_dict[t][ctrl_dict[t][\u001b[38;5;124m'\u001b[39m\u001b[38;5;124mQ\u001b[39m\u001b[38;5;124m'\u001b[39m]\u001b[38;5;241m<\u001b[39m\u001b[38;5;241m0.05\u001b[39m][\u001b[38;5;124m'\u001b[39m\u001b[38;5;124mGENE\u001b[39m\u001b[38;5;124m'\u001b[39m]))\n\u001b[1;32m      8\u001b[0m     seed_dict[t\u001b[38;5;241m+\u001b[39m\u001b[38;5;124m'\u001b[39m\u001b[38;5;124m_bonf\u001b[39m\u001b[38;5;124m'\u001b[39m]\u001b[38;5;241m=\u001b[39m(\u001b[38;5;28mset\u001b[39m(ctrl_dict[t][ctrl_dict[t][\u001b[38;5;124m'\u001b[39m\u001b[38;5;124mP\u001b[39m\u001b[38;5;124m'\u001b[39m]\u001b[38;5;241m<\u001b[39m\u001b[38;5;241m0.05\u001b[39m\u001b[38;5;241m/\u001b[39m\u001b[38;5;28mlen\u001b[39m(ctrl_dict[t])][\u001b[38;5;124m'\u001b[39m\u001b[38;5;124mGENE\u001b[39m\u001b[38;5;124m'\u001b[39m]))\n\u001b[1;32m      9\u001b[0m     seed_dict[t\u001b[38;5;241m+\u001b[39m\u001b[38;5;124m'\u001b[39m\u001b[38;5;124m_top500\u001b[39m\u001b[38;5;124m'\u001b[39m]\u001b[38;5;241m=\u001b[39m\u001b[38;5;28mset\u001b[39m(ctrl_dict[t][(ctrl_dict[t][\u001b[38;5;124m'\u001b[39m\u001b[38;5;124mGENE\u001b[39m\u001b[38;5;124m'\u001b[39m]\u001b[38;5;241m.\u001b[39misin(all_nodes))]\u001b[38;5;241m.\u001b[39mnsmallest(\u001b[38;5;241m500\u001b[39m,\u001b[38;5;124m'\u001b[39m\u001b[38;5;124mP\u001b[39m\u001b[38;5;124m'\u001b[39m)[\u001b[38;5;124m'\u001b[39m\u001b[38;5;124mGENE\u001b[39m\u001b[38;5;124m'\u001b[39m])\n",
      "\u001b[0;31mNameError\u001b[0m: name 'seed_dict' is not defined"
     ]
    }
   ],
   "source": [
    "#dictionary of human control traits\n",
    "ctrl_dict={}\n",
    "ctrl_traits=['facial_hair', 'age_smkinit', 'antisoc', 'friend_sat', 'hr', 'infant_bw', 'LDL', 'maternal_smok', 'townsend', 'age_menarche', 'neurot','addict-rf']\n",
    "for t in ctrl_traits:\n",
    "    ctrl_dict[t]=pd.read_csv('gwas_ctrl_hm/magma/seed_genes/'+t+'_annot.tsv',sep='\\t')\n",
    "for t in ctrl_traits:\n",
    "    seed_dict[t+'_FDR']=(set(ctrl_dict[t][ctrl_dict[t]['Q']<0.05]['GENE']))\n",
    "    seed_dict[t+'_bonf']=(set(ctrl_dict[t][ctrl_dict[t]['P']<0.05/len(ctrl_dict[t])]['GENE']))\n",
    "    seed_dict[t+'_top500']=set(ctrl_dict[t][(ctrl_dict[t]['GENE'].isin(all_nodes))].nsmallest(500,'P')['GENE'])"
   ]
  },
  {
   "cell_type": "code",
   "execution_count": null,
   "id": "d68382ef-b8b2-43b7-a8dc-5631c254bc35",
   "metadata": {},
   "outputs": [],
   "source": [
    "NPS_dict,NPS_dict_series=import_NPS_scores(seed_dict,UUIDs)"
   ]
  },
  {
   "cell_type": "code",
   "execution_count": null,
   "id": "5b3536aa-d16c-400c-a8ac-9bfc37774112",
   "metadata": {},
   "outputs": [],
   "source": [
    "# old version"
   ]
  },
  {
   "cell_type": "code",
   "execution_count": null,
   "id": "4c5d0e2e-7c9a-4d01-a2d6-48ccf9e3aa1d",
   "metadata": {},
   "outputs": [],
   "source": [
    "#use for GWAS- actual traits of interest\n",
    "mag_dir='magma/seed_genes/'\n",
    "file_dict={\n",
    "    'loco':mag_dir+'loco_win10_annot.tsv',\n",
    "    'loco_gsem':mag_dir+'loco_gsem_annot.tsv',\n",
    "    'ext_munged':mag_dir+'ext_munged_annot.tsv',\n",
    "    'ext':mag_dir+'ext_orig_annot.tsv',\n",
    "    'ext_st22':mag_dir+'all_tests_ext1_st22_genes.csv',\n",
    "    'loco_mega_fus_naac':'loco_twas_dan/loco_fusion_NACC_seed.tsv',\n",
    "    'ext_fus_naac':'ext_FUSION/ext_fusion_NACC_seed.tsv'\n",
    "}"
   ]
  },
  {
   "cell_type": "code",
   "execution_count": null,
   "id": "6cdee071-73eb-45bb-a092-e8ca16eb4c9b",
   "metadata": {},
   "outputs": [],
   "source": [
    "#dictionary of human control traits\n",
    "ctrl_dict={}\n",
    "ctrl_traits=['facial_hair', 'age_smkinit', 'antisoc', 'friend_sat', 'hr', 'infant_bw', 'LDL', 'maternal_smok', 'townsend', 'age_menarche', 'neurot','addict-rf']\n",
    "for t in ctrl_traits:\n",
    "    ctrl_dict[t]=pd.read_csv('gwas_ctrl_hm/magma/seed_genes/'+t+'_annot.tsv',sep='\\t')"
   ]
  },
  {
   "cell_type": "code",
   "execution_count": null,
   "id": "75db8874-dfb9-4508-a9e9-597c802af13c",
   "metadata": {},
   "outputs": [],
   "source": [
    "seed_dict={}"
   ]
  },
  {
   "cell_type": "code",
   "execution_count": null,
   "id": "d3a288b1-d847-4adb-8120-5a18019b8ceb",
   "metadata": {},
   "outputs": [],
   "source": [
    "#locomotor mega analysis\n",
    "loco=pd.read_csv(file_dict['loco'],sep='\\t')\n",
    "loco_bonf_cut=2.6389402016150313e-06 #calculated in define_seed_genes_orthologs- from raw magma results before adding in ortholog info\n",
    "seed_dict['loco_FDR']=(set(loco[loco['Q']<0.05]['HM_ORTHO']))\n",
    "seed_dict['loco_bonf']=(set(loco[loco['P']<loco_bonf_cut]['HM_ORTHO']))"
   ]
  },
  {
   "cell_type": "code",
   "execution_count": null,
   "id": "3d227db7-c8f5-4d0c-81ac-997727a3ad7e",
   "metadata": {},
   "outputs": [],
   "source": [
    "#locomotor- gsem common factor\n",
    "loco_gsem=pd.read_csv(file_dict['loco_gsem'],sep='\\t')\n",
    "loco_gsem_bonf_cut=2.650129856362962e-06 #calculated in define_seed_genes_orthologs- from raw magma results before adding in ortholog info\n",
    "seed_dict['loco_gsem_FDR']=(set(loco_gsem[loco_gsem['Q']<0.05]['HM_ORTHO']))\n",
    "seed_dict['loco_gsem_bonf']=(set(loco_gsem[loco_gsem['P']<loco_gsem_bonf_cut]['HM_ORTHO']))"
   ]
  },
  {
   "cell_type": "code",
   "execution_count": null,
   "id": "ea76c7a1-d189-419d-bff4-e0a77e63fc11",
   "metadata": {},
   "outputs": [],
   "source": [
    "#locomotor- mega FUSION\n",
    "loco_fus=pd.read_csv(file_dict['loco_mega_fus_naac'],sep='\\t')\n",
    "loco_fus_bonf_cut=9.338812103100487e-06 #calculated in define_seed_genes_orthologs- from raw magma results before adding in ortholog info\n",
    "seed_dict['loco_mega_fus_naac_FDR']=(set(loco_fus[loco_fus['Q']<0.05]['human_ortholog']))\n",
    "seed_dict['loco_mega_fus_naac_bonf']=(set(loco_fus[loco_fus['TWAS.P']<loco_fus_bonf_cut]['human_ortholog']))"
   ]
  },
  {
   "cell_type": "code",
   "execution_count": null,
   "id": "1339067b-33df-4c41-a839-67be8eab967a",
   "metadata": {},
   "outputs": [],
   "source": [
    "#externalizing- FUSION\n",
    "ext=pd.read_csv(file_dict['ext_fus_naac'],sep='\\t')\n",
    "ext_bonf_cut=0.05/len(ext) # no ortholog adding, so can calculate from this table\n",
    "seed_dict['ext_fus_naac_FDR']=(set(ext[ext['Q']<0.05]['ID']))\n",
    "seed_dict['ext_fus_naac_bonf']=(set(ext[ext['TWAS.P']<ext_bonf_cut]['ID']))\n",
    "seed_dict['ext_fus_naac_top500']=set(ext[(ext['ID'].isin(all_nodes))].nsmallest(500,'TWAS.P')['ID'])"
   ]
  },
  {
   "cell_type": "code",
   "execution_count": null,
   "id": "5c4ea0bc-e5cf-4099-9e91-067ef20b2cf3",
   "metadata": {},
   "outputs": [],
   "source": [
    "ext=pd.read_csv(file_dict['ext'],sep='\\t')\n",
    "ext_bonf_cut=0.05/len(ext) # no ortholog adding, so can calculate from this table\n",
    "seed_dict['ext_FDR']=(set(ext[ext['Q']<0.05]['GENE']))\n",
    "seed_dict['ext_bonf']=(set(ext[ext['P']<ext_bonf_cut]['GENE']))\n",
    "seed_dict['ext_top500']=set(ext[(ext['GENE'].isin(all_nodes))].nsmallest(500,'P')['GENE'])\n",
    "#the genes from ext1.0 supplemental table 22\n",
    "ext_st22=pd.read_csv(file_dict['ext_st22'],sep='\\t')\n",
    "seed_dict['ext_st22']=(set(ext_st22['GENE NAME']))"
   ]
  },
  {
   "cell_type": "code",
   "execution_count": null,
   "id": "2fc1a831-2301-4e96-b88e-6681e18bc341",
   "metadata": {},
   "outputs": [],
   "source": [
    "for t in ctrl_traits:\n",
    "    seed_dict[t+'_FDR']=(set(ctrl_dict[t][ctrl_dict[t]['Q']<0.05]['GENE']))\n",
    "    seed_dict[t+'_bonf']=(set(ctrl_dict[t][ctrl_dict[t]['P']<0.05/len(ctrl_dict[t])]['GENE']))\n",
    "    seed_dict[t+'_top500']=set(ctrl_dict[t][(ctrl_dict[t]['GENE'].isin(all_nodes))].nsmallest(500,'P')['GENE'])"
   ]
  },
  {
   "cell_type": "code",
   "execution_count": null,
   "id": "ccdaf489-ae86-4cb5-a722-e14572c338b0",
   "metadata": {},
   "outputs": [],
   "source": [
    "max(ext[ext.P<1.556900e-08].P)"
   ]
  },
  {
   "cell_type": "code",
   "execution_count": null,
   "id": "0a67b84a-e632-451f-81fa-b8efcbc0a906",
   "metadata": {
    "scrolled": true
   },
   "outputs": [],
   "source": [
    "seed_dict.keys()"
   ]
  },
  {
   "cell_type": "code",
   "execution_count": null,
   "id": "aef922db-b6ef-40db-90ac-b28fcbe16a61",
   "metadata": {},
   "outputs": [],
   "source": [
    "overwrite=False"
   ]
  },
  {
   "cell_type": "code",
   "execution_count": null,
   "id": "0d6e200f-74a9-41e5-ae83-ca25c4910104",
   "metadata": {},
   "outputs": [],
   "source": [
    "seed_dict.keys()"
   ]
  },
  {
   "cell_type": "markdown",
   "id": "24c1c445-255f-460d-a806-11ae02416f1d",
   "metadata": {},
   "source": [
    "# run straight propagation- no sampling"
   ]
  },
  {
   "cell_type": "code",
   "execution_count": null,
   "id": "e51ed1bd-8fd0-41e9-93b3-0e6d00e02de8",
   "metadata": {},
   "outputs": [],
   "source": [
    "overwrite=False"
   ]
  },
  {
   "cell_type": "code",
   "execution_count": null,
   "id": "69c84427-6eaa-4722-bf63-2741304ec90b",
   "metadata": {
    "scrolled": true
   },
   "outputs": [],
   "source": [
    "#loop for only addiction traits genes\n",
    "#ls=[i for i in seed_dict.keys() if 'addict' in i]\n",
    "ls=seed_dict.keys()\n",
    "for k in ls:  \n",
    "    seed_genes = list(seed_dict[k].intersection(graph.nodes()))\n",
    "    \n",
    "    NPSc, Fnew_score, Fnew_rand_score = netprop_zscore.calculate_heat_zscores(\n",
    "        w_double_prime,  \n",
    "        list(graph.nodes()),\n",
    "        dict(graph.degree), \n",
    "        seed_genes, num_reps=1000,\n",
    "        minimum_bin_size=100,\n",
    "        random_seed=random_seed)\n",
    "    print(NPSc.head())\n",
    "    if save_file:\n",
    "        file_path='network_scores/'+k+'_'+interactome_name+'_zscore.tsv'\n",
    "        print(file_path)\n",
    "        if ((os.path.exists(file_path))&(overwrite==False)):\n",
    "            print('File already exists. If you would like to overwrite this file, set overwrite=True, and rerun')\n",
    "        else:\n",
    "            NPSc.to_csv(file_path,sep='\\t',header=False)"
   ]
  },
  {
   "cell_type": "code",
   "execution_count": null,
   "id": "efcc7a90-baba-4c20-8a81-2c94b9e7596d",
   "metadata": {
    "scrolled": true
   },
   "outputs": [],
   "source": [
    "#loop for all seed genes\n",
    "for k in seed_dict.keys():  \n",
    "    seed_genes = list(seed_dict[k].intersection(graph.nodes()))\n",
    "    \n",
    "    NPSc, Fnew_score, Fnew_rand_score = netprop_zscore.calculate_heat_zscores(\n",
    "        w_double_prime,  \n",
    "        list(graph.nodes()),\n",
    "        dict(graph.degree), \n",
    "        seed_genes, num_reps=1000,\n",
    "        minimum_bin_size=100,\n",
    "        random_seed=random_seed)\n",
    "    print(NPSc.head())\n",
    "    if save_file:\n",
    "        file_path='network_scores/'+k+'_'+interactome_name+'_zscore.tsv'\n",
    "        print(file_path)\n",
    "        if ((overwrite==False)&(os.path.exists(file_path))):\n",
    "            print('File already exists. If you would like to overwrite this file, set overwrite=True, and rerun')\n",
    "        else:\n",
    "            NPSc.to_csv(file_path,sep='\\t',header=False)"
   ]
  },
  {
   "cell_type": "markdown",
   "id": "9f42ea1d-3e5a-4e81-8077-e7aed2207dca",
   "metadata": {},
   "source": [
    "# run for an individual seed gene set"
   ]
  },
  {
   "cell_type": "code",
   "execution_count": null,
   "id": "48dab8f5-4378-4882-a8d2-c721cd4b3fd3",
   "metadata": {},
   "outputs": [],
   "source": [
    "seed_dict.keys()"
   ]
  },
  {
   "cell_type": "code",
   "execution_count": null,
   "id": "d9770a18-5672-46d5-abd8-c71991e6f2cd",
   "metadata": {},
   "outputs": [],
   "source": [
    "ctrl_dict.keys()"
   ]
  },
  {
   "cell_type": "code",
   "execution_count": null,
   "id": "c917bd5a-e979-4b43-a063-fd7d81af2ae2",
   "metadata": {},
   "outputs": [],
   "source": [
    "overwrite=False"
   ]
  },
  {
   "cell_type": "code",
   "execution_count": null,
   "id": "bc61c68a-994f-4cff-8e71-48661bd3ea8c",
   "metadata": {},
   "outputs": [],
   "source": [
    "k='loco_gsem_FDR'\n",
    "print(len(seed_dict[k]))\n",
    "seed_genes = list(seed_dict[k].intersection(graph.nodes()))\n",
    "\n",
    "NPSc, Fnew_score, Fnew_rand_score = netprop_zscore.calculate_heat_zscores(\n",
    "    w_double_prime,  \n",
    "    list(graph.nodes()),\n",
    "    dict(graph.degree), \n",
    "    seed_genes, num_reps=1000,\n",
    "    minimum_bin_size=100,\n",
    "    random_seed=random_seed)\n",
    "print(NPSc.head())\n",
    "if save_file:\n",
    "    file_path='network_scores/'+k+'_'+interactome_name+'_zscore.tsv'\n",
    "    print(file_path)\n",
    "    if ((overwrite==False)&(os.path.exists(file_path))):\n",
    "        print('File already exists. If you would like to overwrite this file, set overwrite=True, and rerun')\n",
    "    else:\n",
    "        NPSc.to_csv(file_path,sep='\\t',header=False)"
   ]
  }
 ],
 "metadata": {
  "kernelspec": {
   "display_name": "Python [conda env:env-std-py38]",
   "language": "python",
   "name": "conda-env-env-std-py38-py"
  },
  "language_info": {
   "codemirror_mode": {
    "name": "ipython",
    "version": 3
   },
   "file_extension": ".py",
   "mimetype": "text/x-python",
   "name": "python",
   "nbconvert_exporter": "python",
   "pygments_lexer": "ipython3",
   "version": "3.8.13"
  }
 },
 "nbformat": 4,
 "nbformat_minor": 5
}
