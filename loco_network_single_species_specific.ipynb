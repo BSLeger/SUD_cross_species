{
 "cells": [
  {
   "cell_type": "markdown",
   "id": "72712048-273e-4a08-a4e4-7a05d94ea9ca",
   "metadata": {},
   "source": [
    "purpose: identify rat and human only networks and compare to sarah's combined approach"
   ]
  },
  {
   "cell_type": "markdown",
   "id": "d3108de3-5737-410b-9f4b-16e0a66dc849",
   "metadata": {},
   "source": [
    "# set-up"
   ]
  },
  {
   "cell_type": "markdown",
   "id": "2cf5d8cf-c5f6-46c2-82ad-a144802994c6",
   "metadata": {},
   "source": [
    "Note: functions are at bottom of notebook- run first"
   ]
  },
  {
   "cell_type": "code",
   "execution_count": 1,
   "id": "437f63b3-ac6f-4041-adab-fbace899d08d",
   "metadata": {},
   "outputs": [],
   "source": [
    "import os\n",
    "import pandas as pd\n",
    "import ndex2\n",
    "import networkx as nx\n",
    "from netcoloc import netprop_zscore\n",
    "from netcoloc import netprop\n",
    "from netcoloc import network_colocalization\n",
    "import sys\n",
    "import random"
   ]
  },
  {
   "cell_type": "code",
   "execution_count": 2,
   "id": "c16e3d31-d171-4ba6-b8a0-a0c524e100e3",
   "metadata": {},
   "outputs": [],
   "source": [
    "os.chdir('/tscc/projects/ps-palmer/brittany/rare_common_alcohol/rare_common_alcohol_comparison/notebooks/')\n",
    "from rca_functions import *"
   ]
  },
  {
   "cell_type": "code",
   "execution_count": 3,
   "id": "28044212-ea41-48ca-913e-e39b06975b9d",
   "metadata": {},
   "outputs": [],
   "source": [
    "os.chdir('/tscc/projects/ps-palmer/brittany/SUD_cross_species/')"
   ]
  },
  {
   "cell_type": "code",
   "execution_count": 4,
   "id": "43c311ea-05f5-463f-94c0-3d47eb142e4b",
   "metadata": {},
   "outputs": [],
   "source": [
    "random_seed=random.seed(211)"
   ]
  },
  {
   "cell_type": "code",
   "execution_count": 6,
   "id": "a9a11659-d95c-4cfa-898a-f812e44a3b03",
   "metadata": {},
   "outputs": [],
   "source": [
    "save_fig=False"
   ]
  },
  {
   "cell_type": "code",
   "execution_count": 5,
   "id": "f7eec1f1-6893-4f9d-9122-0631b4d1c070",
   "metadata": {},
   "outputs": [
    {
     "name": "stdout",
     "output_type": "stream",
     "text": [
      "NDEx credentials imported from meta file\n"
     ]
    }
   ],
   "source": [
    "#create a file called environ_ndex_meta.py where you save variables 'ndex_user' and 'ndex_password'\n",
    "#otherwise will prompt you to define those within the notebooks\n",
    "if os.path.isfile('../environ_ndex_meta.py'):\n",
    "    print ('NDEx credentials imported from meta file')\n",
    "    sys.path.insert(1, '../')\n",
    "    from environ_ndex_meta import *\n",
    "    sys.path.pop(1)\n",
    "else:\n",
    "    # Prompt the user for a username\n",
    "    ndex_user = input(\"Enter your NDEx username: \")\n",
    "    # Prompt the user for a password\n",
    "    ndex_password = input(\"Enter your NDEx password: \")"
   ]
  },
  {
   "cell_type": "code",
   "execution_count": 7,
   "id": "03396888-358d-4547-85bb-bfd05266d265",
   "metadata": {},
   "outputs": [],
   "source": [
    "IBM=['#648FFF','#785EF0','#DC267F','#FE6100','#FFB000']\n",
    "colour_dict={\n",
    "    'ext':IBM[1],\n",
    "    'ext_alt':IBM[0],\n",
    "    'ext_munged':IBM[1],\n",
    "    'ext_munged_alt':IBM[0],\n",
    "    'loco':IBM[4],\n",
    "    'loco_alt':IBM[3],\n",
    "    'shared':IBM[2],\n",
    "    'other':'#CCCCCC',\n",
    "    'shared_alt':'#780534'\n",
    "}"
   ]
  },
  {
   "cell_type": "code",
   "execution_count": 9,
   "id": "3264a733-e214-4ae3-82a5-e15ccbfe4a11",
   "metadata": {},
   "outputs": [],
   "source": [
    "UUIDs={\n",
    "    'PCNet2.0':'d73d6357-e87b-11ee-9621-005056ae23aa',\n",
    "    'PCNet2.1':'e9c574f4-e87a-11ee-9621-005056ae23aa',\n",
    "    'PCNet2.2':'8b4b54fa-e87d-11ee-9621-005056ae23aa'\n",
    "}"
   ]
  },
  {
   "cell_type": "markdown",
   "id": "a216c53a-7660-4f3f-b4b4-3d06000f2020",
   "metadata": {},
   "source": [
    "# functions"
   ]
  },
  {
   "cell_type": "code",
   "execution_count": 10,
   "id": "211462b0-937d-4a06-b719-cd070190a4c5",
   "metadata": {},
   "outputs": [],
   "source": [
    "def import_seedgenes(path,pcol='P',gene_col='GENE NAME',delim='comma', cutoff=None):\n",
    "    if delim=='comma':\n",
    "        df=pd.read_csv(path,sep=',')\n",
    "    else:\n",
    "        df=pd.read_csv(path,sep='\\t')\n",
    "    if pcol==None:\n",
    "        print('pvalue column not specified- all genes will be used')\n",
    "        cutoff=None\n",
    "    if cutoff=='bonferroni':\n",
    "        df=df[df[pcol]<0.05/len(df)]\n",
    "    elif cutoff=='FDR_05':\n",
    "        df=df[df[pcol]<0.05]\n",
    "    else:\n",
    "        print('cutoff not defined/custom- using all genes ')\n",
    "        df=df\n",
    "    print(df.head())\n",
    "    return(df)"
   ]
  },
  {
   "cell_type": "code",
   "execution_count": 11,
   "id": "e3ecb683-2e4e-4e32-a238-9a6dd0a71b21",
   "metadata": {},
   "outputs": [],
   "source": [
    "def import_interactome(interactome_name=None, UUIDs=UUIDs,ndex_user=None, ndex_password=None,UUID=None):\n",
    "    \"\"\"\n",
    "    Imports a gene interactome from the NDEx database and returns it as a NetworkX graph object. Optionally,\n",
    "    the function allows for importing using a unique identifier (UUID) or by an interactome name.\n",
    "\n",
    "    The function checks if the interactome name provided corresponds to a predefined dictionary of UUIDs. If it does, it\n",
    "    retrieves the network using the specified credentials. If an interactome name is not provided but a UUID is,\n",
    "    it retrieves the network using the provided UUID. The nodes of pcnet_v14 are relabelled by their gene name rather than ID number.\n",
    "\n",
    "    Parameters:\n",
    "    - interactome_name (str, optional): The name of the interactome as defined in the UUIDs dictionary. If not provided\n",
    "      but a UUID is, the interactome associated with the UUID is imported instead.\n",
    "    - ndex_user (str, optional): The NDEx account username for accessing private networks.\n",
    "    - ndex_password (str, optional): The NDEx account password for accessing private networks.\n",
    "    - UUID (str, optional): A specific UUID to directly download an interactome from NDEx if the interactome name is not used.\n",
    "\n",
    "    Returns:\n",
    "    networkx.Graph: A graph object representing the interactome. Nodes and edges represent genes and their interactions, respectively.\n",
    "\n",
    "    Notes:\n",
    "    - The function uses the NDEx2 Python client and requires Internet access to NDEx's servers.\n",
    "    - Depending on the access rights of the NDEx account, private or public interactomes can be retrieved.\n",
    "    - The function prints the number of nodes and edges of the imported graph for diagnostic purposes.\n",
    "\n",
    "    Raises:\n",
    "    - ValueError: If neither an interactome name nor a UUID is provided.\n",
    "    \"\"\"    \n",
    "    interactome_uuid=UUIDs[interactome_name]\n",
    "    print(interactome_name)\n",
    "    ndex_server='public.ndexbio.org'\n",
    "    #import network based on provided interactome key\n",
    "    if (interactome_name in UUIDs.keys()):\n",
    "        graph = ndex2.create_nice_cx_from_server(\n",
    "                    ndex_server, \n",
    "                    username=ndex_user, \n",
    "                    password=ndex_password, \n",
    "                    uuid=interactome_uuid\n",
    "                ).to_networkx()\n",
    "        if (interactome_name=='pcnet_v14'):\n",
    "            graph=nx.relabel_nodes(graph, nx.get_node_attributes(graph, 'HGNC Symbol'))\n",
    "        # print out interactome num nodes and edges for diagnostic purposes\n",
    "        print('number of nodes:')\n",
    "        print(len(graph.nodes))\n",
    "        print('\\nnumber of edges:')\n",
    "        print(len(graph.edges))\n",
    "        return(graph)\n",
    "    elif(interactome_name==None & UUID!=None):\n",
    "        print('using novel UUID. For UUIDs used in this study, see UUID_dict')\n",
    "        graph = ndex2.create_nice_cx_from_server(\n",
    "            ndex_server, \n",
    "            username=ndex_user, \n",
    "            password=ndex_password, \n",
    "            uuid=UUID\n",
    "        ).to_networkx()\n",
    "        # print out interactome num nodes and edges for diagnostic purposes\n",
    "        print('number of nodes:')\n",
    "        print(len(graph.nodes))\n",
    "        print('\\nnumber of edges:')\n",
    "        print(len(graph.edges))\n",
    "        return(graph)\n",
    "    else:\n",
    "        print('UUID/interactome name not provided- please provide either to import interactome.')"
   ]
  },
  {
   "cell_type": "code",
   "execution_count": 15,
   "id": "e7d77deb-b604-491a-bf21-c6de95c8c7e0",
   "metadata": {},
   "outputs": [],
   "source": [
    "def plt_scatter_NPS(tblr, tblc, tblr_label, tblc_label, tblr_seed, tblc_seed,\n",
    "                    colour_r=colour_dict['loco'], colour_c=colour_dict['ext'], colour_shared=colour_dict['shared'],colour_nonseed=colour_dict['shared'],\n",
    "                    tblr_lim=1.5, tblc_lim=1.5, comb_lim=3, savefig=False, filename='scatter_NPS'):\n",
    "    \"\"\"\n",
    "    Visualizes the NPScommon and NPSrare scores as a scatter plot with and without seed genes\n",
    "\n",
    "    The function generates four plots in a single figure: two histograms of NPScommon and NPS rare with and without seed genes,\n",
    "    a combined histogram of NPScommon-rare, and a scatter plot of combined scores with network threshold lines,\n",
    "    where NPSrare is plotted on the x-axis and NPScommon is plotted on the y-axis.\n",
    "\n",
    "    Parameters:\n",
    "    - tblr (DataFrame): DataFrame containing NPSrare.\n",
    "    - tblc (DataFrame): DataFrame containing NPScommon.\n",
    "    - tblr_label (str): Label for rare trait, used in the Venn diagram.\n",
    "    - tblc_label (str): Label for common trait, used in the Venn diagram.\n",
    "    - tblr_seed (list of str): A list of rare seed genes.\n",
    "    - tblc_seed (list of str): A list of common seed genes.\n",
    "    - tblr_lim (float, optional): The NPSrare cutoff. Defaults to 1.5.\n",
    "    - tblc_lim (float, optional): The NPScommon cutoff. Defaults to 1.5.\n",
    "    - comb_lim (float, optional): The NPScommon-rare. Defaults to 3.\n",
    "    - savefig (bool, optional): If True, saves the plot as an SVG file in a predefined directory. Defaults to False.\n",
    "\n",
    "    Returns:\n",
    "    None\n",
    "    \"\"\"\n",
    "    fig, [ax1, ax2] = plt.subplots(nrows=1, ncols=2, figsize=(12.5, 5))\n",
    "\n",
    "    # Combine zscore tables\n",
    "    tbl_z = pd.concat([tblr, tblc], axis=1)\n",
    "    tbl_z.columns = ('z1', 'z2')\n",
    "    tbl_z['z_comb'] = tbl_z['z1'] * tbl_z['z2']\n",
    "\n",
    "    # Separate in-network and out-network data\n",
    "    inNetwork = tbl_z[(tbl_z['z1'] > tblr_lim) & (tbl_z['z2'] > tblc_lim) & (tbl_z['z_comb'] > comb_lim)]\n",
    "    outNetwork = tbl_z[(tbl_z['z1'] <= tblr_lim) | (tbl_z['z2'] <= tblc_lim) | (tbl_z['z_comb'] <= comb_lim)]\n",
    "    seedInNetwork = inNetwork[(~inNetwork.index.isin(tblr_seed)) & (~inNetwork.index.isin(tblc_seed))]\n",
    "\n",
    "    # Plot with seed genes\n",
    "    ax1.scatter(x=outNetwork['z1'], y=outNetwork['z2'], s=1, color=color_dict['other'],label='non-network genes')\n",
    "    ax1.scatter(x=inNetwork['z1'], y=inNetwork['z2'], s=1, color=colour_nonseed,label='network seed genes')\n",
    "    ax1.scatter(x=seedInNetwork['z1'], y=seedInNetwork['z2'], s=1, color=colour_shared,label='network genes')\n",
    "\n",
    "\n",
    "    # Set labels and lines for ax1\n",
    "    ax1.set_xlabel(tblr_label)\n",
    "    ax1.set_ylabel(tblc_label)\n",
    "    ax1.axvline(x=tblr_lim, color=colour_r, linestyle='dashed', linewidth=1,label='NPSr')\n",
    "    ax1.axhline(y=tblc_lim, color=colour_c, linestyle='dashed', linewidth=1,label='NPSh')\n",
    "    x_points = [(i + 0.0001) / 10 for i in range(-50, 250)]\n",
    "    combo_line = [comb_lim / x for x in x_points if x > comb_lim / 50]\n",
    "    ax1.plot([x for x in x_points if x > comb_lim / 40], combo_line, color=colour_shared, linestyle='dashed', linewidth=1,label='NPSrh')\n",
    "    ax1.axvline(x=0, color='black', linestyle='solid', linewidth=1)\n",
    "    ax1.axhline(y=0, color='black', linestyle='solid', linewidth=1)\n",
    "    ax1.legend(loc='center right', bbox_to_anchor=(2.75, 0.5))\n",
    "\n",
    "    \n",
    "    # Filter out seed genes\n",
    "    tbl_z = tbl_z[(~tbl_z.index.isin(tblr_seed)) & (~tbl_z.index.isin(tblc_seed))]\n",
    "    inNetwork = tbl_z[(tbl_z['z1'] > tblr_lim) & (tbl_z['z2'] > tblc_lim) & (tbl_z['z_comb'] > comb_lim)]\n",
    "    outNetwork = tbl_z[(tbl_z['z1'] <= tblr_lim) | (tbl_z['z2'] <= tblc_lim) | (tbl_z['z_comb'] <= comb_lim)]\n",
    "\n",
    "    # Plot without seed genes\n",
    "    ax2.scatter(x=outNetwork['z1'], y=outNetwork['z2'], s=1, color=color_dict['other'])\n",
    "    ax2.scatter(x=inNetwork['z1'], y=inNetwork['z2'], s=1, color=colour_shared)\n",
    "\n",
    "    # Set labels and lines for ax2\n",
    "    ax2.set_xlabel(tblr_label)\n",
    "    ax2.set_ylabel(tblc_label)\n",
    "    ax2.axvline(x=tblr_lim, color=colour_r, linestyle='dashed', linewidth=1)\n",
    "    ax2.axhline(y=tblc_lim, color=colour_c, linestyle='dashed', linewidth=1)\n",
    "    x_points = [(i + 0.0001) / 10 for i in range(-50, 250)]\n",
    "    combo_line = [comb_lim / x for x in x_points if x > comb_lim / 50]\n",
    "    ax2.plot([x for x in x_points if x > comb_lim / 40], combo_line, color=colour_shared, linestyle='dashed', linewidth=1)\n",
    "    ax2.axvline(x=0, color='black', linestyle='solid', linewidth=1)\n",
    "    ax2.axhline(y=0, color='black', linestyle='solid', linewidth=1)\n",
    "    ax2.set_xlim([min(tbl_z['z1'])-.5, max(tbl_z['z1'])+.5])\n",
    "    ax2.set_ylim([min(tbl_z['z2'])-.5, max(tbl_z['z2'])+.5])\n",
    "\n",
    "    # Save the figure if requested\n",
    "    if savefig:\n",
    "        plt.savefig('figures/' + filename + '.svg', bbox_inches='tight')\n",
    "\n",
    "    # Display the plot\n",
    "    plt.show()\n"
   ]
  },
  {
   "cell_type": "code",
   "execution_count": 106,
   "id": "61e9a6ae-2f1d-46ef-9aea-18f95ef8c332",
   "metadata": {
    "ExecuteTime": {
     "end_time": "2023-02-15T19:05:03.520509Z",
     "start_time": "2023-02-15T19:05:03.515553Z"
    },
    "code_folding": []
   },
   "outputs": [],
   "source": [
    "#straight from BMI network notebook 3\n",
    "\n",
    "def sub_graph(data, rat_th_dict, human_th_dict, conserved_th_dict):\n",
    "    \"\"\"Wrapper function to assign each gene in data to a subnetwork based on the thresholds defined\n",
    "\n",
    "    Args:\n",
    "        data (pandas.DataFrame): DataFrame containing the genes and their NPS scores\n",
    "        rat_th_dict (dict): A dictionary specifying the three thresholds to define the rat-Specific network\n",
    "        human_th_dict (dict): A dictionary specifying the three thresholds to define the human-Specific network\n",
    "        conserved_th_dict (dict): A dictionary specifying the three thresholds to define the conserved network\n",
    "\n",
    "    Returns:\n",
    "        pandas.DataFrame: The input data set with a new/updated subgraph column for all subnetworks\n",
    "    \"\"\"\n",
    "    if \"subgraph\" not in data.columns:\n",
    "        data = data.assign(subgraph=\"PCNet\")\n",
    "    else:\n",
    "        data[\"subgraph\"] = \"PCNet\"\n",
    "    data = assign_sub_graph(data, th_dict = conserved_th_dict, name=\"conserved\")\n",
    "    data = assign_sub_graph(data, th_dict = rat_th_dict, name=\"rat\")\n",
    "    data = assign_sub_graph(data, th_dict = human_th_dict, name=\"human\")\n",
    "    return data\n",
    "\n",
    "def assign_sub_graph(data, rat_th=None, human_th=None, combo_th=None, th_dict=None, name=\"conserved\"):\n",
    "    \"\"\"Assigns sub_graph annotations based on input thresholds\n",
    "\n",
    "    Args:\n",
    "        data (pd.DataFrame): Dataframe containing the NPS scores for all genes\n",
    "        rat_th (dict, optional): If assigning the rat-Specific network, rat-Specific thresholds. Defaults to None.\n",
    "        human_th (dict, optional): If assigning the human-Specific network, human-Specific thresholds. Defaults to None.\n",
    "        combo_th (dict, optional): If assigning the conserved network, conserved thresholds. Defaults to None.\n",
    "        th_dict (dict, optional): Dictionary of all thresholds.  Defaults to None.\n",
    "        name (str, optional): Name of the subgraph being assigned. Defaults to \"conserved\".\n",
    "\n",
    "    Returns:\n",
    "        pandas.DataFrame: The input data set with a new/updated subgraph column for a single subnetwork\n",
    "    \"\"\"\n",
    "    if th_dict is not None:\n",
    "        rat_th = th_dict[\"rat\"]\n",
    "        combo_th = th_dict[\"combo\"]\n",
    "        human_th = th_dict[\"human\"]\n",
    "    if \"subgraph\" not in data.columns:\n",
    "        data = data.assign(subgraph=\"PCNet\")\n",
    "    if name == \"rat\":\n",
    "        data.loc[((data.NPS_r > rat_th) & (data.NPS_h < human_th) & (data.NPS_r * (data.NPS_h - 1) < combo_th)), \n",
    "                (\"subgraph\")] = \"Rat-Specific\"\n",
    "    elif name == \"human\":\n",
    "        data.loc[((data.NPS_r < rat_th) & (data.NPS_h > human_th) & ((data.NPS_r - 1)*(data.NPS_h) < combo_th)), \n",
    "                (\"subgraph\")] = \"Human-Specific\"\n",
    "    else:\n",
    "        data.loc[((data.NPS_r > rat_th) & (data.NPS_h > human_th) & (data.NPS_hr > combo_th)), (\"subgraph\")] = \"Conserved\"\n",
    "    return data"
   ]
  },
  {
   "cell_type": "markdown",
   "id": "672a40ad-6c4c-4ced-ae03-76cc85504fbf",
   "metadata": {},
   "source": [
    "# Interactome Set-up"
   ]
  },
  {
   "cell_type": "markdown",
   "id": "f295ef67-d5ad-42ae-9f84-162cbb7c9f11",
   "metadata": {},
   "source": [
    "pcnet2- versions \n",
    "from wright et al. 2024 preprint:\n",
    "PCNet 2.0= best-performing ranked composite (top 15 interactomes, 3.85M interactions)\n",
    "PCNet 2.1= top 8 interactomes, 1.75M interactions\n",
    "PCNet 2.2= top 10 co-citation-free interactomes, 3.32M interactions "
   ]
  },
  {
   "cell_type": "code",
   "execution_count": 12,
   "id": "6f4e5cbc-c23f-48ee-b32a-1d92d1e9f039",
   "metadata": {},
   "outputs": [],
   "source": [
    "interactome_name='PCNet2.0'"
   ]
  },
  {
   "cell_type": "code",
   "execution_count": null,
   "id": "a80cdec2-c012-4458-a4d7-1dfe405c66bc",
   "metadata": {},
   "outputs": [
    {
     "name": "stdout",
     "output_type": "stream",
     "text": [
      "PCNet2.0\n"
     ]
    }
   ],
   "source": [
    "graph=import_interactome('PCNet2.0')"
   ]
  },
  {
   "cell_type": "code",
   "execution_count": null,
   "id": "85753f92-12f5-4ba8-8270-5c5d2c90ee58",
   "metadata": {},
   "outputs": [],
   "source": [
    "all_nodes=list(graph.nodes())"
   ]
  },
  {
   "cell_type": "code",
   "execution_count": null,
   "id": "245c67ed-15bc-469b-9434-28755a6708b6",
   "metadata": {},
   "outputs": [],
   "source": [
    "# pre calculate the matricies used for network propagation\n",
    "print('\\ncalculating w_prime')\n",
    "w_prime = netprop.get_normalized_adjacency_matrix(graph, conserve_heat=True)\n",
    "\n",
    "print('\\ncalculating w_double_prime')\n",
    "w_double_prime = netprop.get_individual_heats_matrix(w_prime, .5)"
   ]
  },
  {
   "cell_type": "markdown",
   "id": "a48bd722-8b8c-4eb2-841e-26799f9b5405",
   "metadata": {},
   "source": [
    "# import NPS scores and seed genes"
   ]
  },
  {
   "cell_type": "code",
   "execution_count": null,
   "id": "fb17ed54-1598-4530-9897-e7062d7381b7",
   "metadata": {},
   "outputs": [],
   "source": [
    "mag_dir='magma/seed_genes/'\n",
    "file_dict={\n",
    "    'loco':mag_dir+'loco_win10_annot.tsv',\n",
    "    'ext_munged':mag_dir+'ext_munged_annot.tsv',\n",
    "    'ext':mag_dir+'ext_orig_annot.tsv'\n",
    "}"
   ]
  },
  {
   "cell_type": "code",
   "execution_count": null,
   "id": "0d648371-ab74-4cf4-b4b6-f8da3260f7a3",
   "metadata": {},
   "outputs": [],
   "source": [
    "seed_dict={}"
   ]
  },
  {
   "cell_type": "code",
   "execution_count": null,
   "id": "da4b21d5-30d8-4f73-a6b3-44da10c1b3ab",
   "metadata": {},
   "outputs": [],
   "source": [
    "loco=pd.read_csv(file_dict['loco'],sep='\\t')\n",
    "loco_bonf_cut=2.6389402016150313e-06 #calculated in define_seed_genes_orthologs- from raw magma results before adding in ortholog info\n",
    "seed_dict['loco_FDR']=(set(loco[loco['Q']<0.05]['HM_ORTHO']))\n",
    "seed_dict['loco_bonf']=(set(loco[loco['P']<loco_bonf_cut]['HM_ORTHO']))"
   ]
  },
  {
   "cell_type": "code",
   "execution_count": 192,
   "id": "782784f4-4c2b-468b-a485-3f979fa00c1c",
   "metadata": {},
   "outputs": [],
   "source": [
    "ext=pd.read_csv(file_dict['ext'],sep='\\t')\n",
    "ext_bonf_cut=0.05/len(ext) # no ortholog adding, so can calculate from this table\n",
    "seed_dict['ext_munged_FDR']=(set(ext[ext['Q']<0.05]['GENE']))\n",
    "seed_dict['ext_munged_bonf']=(set(ext[ext['P']<ext_bonf_cut]['GENE']))\n",
    "seed_dict['ext_top500']=set(ext[(ext['GENE'].isin(all_nodes))].nsmallest(500,'P')['GENE'])"
   ]
  },
  {
   "cell_type": "code",
   "execution_count": 193,
   "id": "d261951a-78cb-42fb-a6e8-ab75f74cae79",
   "metadata": {},
   "outputs": [],
   "source": [
    "NPS_dict={}\n",
    "for k in seed_dict.keys():\n",
    "    for u in UUIDs.keys():\n",
    "        p=('network_scores/'+k+'_'+u+'_zscore.tsv')\n",
    "        if os.path.isfile(p):\n",
    "            t=pd.read_csv('network_scores/'+k+'_'+u+'_zscore.tsv',header=None, sep='\\t')\n",
    "            t.index=t[0]\n",
    "            t=t.drop(columns=[0])\n",
    "            t=t[1].squeeze()\n",
    "            t = pd.DataFrame({'z':t})\n",
    "            NPS_dict[k+'_'+u]=t"
   ]
  },
  {
   "cell_type": "code",
   "execution_count": 194,
   "id": "0559c1a9-3131-45a6-9ac4-a57fbdf1396c",
   "metadata": {},
   "outputs": [],
   "source": [
    "NPS_dict_series={}\n",
    "for k in seed_dict.keys():\n",
    "    for u in UUIDs.keys():\n",
    "        p=('network_scores/'+k+'_'+u+'_zscore.tsv')\n",
    "        if os.path.isfile(p):\n",
    "            t=pd.read_csv('network_scores/'+k+'_'+u+'_zscore.tsv',header=None, sep='\\t')\n",
    "            t.index=t[0]\n",
    "            t=t.drop(columns=[0])\n",
    "            #t=t[1].squeeze()\n",
    "            #t = pd.DataFrame({'z':t})\n",
    "            NPS_dict_series[k+'_'+u]=t"
   ]
  },
  {
   "cell_type": "markdown",
   "id": "e922d6f8-56cd-459f-b416-8c98fc105e4d",
   "metadata": {},
   "source": [
    "# choose datasets for analysis"
   ]
  },
  {
   "cell_type": "code",
   "execution_count": 197,
   "id": "0955ef35-3847-4c96-a321-b45a833c6161",
   "metadata": {},
   "outputs": [],
   "source": [
    "cut_r= 'FDR'\n",
    "cut_h='top500'\n",
    "trait_r='loco'\n",
    "trait_h='ext'\n",
    "\n",
    "#labels\n",
    "label_r=trait_r+'_'+cut_r\n",
    "label_h=trait_h+'_'+cut_h\n",
    "#seed genes\n",
    "seed_r=seed_dict[label_r]\n",
    "seed_h=seed_dict[label_h]\n",
    "#NPS scores\n",
    "NPS_r=NPS_dict[label_r+'_'+interactome_name]\n",
    "NPS_h=NPS_dict[label_h+'_'+interactome_name]"
   ]
  },
  {
   "cell_type": "code",
   "execution_count": 198,
   "id": "3f480bba-1573-4a77-b004-1c6546bda62a",
   "metadata": {},
   "outputs": [],
   "source": [
    "tbl_z = pd.concat([NPS_r, NPS_h], axis=1)\n",
    "tbl_z.columns = ('NPS_r', 'NPS_h')\n",
    "tbl_z['NPS_hr'] = tbl_z['NPS_r'] * tbl_z['NPS_h']"
   ]
  },
  {
   "cell_type": "code",
   "execution_count": 227,
   "id": "6f71f380-3306-481e-850f-35e9df4bcf1f",
   "metadata": {},
   "outputs": [
    {
     "data": {
      "text/plain": [
       "count    19265.000000\n",
       "mean         0.211768\n",
       "std          2.417599\n",
       "min         -4.206487\n",
       "25%         -0.872553\n",
       "50%         -0.229565\n",
       "75%          0.661548\n",
       "max         33.709372\n",
       "Name: NPS_h, dtype: float64"
      ]
     },
     "execution_count": 227,
     "metadata": {},
     "output_type": "execute_result"
    }
   ],
   "source": [
    "tbl_z['NPS_h'].describe()"
   ]
  },
  {
   "cell_type": "code",
   "execution_count": 200,
   "id": "8a49b01d-ec6f-453f-9042-a8f42cfeaa60",
   "metadata": {},
   "outputs": [
    {
     "data": {
      "text/plain": [
       "count    19265.000000\n",
       "mean         0.191135\n",
       "std          2.371633\n",
       "min         -4.092216\n",
       "25%         -0.808847\n",
       "50%         -0.183289\n",
       "75%          0.701364\n",
       "max         35.347351\n",
       "Name: NPS_r, dtype: float64"
      ]
     },
     "execution_count": 200,
     "metadata": {},
     "output_type": "execute_result"
    }
   ],
   "source": [
    "tbl_z['NPS_r'].describe()"
   ]
  },
  {
   "cell_type": "code",
   "execution_count": 271,
   "id": "b6b47a64-1999-4af7-acf7-e59874898929",
   "metadata": {},
   "outputs": [
    {
     "data": {
      "text/plain": [
       "count    19265.000000\n",
       "mean         0.199240\n",
       "std          7.481759\n",
       "min        -66.865242\n",
       "25%         -0.428888\n",
       "50%          0.044145\n",
       "75%          0.611263\n",
       "max        803.461573\n",
       "Name: NPS_hr, dtype: float64"
      ]
     },
     "execution_count": 271,
     "metadata": {},
     "output_type": "execute_result"
    }
   ],
   "source": [
    "tbl_z['NPS_hr'].describe()"
   ]
  },
  {
   "cell_type": "markdown",
   "id": "d77ec2c4-d766-4a60-a655-1b04aad77f14",
   "metadata": {},
   "source": [
    "# subset table for graphing"
   ]
  },
  {
   "cell_type": "code",
   "execution_count": 202,
   "id": "7cd00521-6539-48bf-b7e8-9e154b873a18",
   "metadata": {},
   "outputs": [],
   "source": [
    "#subset table for just those inside and outside of the colocalized network\n",
    "outNetwork = tbl_z[(tbl_z['NPS_r'] <= 1.5) | (tbl_z['NPS_h'] <= 1.5) | (tbl_z['NPS_hr'] <= 3)]\n",
    "inNetwork = tbl_z[(tbl_z['NPS_r'] > 1.5) & (tbl_z['NPS_h'] > 1.5) & (tbl_z['NPS_hr'] > 3)]\n",
    "seeds_r=tbl_z.filter(items=list(seed_r), axis=0)\n",
    "seeds_h=tbl_z.filter(items=list(seed_h), axis=0)\n",
    "seeds_hr=tbl_z.filter(items=list(seed_r.intersection(seed_h)), axis=0)"
   ]
  },
  {
   "cell_type": "markdown",
   "id": "ed6d2d5e-2298-4ce1-95b8-403654d3e7bc",
   "metadata": {},
   "source": [
    "# define rat-only network"
   ]
  },
  {
   "cell_type": "code",
   "execution_count": 316,
   "id": "a83c0c31-4263-4d58-8665-e3774d5c3be9",
   "metadata": {},
   "outputs": [],
   "source": [
    "#rat_only=outNetwork[(outNetwork['NPS_r'] > 3) & (outNetwork['NPS_h'] < 1.5)]\n",
    "rat_only=tbl_z[(tbl_z['NPS_r'] > 3) & (tbl_z['NPS_h'] < 0) &(tbl_z['NPS_hr']<0) ]"
   ]
  },
  {
   "cell_type": "code",
   "execution_count": 317,
   "id": "f0de5b67-75df-4804-831b-235fd406acc4",
   "metadata": {},
   "outputs": [
    {
     "data": {
      "text/plain": [
       "count    329.000000\n",
       "mean      -0.803009\n",
       "std        0.567458\n",
       "min       -2.999908\n",
       "25%       -1.117580\n",
       "50%       -0.733534\n",
       "75%       -0.369785\n",
       "max       -0.001972\n",
       "Name: NPS_h, dtype: float64"
      ]
     },
     "execution_count": 317,
     "metadata": {},
     "output_type": "execute_result"
    }
   ],
   "source": [
    "rat_only['NPS_h'].describe()"
   ]
  },
  {
   "cell_type": "code",
   "execution_count": 318,
   "id": "bb0d281d-dc09-4771-8389-396ac0f9acb8",
   "metadata": {},
   "outputs": [
    {
     "data": {
      "text/plain": [
       "(array([ 4.,  1.,  6.,  5., 19., 35., 58., 64., 69., 68.]),\n",
       " array([-2.99990833e+00, -2.70011469e+00, -2.40032104e+00, -2.10052740e+00,\n",
       "        -1.80073375e+00, -1.50094011e+00, -1.20114647e+00, -9.01352823e-01,\n",
       "        -6.01559179e-01, -3.01765535e-01, -1.97189045e-03]),\n",
       " <BarContainer object of 10 artists>)"
      ]
     },
     "execution_count": 318,
     "metadata": {},
     "output_type": "execute_result"
    },
    {
     "data": {
      "image/png": "[encoded data removed]",
      "text/plain": [
       "<Figure size 640x480 with 1 Axes>"
      ]
     },
     "metadata": {},
     "output_type": "display_data"
    }
   ],
   "source": [
    "plt.hist(rat_only['NPS_hr'],alpha=0.7, color=colour_dict['shared'])\n",
    "plt.hist(rat_only['NPS_r'],alpha=0.7, color=colour_dict['loco'])\n",
    "plt.hist(rat_only['NPS_h'],alpha=0.7, color=colour_dict['ext'])"
   ]
  },
  {
   "cell_type": "code",
   "execution_count": 326,
   "id": "b556e79b-1654-406f-a850-9c4b2198a1c6",
   "metadata": {},
   "outputs": [
    {
     "name": "stdout",
     "output_type": "stream",
     "text": [
      "number of rat seed genes in human-only network: 0\n"
     ]
    }
   ],
   "source": [
    "print(\"number of rat seed genes in human-only network: \"+str(len(rat_only.filter(items=list(seed_h), axis=0))))"
   ]
  },
  {
   "cell_type": "raw",
   "id": "d2cee968-d425-48f2-a564-1a423655a379",
   "metadata": {},
   "source": [
    "net=network_colocalization.calculate_network_overlap_subgraph(\n",
    "    graph, pd.Series(NPS_r['z']), pd.Series(NPS_h['z']), -3, 1.5, 3)\n",
    "net2=format_network(net, label_r, label_h, seed_r , seed_h, NPS_r['z'], NPS_h['z'])\n",
    "print(net2.nodes())\n",
    "#if save_fig:\n",
    "#    print('exporting network to NDEx')\n",
    "#    export_network(network=net, name=(label_r+'_'+label_h+'_'+interactome_name+'_MAGMA'), user=ndex_user, password=ndex_password)"
   ]
  },
  {
   "cell_type": "markdown",
   "id": "a86e3b3d-f1ce-4e14-aa79-d5e19cf69970",
   "metadata": {},
   "source": [
    "# define human only"
   ]
  },
  {
   "cell_type": "code",
   "execution_count": 331,
   "id": "f339d02b-8ea0-4269-bf42-62eef3501b2c",
   "metadata": {},
   "outputs": [],
   "source": [
    "#hm_only=outNetwork[(outNetwork['NPS_h'] > 3) & (outNetwork['NPS_r'] < 1.5)]\n",
    "hm_only=tbl_z[(tbl_z['NPS_h'] > 3) & (tbl_z['NPS_r'] < 0)&(tbl_z['NPS_hr']<0) ]"
   ]
  },
  {
   "cell_type": "code",
   "execution_count": 330,
   "id": "b31f8937-352e-4b78-b38f-7b293ad2363f",
   "metadata": {},
   "outputs": [
    {
     "data": {
      "text/plain": [
       "count    1113.000000\n",
       "mean       -0.741869\n",
       "std         0.504981\n",
       "min        -3.224132\n",
       "25%        -1.019846\n",
       "50%        -0.662931\n",
       "75%        -0.353088\n",
       "max        -0.001035\n",
       "Name: NPS_r, dtype: float64"
      ]
     },
     "execution_count": 330,
     "metadata": {},
     "output_type": "execute_result"
    }
   ],
   "source": [
    "hm_only['NPS_r'].describe()"
   ]
  },
  {
   "cell_type": "code",
   "execution_count": 323,
   "id": "5e4c5f73-b116-4716-b35f-202314c873e0",
   "metadata": {},
   "outputs": [
    {
     "data": {
      "text/plain": [
       "(array([137.,  80.,  78.,  48.,  25.,  18.,  12.,   6.,   1.,   4.]),\n",
       " array([ 3.00514093,  6.07556405,  9.14598716, 12.21641027, 15.28683338,\n",
       "        18.3572565 , 21.42767961, 24.49810272, 27.56852583, 30.63894894,\n",
       "        33.70937206]),\n",
       " <BarContainer object of 10 artists>)"
      ]
     },
     "execution_count": 323,
     "metadata": {},
     "output_type": "execute_result"
    },
    {
     "data": {
      "image/png": "[encoded data removed]",
      "text/plain": [
       "<Figure size 640x480 with 1 Axes>"
      ]
     },
     "metadata": {},
     "output_type": "display_data"
    }
   ],
   "source": [
    "plt.hist(hm_only['NPS_hr'],alpha=0.7, color=colour_dict['shared'])\n",
    "plt.hist(hm_only['NPS_r'],alpha=0.7, color=colour_dict['loco'])\n",
    "plt.hist(hm_only['NPS_h'],alpha=0.7, color=colour_dict['ext'])"
   ]
  },
  {
   "cell_type": "code",
   "execution_count": 325,
   "id": "5c6b4f04-2e9c-4e87-87f5-0e3b58bdacf5",
   "metadata": {},
   "outputs": [
    {
     "name": "stdout",
     "output_type": "stream",
     "text": [
      "number of rat seed genes in human-only network: 0\n"
     ]
    }
   ],
   "source": [
    "print(\"number of rat seed genes in human-only network: \"+str(len(hm_only.filter(items=list(seed_r), axis=0))))"
   ]
  },
  {
   "cell_type": "code",
   "execution_count": 327,
   "id": "e8c2fe3a-facf-40b9-bbd0-8dd9e351c7df",
   "metadata": {},
   "outputs": [
    {
     "data": {
      "text/plain": [
       "<matplotlib.legend.Legend at 0x1552ba8b6df0>"
      ]
     },
     "execution_count": 327,
     "metadata": {},
     "output_type": "execute_result"
    },
    {
     "data": {
      "image/png": "[encoded data removed]",
      "text/plain": [
       "<Figure size 640x480 with 1 Axes>"
      ]
     },
     "metadata": {},
     "output_type": "display_data"
    }
   ],
   "source": [
    "\n",
    "plt.scatter(x=outNetwork['NPS_r'], y=outNetwork['NPS_h'], s=1, color=colour_dict['other'],label='non-network genes')\n",
    "plt.scatter(x=inNetwork['NPS_r'], y=inNetwork['NPS_h'], s=1, color=colour_dict['shared'],label='network seed genes')\n",
    "#plt.scatter(x=hm_only['NPS_r'], y=hm_only['NPS_h'], s=1, color=colour_dict['ext'],label='ext network genes')\n",
    "#plt.scatter(x=rat_only['NPS_r'], y=rat_only['NPS_h'], s=1, color=colour_dict['loco'],label='loco network genes')\n",
    "plt.scatter(x=seeds_h['NPS_r'], y=seeds_h['NPS_h'], s=1, color=colour_dict['ext_alt'],label='ext seed genes')\n",
    "plt.scatter(x=seeds_r['NPS_r'], y=seeds_r['NPS_h'], s=1, color=colour_dict['loco_alt'],label='loco seed genes')\n",
    "plt.scatter(x=seeds_hr['NPS_r'], y=seeds_hr['NPS_h'], s=1, color=colour_dict['shared_alt'],label='shared seed genes')\n",
    "\n",
    "\n",
    "# Set labels and lines for plt\n",
    "plt.xlabel('NPS_r')\n",
    "plt.ylabel('NPS_h')\n",
    "plt.axvline(x=1.5, color=colour_dict['loco'], linestyle='dashed', linewidth=1)\n",
    "plt.axhline(y=1.5, color=colour_dict['ext'], linestyle='dashed', linewidth=1)\n",
    "x_points = [(i + 0.0001) / 10 for i in range(-50, 250)]\n",
    "combo_line = [3 / x for x in x_points if x > 3 / 50]\n",
    "plt.plot([x for x in x_points if x > 3 / 40], combo_line, color=colour_dict['shared'], linestyle='dashed', linewidth=1)\n",
    "plt.axvline(x=0, color='black', linestyle='solid', linewidth=1)\n",
    "plt.axhline(y=0, color='black', linestyle='solid', linewidth=1)\n",
    "plt.xlim([min(tbl_z['NPS_r'])-.5, max(tbl_z['NPS_r'])+.5])\n",
    "plt.ylim([min(tbl_z['NPS_h'])-.5, max(tbl_z['NPS_h'])+.5])\n",
    "plt.legend(loc='center right', bbox_to_anchor=(1.425, 0.5))\n"
   ]
  },
  {
   "cell_type": "code",
   "execution_count": 328,
   "id": "1c27bdb4-d370-4ca9-bc90-00c01ae58619",
   "metadata": {},
   "outputs": [
    {
     "data": {
      "text/plain": [
       "<matplotlib.legend.Legend at 0x1552bab3f490>"
      ]
     },
     "execution_count": 328,
     "metadata": {},
     "output_type": "execute_result"
    },
    {
     "data": {
      "image/png": "[encoded data removed]",
      "text/plain": [
       "<Figure size 640x480 with 1 Axes>"
      ]
     },
     "metadata": {},
     "output_type": "display_data"
    }
   ],
   "source": [
    "\n",
    "plt.scatter(x=outNetwork['NPS_r'], y=outNetwork['NPS_h'], s=1, color=colour_dict['other'],label='non-network genes')\n",
    "plt.scatter(x=inNetwork['NPS_r'], y=inNetwork['NPS_h'], s=1, color=colour_dict['shared'],label='ext-loco network genes')\n",
    "plt.scatter(x=hm_only['NPS_r'], y=hm_only['NPS_h'], s=1, color=colour_dict['ext'],label='ext network genes')\n",
    "plt.scatter(x=rat_only['NPS_r'], y=rat_only['NPS_h'], s=1, color=colour_dict['loco'],label='loco network genes')\n",
    "#plt.scatter(x=seeds_h['NPS_r'], y=seeds_h['NPS_h'], s=1, color=colour_dict['ext_alt'],label='ext seed genes')\n",
    "#plt.scatter(x=seeds_r['NPS_r'], y=seeds_r['NPS_h'], s=1, color=colour_dict['loco_alt'],label='loco seed genes')\n",
    "#plt.scatter(x=seeds_hr['NPS_r'], y=seeds_hr['NPS_h'], s=1, color=colour_dict['shared_alt'],label='shared seed genes')\n",
    "\n",
    "\n",
    "# Set labels and lines for plt\n",
    "plt.xlabel('NPS_r')\n",
    "plt.ylabel('NPS_h')\n",
    "plt.axvline(x=1.5, color=colour_dict['loco'], linestyle='dashed', linewidth=1)\n",
    "plt.axvline(x=3, color=colour_dict['loco'], linestyle='dashed', linewidth=1)\n",
    "plt.axhline(y=1.5, color=colour_dict['ext'], linestyle='dashed', linewidth=1)\n",
    "plt.axhline(y=3, color=colour_dict['ext'], linestyle='dashed', linewidth=1)\n",
    "x_points = [(i + 0.0001) / 10 for i in range(-50, 250)]\n",
    "combo_line = [3 / x for x in x_points if x > 3 / 50]\n",
    "plt.plot([x for x in x_points if x > 3 / 40], combo_line, color=colour_dict['shared'], linestyle='dashed', linewidth=1)\n",
    "\n",
    "plt.axvline(x=0, color='black', linestyle='solid', linewidth=1)\n",
    "plt.axhline(y=0, color='black', linestyle='solid', linewidth=1)\n",
    "plt.xlim([min(tbl_z['NPS_r'])-.5, max(tbl_z['NPS_r'])+.5])\n",
    "plt.ylim([min(tbl_z['NPS_h'])-.5, max(tbl_z['NPS_h'])+.5])\n",
    "plt.legend(loc='center right', bbox_to_anchor=(1.5, 0.5))\n"
   ]
  },
  {
   "cell_type": "code",
   "execution_count": 313,
   "id": "00b8baec-e150-4ca6-b428-d779b4d70e63",
   "metadata": {
    "ExecuteTime": {
     "end_time": "2023-02-04T23:15:32.260946Z",
     "start_time": "2023-02-04T23:14:55.253794Z"
    }
   },
   "outputs": [],
   "source": [
    "# supplemental figure 5 of BMI paper\n",
    "test_data = tbl_z.copy()\n",
    "combo_thresholds = [i/20 for i in range(0, 101)]\n",
    "sizes = {}\n",
    "for tau in combo_thresholds:\n",
    "    rat_th = {\"rat\":3, \"human\":0, \"combo\":-1 * tau}\n",
    "    human_th = {\"rat\":0, \"human\":3, \"combo\":-1 * tau}\n",
    "    conserved = {\"rat\":1.5, \"human\":1.5, \"combo\": tau}\n",
    "    test_data = sub_graph(test_data, rat_th, human_th, conserved)\n",
    "    sizes[tau] = test_data.value_counts(\"subgraph\", dropna=False)\n",
    "size_df = pd.DataFrame.from_dict(sizes).T"
   ]
  },
  {
   "cell_type": "code",
   "execution_count": 314,
   "id": "ada8464c-14b2-4506-8c88-13915116a3a5",
   "metadata": {},
   "outputs": [
    {
     "data": {
      "text/html": [
       "<div>\n",
       "<style scoped>\n",
       "    .dataframe tbody tr th:only-of-type {\n",
       "        vertical-align: middle;\n",
       "    }\n",
       "\n",
       "    .dataframe tbody tr th {\n",
       "        vertical-align: top;\n",
       "    }\n",
       "\n",
       "    .dataframe thead th {\n",
       "        text-align: right;\n",
       "    }\n",
       "</style>\n",
       "<table border=\"1\" class=\"dataframe\">\n",
       "  <thead>\n",
       "    <tr style=\"text-align: right;\">\n",
       "      <th>subgraph</th>\n",
       "      <th>Conserved</th>\n",
       "      <th>Human-Specific</th>\n",
       "      <th>PCNet</th>\n",
       "      <th>Rat-Specific</th>\n",
       "    </tr>\n",
       "  </thead>\n",
       "  <tbody>\n",
       "    <tr>\n",
       "      <th>count</th>\n",
       "      <td>101.000000</td>\n",
       "      <td>101.000000</td>\n",
       "      <td>101.000000</td>\n",
       "      <td>101.000000</td>\n",
       "    </tr>\n",
       "    <tr>\n",
       "      <th>mean</th>\n",
       "      <td>294.821782</td>\n",
       "      <td>402.138614</td>\n",
       "      <td>18245.554455</td>\n",
       "      <td>324.485149</td>\n",
       "    </tr>\n",
       "    <tr>\n",
       "      <th>std</th>\n",
       "      <td>50.465512</td>\n",
       "      <td>12.305308</td>\n",
       "      <td>70.252612</td>\n",
       "      <td>8.490717</td>\n",
       "    </tr>\n",
       "    <tr>\n",
       "      <th>min</th>\n",
       "      <td>181.000000</td>\n",
       "      <td>364.000000</td>\n",
       "      <td>18196.000000</td>\n",
       "      <td>297.000000</td>\n",
       "    </tr>\n",
       "    <tr>\n",
       "      <th>25%</th>\n",
       "      <td>265.000000</td>\n",
       "      <td>401.000000</td>\n",
       "      <td>18196.000000</td>\n",
       "      <td>324.000000</td>\n",
       "    </tr>\n",
       "    <tr>\n",
       "      <th>50%</th>\n",
       "      <td>330.000000</td>\n",
       "      <td>409.000000</td>\n",
       "      <td>18199.000000</td>\n",
       "      <td>329.000000</td>\n",
       "    </tr>\n",
       "    <tr>\n",
       "      <th>75%</th>\n",
       "      <td>333.000000</td>\n",
       "      <td>409.000000</td>\n",
       "      <td>18277.000000</td>\n",
       "      <td>329.000000</td>\n",
       "    </tr>\n",
       "    <tr>\n",
       "      <th>max</th>\n",
       "      <td>333.000000</td>\n",
       "      <td>409.000000</td>\n",
       "      <td>18425.000000</td>\n",
       "      <td>329.000000</td>\n",
       "    </tr>\n",
       "  </tbody>\n",
       "</table>\n",
       "</div>"
      ],
      "text/plain": [
       "subgraph   Conserved  Human-Specific         PCNet  Rat-Specific\n",
       "count     101.000000      101.000000    101.000000    101.000000\n",
       "mean      294.821782      402.138614  18245.554455    324.485149\n",
       "std        50.465512       12.305308     70.252612      8.490717\n",
       "min       181.000000      364.000000  18196.000000    297.000000\n",
       "25%       265.000000      401.000000  18196.000000    324.000000\n",
       "50%       330.000000      409.000000  18199.000000    329.000000\n",
       "75%       333.000000      409.000000  18277.000000    329.000000\n",
       "max       333.000000      409.000000  18425.000000    329.000000"
      ]
     },
     "execution_count": 314,
     "metadata": {},
     "output_type": "execute_result"
    }
   ],
   "source": [
    "size_df.describe()"
   ]
  },
  {
   "cell_type": "code",
   "execution_count": 352,
   "id": "42de9c41-ded4-477a-956e-2a259c110899",
   "metadata": {
    "ExecuteTime": {
     "end_time": "2023-02-08T20:50:25.921486Z",
     "start_time": "2023-02-08T20:50:24.248015Z"
    }
   },
   "outputs": [
    {
     "data": {
      "text/plain": [
       "<matplotlib.legend.Legend at 0x1552bcec5400>"
      ]
     },
     "execution_count": 352,
     "metadata": {},
     "output_type": "execute_result"
    },
    {
     "data": {
      "image/png": "[encoded data removed]",
      "text/plain": [
       "<Figure size 400x300 with 1 Axes>"
      ]
     },
     "metadata": {},
     "output_type": "display_data"
    }
   ],
   "source": [
    "#plt.plot(size_df.index, size_df.Conserved, color=colour_dict[\"shared\"], label=\"Conserved\")\n",
    "_, (ax1) = plt.subplots(nrows=1, ncols=1, figsize=(4,3)) #gridspec_kw ={'hspace':0.05})\n",
    "plt.sca(ax1)\n",
    "plt.plot(size_df.index, size_df[\"Human-Specific\"], color=colour_dict[\"ext\"], label=\"Human-Specific\", zorder=2)\n",
    "plt.plot(size_df.index, size_df['Rat-Specific'], color=colour_dict[\"loco\"], label=\"Rat-Specific\", zorder=2)\n",
    "plt.plot(size_df.index, size_df['Conserved'], color=colour_dict[\"shared\"], label=\"Conserved\", zorder=2)\n",
    "ax1.scatter(x=[3], y=[len(inNetwork)], s=20, zorder=5, color=colour_dict[\"shared\"], edgecolor=\"black\")\n",
    "ax1.scatter(x=[0], y=[len(rat_only)], s=20, zorder=5, color=colour_dict[\"loco\"], edgecolor=\"black\")\n",
    "ax1.scatter(x=[0], y=[len(hm_only)], s=20, zorder=5, color=colour_dict[\"ext\"], edgecolor=\"black\")\n",
    "#ax1.scatter(x=[4], y=[800], s=20, zorder=0, color=\"white\", edgecolor=\"black\", label=\"Selected Threshold\")\n",
    "plt.ylabel(\"Subnetwork Size (# Genes)\", fontsize=7)\n",
    "plt.xlabel('expanded NPS threshold', fontsize=7)\n",
    "plt.hlines(y=len(inNetwork), xmin=-0.1, xmax=5, color=colour_dict[\"shared\"], linestyle=\"--\", linewidth=1, label=\"Conserved\")\n",
    "ax1.fill_between([-0.05, 5], 500, 250, color=\"lightgrey\", label=\"Target Range\", zorder=1,alpha=0.5)\n",
    "#plt.hlines(y=[300, 250], xmin=0, xmax=5, color=\"black\", linestyle=\"--\", linewidth=1, label=\"Target Range\")\n",
    "plt.xlim(-0.05, 5)\n",
    "ax1.tick_params(labelsize=7)\n",
    "plt.legend(fontsize=7, frameon=True,loc='center right', bbox_to_anchor=(1.5, 0.5))\n",
    "\n",
    "#plt.savefig(FIGDIR + \"Sup5d_threshold_network_structure.png\", dpi=600, bbox_inches=\"tight\")"
   ]
  },
  {
   "cell_type": "markdown",
   "id": "2c42ed2b-00f5-485b-9ccc-4ae90af836b7",
   "metadata": {},
   "source": [
    "# export networks"
   ]
  },
  {
   "cell_type": "markdown",
   "id": "50be87bd-c2fc-4a78-9f3e-afacb7e7b6a6",
   "metadata": {},
   "source": [
    "## human only"
   ]
  },
  {
   "cell_type": "code",
   "execution_count": 370,
   "id": "aee8fe38-f26e-40f8-9e01-de614744798f",
   "metadata": {},
   "outputs": [],
   "source": [
    "net=graph.subgraph(list(hm_only.index))\n",
    "net2=format_network(net, label_r, label_h, seed_r , seed_h, NPS_r['z'], NPS_h['z'])"
   ]
  },
  {
   "cell_type": "code",
   "execution_count": 372,
   "id": "459f38e6-db81-4eef-af83-abede67b27ca",
   "metadata": {},
   "outputs": [
    {
     "name": "stdout",
     "output_type": "stream",
     "text": [
      "exporting network to NDEx\n",
      "bsleger\n",
      "supnu8-muqsov-hobpUb\n",
      "Generating CX\n"
     ]
    }
   ],
   "source": [
    "if save_fig:\n",
    "    print('exporting network to NDEx')\n",
    "    export_network(network=net, name=(label_r+'_'+label_h+'_'+interactome_name+'_hm_only'+'_MAGMA'), user=ndex_user, password=ndex_password)"
   ]
  },
  {
   "cell_type": "markdown",
   "id": "6b81b9ad-1967-4da0-b560-f977bfc01183",
   "metadata": {},
   "source": [
    "## rat only"
   ]
  },
  {
   "cell_type": "code",
   "execution_count": 373,
   "id": "32ffc915-7aea-4f4b-b605-722b214a4132",
   "metadata": {},
   "outputs": [],
   "source": [
    "net=graph.subgraph(list(rat_only.index))\n",
    "net2=format_network(net, label_r, label_h, seed_r , seed_h, NPS_r['z'], NPS_h['z'])"
   ]
  },
  {
   "cell_type": "code",
   "execution_count": 374,
   "id": "797f5c56-81e8-4d1d-a40f-4c46b03b6d95",
   "metadata": {},
   "outputs": [
    {
     "name": "stdout",
     "output_type": "stream",
     "text": [
      "exporting network to NDEx\n",
      "bsleger\n",
      "supnu8-muqsov-hobpUb\n",
      "Generating CX\n"
     ]
    }
   ],
   "source": [
    "if save_fig:\n",
    "    print('exporting network to NDEx')\n",
    "    export_network(network=net, name=(label_r+'_'+label_h+'_'+interactome_name+'_rat_only'+'_MAGMA'), user=ndex_user, password=ndex_password)"
   ]
  }
 ],
 "metadata": {
  "kernelspec": {
   "display_name": "Python [conda env:env-std-py38]",
   "language": "python",
   "name": "conda-env-env-std-py38-py"
  },
  "language_info": {
   "codemirror_mode": {
    "name": "ipython",
    "version": 3
   },
   "file_extension": ".py",
   "mimetype": "text/x-python",
   "name": "python",
   "nbconvert_exporter": "python",
   "pygments_lexer": "ipython3",
   "version": "3.8.13"
  }
 },
 "nbformat": 4,
 "nbformat_minor": 5
}
