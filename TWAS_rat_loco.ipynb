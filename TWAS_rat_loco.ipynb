{
 "cells": [
  {
   "cell_type": "code",
   "execution_count": null,
   "id": "e95f00c2-ea45-487b-8619-b054ffb8b86d",
   "metadata": {},
   "outputs": [],
   "source": [
    "purpose: analyze the output from Daniel's TWAS pipeline from TWAS (as of 20 June 2024) for all tissues- for determining whether they can be used for tsem"
   ]
  },
  {
   "cell_type": "markdown",
   "id": "7f491114-ee90-4c1e-85d2-b1e2fbc32ca6",
   "metadata": {},
   "source": [
    "# set-up"
   ]
  },
  {
   "cell_type": "code",
   "execution_count": 298,
   "id": "d386aaa4-e825-48da-8f8a-698169bdb259",
   "metadata": {},
   "outputs": [],
   "source": [
    "import pandas as pd\n",
    "import os\n",
    "import re\n",
    "import matplotlib.pyplot as plt\n",
    "import statsmodels.stats.multitest\n",
    "import numpy as np"
   ]
  },
  {
   "cell_type": "code",
   "execution_count": 71,
   "id": "531ebdbc-1945-45c0-814b-36f4df1da32c",
   "metadata": {},
   "outputs": [],
   "source": [
    "os.chdir('/tscc/projects/ps-palmer/brittany/rare_common_alcohol/rare_common_alcohol_comparison/notebooks/')"
   ]
  },
  {
   "cell_type": "code",
   "execution_count": 72,
   "id": "d0a660f1-6357-4c51-9e35-f06cf0321580",
   "metadata": {},
   "outputs": [],
   "source": [
    "from rca_functions import manhattan"
   ]
  },
  {
   "cell_type": "code",
   "execution_count": 73,
   "id": "70211c2e-5a2c-4cf5-9880-f74efced7997",
   "metadata": {},
   "outputs": [],
   "source": [
    "os.chdir('/tscc/projects/ps-palmer/brittany/SUD_cross_species/')"
   ]
  },
  {
   "cell_type": "code",
   "execution_count": 259,
   "id": "61e26d7f-bf33-4db8-979a-49845f55b466",
   "metadata": {},
   "outputs": [],
   "source": [
    "IBM=['#648FFF','#785EF0','#DC267F','#FE6100','#FFB000']\n",
    "colour_dict={\n",
    "    'ext':IBM[1],\n",
    "    'ext_alt':IBM[0],\n",
    "    'loco':IBM[4],\n",
    "    'loco_alt':IBM[3],\n",
    "    'shared':IBM[2],\n",
    "    'other':'#CCCCCC',\n",
    "    'smkinit_pc1':IBM[1],\n",
    "    'smkinit_pc1_alt':IBM[0],\n",
    "    'cigday_pc1':IBM[2],\n",
    "    'cigday_pc1_alt':'#930741'\n",
    "}"
   ]
  },
  {
   "cell_type": "code",
   "execution_count": 56,
   "id": "dd78018f-b541-4d27-9201-c925753bafb9",
   "metadata": {},
   "outputs": [],
   "source": [
    "loco_dir='loco_twas_dan/'"
   ]
  },
  {
   "cell_type": "code",
   "execution_count": 239,
   "id": "977c6522-d22c-4867-92e9-092a5d9de3ea",
   "metadata": {},
   "outputs": [
    {
     "name": "stderr",
     "output_type": "stream",
     "text": [
      "/tmp/ipykernel_3545894/1650281201.py:5: DtypeWarning: Columns (0) have mixed types. Specify dtype option on import or set low_memory=False.\n",
      "  feat_meta_tbl=pd.read_csv(loco_dir+'Rattus_norvegicus.mRatBN7.2.112.gtf.gz',compression='gzip',skiprows=5,sep='\\t',header=None)\n"
     ]
    }
   ],
   "source": [
    "#downloaded from ensembl BioMart on 9 July 2024 for mRatBN7.2\n",
    "gene_tbl=pd.read_csv(loco_dir+'biomart.mRatBN7.2.gene_map.gtf.gz',compression='gzip',sep='\\t')\n",
    "transcript_tbl=pd.read_csv(loco_dir+'biomart.mRatBN7.2.transcript_map.gtf.gz',compression='gzip',sep='\\t')\n",
    "#downloaded from ensembl- doesn't have gene symbol/transcript name, but does have other info that may be interesting\n",
    "feat_meta_tbl=pd.read_csv(loco_dir+'Rattus_norvegicus.mRatBN7.2.112.gtf.gz',compression='gzip',skiprows=5,sep='\\t',header=None)\n",
    "feat_meta_tbl.columns=['seqname','source','feature','start','end','score','strand','frame','attribute']\n",
    "#locomotor activity TWAS calculated by FUSION by Dan Munroe\n",
    "tbl=pd.read_csv(loco_dir+'regressedlr_combined_locomotor.dat',sep='\\t')\n",
    "tbl['TISSUE']=[s.split('.')[1] for s in tbl.PANEL]\n",
    "tbl['TYPE_MOD']=[s.split('.')[2] for s in tbl.PANEL]"
   ]
  },
  {
   "cell_type": "markdown",
   "id": "e83f5c68-4c49-4e63-8742-9b21ca7ed435",
   "metadata": {},
   "source": [
    "# functions"
   ]
  },
  {
   "cell_type": "code",
   "execution_count": 194,
   "id": "3e4a0b83-5d3b-4ec9-a1a7-9e7020618e8f",
   "metadata": {},
   "outputs": [],
   "source": [
    "def extract_IDs(annot, type=None):\n",
    "    if (type=='gene'):\n",
    "        #print('returning ENSRNOG')\n",
    "        ls=[x for x in re.split('[:.]', annot) if x.startswith('ENSRNOG')]\n",
    "        if len(ls)>0:\n",
    "            return(ls[0])\n",
    "    elif (type=='transcript'):\n",
    "        ls=[x for x in re.split('[:.]', annot) if x.startswith('ENSRNOT')]\n",
    "        if len(ls)>0:\n",
    "            return(ls[0])\n",
    "    else:\n",
    "        return [x for x in re.split('[:.]', annot) if x.startswith('ENSR')]"
   ]
  },
  {
   "cell_type": "markdown",
   "id": "50075a70-b6c3-4721-9d53-6a593f2d54a1",
   "metadata": {},
   "source": [
    "# format trascript table"
   ]
  },
  {
   "cell_type": "code",
   "execution_count": 240,
   "id": "c9c50163-2594-4d1d-8b3d-33cfed5b0bce",
   "metadata": {
    "scrolled": true
   },
   "outputs": [],
   "source": [
    "tbl['ID_ls']=tbl['ID'].apply(extract_IDs)\n",
    "tbl['gene_id']=tbl['ID'].apply(extract_IDs,type='gene')\n",
    "tbl['tran_id']=tbl['ID'].apply(extract_IDs,type='transcript')"
   ]
  },
  {
   "cell_type": "code",
   "execution_count": 241,
   "id": "932ebc7d-ff7e-4121-9811-c9b438843302",
   "metadata": {},
   "outputs": [],
   "source": [
    "#add in gene name\n",
    "t=tbl.merge(gene_tbl[['Gene stable ID','Gene name']], left_on='gene_id',right_on='Gene stable ID',how='left').drop('Gene stable ID', axis=1)\n",
    "t=t.merge(transcript_tbl[['Transcript stable ID','Transcript name']], left_on='tran_id',right_on='Transcript stable ID',how='left').drop('Transcript stable ID', axis=1)"
   ]
  },
  {
   "cell_type": "code",
   "execution_count": 197,
   "id": "59072be2-26cc-4a3d-8689-630ddea84bec",
   "metadata": {},
   "outputs": [
    {
     "data": {
      "text/plain": [
       "count    150018.000000\n",
       "mean          1.262788\n",
       "std           0.440150\n",
       "min           1.000000\n",
       "25%           1.000000\n",
       "50%           1.000000\n",
       "75%           2.000000\n",
       "max           2.000000\n",
       "dtype: float64"
      ]
     },
     "execution_count": 197,
     "metadata": {},
     "output_type": "execute_result"
    }
   ],
   "source": [
    "pd.Series(list(map(len, tbl['ID_ls']))).describe()\n",
    "#there's only max 2 IDs- transcript and gene"
   ]
  },
  {
   "cell_type": "code",
   "execution_count": 265,
   "id": "91f9ac2f-5a31-41bc-89ac-1e1b5ae1e59b",
   "metadata": {},
   "outputs": [
    {
     "data": {
      "text/plain": [
       "{'Adipose',\n",
       " 'BLA',\n",
       " 'Brain',\n",
       " 'Eye',\n",
       " 'IL',\n",
       " 'LHb',\n",
       " 'Liver',\n",
       " 'NAcc',\n",
       " 'NAcc2',\n",
       " 'OFC',\n",
       " 'PL',\n",
       " 'PL2'}"
      ]
     },
     "execution_count": 265,
     "metadata": {},
     "output_type": "execute_result"
    }
   ],
   "source": [
    "#tissues assayed\n",
    "for (k in set(t.TISSUE)):\n",
    "    t_sub=t[(t.TISSUE=='Brain')&(~t['TWAS.P'].isna())].reset_index()\n",
    "brain['TWAS.Q']=statsmodels.stats.multitest.fdrcorrection(brain['TWAS.P'],alpha=0.05,method='indep',is_sorted=False)[1]"
   ]
  },
  {
   "cell_type": "code",
   "execution_count": null,
   "id": "4bb974f6-1c54-46fb-ac12-f7c2929caefb",
   "metadata": {},
   "outputs": [],
   "source": [
    "'BLA':'Basolateral amygdala',\n",
    "'Brain':'Brain hemisphere',\n",
    "'IL':'Infralimbic cortex',\n",
    "'LHb':'Lateral habenula',\n",
    "'NAcc':'Nucleus accumbens core',\n",
    "'NAcc2':'Nucleus accumbens core 2',\n",
    "'OFC':'Orbitofrontal cortex',\n",
    "'PL':'Prelimbic cortex',\n",
    "'PL2':'Prelimbic cortex 2',\n",
    "'Adipose':'Adipose',\n",
    "'Eye':'Eye',\n",
    "'Liver':'Liver',"
   ]
  },
  {
   "cell_type": "code",
   "execution_count": null,
   "id": "4b5d3cfa-7caa-4adc-b65c-a2cca495688a",
   "metadata": {},
   "outputs": [],
   "source": []
  },
  {
   "cell_type": "code",
   "execution_count": 248,
   "id": "053dad19-c4d8-4db5-ac4b-36f2d267930c",
   "metadata": {},
   "outputs": [
    {
     "data": {
      "text/plain": [
       "{'alt_TSS', 'alt_polyA', 'expression', 'isoforms', 'splicing', 'stability'}"
      ]
     },
     "execution_count": 248,
     "metadata": {},
     "output_type": "execute_result"
    }
   ],
   "source": [
    "#types of protein modifications assayed\n",
    "set(tbl.TYPE_MOD)"
   ]
  },
  {
   "cell_type": "code",
   "execution_count": 284,
   "id": "eacea2a7-6ce6-4a96-b6ac-2018d7c38429",
   "metadata": {},
   "outputs": [
    {
     "data": {
      "text/plain": [
       "25746"
      ]
     },
     "execution_count": 284,
     "metadata": {},
     "output_type": "execute_result"
    }
   ],
   "source": [
    "len(brain)"
   ]
  },
  {
   "cell_type": "markdown",
   "id": "22a2bb88-9ecb-4b5c-a5ca-bd3b30670334",
   "metadata": {},
   "source": [
    "# analyze TWAS output- brain only"
   ]
  },
  {
   "cell_type": "code",
   "execution_count": 286,
   "id": "fa5a610f-6ec1-4bf8-a956-1f3bfeba24f3",
   "metadata": {},
   "outputs": [],
   "source": [
    "brain=t[(t.TISSUE=='Brain')&(~t['TWAS.P'].isna())].reset_index()\n",
    "brain['TWAS.Q']=statsmodels.stats.multitest.fdrcorrection(brain['TWAS.P'],alpha=0.05,method='indep',is_sorted=False)[1]"
   ]
  },
  {
   "cell_type": "code",
   "execution_count": 292,
   "id": "c722845f-c1e9-4f00-b49b-db2cd2d6aa64",
   "metadata": {},
   "outputs": [
    {
     "data": {
      "text/plain": [
       "0.0010946717156678"
      ]
     },
     "execution_count": 292,
     "metadata": {},
     "output_type": "execute_result"
    }
   ],
   "source": [
    "max(brain[brain['TWAS.Q']<0.05]['TWAS.P'])"
   ]
  },
  {
   "cell_type": "code",
   "execution_count": 301,
   "id": "c07e6708-3af6-482b-ab04-b744a258b76a",
   "metadata": {},
   "outputs": [
    {
     "data": {
      "text/plain": [
       "1.53767732300906e-06"
      ]
     },
     "execution_count": 301,
     "metadata": {},
     "output_type": "execute_result"
    }
   ],
   "source": [
    "max(brain[brain['TWAS.P']<0.05/len(brain)]['TWAS.P'])"
   ]
  },
  {
   "cell_type": "code",
   "execution_count": 253,
   "id": "32fc1211-54b9-4b6e-8925-7a4bb3dd19b7",
   "metadata": {},
   "outputs": [
    {
     "data": {
      "text/plain": [
       "Index(['PANEL', 'FILE', 'ID', 'CHR', 'P0', 'P1', 'HSQ', 'BEST.GWAS.ID',\n",
       "       'BEST.GWAS.Z', 'EQTL.ID', 'EQTL.R2', 'EQTL.Z', 'EQTL.GWAS.Z', 'NSNP',\n",
       "       'NWGT', 'MODEL', 'MODELCV.R2', 'MODELCV.PV', 'TWAS.Z', 'TWAS.P',\n",
       "       'COLOC.PP0', 'COLOC.PP1', 'COLOC.PP2', 'COLOC.PP3', 'COLOC.PP4',\n",
       "       'TISSUE', 'TYPE_MOD', 'ID_ls', 'gene_id', 'tran_id', 'Gene name',\n",
       "       'Transcript name'],\n",
       "      dtype='object')"
      ]
     },
     "execution_count": 253,
     "metadata": {},
     "output_type": "execute_result"
    }
   ],
   "source": [
    "brain.columns"
   ]
  },
  {
   "cell_type": "code",
   "execution_count": 254,
   "id": "363d0358-f31f-4fbc-b2cd-ce6fa4ff72fd",
   "metadata": {},
   "outputs": [],
   "source": [
    "save_fig=False"
   ]
  },
  {
   "cell_type": "code",
   "execution_count": 272,
   "id": "7a5d99d4-2d65-4087-aaae-7cc4f12ab1a2",
   "metadata": {},
   "outputs": [
    {
     "data": {
      "text/plain": [
       "numpy.float64"
      ]
     },
     "execution_count": 272,
     "metadata": {},
     "output_type": "execute_result"
    }
   ],
   "source": [
    "type(brain['TWAS.P'][0])"
   ]
  },
  {
   "cell_type": "code",
   "execution_count": 304,
   "id": "4fb63d59-a75c-4ea7-82de-77cf7c7f338a",
   "metadata": {},
   "outputs": [],
   "source": [
    "cutoff=-np.log10(max(brain[brain['TWAS.Q']<0.05]['TWAS.P']))\n",
    "cutoff2=-np.log10(max(brain[brain['TWAS.P']<0.05/len(brain)]['TWAS.P']))"
   ]
  },
  {
   "cell_type": "code",
   "execution_count": 308,
   "id": "7bce5d12-6a98-4f25-9a4f-61282cf02f60",
   "metadata": {},
   "outputs": [
    {
     "data": {
      "image/png": "[encoded data removed]",
      "text/plain": [
       "<Figure size 800x400 with 1 Axes>"
      ]
     },
     "metadata": {},
     "output_type": "display_data"
    }
   ],
   "source": [
    "fig=plt.figure(figsize=(8,4))\n",
    "#fig, ax=plt.subplots(figsize=(10,4))\n",
    "k='loco'\n",
    "manhattan(pval=brain['TWAS.P'],pos=brain['P0'],chr=brain['CHR'],label='',\n",
    "                    cut=0,lines=[cutoff, cutoff2],lines_colors=['black', 'black'], colors=[colour_dict[k], colour_dict[k+'_alt']],\n",
    "                    lines_widths = [1,1], lines_styles = [\"--\",\"--\"], markersize=3, plot_grid_lines=False)\n",
    "fig=plt.title('')\n",
    "fig=plt.ylabel('-log10(p)')\n",
    "plt.margins(x=0)\n",
    "#commented out- use to turn into miami plot\n",
    "#plt.gca().invert_yaxis()\n",
    "#plt.tick_params(axis='x',labeltop=True, top=True, bottom=False, labelbottom=False)\n",
    "fig=plt.xticks(rotation='vertical')\n",
    "if save_fig:\n",
    "    plt.savefig('figures/manhattan_cut'+str(cutoff)+'_'+k+'_magma'+'.png',dpi=600,bbox_inches='tight')"
   ]
  }
 ],
 "metadata": {
  "kernelspec": {
   "display_name": "Python [conda env:env-std-py38]",
   "language": "python",
   "name": "conda-env-env-std-py38-py"
  },
  "language_info": {
   "codemirror_mode": {
    "name": "ipython",
    "version": 3
   },
   "file_extension": ".py",
   "mimetype": "text/x-python",
   "name": "python",
   "nbconvert_exporter": "python",
   "pygments_lexer": "ipython3",
   "version": "3.8.13"
  }
 },
 "nbformat": 4,
 "nbformat_minor": 5
}
