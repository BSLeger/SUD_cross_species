{
 "cells": [
  {
   "cell_type": "markdown",
   "id": "50723c2c-7eab-4597-ab98-b056109822de",
   "metadata": {},
   "source": [
    "purpose: translate Rat GWAS into human orthologs (and maybe human to rat once a co-expression network made). After ortholog mapping, define seed gene sets. For ortho mapping- using bestmatch."
   ]
  },
  {
   "cell_type": "markdown",
   "id": "779acf8a-0e6e-4151-848e-6a8743728f80",
   "metadata": {},
   "source": [
    "# Set-up"
   ]
  },
  {
   "cell_type": "code",
   "execution_count": 1,
   "id": "b976a774-bef5-4513-813c-a9a206c50012",
   "metadata": {},
   "outputs": [],
   "source": [
    "import os\n",
    "import pandas as pd\n",
    "import statsmodels.stats.multitest\n",
    "from scipy import stats\n",
    "import matplotlib.pyplot as plt\n",
    "import re"
   ]
  },
  {
   "cell_type": "code",
   "execution_count": 2,
   "id": "91e172db-d767-4008-8714-531143a39430",
   "metadata": {},
   "outputs": [],
   "source": [
    "os.chdir('/tscc/projects/ps-palmer/brittany/SUD_cross_species/')"
   ]
  },
  {
   "cell_type": "markdown",
   "id": "52bbe775-f492-4564-ac4b-c7f67204afc3",
   "metadata": {},
   "source": [
    "# define ortholog dictionary"
   ]
  },
  {
   "cell_type": "code",
   "execution_count": 5,
   "id": "65b0c7e7-54a7-4a13-80ee-f57384401fa7",
   "metadata": {},
   "outputs": [],
   "source": [
    "path='/tscc/projects/ps-palmer/brittany/orthology_ref_tbls/'"
   ]
  },
  {
   "cell_type": "code",
   "execution_count": 4,
   "id": "ad0ae088-d2ab-42ae-9d3b-e1ce6a4eb88b",
   "metadata": {},
   "outputs": [],
   "source": [
    "ortho=pd.read_csv('/tscc/projects/ps-palmer/brittany/orthology_ref_tbls/ORTHOLOGY-ALLIANCE_COMBINED_2024.tsv',sep='\\t',skiprows=15)\n",
    "#downloaded from https://www.alliancegenome.org/downloads#orthology on 11 June 2024\n",
    "#filter for rat-human\n",
    "ortho=ortho[(ortho['Gene1SpeciesName']=='Rattus norvegicus')&(ortho['Gene2SpeciesName']=='Homo sapiens')]\n",
    "#filter for best match\n",
    "ortho=ortho[ortho['IsBestScore']=='Yes']"
   ]
  },
  {
   "cell_type": "markdown",
   "id": "7c420420-c30d-4ea4-8547-2b96df28937a",
   "metadata": {},
   "source": [
    "lose 1006 if filter for >2 databases rather than best ortholog"
   ]
  },
  {
   "cell_type": "markdown",
   "id": "856f477f-2a8c-4424-a4f0-a3b16a8458a3",
   "metadata": {},
   "source": [
    "# Read in rat genes (MAGMA)"
   ]
  },
  {
   "cell_type": "code",
   "execution_count": 13,
   "id": "f75dcf36-260f-4803-b965-80190794d6cd",
   "metadata": {},
   "outputs": [],
   "source": [
    "test='final_cf'"
   ]
  },
  {
   "cell_type": "code",
   "execution_count": 14,
   "id": "9a5f166f-d32e-4300-9870-52107a9607f8",
   "metadata": {},
   "outputs": [],
   "source": [
    "if ((test=='meta')|(test=='mega')):\n",
    "    rat_magma=pd.read_csv('magma/loco_meta_win10.genes.out',delim_whitespace=True,index_col=None,skiprows=1)\n",
    "elif test=='gsem':\n",
    "    rat_magma=pd.read_csv('magma/loco_gsem_7k_win10.genes.out',delim_whitespace=True,index_col=None,skiprows=1)\n",
    "elif ((test=='final_cf')):\n",
    "    rat_magma=pd.read_csv('magma/loco_final_cf_7k_win10.genes.out',delim_whitespace=True,index_col=None,skiprows=1)\n",
    "elif ((test=='final_mega')):\n",
    "    rat_magma=pd.read_csv('magma/loco_final_mega_7k_win10.genes.out',delim_whitespace=True,index_col=None,skiprows=1)\n",
    "elif(test=='final_cf_25'):\n",
    "    rat_magma=pd.read_csv('magma/loco_final_cf_7k_win25.genes.out',delim_whitespace=True,index_col=None,skiprows=1),\n",
    "elif(test=='bmi_rn6'):\n",
    "    rat_magma=pd.read_csv('magma/bmi_rn6_win10.genes.out',delim_whitespace=True,index_col=None,skiprows=1)\n",
    "elif(test=='body_length_rn6'):\n",
    "    rat_magma=pd.read_csv('magma/body_length_rn6_win10.genes.out',delim_whitespace=True,index_col=None,skiprows=1)"
   ]
  },
  {
   "cell_type": "code",
   "execution_count": null,
   "id": "b19bcb2f-239a-4f2e-b5b9-5b935aa8206a",
   "metadata": {},
   "outputs": [
    {
     "data": {
      "text/html": [
       "<div>\n",
       "<style scoped>\n",
       "    .dataframe tbody tr th:only-of-type {\n",
       "        vertical-align: middle;\n",
       "    }\n",
       "\n",
       "    .dataframe tbody tr th {\n",
       "        vertical-align: top;\n",
       "    }\n",
       "\n",
       "    .dataframe thead th {\n",
       "        text-align: right;\n",
       "    }\n",
       "</style>\n",
       "<table border=\"1\" class=\"dataframe\">\n",
       "  <thead>\n",
       "    <tr style=\"text-align: right;\">\n",
       "      <th></th>\n",
       "      <th>GENE</th>\n",
       "      <th>CHR</th>\n",
       "      <th>START</th>\n",
       "      <th>STOP</th>\n",
       "      <th>NSNPS</th>\n",
       "      <th>NPARAM</th>\n",
       "      <th>N</th>\n",
       "      <th>ZSTAT</th>\n",
       "      <th>P</th>\n",
       "    </tr>\n",
       "  </thead>\n",
       "  <tbody>\n",
       "    <tr>\n",
       "      <th>0</th>\n",
       "      <td>Vom2r1</td>\n",
       "      <td>1</td>\n",
       "      <td>765164</td>\n",
       "      <td>795885</td>\n",
       "      <td>1</td>\n",
       "      <td>1</td>\n",
       "      <td>7679</td>\n",
       "      <td>1.18250</td>\n",
       "      <td>0.118500</td>\n",
       "    </tr>\n",
       "    <tr>\n",
       "      <th>1</th>\n",
       "      <td>Vom2r5</td>\n",
       "      <td>1</td>\n",
       "      <td>1151906</td>\n",
       "      <td>1180559</td>\n",
       "      <td>2</td>\n",
       "      <td>1</td>\n",
       "      <td>7679</td>\n",
       "      <td>1.66460</td>\n",
       "      <td>0.047999</td>\n",
       "    </tr>\n",
       "    <tr>\n",
       "      <th>2</th>\n",
       "      <td>Vom2r6</td>\n",
       "      <td>1</td>\n",
       "      <td>1204035</td>\n",
       "      <td>1232755</td>\n",
       "      <td>2</td>\n",
       "      <td>1</td>\n",
       "      <td>7679</td>\n",
       "      <td>1.77350</td>\n",
       "      <td>0.038072</td>\n",
       "    </tr>\n",
       "    <tr>\n",
       "      <th>3</th>\n",
       "      <td>LOC120098769</td>\n",
       "      <td>1</td>\n",
       "      <td>1954049</td>\n",
       "      <td>1978983</td>\n",
       "      <td>5</td>\n",
       "      <td>1</td>\n",
       "      <td>7679</td>\n",
       "      <td>-0.67169</td>\n",
       "      <td>0.749110</td>\n",
       "    </tr>\n",
       "    <tr>\n",
       "      <th>4</th>\n",
       "      <td>Raet1l</td>\n",
       "      <td>1</td>\n",
       "      <td>1969433</td>\n",
       "      <td>1994410</td>\n",
       "      <td>1</td>\n",
       "      <td>1</td>\n",
       "      <td>7679</td>\n",
       "      <td>0.19892</td>\n",
       "      <td>0.421160</td>\n",
       "    </tr>\n",
       "    <tr>\n",
       "      <th>...</th>\n",
       "      <td>...</td>\n",
       "      <td>...</td>\n",
       "      <td>...</td>\n",
       "      <td>...</td>\n",
       "      <td>...</td>\n",
       "      <td>...</td>\n",
       "      <td>...</td>\n",
       "      <td>...</td>\n",
       "      <td>...</td>\n",
       "    </tr>\n",
       "    <tr>\n",
       "      <th>18966</th>\n",
       "      <td>Ascc3</td>\n",
       "      <td>20</td>\n",
       "      <td>53500137</td>\n",
       "      <td>53805446</td>\n",
       "      <td>347</td>\n",
       "      <td>1</td>\n",
       "      <td>7679</td>\n",
       "      <td>0.82694</td>\n",
       "      <td>0.204130</td>\n",
       "    </tr>\n",
       "    <tr>\n",
       "      <th>18967</th>\n",
       "      <td>Sim1</td>\n",
       "      <td>20</td>\n",
       "      <td>53817601</td>\n",
       "      <td>53917219</td>\n",
       "      <td>152</td>\n",
       "      <td>1</td>\n",
       "      <td>7679</td>\n",
       "      <td>0.88070</td>\n",
       "      <td>0.189240</td>\n",
       "    </tr>\n",
       "    <tr>\n",
       "      <th>18968</th>\n",
       "      <td>LOC103694460</td>\n",
       "      <td>20</td>\n",
       "      <td>54404724</td>\n",
       "      <td>54428200</td>\n",
       "      <td>56</td>\n",
       "      <td>1</td>\n",
       "      <td>7679</td>\n",
       "      <td>0.85508</td>\n",
       "      <td>0.196250</td>\n",
       "    </tr>\n",
       "    <tr>\n",
       "      <th>18969</th>\n",
       "      <td>Cd99</td>\n",
       "      <td>20</td>\n",
       "      <td>54408239</td>\n",
       "      <td>54432882</td>\n",
       "      <td>53</td>\n",
       "      <td>1</td>\n",
       "      <td>7679</td>\n",
       "      <td>0.86448</td>\n",
       "      <td>0.193660</td>\n",
       "    </tr>\n",
       "    <tr>\n",
       "      <th>18970</th>\n",
       "      <td>LOC120098985</td>\n",
       "      <td>20</td>\n",
       "      <td>54413518</td>\n",
       "      <td>54436320</td>\n",
       "      <td>39</td>\n",
       "      <td>1</td>\n",
       "      <td>7679</td>\n",
       "      <td>0.86980</td>\n",
       "      <td>0.192210</td>\n",
       "    </tr>\n",
       "  </tbody>\n",
       "</table>\n",
       "<p>18971 rows × 9 columns</p>\n",
       "</div>"
      ],
      "text/plain": [
       "               GENE  CHR     START      STOP  NSNPS  NPARAM     N    ZSTAT  \\\n",
       "0            Vom2r1    1    765164    795885      1       1  7679  1.18250   \n",
       "1            Vom2r5    1   1151906   1180559      2       1  7679  1.66460   \n",
       "2            Vom2r6    1   1204035   1232755      2       1  7679  1.77350   \n",
       "3      LOC120098769    1   1954049   1978983      5       1  7679 -0.67169   \n",
       "4            Raet1l    1   1969433   1994410      1       1  7679  0.19892   \n",
       "...             ...  ...       ...       ...    ...     ...   ...      ...   \n",
       "18966         Ascc3   20  53500137  53805446    347       1  7679  0.82694   \n",
       "18967          Sim1   20  53817601  53917219    152       1  7679  0.88070   \n",
       "18968  LOC103694460   20  54404724  54428200     56       1  7679  0.85508   \n",
       "18969          Cd99   20  54408239  54432882     53       1  7679  0.86448   \n",
       "18970  LOC120098985   20  54413518  54436320     39       1  7679  0.86980   \n",
       "\n",
       "              P  \n",
       "0      0.118500  \n",
       "1      0.047999  \n",
       "2      0.038072  \n",
       "3      0.749110  \n",
       "4      0.421160  \n",
       "...         ...  \n",
       "18966  0.204130  \n",
       "18967  0.189240  \n",
       "18968  0.196250  \n",
       "18969  0.193660  \n",
       "18970  0.192210  \n",
       "\n",
       "[18971 rows x 9 columns]"
      ]
     },
     "execution_count": 15,
     "metadata": {},
     "output_type": "execute_result"
    }
   ],
   "source": [
    "rat_magma"
   ]
  },
  {
   "cell_type": "markdown",
   "id": "bc300a48-c0d6-447a-adbe-81979ddfd5d4",
   "metadata": {},
   "source": [
    "# test cutoffs"
   ]
  },
  {
   "cell_type": "markdown",
   "id": "678dce9e-d3c4-4f71-88b4-ef3600b509b5",
   "metadata": {},
   "source": [
    "## bonferroni"
   ]
  },
  {
   "cell_type": "code",
   "execution_count": 16,
   "id": "e9e54ce7-445f-44f9-9559-e8657cbb7664",
   "metadata": {},
   "outputs": [
    {
     "data": {
      "text/plain": [
       "2.635601707869907e-06"
      ]
     },
     "execution_count": 16,
     "metadata": {},
     "output_type": "execute_result"
    }
   ],
   "source": [
    "0.05/len(rat_magma)"
   ]
  },
  {
   "cell_type": "code",
   "execution_count": 18,
   "id": "3ab829e2-9511-4cf6-92fe-8726d9ca35ab",
   "metadata": {
    "scrolled": true
   },
   "outputs": [
    {
     "data": {
      "text/plain": [
       "10"
      ]
     },
     "execution_count": 18,
     "metadata": {},
     "output_type": "execute_result"
    }
   ],
   "source": [
    "len(rat_magma[rat_magma['P']<(0.05/len(rat_magma))])"
   ]
  },
  {
   "cell_type": "markdown",
   "id": "5ca6e7d7-5f63-482f-b423-e44caebe6f7e",
   "metadata": {},
   "source": [
    "## FDR"
   ]
  },
  {
   "cell_type": "code",
   "execution_count": 19,
   "id": "f7078981-24e5-42f8-b13a-cd09fce022b5",
   "metadata": {},
   "outputs": [],
   "source": [
    "#compare before and after ortholog mapping\n",
    "rat_magma['FDR_corr']=statsmodels.stats.multitest.fdrcorrection(rat_magma['P'],alpha=0.05,method='indep',is_sorted=False)[1]"
   ]
  },
  {
   "cell_type": "code",
   "execution_count": 20,
   "id": "3604211a-2167-49af-b92a-71341c1116b6",
   "metadata": {},
   "outputs": [
    {
     "data": {
      "text/plain": [
       "383"
      ]
     },
     "execution_count": 20,
     "metadata": {},
     "output_type": "execute_result"
    }
   ],
   "source": [
    "len(rat_magma[rat_magma['FDR_corr']<0.05])"
   ]
  },
  {
   "cell_type": "markdown",
   "id": "a294d81e-77c7-4ab6-83ab-ecc4229647fe",
   "metadata": {},
   "source": [
    "# merge in human orthologs"
   ]
  },
  {
   "cell_type": "code",
   "execution_count": 19,
   "id": "1a0f983a-119c-4c28-8dd6-745f6109b982",
   "metadata": {},
   "outputs": [],
   "source": [
    "magma_out=rat_magma.merge(ortho_best[['Gene1Symbol','Gene2Symbol']], left_on='GENE',right_on='Gene1Symbol',how='left').dropna().reset_index().drop(['index','Gene1Symbol'],axis=1)\n",
    "magma_out.columns=['GENE', 'CHR', 'START', 'STOP', 'NSNPS', 'NPARAM', 'N', 'ZSTAT', 'P',\n",
    "       'Q', 'HM_ORTHO']"
   ]
  },
  {
   "cell_type": "code",
   "execution_count": 20,
   "id": "00e735a0-f454-43db-9e3a-df8d72a44d76",
   "metadata": {},
   "outputs": [],
   "source": [
    "if test=='meta':\n",
    "    magma_out.to_csv('magma/seed_genes/loco_win10_annot.tsv',sep='\\t', index=False)\n",
    "elif test=='gsem':\n",
    "    magma_out.to_csv('magma/seed_genes/loco_gsem_annot.tsv',sep='\\t', index=False)\n",
    "elif ((test=='final_cf')):\n",
    "    magma_out.to_csv('magma/seed_genes/loco_final_cf_win10_annot.tsv',sep='\\t',index=False)\n",
    "elif ((test=='final_mega')):\n",
    "    magma_out.to_csv('magma/seed_genes/loco_final_mega_win10_annot.tsv',sep='\\t',index=False)\n",
    "elif(test=='final_cf_25'):\n",
    "    magma_out.to_csv('magma/seed_genes/loco_final_cf_win25_annot.tsv',sep='\\t',index=False)\n",
    "elif ((test=='bmi_rn6')):\n",
    "    magma_out.to_csv('magma/seed_genes/bmi_rn6_annot.tsv',sep='\\t',index=False)\n",
    "elif ((test=='body_length_rn6')):\n",
    "    magma_out.to_csv('magma/seed_genes/body_length_rn6_annot.tsv',sep='\\t',index=False)"
   ]
  },
  {
   "cell_type": "markdown",
   "id": "1bd4cd15-1783-43d5-8339-fc1be46a3665",
   "metadata": {
    "jp-MarkdownHeadingCollapsed": true,
    "tags": []
   },
   "source": [
    "# externalizing (MAGMA)"
   ]
  },
  {
   "cell_type": "code",
   "execution_count": 3,
   "id": "e476452f-87fe-4f7c-b33a-663a2aeb7f91",
   "metadata": {},
   "outputs": [],
   "source": [
    "set=['munged','orig']\n",
    "file=set[1]"
   ]
  },
  {
   "cell_type": "code",
   "execution_count": 4,
   "id": "eddf581b-f4a6-4557-bcfd-3762abeaccb5",
   "metadata": {},
   "outputs": [],
   "source": [
    "ext_magma=pd.read_csv('magma/ext_'+file+'.genes.out',delim_whitespace=True,index_col=None,skiprows=0)"
   ]
  },
  {
   "cell_type": "code",
   "execution_count": 8,
   "id": "f39dd999-7ec3-44ac-a68c-7e9645d23102",
   "metadata": {},
   "outputs": [],
   "source": [
    "gene_loc=pd.read_csv('/tscc/projects/ps-palmer/brittany/magma_v1/NCBI38/NCBI38.gene.loc',sep='\\t',header=None)\n",
    "gene_loc.columns=['ID','CHR','START','STOP','STAND','GENE_NAME']"
   ]
  },
  {
   "cell_type": "code",
   "execution_count": 6,
   "id": "2c4953e1-630a-4978-b524-f622617cc1ec",
   "metadata": {},
   "outputs": [],
   "source": [
    "ext_magma=gene_loc[['ID','GENE_NAME']].merge(ext_magma, left_on='ID',right_on='GENE',how='right').reset_index().drop(['index','GENE'],axis=1)\n",
    "ext_magma.columns=['ID', 'GENE', 'CHR', 'START', 'STOP', 'NSNPS', 'NPARAM', 'N','ZSTAT', 'P']"
   ]
  },
  {
   "cell_type": "code",
   "execution_count": 9,
   "id": "0142941b-0867-429b-9937-716cba0acd26",
   "metadata": {},
   "outputs": [],
   "source": [
    "ext_magma['Q']=statsmodels.stats.multitest.fdrcorrection(ext_magma['P'],alpha=0.05,method='indep',is_sorted=False)[1]"
   ]
  },
  {
   "cell_type": "code",
   "execution_count": 10,
   "id": "5fd1f3fb-53c3-44fc-93f7-ae97bd9d9917",
   "metadata": {},
   "outputs": [],
   "source": [
    "ext_magma.to_csv('magma/seed_genes/ext_'+file+'_annot.tsv',sep='\\t',index=False)"
   ]
  }
 ],
 "metadata": {
  "kernelspec": {
   "display_name": "Python 3 (ipykernel)",
   "language": "python",
   "name": "python3"
  },
  "language_info": {
   "codemirror_mode": {
    "name": "ipython",
    "version": 3
   },
   "file_extension": ".py",
   "mimetype": "text/x-python",
   "name": "python",
   "nbconvert_exporter": "python",
   "pygments_lexer": "ipython3",
   "version": "3.9.12"
  }
 },
 "nbformat": 4,
 "nbformat_minor": 5
}
