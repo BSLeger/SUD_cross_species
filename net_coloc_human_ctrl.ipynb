{
 "cells": [
  {
   "cell_type": "markdown",
   "id": "8a2e9a12-93ca-492c-8355-6e20b370b1df",
   "metadata": {},
   "source": [
    "network colocalization for human control traits (positive and negative)"
   ]
  },
  {
   "cell_type": "markdown",
   "id": "ddd34f29-04ba-4f19-a20d-4da38f4e2d72",
   "metadata": {},
   "source": [
    "# set-up"
   ]
  },
  {
   "cell_type": "code",
   "execution_count": 1,
   "id": "98606e39-ed09-4da6-9498-7e585a5d16d2",
   "metadata": {},
   "outputs": [],
   "source": [
    "import os\n",
    "import pandas as pd\n",
    "import ndex2\n",
    "import networkx as nx\n",
    "from netcoloc import netprop_zscore\n",
    "from netcoloc import netprop\n",
    "from netcoloc import network_colocalization\n",
    "import sys\n",
    "import random"
   ]
  },
  {
   "cell_type": "code",
   "execution_count": 3,
   "id": "dc982202-014f-4b49-a971-0b6d5a72c5e9",
   "metadata": {},
   "outputs": [],
   "source": [
    "import os\n",
    "os.chdir('/tscc/projects/ps-palmer/brittany/rare_common_alcohol/rare_common_alcohol_comparison/notebooks/')\n",
    "from rca_functions import *\n",
    "os.chdir('/tscc/projects/ps-palmer/brittany/SUD_cross_species/scripts')\n",
    "from network_functions import *\n",
    "from plotting_functions import *\n",
    "os.chdir('/tscc/projects/ps-palmer/brittany/SUD_cross_species/')"
   ]
  },
  {
   "cell_type": "code",
   "execution_count": 3,
   "id": "750eeda2-49c8-4879-8036-336291e6596f",
   "metadata": {},
   "outputs": [],
   "source": [
    "random_seed=random.seed(211)"
   ]
  },
  {
   "cell_type": "code",
   "execution_count": 4,
   "id": "dd1ef5f4-0aea-4df0-8549-43e341981e22",
   "metadata": {},
   "outputs": [],
   "source": [
    "save_fig=True"
   ]
  },
  {
   "cell_type": "code",
   "execution_count": 5,
   "id": "8a225260-8aa2-4885-8667-cda8fbcf0d9b",
   "metadata": {},
   "outputs": [
    {
     "name": "stdout",
     "output_type": "stream",
     "text": [
      "NDEx credentials imported from meta file\n"
     ]
    }
   ],
   "source": [
    "#create a file called environ_ndex_meta.py where you save variables 'ndex_user' and 'ndex_password'\n",
    "#otherwise will prompt you to define those within the notebooks\n",
    "if os.path.isfile('../environ_ndex_meta.py'):\n",
    "    print ('NDEx credentials imported from meta file')\n",
    "    sys.path.insert(1, '../')\n",
    "    from environ_ndex_meta import *\n",
    "    sys.path.pop(1)\n",
    "else:\n",
    "    # Prompt the user for a username\n",
    "    ndex_user = input(\"Enter your NDEx username: \")\n",
    "    # Prompt the user for a password\n",
    "    ndex_password = input(\"Enter your NDEx password: \")"
   ]
  },
  {
   "cell_type": "code",
   "execution_count": 6,
   "id": "d36fb3ae-cf83-430e-899c-947b6279432a",
   "metadata": {},
   "outputs": [],
   "source": [
    "plt.rcParams.update({'font.size': 16})"
   ]
  },
  {
   "cell_type": "markdown",
   "id": "6153ade7-fcb0-4873-bd59-b7d2d2d126f7",
   "metadata": {},
   "source": [
    "# Interactome Set-up"
   ]
  },
  {
   "cell_type": "code",
   "execution_count": 7,
   "id": "1332132a-dedf-424e-a59e-cc056101695a",
   "metadata": {},
   "outputs": [],
   "source": [
    "tissue_network=False\n",
    "tissue='global'"
   ]
  },
  {
   "cell_type": "markdown",
   "id": "d7e1e414-9dcc-41a1-8d4c-c7689141a50a",
   "metadata": {},
   "source": [
    "pcnet2- versions \n",
    "from wright et al. 2024 preprint:\n",
    "PCNet 2.0= best-performing ranked composite (top 15 interactomes, 3.85M interactions)\n",
    "PCNet 2.1= top 8 interactomes, 1.75M interactions\n",
    "PCNet 2.2= top 10 co-citation-free interactomes, 3.32M interactions "
   ]
  },
  {
   "cell_type": "code",
   "execution_count": 8,
   "id": "3995383c-4e35-40f6-a8a9-f9296a363844",
   "metadata": {},
   "outputs": [
    {
     "name": "stdout",
     "output_type": "stream",
     "text": [
      "PCNet2.2\n",
      "Name: PCNet 2.2\n",
      "Nodes: 18558\n",
      "Edges: 3323928\n",
      "Node Attributes: 18558\n",
      "Edge Attributes: 16619640\n",
      "\n",
      "number of nodes:\n",
      "18558\n",
      "\n",
      "number of edges:\n",
      "3323928\n",
      "\n",
      "calculating w_prime\n",
      "\n",
      "calculating w_double_prime\n"
     ]
    }
   ],
   "source": [
    "if tissue_network==False:\n",
    "    interactome_name='PCNet2.2'\n",
    "    interactome=import_interactome(UUIDs=UUIDs,interactome_name=interactome_name)\n",
    "    all_nodes=list(interactome.nodes())\n",
    "    # pre calculate the matricies used for network propagation\n",
    "    print('\\ncalculating w_prime')\n",
    "    w_prime = netprop.get_normalized_adjacency_matrix(interactome, conserve_heat=True)\n",
    "    \n",
    "    print('\\ncalculating w_double_prime')\n",
    "    w_double_prime = netprop.get_individual_heats_matrix(w_prime, .5)\n",
    "else:\n",
    "    netdir='tissue_networks/intermediate/'\n",
    "    interactome_name=f'hb_tissue_{tissue}_top'\n",
    "    #import node list\n",
    "    with open(f'{netdir}node_list_{tissue}_top.txt', 'r') as file:\n",
    "        lines = file.readlines()\n",
    "    # Remove newline characters from each line\n",
    "    all_nodes=[line.strip() for line in lines]"
   ]
  },
  {
   "cell_type": "markdown",
   "id": "f6188d52-2ece-49c2-bce0-f3cc1021fe17",
   "metadata": {},
   "source": [
    "# import NPS scores and seed genes"
   ]
  },
  {
   "cell_type": "code",
   "execution_count": 9,
   "id": "de0b4669-5fc2-4938-8cf9-8b5ab6732dfd",
   "metadata": {},
   "outputs": [],
   "source": [
    "magma=True\n",
    "rat_network=False"
   ]
  },
  {
   "cell_type": "code",
   "execution_count": 10,
   "id": "84a1d48a-2459-43cb-b3ac-3681a04e7f79",
   "metadata": {},
   "outputs": [
    {
     "data": {
      "text/plain": [
       "dict_keys(['loco_bonf', 'loco_top500', 'loco_FDR', 'loco_gsem_bonf', 'loco_gsem_top500', 'loco_gsem_FDR', 'ext_bonf', 'ext_top500', 'ext_FDR', 'ext_st22', 'loco_mega_fus_naac_bonf', 'loco_mega_fus_naac_top500', 'loco_mega_fus_naac_FDR', 'ext_fus_naac_bonf', 'ext_fus_naac_top500', 'ext_fus_naac_FDR', 'loco_final_cf_bonf', 'loco_final_cf_top500', 'loco_final_cf_FDR', 'loco_final_mega_bonf', 'loco_final_mega_top500', 'loco_final_mega_FDR', 'ext_rat_bonf', 'ext_rat_top500', 'ext_rat_FDR', 'loco_final_cf_rat_bonf', 'loco_final_cf_rat_top500', 'loco_final_cf_rat_FDR', 'ext_db_bonf', 'ext_db_top500', 'ext_db_FDR', 'ext_rtb_bonf', 'ext_rtb_top500', 'ext_rtb_FDR', 'loco_final_cf_25_bonf', 'loco_final_cf_25_top500', 'loco_final_cf_25_FDR', 'facial_hair_FDR', 'facial_hair_bonf', 'facial_hair_top500', 'age_smkinit_FDR', 'age_smkinit_bonf', 'age_smkinit_top500', 'antisoc_FDR', 'antisoc_bonf', 'antisoc_top500', 'hr_FDR', 'hr_bonf', 'hr_top500', 'infant_bw_FDR', 'infant_bw_bonf', 'infant_bw_top500', 'LDL_FDR', 'LDL_bonf', 'LDL_top500', 'maternal_smok_FDR', 'maternal_smok_bonf', 'maternal_smok_top500', 'age_menarche_FDR', 'age_menarche_bonf', 'age_menarche_top500', 'addict-rf_FDR', 'addict-rf_bonf', 'addict-rf_top500', 'adhd_FDR', 'adhd_bonf', 'adhd_top500', 'dpw_FDR', 'dpw_bonf', 'dpw_top500', 'risk_FDR', 'risk_bonf', 'risk_top500', 'auto_speed_FDR', 'auto_speed_bonf', 'auto_speed_top500', 'nsex_FDR', 'nsex_bonf', 'nsex_top500', 'bmi_FDR', 'bmi_bonf', 'bmi_top500', 'height_FDR', 'height_bonf', 'height_top500', 'anxiety_FDR', 'anxiety_bonf', 'anxiety_top500', 'panic_FDR', 'panic_bonf', 'panic_top500', 'asd_FDR', 'asd_bonf', 'asd_top500', 'adhd2022_FDR', 'adhd2022_bonf', 'adhd2022_top500', 'scz_FDR', 'scz_bonf', 'scz_top500', 'bipolar_FDR', 'bipolar_bonf', 'bipolar_top500', 'dep_FDR', 'dep_bonf', 'dep_top500', 'ptsd_FDR', 'ptsd_bonf', 'ptsd_top500', 'ocd_FDR', 'ocd_bonf', 'ocd_top500', 'alz_FDR', 'alz_bonf', 'alz_top500', 'park_FDR', 'park_bonf', 'park_top500', 'als_FDR', 'als_bonf', 'als_top500', 'epilepsy_FDR', 'epilepsy_bonf', 'epilepsy_top500', 'anorexia_FDR', 'anorexia_bonf', 'anorexia_top500', 'park2019_FDR', 'park2019_bonf', 'park2019_top500', 'bipolar_euro_FDR', 'bipolar_euro_bonf', 'bipolar_euro_top500', 'dep_euro_FDR', 'dep_euro_bonf', 'dep_euro_top500', 'ptsd_euro_FDR', 'ptsd_euro_bonf', 'ptsd_euro_top500', 'epilepsy_euro_FDR', 'epilepsy_euro_bonf', 'epilepsy_euro_top500', 'bmi_rn6_FDR', 'bmi_rn6_bonf', 'bmi_rn6_top500', 'body_length_rn6_FDR', 'body_length_rn6_bonf', 'body_length_rn6_top500'])"
      ]
     },
     "execution_count": 10,
     "metadata": {},
     "output_type": "execute_result"
    }
   ],
   "source": [
    "if not tissue_network:\n",
    "    seed_dict=import_seed_dict(mag_dir,file_dict,ctrl_traits,ctrl_traits_rat,psych_traits,bonf_dict,gene_col_dict,all_nodes)\n",
    "else:\n",
    "    hgnc=pd.read_csv('hgnc_complete_set.txt',sep='\\t',low_memory=False)\n",
    "    hgnc=hgnc[['symbol','entrez_id']].dropna()\n",
    "    hgnc['entrez_id']=hgnc['entrez_id'].astype(int).astype(str)\n",
    "    seed_dict=import_seed_dict(mag_dir,file_dict,ctrl_traits,ctrl_traits_rat,bonf_dict,gene_col_dict,hgnc[hgnc.entrez_id.isin(all_nodes)]['symbol'])\n",
    "seed_dict.keys()"
   ]
  },
  {
   "cell_type": "code",
   "execution_count": 11,
   "id": "beb3ddff-17d7-4d05-b490-afeeeaec3818",
   "metadata": {},
   "outputs": [],
   "source": [
    "NPS_dict,NPS_dict_series=import_NPS_scores(seed_dict,interactome_name)"
   ]
  },
  {
   "cell_type": "markdown",
   "id": "a261ed9c-69b5-44bb-95cc-3cb09ba577ca",
   "metadata": {
    "jp-MarkdownHeadingCollapsed": true
   },
   "source": [
    "# choose datasets for analysis"
   ]
  },
  {
   "cell_type": "code",
   "execution_count": 13,
   "id": "df0b1521-d9d8-4d59-9192-328e250ba846",
   "metadata": {},
   "outputs": [],
   "source": [
    "def return_analysis_datasets(trait_r,cut_r,trait_h,cut_h,seed_dict,NPS_dict,interactome_name):\n",
    "    #labels\n",
    "\tif not (trait_h==None):\n",
    "\t    if cut_h==None:\n",
    "\t        label_h=trait_h\n",
    "\t    else:\n",
    "\t        label_h=trait_h+'_'+cut_h\n",
    "\t    seed_h=seed_dict[label_h]\n",
    "\t    NPS_h=NPS_dict[label_h+'_'+interactome_name]\n",
    "\telse:\n",
    "\t\ttrait_h=None\n",
    "\t\tlabel_h=None\n",
    "\t\tcut_h=None\n",
    "\t\tseed_h=None\n",
    "\t\tNPS_h=None\n",
    "\n",
    "\tif not (trait_r==None):\n",
    "\t    if cut_r==None:\n",
    "\t        label_r=trait_r\n",
    "\t    else:\n",
    "\t        label_r=trait_r+'_'+cut_r\n",
    "\t    seed_r=seed_dict[label_r]\n",
    "\t    NPS_r=NPS_dict[label_r+'_'+interactome_name]\n",
    "\n",
    "\telse:\n",
    "\t\ttrait_r=None\n",
    "\t\tlabel_r=None\n",
    "\t\tcut_r=None\n",
    "\t\tseed_r=None\n",
    "\t\tNPS_r=None\n",
    "    #seed genes\n",
    "    #NPS scores\n",
    "\tif ((trait_h!=None) and (trait_r!=None)):\n",
    "\t    NPS = NPS_h.join(NPS_r, lsuffix=\"h\", rsuffix=\"r\")\n",
    "\t    NPS = NPS.assign(zhr=NPS.zh * NPS.zr)\n",
    "\telse:\n",
    "\t    NPS=None\n",
    "\treturn label_h,label_r,seed_h,seed_r,NPS_h,NPS_r,NPS"
   ]
  },
  {
   "cell_type": "code",
   "execution_count": 14,
   "id": "fef27ff5-245f-4f93-b074-7c9064a8e8e6",
   "metadata": {},
   "outputs": [],
   "source": [
    "#set the Z-score cutoffs to calculate network enrichment significance\n",
    "zlist = [1,2,3,4,5,6,7,8,9,10] \n",
    "z12list = [1,1.5,2,3,4,5]\n",
    "cutoff_comb=3\n",
    "cutoff_single=1.5"
   ]
  },
  {
   "cell_type": "code",
   "execution_count": 15,
   "id": "fdb2fcf3-8517-4c60-989a-d9facefea954",
   "metadata": {},
   "outputs": [],
   "source": [
    "zlist=[cutoff_comb]\n",
    "z12list=[cutoff_single]"
   ]
  },
  {
   "cell_type": "markdown",
   "id": "03bf87e0-8a8a-4215-b5a9-02004b4527da",
   "metadata": {
    "jp-MarkdownHeadingCollapsed": true
   },
   "source": [
    "# loop over all traits and loco cutoffs"
   ]
  },
  {
   "cell_type": "code",
   "execution_count": 16,
   "id": "ac9095c0-09b5-411a-b7e4-86e1f2a7e079",
   "metadata": {},
   "outputs": [
    {
     "ename": "NameError",
     "evalue": "name 'traits' is not defined",
     "output_type": "error",
     "traceback": [
      "\u001b[0;31m---------------------------------------------------------------------------\u001b[0m",
      "\u001b[0;31mNameError\u001b[0m                                 Traceback (most recent call last)",
      "Input \u001b[0;32mIn [16]\u001b[0m, in \u001b[0;36m<cell line: 2>\u001b[0;34m()\u001b[0m\n\u001b[1;32m      1\u001b[0m ctrl_traits\u001b[38;5;241m.\u001b[39minsert(\u001b[38;5;28mlen\u001b[39m(ctrl_traits),\u001b[38;5;124m'\u001b[39m\u001b[38;5;124mext\u001b[39m\u001b[38;5;124m'\u001b[39m)\n\u001b[0;32m----> 2\u001b[0m ls\u001b[38;5;241m=\u001b[39m[x \u001b[38;5;28;01mfor\u001b[39;00m x \u001b[38;5;129;01min\u001b[39;00m seed_dict\u001b[38;5;241m.\u001b[39mkeys() \u001b[38;5;28;01mif\u001b[39;00m \u001b[38;5;28many\u001b[39m(ctrl_trait \u001b[38;5;129;01min\u001b[39;00m x \u001b[38;5;28;01mfor\u001b[39;00m ctrl_trait \u001b[38;5;129;01min\u001b[39;00m traits)]\n\u001b[1;32m      3\u001b[0m t\u001b[38;5;241m=\u001b[39m[\u001b[38;5;124m'\u001b[39m\u001b[38;5;124maddict-rf\u001b[39m\u001b[38;5;124m'\u001b[39m,\u001b[38;5;124m'\u001b[39m\u001b[38;5;124mext\u001b[39m\u001b[38;5;124m'\u001b[39m,\u001b[38;5;124m'\u001b[39m\u001b[38;5;124mbmi\u001b[39m\u001b[38;5;124m'\u001b[39m,\u001b[38;5;124m'\u001b[39m\u001b[38;5;124mheight\u001b[39m\u001b[38;5;124m'\u001b[39m]\n\u001b[1;32m      4\u001b[0m rm\u001b[38;5;241m=\u001b[39m[\u001b[38;5;124m'\u001b[39m\u001b[38;5;124mfus\u001b[39m\u001b[38;5;124m'\u001b[39m,\u001b[38;5;124m'\u001b[39m\u001b[38;5;124mrat\u001b[39m\u001b[38;5;124m'\u001b[39m,\u001b[38;5;124m'\u001b[39m\u001b[38;5;124mloco\u001b[39m\u001b[38;5;124m'\u001b[39m,\u001b[38;5;124m'\u001b[39m\u001b[38;5;124mdb\u001b[39m\u001b[38;5;124m'\u001b[39m,\u001b[38;5;124m'\u001b[39m\u001b[38;5;124mrtb\u001b[39m\u001b[38;5;124m'\u001b[39m,\u001b[38;5;124m'\u001b[39m\u001b[38;5;124mst22\u001b[39m\u001b[38;5;124m'\u001b[39m]\n",
      "Input \u001b[0;32mIn [16]\u001b[0m, in \u001b[0;36m<listcomp>\u001b[0;34m(.0)\u001b[0m\n\u001b[1;32m      1\u001b[0m ctrl_traits\u001b[38;5;241m.\u001b[39minsert(\u001b[38;5;28mlen\u001b[39m(ctrl_traits),\u001b[38;5;124m'\u001b[39m\u001b[38;5;124mext\u001b[39m\u001b[38;5;124m'\u001b[39m)\n\u001b[0;32m----> 2\u001b[0m ls\u001b[38;5;241m=\u001b[39m[x \u001b[38;5;28;01mfor\u001b[39;00m x \u001b[38;5;129;01min\u001b[39;00m seed_dict\u001b[38;5;241m.\u001b[39mkeys() \u001b[38;5;28;01mif\u001b[39;00m \u001b[38;5;28many\u001b[39m(ctrl_trait \u001b[38;5;129;01min\u001b[39;00m x \u001b[38;5;28;01mfor\u001b[39;00m ctrl_trait \u001b[38;5;129;01min\u001b[39;00m \u001b[43mtraits\u001b[49m)]\n\u001b[1;32m      3\u001b[0m t\u001b[38;5;241m=\u001b[39m[\u001b[38;5;124m'\u001b[39m\u001b[38;5;124maddict-rf\u001b[39m\u001b[38;5;124m'\u001b[39m,\u001b[38;5;124m'\u001b[39m\u001b[38;5;124mext\u001b[39m\u001b[38;5;124m'\u001b[39m,\u001b[38;5;124m'\u001b[39m\u001b[38;5;124mbmi\u001b[39m\u001b[38;5;124m'\u001b[39m,\u001b[38;5;124m'\u001b[39m\u001b[38;5;124mheight\u001b[39m\u001b[38;5;124m'\u001b[39m]\n\u001b[1;32m      4\u001b[0m rm\u001b[38;5;241m=\u001b[39m[\u001b[38;5;124m'\u001b[39m\u001b[38;5;124mfus\u001b[39m\u001b[38;5;124m'\u001b[39m,\u001b[38;5;124m'\u001b[39m\u001b[38;5;124mrat\u001b[39m\u001b[38;5;124m'\u001b[39m,\u001b[38;5;124m'\u001b[39m\u001b[38;5;124mloco\u001b[39m\u001b[38;5;124m'\u001b[39m,\u001b[38;5;124m'\u001b[39m\u001b[38;5;124mdb\u001b[39m\u001b[38;5;124m'\u001b[39m,\u001b[38;5;124m'\u001b[39m\u001b[38;5;124mrtb\u001b[39m\u001b[38;5;124m'\u001b[39m,\u001b[38;5;124m'\u001b[39m\u001b[38;5;124mst22\u001b[39m\u001b[38;5;124m'\u001b[39m]\n",
      "\u001b[0;31mNameError\u001b[0m: name 'traits' is not defined"
     ]
    }
   ],
   "source": [
    "ctrl_traits.insert(len(ctrl_traits),'ext')\n",
    "ls=[x for x in seed_dict.keys() if any(ctrl_trait in x for ctrl_trait in traits)]\n",
    "t=['addict-rf','ext','bmi','height']\n",
    "rm=['fus','rat','loco','db','rtb','st22']\n",
    "ls=[x for x in seed_dict.keys() if any(t in x for t in t)]\n",
    "ls=[x for x in ls if not any(rm in x for rm in rm)]\n",
    "ls"
   ]
  },
  {
   "cell_type": "code",
   "execution_count": null,
   "id": "33852dd9-d98d-4357-bedf-a35366f51bac",
   "metadata": {},
   "outputs": [],
   "source": [
    "ls=[x for x in seed_dict.keys() if any(ctrl_trait in x for ctrl_trait in ['park_'])]"
   ]
  },
  {
   "cell_type": "code",
   "execution_count": null,
   "id": "cadf0879-1d07-468e-9cca-beff2230455a",
   "metadata": {},
   "outputs": [],
   "source": [
    "ls=[x for x in seed_dict.keys() if any(ctrl_trait in x for ctrl_trait in [x for x in psych_traits if 'euro' in x])]"
   ]
  },
  {
   "cell_type": "code",
   "execution_count": null,
   "id": "138a434e-35c7-4a00-858d-35dc2ef7d746",
   "metadata": {
    "scrolled": true
   },
   "outputs": [],
   "source": [
    "#modify for correct genesets\n",
    "trait_r='loco_final_cf'\n",
    "trait_h=None\n",
    "cut_h=None\n",
    "overwrite=True\n",
    "#for cut_r in ['FDR','bonf','top500']:\n",
    "for cut_r in ['FDR','bonf']:\n",
    "    _,label_r,_,seed_r,_,NPS_r,_=return_analysis_datasets(trait_r,cut_r,trait_h,cut_h,seed_dict,NPS_dict,interactome_name)\n",
    "    print(trait_r)\n",
    "    for label_h in ls:\n",
    "            print(label_h)\n",
    "            coloc_filename=f'colocalization_scores/colocScore_{label_r}_{label_h}_{interactome_name}.tsv'\n",
    "            if not (os.path.exists(coloc_filename)and overwrite==False):\n",
    "                print('running analysis')\n",
    "                seed_h=seed_dict[label_h]\n",
    "                print(f'{len(seed_h)} seed genes for this dataset.')\n",
    "                npsh_label=label_h+'_'+interactome_name\n",
    "                if not (npsh_label in NPS_dict.keys()):\n",
    "                    print(f'{npsh_label} does not have scores, possibly due to number of seed genes.')\n",
    "                else:\n",
    "                    NPS_h=NPS_dict[npsh_label]\n",
    "                    netcoloc_enrichment_df = network_colocalization.calculate_network_enrichment(NPS_r,NPS_h,\n",
    "                                                                                                 zthresh_list = zlist,\n",
    "                                                                                                 z12thresh_list=z12list,\n",
    "                                                                                                 verbose=False)\n",
    "                    #netcoloc_enrichment_df=netcoloc_enrichment_df[netcoloc_enrichment_df['z_comb']>=netcoloc_enrichment_df['NPS_single']]\n",
    "                    #print(netcoloc_enrichment_df)\n",
    "                    netcoloc_enrichment_df['rat_dataset']=label_r\n",
    "                    netcoloc_enrichment_df['human_dataset']=label_h\n",
    "                    if save_fig:\n",
    "                        netcoloc_enrichment_df.to_csv('colocalization_scores/colocScore_'+label_r+'_'+label_h+'_'+interactome_name+'.tsv',sep='\\t',index=False)\n",
    "            else:\n",
    "                print('file already exists')"
   ]
  },
  {
   "cell_type": "code",
   "execution_count": 25,
   "id": "2c617f2e-b63e-4704-8e44-e19a43864b72",
   "metadata": {},
   "outputs": [
    {
     "data": {
      "text/plain": [
       "dict_keys(['loco_bonf_PCNet2.1', 'loco_FDR_PCNet2.1', 'loco_gsem_bonf_PCNet2.1', 'loco_gsem_FDR_PCNet2.1', 'ext_bonf_PCNet2.1', 'ext_top500_PCNet2.1', 'ext_FDR_PCNet2.1', 'ext_st22_PCNet2.1', 'loco_mega_fus_naac_bonf_PCNet2.1', 'loco_mega_fus_naac_FDR_PCNet2.1', 'ext_fus_naac_bonf_PCNet2.1', 'ext_fus_naac_top500_PCNet2.1', 'ext_fus_naac_FDR_PCNet2.1', 'facial_hair_FDR_PCNet2.1', 'facial_hair_bonf_PCNet2.1', 'facial_hair_top500_PCNet2.1', 'age_smkinit_FDR_PCNet2.1', 'age_smkinit_bonf_PCNet2.1', 'age_smkinit_top500_PCNet2.1', 'antisoc_FDR_PCNet2.1', 'antisoc_bonf_PCNet2.1', 'antisoc_top500_PCNet2.1', 'hr_FDR_PCNet2.1', 'hr_bonf_PCNet2.1', 'hr_top500_PCNet2.1', 'infant_bw_FDR_PCNet2.1', 'infant_bw_bonf_PCNet2.1', 'infant_bw_top500_PCNet2.1', 'LDL_FDR_PCNet2.1', 'LDL_bonf_PCNet2.1', 'LDL_top500_PCNet2.1', 'maternal_smok_FDR_PCNet2.1', 'maternal_smok_bonf_PCNet2.1', 'maternal_smok_top500_PCNet2.1', 'age_menarche_FDR_PCNet2.1', 'age_menarche_bonf_PCNet2.1', 'age_menarche_top500_PCNet2.1', 'addict-rf_FDR_PCNet2.1', 'addict-rf_bonf_PCNet2.1', 'addict-rf_top500_PCNet2.1'])"
      ]
     },
     "execution_count": 25,
     "metadata": {},
     "output_type": "execute_result"
    }
   ],
   "source": [
    "NPS_dict.keys()"
   ]
  },
  {
   "cell_type": "code",
   "execution_count": 17,
   "id": "61053d77-3401-4f2c-93a7-88f5d4f9626b",
   "metadata": {
    "scrolled": true
   },
   "outputs": [],
   "source": [
    "ls=[x[0:(len(x)-len(f'_{interactome_name}'))] for x in list(NPS_dict.keys())]"
   ]
  },
  {
   "cell_type": "code",
   "execution_count": 19,
   "id": "34cb377e-843f-4b0e-b38b-9172747b849a",
   "metadata": {
    "scrolled": true
   },
   "outputs": [
    {
     "name": "stdout",
     "output_type": "stream",
     "text": [
      "loco_final_cf\n",
      "loco_bonf\n",
      "file already exists\n",
      "loco_FDR\n",
      "file already exists\n",
      "loco_gsem_bonf\n",
      "file already exists\n",
      "loco_gsem_FDR\n",
      "file already exists\n",
      "ext_bonf\n",
      "file already exists\n",
      "ext_top500\n",
      "file already exists\n",
      "ext_FDR\n",
      "file already exists\n",
      "ext_st22\n",
      "file already exists\n",
      "loco_mega_fus_naac_bonf\n",
      "file already exists\n",
      "loco_mega_fus_naac_FDR\n",
      "file already exists\n",
      "ext_fus_naac_bonf\n",
      "file already exists\n",
      "ext_fus_naac_top500\n",
      "file already exists\n",
      "ext_fus_naac_FDR\n",
      "file already exists\n",
      "loco_final_cf_FDR\n",
      "file already exists\n",
      "facial_hair_FDR\n",
      "file already exists\n",
      "facial_hair_bonf\n",
      "file already exists\n",
      "facial_hair_top500\n",
      "file already exists\n",
      "age_smkinit_FDR\n",
      "file already exists\n",
      "age_smkinit_bonf\n",
      "file already exists\n",
      "age_smkinit_top500\n",
      "file already exists\n",
      "antisoc_FDR\n",
      "file already exists\n",
      "antisoc_bonf\n",
      "file already exists\n",
      "antisoc_top500\n",
      "file already exists\n",
      "hr_FDR\n",
      "file already exists\n",
      "hr_bonf\n",
      "file already exists\n",
      "hr_top500\n",
      "file already exists\n",
      "infant_bw_FDR\n",
      "file already exists\n",
      "infant_bw_bonf\n",
      "file already exists\n",
      "infant_bw_top500\n",
      "file already exists\n",
      "LDL_FDR\n",
      "file already exists\n",
      "LDL_bonf\n",
      "file already exists\n",
      "LDL_top500\n",
      "file already exists\n",
      "maternal_smok_FDR\n",
      "file already exists\n",
      "maternal_smok_bonf\n",
      "file already exists\n",
      "maternal_smok_top500\n",
      "file already exists\n",
      "age_menarche_FDR\n",
      "file already exists\n",
      "age_menarche_bonf\n",
      "file already exists\n",
      "age_menarche_top500\n",
      "file already exists\n",
      "addict-rf_FDR\n",
      "file already exists\n",
      "addict-rf_bonf\n",
      "file already exists\n",
      "addict-rf_top500\n",
      "file already exists\n",
      "adhd_FDR\n",
      "file already exists\n",
      "dpw_bonf\n",
      "file already exists\n",
      "anxiety_bonf\n",
      "file already exists\n",
      "asd_FDR\n",
      "file already exists\n",
      "adhd2022_FDR\n",
      "file already exists\n",
      "scz_top500\n",
      "file already exists\n",
      "bipolar_bonf\n",
      "file already exists\n",
      "dep_bonf\n",
      "file already exists\n",
      "ptsd_bonf\n",
      "file already exists\n",
      "ocd_FDR\n",
      "file already exists\n",
      "alz_FDR\n",
      "file already exists\n",
      "park_bonf\n",
      "file already exists\n",
      "als_FDR\n",
      "file already exists\n",
      "epilepsy_FDR\n",
      "file already exists\n",
      "anorexia_FDR\n",
      "file already exists\n"
     ]
    }
   ],
   "source": [
    "#modify for correct genesets\n",
    "trait_r='loco_final_cf'\n",
    "trait_h=None\n",
    "cut_h=None\n",
    "#for cut_r in ['FDR','bonf','top500']:\n",
    "for cut_r in ['FDR']:\n",
    "    _,label_r,_,seed_r,_,NPS_r,_=return_analysis_datasets(trait_r,cut_r,trait_h,cut_h,seed_dict,NPS_dict,interactome_name)\n",
    "    print(trait_r)\n",
    "    for label_h in ls:\n",
    "            print(label_h)\n",
    "            coloc_filename=f'colocalization_scores/colocScore_{label_r}_{label_h}_{interactome_name}.tsv'\n",
    "            if not (os.path.exists(coloc_filename)):\n",
    "                print('running analysis')\n",
    "                seed_h=seed_dict[label_h]\n",
    "                NPS_h=NPS_dict[label_h+'_'+interactome_name]\n",
    "                netcoloc_enrichment_df = network_colocalization.calculate_network_enrichment(NPS_r,NPS_h,\n",
    "                                                                                             zthresh_list = zlist,\n",
    "                                                                                             z12thresh_list=z12list,\n",
    "                                                                                             verbose=False)\n",
    "                #netcoloc_enrichment_df=netcoloc_enrichment_df[netcoloc_enrichment_df['z_comb']>=netcoloc_enrichment_df['NPS_single']]\n",
    "                print(netcoloc_enrichment_df)\n",
    "                netcoloc_enrichment_df['rat_dataset']=label_r\n",
    "                netcoloc_enrichment_df['human_dataset']=label_h\n",
    "                if save_fig:\n",
    "                    netcoloc_enrichment_df.to_csv('colocalization_scores/colocScore_'+label_r+'_'+label_h+'_'+interactome_name+'.tsv',sep='\\t',index=False)\n",
    "            else:\n",
    "                print('file already exists')"
   ]
  },
  {
   "cell_type": "markdown",
   "id": "e8991fff-99fa-4420-af8d-ce3ce1ae0100",
   "metadata": {
    "jp-MarkdownHeadingCollapsed": true
   },
   "source": [
    "# old code"
   ]
  },
  {
   "cell_type": "code",
   "execution_count": null,
   "id": "e5a9ca5e-2a49-4493-b595-270a7603cf1f",
   "metadata": {},
   "outputs": [],
   "source": [
    "ctrl_traits=[x for x in seed_dict.keys() if not any(rm in x for rm in rm)]"
   ]
  },
  {
   "cell_type": "code",
   "execution_count": null,
   "id": "601ee744-52c7-435e-a988-a03bd92cde8b",
   "metadata": {},
   "outputs": [],
   "source": [
    "rerun_analysis=False"
   ]
  },
  {
   "cell_type": "code",
   "execution_count": 16,
   "id": "95a61a3a-d605-4730-9d58-2e46df9ac543",
   "metadata": {},
   "outputs": [],
   "source": [
    "#modify for correct genesets\n",
    "trait_r='loco_final_cf_25'\n",
    "cut_r='FDR'\n",
    "trait_h=None\n",
    "cut_h=None\n",
    "\n",
    "_,label_r,_,seed_r,_,NPS_r,_=return_analysis_datasets(trait_r,cut_r,trait_h,cut_h,seed_dict,NPS_dict,interactome_name)"
   ]
  },
  {
   "cell_type": "code",
   "execution_count": null,
   "id": "17baaaf6-2328-4fff-9191-6a545d9c7893",
   "metadata": {},
   "outputs": [],
   "source": [
    "for t in ctrl_traits:\n",
    "        trait_h=str(t)\n",
    "        if len(seed_dict[t+'_bonf'])<=500:\n",
    "            print('more than 500 genes in most stringent cutoff- testing top500')\n",
    "            test500=True\n",
    "        else:\n",
    "            test500=False\n",
    "        for u in ['FDR','bonf']:\n",
    "            trait_h=str(t)\n",
    "            cut_h=u\n",
    "            label_h=trait_h+'_'+cut_h\n",
    "            seed_h=seed_dict[label_h]\n",
    "            NPS_h=NPS_dict[label_h+'_'+interactome_name]\n",
    "            netcoloc_enrichment_df = network_colocalization.calculate_network_enrichment(NPS_r,NPS_h,\n",
    "                                                                                         zthresh_list = zlist,\n",
    "                                                                                         z12thresh_list=z12list,\n",
    "                                                                                         verbose=False)\n",
    "            #netcoloc_enrichment_df=netcoloc_enrichment_df[netcoloc_enrichment_df['z_comb']>=netcoloc_enrichment_df['NPS_single']]\n",
    "            print(netcoloc_enrichment_df)\n",
    "            netcoloc_enrichment_df['rat_dataset']=label_r\n",
    "            netcoloc_enrichment_df['human_dataset']=label_h\n",
    "            if save_fig:\n",
    "                netcoloc_enrichment_df.to_csv('colocalization_scores/colocScore_'+label_r+'_'+label_h+'_'+interactome_name+'.tsv',sep='\\t',index=False)\n",
    "            pOverlap=float(netcoloc_enrichment_df[(netcoloc_enrichment_df['z_comb']==cutoff_comb) & (netcoloc_enrichment_df['z_12']==cutoff_single)]['empirical_p'])\n",
    "        if (test500==True):\n",
    "            trait_h=str(t)\n",
    "            cut_h='top500'\n",
    "            label_h=trait_h+'_'+cut_h\n",
    "            seed_h=seed_dict[label_h]\n",
    "            NPS_h=NPS_dict[label_h+'_'+interactome_name]\n",
    "            netcoloc_enrichment_df = network_colocalization.calculate_network_enrichment(NPS_r,NPS_h,\n",
    "                                                                                         zthresh_list = zlist,\n",
    "                                                                                         z12thresh_list=z12list,\n",
    "                                                                                         verbose=False)\n",
    "            #netcoloc_enrichment_df=netcoloc_enrichment_df[netcoloc_enrichment_df['z_comb']>=netcoloc_enrichment_df['NPS_single']]\n",
    "            print(netcoloc_enrichment_df)\n",
    "            netcoloc_enrichment_df['rat_dataset']=label_r\n",
    "            netcoloc_enrichment_df['human_dataset']=label_h\n",
    "            if save_fig:\n",
    "                netcoloc_enrichment_df.to_csv('colocalization_scores/colocScore_'+label_r+'_'+label_h+'_'+interactome_name+'.tsv',sep='\\t',index=False)\n",
    "            pOverlap=float(netcoloc_enrichment_df[(netcoloc_enrichment_df['z_comb']==cutoff_comb) & (netcoloc_enrichment_df['z_12']==cutoff_single)]['empirical_p'])"
   ]
  }
 ],
 "metadata": {
  "kernelspec": {
   "display_name": "Python [conda env:env-std-py38]",
   "language": "python",
   "name": "conda-env-env-std-py38-py"
  },
  "language_info": {
   "codemirror_mode": {
    "name": "ipython",
    "version": 3
   },
   "file_extension": ".py",
   "mimetype": "text/x-python",
   "name": "python",
   "nbconvert_exporter": "python",
   "pygments_lexer": "ipython3",
   "version": "3.8.13"
  }
 },
 "nbformat": 4,
 "nbformat_minor": 5
}
