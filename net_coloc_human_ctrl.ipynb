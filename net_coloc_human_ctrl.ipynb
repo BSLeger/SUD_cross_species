{
 "cells": [
  {
   "cell_type": "markdown",
   "id": "8a2e9a12-93ca-492c-8355-6e20b370b1df",
   "metadata": {},
   "source": [
    "network colocalization for human control traits (positive and negative)"
   ]
  },
  {
   "cell_type": "markdown",
   "id": "ddd34f29-04ba-4f19-a20d-4da38f4e2d72",
   "metadata": {},
   "source": [
    "# set-up"
   ]
  },
  {
   "cell_type": "code",
   "execution_count": 1,
   "id": "98606e39-ed09-4da6-9498-7e585a5d16d2",
   "metadata": {},
   "outputs": [],
   "source": [
    "import os\n",
    "import pandas as pd\n",
    "import ndex2\n",
    "import networkx as nx\n",
    "from netcoloc import netprop_zscore\n",
    "from netcoloc import netprop\n",
    "from netcoloc import network_colocalization\n",
    "import sys\n",
    "import random"
   ]
  },
  {
   "cell_type": "code",
   "execution_count": 2,
   "id": "dc982202-014f-4b49-a971-0b6d5a72c5e9",
   "metadata": {},
   "outputs": [],
   "source": [
    "import os\n",
    "os.chdir('/tscc/projects/ps-palmer/brittany/rare_common_alcohol/rare_common_alcohol_comparison/notebooks/')\n",
    "from rca_functions import *\n",
    "os.chdir('/tscc/projects/ps-palmer/brittany/SUD_cross_species/scripts')\n",
    "from network_functions import *\n",
    "from plotting_functions import *\n",
    "os.chdir('/tscc/projects/ps-palmer/brittany/SUD_cross_species/')"
   ]
  },
  {
   "cell_type": "code",
   "execution_count": 3,
   "id": "750eeda2-49c8-4879-8036-336291e6596f",
   "metadata": {},
   "outputs": [],
   "source": [
    "random_seed=random.seed(211)"
   ]
  },
  {
   "cell_type": "code",
   "execution_count": 4,
   "id": "dd1ef5f4-0aea-4df0-8549-43e341981e22",
   "metadata": {},
   "outputs": [],
   "source": [
    "save_fig=True"
   ]
  },
  {
   "cell_type": "code",
   "execution_count": 5,
   "id": "8a225260-8aa2-4885-8667-cda8fbcf0d9b",
   "metadata": {},
   "outputs": [
    {
     "name": "stdout",
     "output_type": "stream",
     "text": [
      "NDEx credentials imported from meta file\n"
     ]
    }
   ],
   "source": [
    "#create a file called environ_ndex_meta.py where you save variables 'ndex_user' and 'ndex_password'\n",
    "#otherwise will prompt you to define those within the notebooks\n",
    "if os.path.isfile('../environ_ndex_meta.py'):\n",
    "    print ('NDEx credentials imported from meta file')\n",
    "    sys.path.insert(1, '../')\n",
    "    from environ_ndex_meta import *\n",
    "    sys.path.pop(1)\n",
    "else:\n",
    "    # Prompt the user for a username\n",
    "    ndex_user = input(\"Enter your NDEx username: \")\n",
    "    # Prompt the user for a password\n",
    "    ndex_password = input(\"Enter your NDEx password: \")"
   ]
  },
  {
   "cell_type": "code",
   "execution_count": 6,
   "id": "d36fb3ae-cf83-430e-899c-947b6279432a",
   "metadata": {},
   "outputs": [],
   "source": [
    "plt.rcParams.update({'font.size': 16})"
   ]
  },
  {
   "cell_type": "markdown",
   "id": "6153ade7-fcb0-4873-bd59-b7d2d2d126f7",
   "metadata": {},
   "source": [
    "# Interactome Set-up"
   ]
  },
  {
   "cell_type": "markdown",
   "id": "d7e1e414-9dcc-41a1-8d4c-c7689141a50a",
   "metadata": {},
   "source": [
    "pcnet2- versions \n",
    "from wright et al. 2024 preprint:\n",
    "PCNet 2.0= best-performing ranked composite (top 15 interactomes, 3.85M interactions)\n",
    "PCNet 2.1= top 8 interactomes, 1.75M interactions\n",
    "PCNet 2.2= top 10 co-citation-free interactomes, 3.32M interactions "
   ]
  },
  {
   "cell_type": "code",
   "execution_count": 7,
   "id": "122fd7fa-1aa6-4dfc-a565-2f342404ee82",
   "metadata": {},
   "outputs": [],
   "source": [
    "interactome_name='PCNet2.0'"
   ]
  },
  {
   "cell_type": "code",
   "execution_count": 8,
   "id": "8755ab5e-405e-4f9a-9a75-bf054c77f87a",
   "metadata": {},
   "outputs": [
    {
     "name": "stdout",
     "output_type": "stream",
     "text": [
      "PCNet2.0\n",
      "Name: PCNet 2.0\n",
      "Nodes: 19267\n",
      "Edges: 3852119\n",
      "Node Attributes: 19267\n",
      "Edge Attributes: 19260595\n",
      "\n",
      "number of nodes:\n",
      "19267\n",
      "\n",
      "number of edges:\n",
      "3852119\n"
     ]
    }
   ],
   "source": [
    "graph=import_interactome(UUIDs=UUIDs,interactome_name=interactome_name)\n",
    "all_nodes=list(graph.nodes())"
   ]
  },
  {
   "cell_type": "code",
   "execution_count": 9,
   "id": "379f3388-65ce-454b-a48f-bf82f06efbbc",
   "metadata": {},
   "outputs": [
    {
     "name": "stdout",
     "output_type": "stream",
     "text": [
      "\n",
      "calculating w_prime\n",
      "\n",
      "calculating w_double_prime\n"
     ]
    }
   ],
   "source": [
    "# pre calculate the matricies used for network propagation\n",
    "print('\\ncalculating w_prime')\n",
    "w_prime = netprop.get_normalized_adjacency_matrix(graph, conserve_heat=True)\n",
    "\n",
    "print('\\ncalculating w_double_prime')\n",
    "w_double_prime = netprop.get_individual_heats_matrix(w_prime, .5)"
   ]
  },
  {
   "cell_type": "markdown",
   "id": "f6188d52-2ece-49c2-bce0-f3cc1021fe17",
   "metadata": {},
   "source": [
    "# import NPS scores and seed genes"
   ]
  },
  {
   "cell_type": "code",
   "execution_count": 10,
   "id": "9c12927f-2626-49a9-96f4-40c6095c0eeb",
   "metadata": {},
   "outputs": [
    {
     "data": {
      "text/plain": [
       "dict_keys(['loco_bonf', 'loco_top500', 'loco_FDR', 'loco_gsem_bonf', 'loco_gsem_top500', 'loco_gsem_FDR', 'ext_bonf', 'ext_top500', 'ext_FDR', 'ext_st22', 'loco_mega_fus_naac_bonf', 'loco_mega_fus_naac_top500', 'loco_mega_fus_naac_FDR', 'ext_fus_naac_bonf', 'ext_fus_naac_top500', 'ext_fus_naac_FDR', 'loco_final_cf_bonf', 'loco_final_cf_top500', 'loco_final_cf_FDR', 'loco_final_mega_bonf', 'loco_final_mega_top500', 'loco_final_mega_FDR'])"
      ]
     },
     "execution_count": 10,
     "metadata": {},
     "output_type": "execute_result"
    }
   ],
   "source": [
    "seed_dict=import_seed_dict(mag_dir,file_dict,bonf_dict,gene_col_dict,all_nodes)\n",
    "seed_dict.keys()"
   ]
  },
  {
   "cell_type": "code",
   "execution_count": 14,
   "id": "cd491777-9238-43d8-9975-f02dbeaf3b91",
   "metadata": {},
   "outputs": [],
   "source": [
    "#dictionary of human control traits\n",
    "ctrl_dict={}\n",
    "ctrl_traits=['facial_hair', 'age_smkinit', 'antisoc', 'friend_sat', 'hr', 'infant_bw', 'LDL', 'maternal_smok', 'townsend', 'age_menarche', 'neurot','addict-rf']\n",
    "for t in ctrl_traits:\n",
    "    ctrl_dict[t]=pd.read_csv('gwas_ctrl_hm/magma/seed_genes/'+t+'_annot.tsv',sep='\\t')\n",
    "for t in ctrl_traits:\n",
    "    seed_dict[t+'_FDR']=(set(ctrl_dict[t][ctrl_dict[t]['Q']<0.05]['GENE']))\n",
    "    seed_dict[t+'_bonf']=(set(ctrl_dict[t][ctrl_dict[t]['P']<0.05/len(ctrl_dict[t])]['GENE']))\n",
    "    seed_dict[t+'_top500']=set(ctrl_dict[t][(ctrl_dict[t]['GENE'].isin(all_nodes))].nsmallest(500,'P')['GENE'])"
   ]
  },
  {
   "cell_type": "code",
   "execution_count": 15,
   "id": "4e468999-638d-4675-98f3-db15dcee53c5",
   "metadata": {},
   "outputs": [
    {
     "data": {
      "text/plain": [
       "dict_keys(['loco_bonf_PCNet2.0', 'loco_bonf_PCNet2.1', 'loco_bonf_PCNet2.2', 'loco_FDR_PCNet2.0', 'loco_FDR_PCNet2.1', 'loco_FDR_PCNet2.2', 'loco_gsem_bonf_PCNet2.0', 'loco_gsem_bonf_PCNet2.1', 'loco_gsem_bonf_PCNet2.2', 'loco_gsem_FDR_PCNet2.0', 'loco_gsem_FDR_PCNet2.1', 'loco_gsem_FDR_PCNet2.2', 'ext_bonf_PCNet2.0', 'ext_bonf_PCNet2.1', 'ext_bonf_PCNet2.2', 'ext_top500_PCNet2.0', 'ext_top500_PCNet2.1', 'ext_top500_PCNet2.2', 'ext_FDR_PCNet2.0', 'ext_FDR_PCNet2.1', 'ext_FDR_PCNet2.2', 'ext_st22_PCNet2.0', 'ext_st22_PCNet2.1', 'ext_st22_PCNet2.2', 'loco_mega_fus_naac_bonf_PCNet2.0', 'loco_mega_fus_naac_bonf_PCNet2.1', 'loco_mega_fus_naac_bonf_PCNet2.2', 'loco_mega_fus_naac_FDR_PCNet2.0', 'loco_mega_fus_naac_FDR_PCNet2.1', 'loco_mega_fus_naac_FDR_PCNet2.2', 'ext_fus_naac_bonf_PCNet2.0', 'ext_fus_naac_bonf_PCNet2.1', 'ext_fus_naac_bonf_PCNet2.2', 'ext_fus_naac_top500_PCNet2.0', 'ext_fus_naac_top500_PCNet2.1', 'ext_fus_naac_top500_PCNet2.2', 'ext_fus_naac_FDR_PCNet2.0', 'ext_fus_naac_FDR_PCNet2.1', 'ext_fus_naac_FDR_PCNet2.2', 'loco_final_cf_bonf_PCNet2.0', 'loco_final_cf_top500_PCNet2.0', 'loco_final_cf_FDR_PCNet2.0', 'loco_final_mega_bonf_PCNet2.0', 'loco_final_mega_top500_PCNet2.0', 'loco_final_mega_FDR_PCNet2.0', 'facial_hair_FDR_PCNet2.0', 'facial_hair_FDR_PCNet2.1', 'facial_hair_FDR_PCNet2.2', 'facial_hair_bonf_PCNet2.0', 'facial_hair_bonf_PCNet2.1', 'facial_hair_bonf_PCNet2.2', 'facial_hair_top500_PCNet2.0', 'facial_hair_top500_PCNet2.1', 'facial_hair_top500_PCNet2.2', 'age_smkinit_FDR_PCNet2.0', 'age_smkinit_FDR_PCNet2.1', 'age_smkinit_FDR_PCNet2.2', 'age_smkinit_bonf_PCNet2.0', 'age_smkinit_bonf_PCNet2.1', 'age_smkinit_bonf_PCNet2.2', 'age_smkinit_top500_PCNet2.0', 'age_smkinit_top500_PCNet2.1', 'age_smkinit_top500_PCNet2.2', 'antisoc_FDR_PCNet2.0', 'antisoc_FDR_PCNet2.1', 'antisoc_FDR_PCNet2.2', 'antisoc_bonf_PCNet2.0', 'antisoc_bonf_PCNet2.1', 'antisoc_bonf_PCNet2.2', 'antisoc_top500_PCNet2.0', 'antisoc_top500_PCNet2.1', 'antisoc_top500_PCNet2.2', 'friend_sat_FDR_PCNet2.0', 'friend_sat_FDR_PCNet2.1', 'friend_sat_FDR_PCNet2.2', 'friend_sat_bonf_PCNet2.0', 'friend_sat_bonf_PCNet2.1', 'friend_sat_bonf_PCNet2.2', 'friend_sat_top500_PCNet2.0', 'friend_sat_top500_PCNet2.1', 'friend_sat_top500_PCNet2.2', 'hr_FDR_PCNet2.0', 'hr_FDR_PCNet2.1', 'hr_FDR_PCNet2.2', 'hr_bonf_PCNet2.0', 'hr_bonf_PCNet2.1', 'hr_bonf_PCNet2.2', 'hr_top500_PCNet2.0', 'hr_top500_PCNet2.1', 'hr_top500_PCNet2.2', 'infant_bw_FDR_PCNet2.0', 'infant_bw_FDR_PCNet2.1', 'infant_bw_FDR_PCNet2.2', 'infant_bw_bonf_PCNet2.0', 'infant_bw_bonf_PCNet2.1', 'infant_bw_bonf_PCNet2.2', 'infant_bw_top500_PCNet2.0', 'infant_bw_top500_PCNet2.1', 'infant_bw_top500_PCNet2.2', 'LDL_FDR_PCNet2.0', 'LDL_FDR_PCNet2.1', 'LDL_FDR_PCNet2.2', 'LDL_bonf_PCNet2.0', 'LDL_bonf_PCNet2.1', 'LDL_bonf_PCNet2.2', 'LDL_top500_PCNet2.0', 'LDL_top500_PCNet2.1', 'LDL_top500_PCNet2.2', 'maternal_smok_FDR_PCNet2.0', 'maternal_smok_FDR_PCNet2.1', 'maternal_smok_FDR_PCNet2.2', 'maternal_smok_bonf_PCNet2.0', 'maternal_smok_bonf_PCNet2.1', 'maternal_smok_bonf_PCNet2.2', 'maternal_smok_top500_PCNet2.0', 'maternal_smok_top500_PCNet2.1', 'maternal_smok_top500_PCNet2.2', 'townsend_FDR_PCNet2.0', 'townsend_FDR_PCNet2.1', 'townsend_FDR_PCNet2.2', 'townsend_bonf_PCNet2.0', 'townsend_bonf_PCNet2.1', 'townsend_bonf_PCNet2.2', 'townsend_top500_PCNet2.0', 'townsend_top500_PCNet2.1', 'townsend_top500_PCNet2.2', 'age_menarche_FDR_PCNet2.0', 'age_menarche_FDR_PCNet2.1', 'age_menarche_FDR_PCNet2.2', 'age_menarche_bonf_PCNet2.0', 'age_menarche_bonf_PCNet2.1', 'age_menarche_bonf_PCNet2.2', 'age_menarche_top500_PCNet2.0', 'age_menarche_top500_PCNet2.1', 'age_menarche_top500_PCNet2.2', 'neurot_FDR_PCNet2.0', 'neurot_FDR_PCNet2.1', 'neurot_FDR_PCNet2.2', 'neurot_bonf_PCNet2.0', 'neurot_bonf_PCNet2.1', 'neurot_bonf_PCNet2.2', 'neurot_top500_PCNet2.0', 'neurot_top500_PCNet2.1', 'neurot_top500_PCNet2.2', 'addict-rf_FDR_PCNet2.0', 'addict-rf_FDR_PCNet2.1', 'addict-rf_FDR_PCNet2.2', 'addict-rf_bonf_PCNet2.0', 'addict-rf_bonf_PCNet2.1', 'addict-rf_bonf_PCNet2.2', 'addict-rf_top500_PCNet2.0', 'addict-rf_top500_PCNet2.1', 'addict-rf_top500_PCNet2.2'])"
      ]
     },
     "execution_count": 15,
     "metadata": {},
     "output_type": "execute_result"
    }
   ],
   "source": [
    "NPS_dict,NPS_dict_series=import_NPS_scores(seed_dict,UUIDs)\n",
    "NPS_dict.keys()"
   ]
  },
  {
   "cell_type": "markdown",
   "id": "a261ed9c-69b5-44bb-95cc-3cb09ba577ca",
   "metadata": {},
   "source": [
    "# choose datasets for analysis"
   ]
  },
  {
   "cell_type": "code",
   "execution_count": 20,
   "id": "2e52b725-d506-4cb3-a0b1-fc37f5fb0c54",
   "metadata": {
    "scrolled": true
   },
   "outputs": [
    {
     "data": {
      "text/plain": [
       "dict_keys(['loco_bonf', 'loco_top500', 'loco_FDR', 'loco_gsem_bonf', 'loco_gsem_top500', 'loco_gsem_FDR', 'ext_bonf', 'ext_top500', 'ext_FDR', 'ext_st22', 'loco_mega_fus_naac_bonf', 'loco_mega_fus_naac_top500', 'loco_mega_fus_naac_FDR', 'ext_fus_naac_bonf', 'ext_fus_naac_top500', 'ext_fus_naac_FDR', 'loco_final_cf_bonf', 'loco_final_cf_top500', 'loco_final_cf_FDR', 'loco_final_mega_bonf', 'loco_final_mega_top500', 'loco_final_mega_FDR', 'facial_hair_FDR', 'facial_hair_bonf', 'facial_hair_top500', 'age_smkinit_FDR', 'age_smkinit_bonf', 'age_smkinit_top500', 'antisoc_FDR', 'antisoc_bonf', 'antisoc_top500', 'friend_sat_FDR', 'friend_sat_bonf', 'friend_sat_top500', 'hr_FDR', 'hr_bonf', 'hr_top500', 'infant_bw_FDR', 'infant_bw_bonf', 'infant_bw_top500', 'LDL_FDR', 'LDL_bonf', 'LDL_top500', 'maternal_smok_FDR', 'maternal_smok_bonf', 'maternal_smok_top500', 'townsend_FDR', 'townsend_bonf', 'townsend_top500', 'age_menarche_FDR', 'age_menarche_bonf', 'age_menarche_top500', 'neurot_FDR', 'neurot_bonf', 'neurot_top500', 'addict-rf_FDR', 'addict-rf_bonf', 'addict-rf_top500'])"
      ]
     },
     "execution_count": 20,
     "metadata": {},
     "output_type": "execute_result"
    }
   ],
   "source": [
    "seed_dict.keys()"
   ]
  },
  {
   "cell_type": "code",
   "execution_count": 22,
   "id": "fd97ba2e-641e-4e13-8c0a-387dada500fa",
   "metadata": {},
   "outputs": [
    {
     "data": {
      "text/plain": [
       "False"
      ]
     },
     "execution_count": 22,
     "metadata": {},
     "output_type": "execute_result"
    }
   ],
   "source": [
    "trait_h!=None"
   ]
  },
  {
   "cell_type": "code",
   "execution_count": 44,
   "id": "df0b1521-d9d8-4d59-9192-328e250ba846",
   "metadata": {},
   "outputs": [],
   "source": [
    "def return_analysis_datasets(trait_r,cut_r,trait_h,cut_h,seed_dict,NPS_dict,interactome_name):\n",
    "    #labels\n",
    "\tif not (trait_h==None):\n",
    "\t    if cut_h==None:\n",
    "\t        label_h=trait_h\n",
    "\t    else:\n",
    "\t        label_h=trait_h+'_'+cut_h\n",
    "\t    seed_h=seed_dict[label_h]\n",
    "\t    NPS_h=NPS_dict[label_h+'_'+interactome_name]\n",
    "\telse:\n",
    "\t\ttrait_h=None\n",
    "\t\tlabel_h=None\n",
    "\t\tcut_h=None\n",
    "\t\tseed_h=None\n",
    "\t\tNPS_h=None\n",
    "\n",
    "\tif not (trait_r==None):\n",
    "\t    if cut_r==None:\n",
    "\t        label_r=trait_r\n",
    "\t    else:\n",
    "\t        label_r=trait_r+'_'+cut_r\n",
    "\t    seed_r=seed_dict[label_r]\n",
    "\t    NPS_r=NPS_dict[label_r+'_'+interactome_name]\n",
    "\n",
    "\telse:\n",
    "\t\ttrait_r=None\n",
    "\t\tlabel_r=None\n",
    "\t\tcut_r=None\n",
    "\t\tseed_r=None\n",
    "\t\tNPS_r=None\n",
    "    #seed genes\n",
    "    #NPS scores\n",
    "\tif ((trait_h!=None) and (trait_r!=None)):\n",
    "\t    NPS = NPS_h.join(NPS_r, lsuffix=\"h\", rsuffix=\"r\")\n",
    "\t    NPS = NPS.assign(zhr=NPS.zh * NPS.zr)\n",
    "\telse:\n",
    "\t    NPS=None\n",
    "\treturn label_h,label_r,seed_h,seed_r,NPS_h,NPS_r,NPS"
   ]
  },
  {
   "cell_type": "code",
   "execution_count": 51,
   "id": "95a61a3a-d605-4730-9d58-2e46df9ac543",
   "metadata": {},
   "outputs": [],
   "source": [
    "#modify for correct genesets\n",
    "trait_r='loco_final_cf'\n",
    "cut_r='FDR'\n",
    "trait_h=None\n",
    "cut_h=None\n",
    "\n",
    "_,label_r,_,seed_r,_,NPS_r,_=return_analysis_datasets(trait_r,cut_r,trait_h,cut_h,seed_dict,NPS_dict,interactome_name)"
   ]
  },
  {
   "cell_type": "code",
   "execution_count": 52,
   "id": "fef27ff5-245f-4f93-b074-7c9064a8e8e6",
   "metadata": {},
   "outputs": [],
   "source": [
    "#set the Z-score cutoffs to calculate network enrichment significance\n",
    "zlist = [1,2,3,4,5,6,7,8,9,10]\n",
    "z12list = [1,1.5,2,3,4,5]\n",
    "cutoff_comb=3\n",
    "cutoff_single=1.5"
   ]
  },
  {
   "cell_type": "code",
   "execution_count": null,
   "id": "138a434e-35c7-4a00-858d-35dc2ef7d746",
   "metadata": {
    "scrolled": true
   },
   "outputs": [
    {
     "name": "stdout",
     "output_type": "stream",
     "text": [
      "more than 500 genes in most stringent cutoff- testing top500\n",
      "    z_comb  z_12  observed_overlap  expected_overlap_mean  \\\n",
      "0        1   1.0               752                 699.57   \n",
      "1        1   1.5               247                 243.24   \n",
      "2        1   2.0                86                  87.45   \n",
      "3        1   3.0                21                  22.79   \n",
      "4        1   4.0                11                  14.68   \n",
      "5        1   5.0                10                  12.27   \n",
      "6        2   1.0               555                 537.54   \n",
      "7        2   1.5               247                 240.42   \n",
      "8        2   2.0                86                  87.17   \n",
      "9        2   3.0                21                  22.06   \n",
      "10       2   4.0                11                  13.96   \n",
      "11       2   5.0                10                  12.24   \n",
      "12       3   1.0               352                 367.51   \n",
      "13       3   1.5               215                 220.30   \n",
      "14       3   2.0                86                  87.22   \n",
      "15       3   3.0                21                  22.96   \n",
      "16       3   4.0                11                  14.70   \n",
      "17       3   5.0                10                  11.95   \n",
      "18       4   1.0               257                 277.89   \n",
      "19       4   1.5               171                 176.97   \n",
      "20       4   2.0                86                  86.53   \n",
      "21       4   3.0                21                  23.25   \n",
      "22       4   4.0                11                  14.38   \n",
      "23       4   5.0                10                  12.07   \n",
      "24       5   1.0               220                 232.36   \n",
      "25       5   1.5               144                 146.62   \n",
      "26       5   2.0                80                  82.08   \n",
      "27       5   3.0                21                  21.91   \n",
      "28       5   4.0                11                  14.41   \n",
      "29       5   5.0                10                  12.20   \n",
      "30       6   1.0               194                 207.77   \n",
      "31       6   1.5               122                 128.13   \n",
      "32       6   2.0                70                  73.81   \n",
      "33       6   3.0                21                  23.07   \n",
      "34       6   4.0                11                  14.60   \n",
      "35       6   5.0                10                  12.07   \n",
      "36       7   1.0               179                 192.02   \n",
      "37       7   1.5               107                 116.83   \n",
      "38       7   2.0                58                  66.38   \n",
      "39       7   3.0                21                  23.13   \n",
      "40       7   4.0                11                  14.18   \n",
      "41       7   5.0                10                  12.23   \n",
      "42       8   1.0               170                 181.33   \n",
      "43       8   1.5               100                 109.59   \n",
      "44       8   2.0                54                  61.45   \n",
      "45       8   3.0                21                  22.83   \n",
      "46       8   4.0                11                  13.82   \n",
      "47       8   5.0                10                  11.45   \n",
      "48       9   1.0               163                 175.22   \n",
      "49       9   1.5                95                 104.23   \n",
      "50       9   2.0                51                  58.56   \n",
      "51       9   3.0                21                  22.93   \n",
      "52       9   4.0                11                  14.56   \n",
      "53       9   5.0                10                  11.95   \n",
      "54      10   1.0               156                 167.31   \n",
      "55      10   1.5                94                 100.50   \n",
      "56      10   2.0                50                  57.14   \n",
      "57      10   3.0                21                  22.29   \n",
      "58      10   4.0                11                  13.82   \n",
      "59      10   5.0                10                  11.27   \n",
      "\n",
      "    expected_overlap_std  empirical_p   obs_exp  \n",
      "0              23.621285     0.013223  1.074946  \n",
      "1              14.945314     0.400681  1.015458  \n",
      "2               8.833318     0.565194  0.983419  \n",
      "3               4.466083     0.655716  0.921457  \n",
      "4               3.460867     0.856181  0.749319  \n",
      "5               2.952474     0.779008  0.814996  \n",
      "6              20.233843     0.194093  1.032481  \n",
      "7              13.315540     0.310597  1.027369  \n",
      "8               9.528961     0.548861  0.986578  \n",
      "9               5.015616     0.583689  0.951949  \n",
      "10              3.385026     0.809060  0.787966  \n",
      "11              3.307930     0.750848  0.816993  \n",
      "12             16.253304     0.830026  0.957797  \n",
      "13             12.202049     0.667984  0.975942  \n",
      "14              8.418527     0.557612  0.986012  \n",
      "15              4.739029     0.660412  0.914634  \n",
      "16              3.433657     0.859387  0.748299  \n",
      "17              3.499643     0.711305  0.836820  \n",
      "18             14.829629     0.920533  0.924826  \n",
      "19             13.726219     0.668195  0.966265  \n",
      "20              8.870688     0.523822  0.993875  \n",
      "21              4.674131     0.684874  0.903226  \n",
      "22              3.582681     0.827269  0.764951  \n",
      "23              3.073288     0.749700  0.828500  \n",
      "24             12.208620     0.844326  0.946807  \n",
      "25             10.659062     0.597082  0.982131  \n",
      "26              8.069300     0.601707  0.974659  \n",
      "27              4.534523     0.579527  0.958466  \n",
      "28              3.784429     0.816222  0.763359  \n",
      "29              3.509986     0.734599  0.819672  \n",
      "30             12.191682     0.870648  0.933725  \n",
      "31             11.520985     0.702662  0.952158  \n",
      "32              8.017100     0.682690  0.948381  \n",
      "33              4.624403     0.672788  0.910273  \n",
      "34              4.178516     0.805532  0.753425  \n",
      "35              3.194542     0.741501  0.828500  \n",
      "36             12.756943     0.846283  0.932195  \n",
      "37              9.377692     0.852734  0.915861  \n",
      "38              7.625982     0.864089  0.873757  \n",
      "39              4.683279     0.675377  0.907912  \n",
      "40              3.631474     0.809397  0.775740  \n",
      "41              3.743942     0.724288  0.817661  \n",
      "42             12.601631     0.815698  0.937517  \n",
      "43              9.012319     0.856358  0.912492  \n",
      "44              7.201909     0.849537  0.878763  \n",
      "45              5.079478     0.640679  0.919842  \n",
      "46              3.691558     0.777538  0.795948  \n",
      "47              3.470951     0.661936  0.873362  \n",
      "48             11.718003     0.851489  0.930259  \n",
      "49              9.131106     0.843951  0.911446  \n",
      "50              6.282229     0.885588  0.870902  \n",
      "51              3.883954     0.690376  0.915831  \n",
      "52              3.688685     0.832756  0.755495  \n",
      "53              3.302650     0.722550  0.836820  \n",
      "54             10.760757     0.853380  0.932401  \n",
      "55              8.978307     0.765457  0.935323  \n",
      "56              6.913783     0.849132  0.875044  \n",
      "57              4.988577     0.602025  0.942127  \n",
      "58              3.427477     0.794678  0.795948  \n",
      "59              3.588468     0.638297  0.887311  \n",
      "    z_comb  z_12  observed_overlap  expected_overlap_mean  \\\n",
      "0        1   1.0               789                 596.48   \n",
      "1        1   1.5               222                 185.24   \n",
      "2        1   2.0                62                  55.27   \n",
      "3        1   3.0                12                   8.55   \n",
      "4        1   4.0                 3                   3.61   \n",
      "5        1   5.0                 3                   2.73   \n",
      "6        2   1.0               565                 435.85   \n",
      "7        2   1.5               222                 187.53   \n",
      "8        2   2.0                62                  55.60   \n",
      "9        2   3.0                12                   8.77   \n",
      "10       2   4.0                 3                   3.69   \n",
      "11       2   5.0                 3                   2.57   \n",
      "12       3   1.0               290                 271.59   \n",
      "13       3   1.5               186                 163.90   \n",
      "14       3   2.0                62                  55.75   \n",
      "15       3   3.0                12                   8.56   \n",
      "16       3   4.0                 3                   3.64   \n",
      "17       3   5.0                 3                   2.83   \n",
      "18       4   1.0               188                 179.54   \n",
      "19       4   1.5               125                 122.98   \n",
      "20       4   2.0                62                  55.86   \n",
      "21       4   3.0                12                   9.17   \n",
      "22       4   4.0                 3                   3.73   \n",
      "23       4   5.0                 3                   2.61   \n",
      "24       5   1.0               138                 135.56   \n",
      "25       5   1.5                91                  90.74   \n",
      "26       5   2.0                58                  51.00   \n",
      "27       5   3.0                12                   9.06   \n",
      "28       5   4.0                 3                   4.04   \n",
      "29       5   5.0                 3                   2.97   \n",
      "30       6   1.0               114                 111.30   \n",
      "31       6   1.5                72                  72.65   \n",
      "32       6   2.0                49                  42.45   \n",
      "33       6   3.0                12                   8.50   \n",
      "34       6   4.0                 3                   3.40   \n",
      "35       6   5.0                 3                   3.01   \n",
      "36       7   1.0               100                 100.19   \n",
      "37       7   1.5                60                  61.53   \n",
      "38       7   2.0                39                  37.02   \n",
      "39       7   3.0                12                   8.86   \n",
      "40       7   4.0                 3                   4.02   \n",
      "41       7   5.0                 3                   2.79   \n",
      "42       8   1.0                96                  90.33   \n",
      "43       8   1.5                56                  53.85   \n",
      "44       8   2.0                35                  31.53   \n",
      "45       8   3.0                12                   8.83   \n",
      "46       8   4.0                 3                   3.71   \n",
      "47       8   5.0                 3                   2.58   \n",
      "48       9   1.0                91                  82.50   \n",
      "49       9   1.5                51                  51.21   \n",
      "50       9   2.0                31                  28.68   \n",
      "51       9   3.0                12                   9.05   \n",
      "52       9   4.0                 3                   4.01   \n",
      "53       9   5.0                 3                   2.53   \n",
      "54      10   1.0                88                  78.55   \n",
      "55      10   1.5                50                  46.97   \n",
      "56      10   2.0                30                  26.60   \n",
      "57      10   3.0                12                   8.71   \n",
      "58      10   4.0                 3                   3.80   \n",
      "59      10   5.0                 3                   2.45   \n",
      "\n",
      "    expected_overlap_std   empirical_p   obs_exp  \n",
      "0              19.294289  9.505301e-24  1.322760  \n",
      "1              12.230388  1.325164e-03  1.198445  \n",
      "2               7.483121  1.842312e-01  1.121766  \n",
      "3               2.892663  1.164988e-01  1.403509  \n",
      "4               1.777048  6.343008e-01  0.831025  \n",
      "5               1.660452  4.354142e-01  1.098901  \n",
      "6              19.473764  1.655846e-11  1.296318  \n",
      "7              12.537508  2.985677e-03  1.183811  \n",
      "8               7.267737  1.892660e-01  1.115108  \n",
      "9               3.097919  1.485586e-01  1.368301  \n",
      "10              1.814910  6.480956e-01  0.813008  \n",
      "11              1.343540  3.744652e-01  1.167315  \n",
      "12             12.259768  6.659250e-02  1.067786  \n",
      "13             12.329234  3.652744e-02  1.134838  \n",
      "14              6.725139  1.763542e-01  1.112108  \n",
      "15              2.906269  1.182762e-01  1.401869  \n",
      "16              1.552546  6.599131e-01  0.824176  \n",
      "17              1.714964  4.605185e-01  1.060071  \n",
      "18             11.633074  2.335404e-01  1.047120  \n",
      "19             10.570695  4.242258e-01  1.016425  \n",
      "20              6.592450  1.758315e-01  1.109918  \n",
      "21              2.905357  1.650127e-01  1.308615  \n",
      "22              1.848540  6.535440e-01  0.804290  \n",
      "23              1.821510  4.152314e-01  1.149425  \n",
      "24              9.924031  4.028923e-01  1.017999  \n",
      "25              9.909208  4.895337e-01  1.002865  \n",
      "26              6.089335  1.251645e-01  1.137255  \n",
      "27              2.572236  1.265246e-01  1.324503  \n",
      "28              1.838042  7.142417e-01  0.742574  \n",
      "29              1.693842  4.929346e-01  1.010101  \n",
      "30              9.985489  3.934292e-01  1.024259  \n",
      "31              7.502500  5.345203e-01  0.991053  \n",
      "32              5.807538  1.296928e-01  1.154299  \n",
      "33              2.875761  1.117889e-01  1.411765  \n",
      "34              1.766352  5.895764e-01  0.882353  \n",
      "35              1.899974  5.020997e-01  0.996678  \n",
      "36              7.646823  5.099115e-01  0.998104  \n",
      "37              6.862150  5.882175e-01  0.975134  \n",
      "38              6.208027  3.748853e-01  1.053485  \n",
      "39              3.033216  1.502866e-01  1.354402  \n",
      "40              1.928626  7.015535e-01  0.746269  \n",
      "41              1.904180  4.560922e-01  1.075269  \n",
      "42              8.406016  2.499914e-01  1.062770  \n",
      "43              7.255860  3.834958e-01  1.039926  \n",
      "44              5.722683  2.721382e-01  1.110054  \n",
      "45              2.983471  1.439997e-01  1.359003  \n",
      "46              1.935433  6.431319e-01  0.808625  \n",
      "47              1.517762  3.909963e-01  1.162791  \n",
      "48              7.970571  1.431162e-01  1.103030  \n",
      "49              6.918519  5.121074e-01  0.995899  \n",
      "50              4.822613  3.152345e-01  1.080893  \n",
      "51              2.677219  1.352548e-01  1.325967  \n",
      "52              1.987436  6.943409e-01  0.748130  \n",
      "53              1.545671  3.805354e-01  1.185771  \n",
      "54              8.436083  1.313168e-01  1.120306  \n",
      "55              5.942146  3.050549e-01  1.064509  \n",
      "56              4.354308  2.174495e-01  1.127820  \n",
      "57              2.960726  1.332382e-01  1.377727  \n",
      "58              1.800000  6.716394e-01  0.789474  \n",
      "59              1.651514  3.695567e-01  1.224490  \n",
      "    z_comb  z_12  observed_overlap  expected_overlap_mean  \\\n",
      "0        1   1.0               811                 678.55   \n",
      "1        1   1.5               257                 227.04   \n",
      "2        1   2.0                79                  79.56   \n",
      "3        1   3.0                18                  18.57   \n",
      "4        1   4.0                 6                   9.82   \n",
      "5        1   5.0                 6                   8.98   \n",
      "6        2   1.0               585                 511.54   \n",
      "7        2   1.5               257                 233.17   \n",
      "8        2   2.0                79                  77.40   \n",
      "9        2   3.0                18                  17.47   \n",
      "10       2   4.0                 6                  10.59   \n",
      "11       2   5.0                 6                   8.63   \n",
      "12       3   1.0               373                 339.57   \n",
      "13       3   1.5               228                 209.45   \n",
      "14       3   2.0                79                  77.99   \n",
      "15       3   3.0                18                  18.91   \n",
      "16       3   4.0                 6                  10.20   \n",
      "17       3   5.0                 6                   9.16   \n",
      "18       4   1.0               248                 247.31   \n",
      "19       4   1.5               163                 160.02   \n",
      "20       4   2.0                79                  78.59   \n",
      "21       4   3.0                18                  17.96   \n",
      "22       4   4.0                 6                  10.46   \n",
      "23       4   5.0                 6                   8.72   \n",
      "24       5   1.0               200                 200.10   \n",
      "25       5   1.5               133                 128.24   \n",
      "26       5   2.0                74                  72.21   \n",
      "27       5   3.0                18                  18.33   \n",
      "28       5   4.0                 6                  11.16   \n",
      "29       5   5.0                 6                   8.62   \n",
      "30       6   1.0               175                 175.74   \n",
      "31       6   1.5               111                 108.76   \n",
      "32       6   2.0                64                  62.25   \n",
      "33       6   3.0                18                  18.28   \n",
      "34       6   4.0                 6                  10.91   \n",
      "35       6   5.0                 6                   8.54   \n",
      "36       7   1.0               159                 161.63   \n",
      "37       7   1.5                96                  97.48   \n",
      "38       7   2.0                53                  57.06   \n",
      "39       7   3.0                18                  17.54   \n",
      "40       7   4.0                 6                   9.80   \n",
      "41       7   5.0                 6                   9.20   \n",
      "42       8   1.0               152                 153.26   \n",
      "43       8   1.5                91                  90.58   \n",
      "44       8   2.0                49                  50.33   \n",
      "45       8   3.0                18                  17.72   \n",
      "46       8   4.0                 6                  10.68   \n",
      "47       8   5.0                 6                   8.52   \n",
      "48       9   1.0               143                 143.08   \n",
      "49       9   1.5                84                  85.64   \n",
      "50       9   2.0                44                  48.65   \n",
      "51       9   3.0                18                  17.67   \n",
      "52       9   4.0                 6                  10.68   \n",
      "53       9   5.0                 6                   9.46   \n",
      "54      10   1.0               132                 138.21   \n",
      "55      10   1.5                78                  83.82   \n",
      "56      10   2.0                41                  47.05   \n",
      "57      10   3.0                18                  17.55   \n",
      "58      10   4.0                 6                  10.81   \n",
      "59      10   5.0                 6                   8.83   \n",
      "\n",
      "    expected_overlap_std   empirical_p   obs_exp  \n",
      "0              19.302526  3.399999e-12  1.195196  \n",
      "1              12.658531  8.971716e-03  1.131959  \n",
      "2               8.177188  5.272995e-01  0.992961  \n",
      "3               3.945263  5.574381e-01  0.969305  \n",
      "4               2.804924  9.133838e-01  0.610998  \n",
      "5               2.942720  8.443908e-01  0.668151  \n",
      "6              17.931771  2.095955e-05  1.143606  \n",
      "7              14.173959  4.635696e-02  1.102200  \n",
      "8               6.961322  4.091075e-01  1.020672  \n",
      "9               4.421436  4.522928e-01  1.030338  \n",
      "10              3.538630  9.027037e-01  0.566572  \n",
      "11              2.851859  8.217893e-01  0.695249  \n",
      "12             18.103179  3.239989e-02  1.098448  \n",
      "13             11.157397  4.819885e-02  1.088565  \n",
      "14              8.609872  4.533083e-01  1.012950  \n",
      "15              4.400216  5.819201e-01  0.951877  \n",
      "16              3.162278  9.079368e-01  0.588235  \n",
      "17              2.770271  8.729990e-01  0.655022  \n",
      "18             14.490476  4.810105e-01  1.002790  \n",
      "19             13.088911  4.099500e-01  1.018623  \n",
      "20              6.965766  4.765321e-01  1.005217  \n",
      "21              4.187887  4.961896e-01  1.002227  \n",
      "22              2.954387  9.344297e-01  0.573614  \n",
      "23              2.687303  8.442709e-01  0.688073  \n",
      "24             11.161989  5.035741e-01  0.999500  \n",
      "25              9.032298  2.990976e-01  1.037118  \n",
      "26              7.526347  4.060060e-01  1.024789  \n",
      "27              4.147421  5.317094e-01  0.981997  \n",
      "28              3.148714  9.493688e-01  0.537634  \n",
      "29              3.183646  7.947335e-01  0.696056  \n",
      "30             11.530499  5.255856e-01  0.995789  \n",
      "31             10.205998  4.131386e-01  1.020596  \n",
      "32              8.168690  4.151828e-01  1.028112  \n",
      "33              3.663550  5.304609e-01  0.984683  \n",
      "34              3.137180  9.412202e-01  0.549954  \n",
      "35              3.044405  7.979489e-01  0.702576  \n",
      "36             11.352229  5.916038e-01  0.983728  \n",
      "37              8.143071  5.721104e-01  0.984817  \n",
      "38              6.768781  7.256844e-01  0.928847  \n",
      "39              4.416831  4.585263e-01  1.026226  \n",
      "40              3.190611  8.831721e-01  0.612245  \n",
      "41              2.803569  8.731487e-01  0.652174  \n",
      "42             10.033564  5.499672e-01  0.991779  \n",
      "43              8.705378  4.807601e-01  1.004637  \n",
      "44              6.335700  5.831355e-01  0.973574  \n",
      "45              3.698865  4.698293e-01  1.015801  \n",
      "46              3.136495  9.321650e-01  0.561798  \n",
      "47              2.586426  8.350505e-01  0.704225  \n",
      "48              9.056136  5.035241e-01  0.999441  \n",
      "49              7.599368  5.854311e-01  0.980850  \n",
      "50              7.139153  7.425858e-01  0.904419  \n",
      "51              4.081801  4.677819e-01  1.018676  \n",
      "52              3.104448  9.341605e-01  0.561798  \n",
      "53              3.054243  8.713614e-01  0.634249  \n",
      "54             10.448249  7.238636e-01  0.955068  \n",
      "55              8.561986  7.516683e-01  0.930565  \n",
      "56              6.669895  8.178127e-01  0.871413  \n",
      "57              4.325217  4.585684e-01  1.025641  \n",
      "58              2.791756  9.575494e-01  0.555042  \n",
      "59              3.046490  8.235394e-01  0.679502  \n",
      "more than 500 genes in most stringent cutoff- testing top500\n"
     ]
    }
   ],
   "source": [
    "for t in ctrl_traits:\n",
    "    trait_h=str(t)\n",
    "    if len(seed_dict[t+'_bonf'])<=500:\n",
    "        print('more than 500 genes in most stringent cutoff- testing top500')\n",
    "        test500=True\n",
    "    else:\n",
    "        test500=False\n",
    "    for u in ['FDR','bonf']:\n",
    "        trait_h=str(t)\n",
    "        cut_h=u\n",
    "        label_h=trait_h+'_'+cut_h\n",
    "        seed_h=seed_dict[label_h]\n",
    "        NPS_h=NPS_dict[label_h+'_'+interactome_name]\n",
    "        netcoloc_enrichment_df = network_colocalization.calculate_network_enrichment(NPS_r,NPS_h,\n",
    "                                                                                     zthresh_list = zlist,\n",
    "                                                                                     z12thresh_list=z12list,\n",
    "                                                                                     verbose=False)\n",
    "        #netcoloc_enrichment_df=netcoloc_enrichment_df[netcoloc_enrichment_df['z_comb']>=netcoloc_enrichment_df['NPS_single']]\n",
    "        print(netcoloc_enrichment_df)\n",
    "        netcoloc_enrichment_df['rat_dataset']=label_r\n",
    "        netcoloc_enrichment_df['human_dataset']=label_h\n",
    "        if save_fig:\n",
    "            netcoloc_enrichment_df.to_csv('colocalization_scores/colocScore_'+label_r+'_'+label_h+'_'+interactome_name+'.tsv',sep='\\t',index=False)\n",
    "        pOverlap=float(netcoloc_enrichment_df[(netcoloc_enrichment_df['z_comb']==cutoff_comb) & (netcoloc_enrichment_df['z_12']==cutoff_single)]['empirical_p'])\n",
    "    if (test500==True):\n",
    "        trait_h=str(t)\n",
    "        cut_h='top500'\n",
    "        label_h=trait_h+'_'+cut_h\n",
    "        seed_h=seed_dict[label_h]\n",
    "        NPS_h=NPS_dict[label_h+'_'+interactome_name]\n",
    "        netcoloc_enrichment_df = network_colocalization.calculate_network_enrichment(NPS_r,NPS_h,\n",
    "                                                                                     zthresh_list = zlist,\n",
    "                                                                                     z12thresh_list=z12list,\n",
    "                                                                                     verbose=False)\n",
    "        #netcoloc_enrichment_df=netcoloc_enrichment_df[netcoloc_enrichment_df['z_comb']>=netcoloc_enrichment_df['NPS_single']]\n",
    "        print(netcoloc_enrichment_df)\n",
    "        netcoloc_enrichment_df['rat_dataset']=label_r\n",
    "        netcoloc_enrichment_df['human_dataset']=label_h\n",
    "        if save_fig:\n",
    "            netcoloc_enrichment_df.to_csv('colocalization_scores/colocScore_'+label_r+'_'+label_h+'_'+interactome_name+'.tsv',sep='\\t',index=False)\n",
    "        pOverlap=float(netcoloc_enrichment_df[(netcoloc_enrichment_df['z_comb']==cutoff_comb) & (netcoloc_enrichment_df['z_12']==cutoff_single)]['empirical_p'])"
   ]
  },
  {
   "cell_type": "code",
   "execution_count": null,
   "id": "75df7fb6-399d-41ad-99d6-ad69fc48fd67",
   "metadata": {},
   "outputs": [],
   "source": [
    "print('analysis complete')"
   ]
  }
 ],
 "metadata": {
  "kernelspec": {
   "display_name": "Python [conda env:env-std-py38]",
   "language": "python",
   "name": "conda-env-env-std-py38-py"
  },
  "language_info": {
   "codemirror_mode": {
    "name": "ipython",
    "version": 3
   },
   "file_extension": ".py",
   "mimetype": "text/x-python",
   "name": "python",
   "nbconvert_exporter": "python",
   "pygments_lexer": "ipython3",
   "version": "3.8.13"
  }
 },
 "nbformat": 4,
 "nbformat_minor": 5
}
