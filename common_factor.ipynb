{
 "cells": [
  {
   "cell_type": "code",
   "execution_count": 2,
   "id": "810af135-a45c-40aa-a73e-90b23faa539d",
   "metadata": {
    "scrolled": true
   },
   "outputs": [
    {
     "name": "stderr",
     "output_type": "stream",
     "text": [
      "Warning message:\n",
      "“replacing previous import ‘gdata::nobs’ by ‘lavaan::nobs’ when loading ‘GenomicSEM’”\n",
      "Warning message:\n",
      "“replacing previous import ‘gdata::first’ by ‘data.table::first’ when loading ‘GenomicSEM’”\n",
      "Warning message:\n",
      "“replacing previous import ‘gdata::last’ by ‘data.table::last’ when loading ‘GenomicSEM’”\n",
      "Warning message:\n",
      "“replacing previous import ‘gdata::resample’ by ‘R.utils::resample’ when loading ‘GenomicSEM’”\n",
      "Warning message:\n",
      "“replacing previous import ‘gdata::env’ by ‘R.utils::env’ when loading ‘GenomicSEM’”\n",
      "Warning message:\n",
      "“replacing previous import ‘data.table::first’ by ‘dplyr::first’ when loading ‘GenomicSEM’”\n",
      "Warning message:\n",
      "“replacing previous import ‘plyr::arrange’ by ‘dplyr::arrange’ when loading ‘GenomicSEM’”\n",
      "Warning message:\n",
      "“replacing previous import ‘plyr::count’ by ‘dplyr::count’ when loading ‘GenomicSEM’”\n",
      "Warning message:\n",
      "“replacing previous import ‘plyr::desc’ by ‘dplyr::desc’ when loading ‘GenomicSEM’”\n",
      "Warning message:\n",
      "“replacing previous import ‘plyr::summarise’ by ‘dplyr::summarise’ when loading ‘GenomicSEM’”\n",
      "Warning message:\n",
      "“replacing previous import ‘plyr::id’ by ‘dplyr::id’ when loading ‘GenomicSEM’”\n",
      "Warning message:\n",
      "“replacing previous import ‘plyr::rename’ by ‘dplyr::rename’ when loading ‘GenomicSEM’”\n",
      "Warning message:\n",
      "“replacing previous import ‘plyr::summarize’ by ‘dplyr::summarize’ when loading ‘GenomicSEM’”\n",
      "Warning message:\n",
      "“replacing previous import ‘data.table::last’ by ‘dplyr::last’ when loading ‘GenomicSEM’”\n",
      "Warning message:\n",
      "“replacing previous import ‘data.table::between’ by ‘dplyr::between’ when loading ‘GenomicSEM’”\n",
      "Warning message:\n",
      "“replacing previous import ‘gdata::combine’ by ‘dplyr::combine’ when loading ‘GenomicSEM’”\n",
      "Warning message:\n",
      "“replacing previous import ‘gdata::starts_with’ by ‘dplyr::starts_with’ when loading ‘GenomicSEM’”\n",
      "Warning message:\n",
      "“replacing previous import ‘plyr::failwith’ by ‘dplyr::failwith’ when loading ‘GenomicSEM’”\n",
      "Warning message:\n",
      "“replacing previous import ‘plyr::mutate’ by ‘dplyr::mutate’ when loading ‘GenomicSEM’”\n",
      "Warning message:\n",
      "“replacing previous import ‘Rcpp::.DollarNames’ by ‘utils::.DollarNames’ when loading ‘GenomicSEM’”\n",
      "Warning message:\n",
      "“replacing previous import ‘Matrix::tail’ by ‘utils::tail’ when loading ‘GenomicSEM’”\n",
      "Warning message:\n",
      "“replacing previous import ‘gdata::object.size’ by ‘utils::object.size’ when loading ‘GenomicSEM’”\n",
      "Warning message:\n",
      "“replacing previous import ‘Rcpp::prompt’ by ‘utils::prompt’ when loading ‘GenomicSEM’”\n",
      "Warning message:\n",
      "“replacing previous import ‘Matrix::head’ by ‘utils::head’ when loading ‘GenomicSEM’”\n",
      "Warning message:\n",
      "“replacing previous import ‘R.utils::timestamp’ by ‘utils::timestamp’ when loading ‘GenomicSEM’”\n",
      "here() starts at /tscc/projects/ps-palmer/brittany/SUD_cross_species/scripts\n",
      "\n"
     ]
    }
   ],
   "source": [
    "library(GenomicSEM)\n",
    "library(here)"
   ]
  },
  {
   "cell_type": "code",
   "execution_count": 2,
   "id": "19d84e16-3a4c-4b23-b9fa-1ba138b980fa",
   "metadata": {},
   "outputs": [],
   "source": [
    "ldsc_filepath <- here(\"../nicsa_LD_score_regression/initial_run/LDSCoutput.RData\")\n",
    "sumstats_filepath <- here(\"../SUMSTATSoutput.RData\")\n",
    "load(ldsc_filepath)\n",
    "load(sumstats_filepath)"
   ]
  },
  {
   "cell_type": "code",
   "execution_count": null,
   "id": "986155f6-2f4d-4e8a-95e3-ce46b39008fc",
   "metadata": {},
   "outputs": [],
   "source": [
    "#run the multivariate GWAS using parallel processing\n",
    "pfactor <- commonfactorGWAS(covstruc = LDSCoutput, SNPs = SUMSTATSoutput, \n",
    "                            estimation = \"DWLS\", cores = NULL, parallel = TRUE)"
   ]
  },
  {
   "cell_type": "code",
   "execution_count": 3,
   "id": "50408b74-3789-4562-ba00-a0f6d7b6008d",
   "metadata": {},
   "outputs": [
    {
     "data": {
      "text/html": [
       "No documentation for ‘commmonfactorGWAS’ in specified packages and libraries:\n",
       "you could try ‘??commmonfactorGWAS’"
      ],
      "text/latex": [
       "No documentation for ‘commmonfactorGWAS’ in specified packages and libraries:\n",
       "you could try ‘??commmonfactorGWAS’"
      ],
      "text/plain": [
       "No documentation for ‘commmonfactorGWAS’ in specified packages and libraries:\n",
       "you could try ‘??commmonfactorGWAS’"
      ]
     },
     "metadata": {},
     "output_type": "display_data"
    }
   ],
   "source": [
    "help(commmonfactorGWAS)"
   ]
  }
 ],
 "metadata": {
  "kernelspec": {
   "display_name": "R [conda env:lzenv]",
   "language": "R",
   "name": "conda-env-lzenv-r"
  },
  "language_info": {
   "codemirror_mode": "r",
   "file_extension": ".r",
   "mimetype": "text/x-r-source",
   "name": "R",
   "pygments_lexer": "r",
   "version": "4.3.1"
  }
 },
 "nbformat": 4,
 "nbformat_minor": 5
}
