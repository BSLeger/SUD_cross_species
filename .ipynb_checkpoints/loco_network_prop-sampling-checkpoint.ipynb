{
 "cells": [
  {
   "cell_type": "markdown",
   "id": "85ecb814-fb6b-4768-beb3-41c0f4f8fe30",
   "metadata": {},
   "source": [
    "purpose: run network propagation for externalizing using the 500 gene subsampling that we used for BMI. It is computationally intensive."
   ]
  },
  {
   "cell_type": "code",
   "execution_count": 3,
   "id": "78703c20-19b8-4619-8ffd-52d265b7a9d8",
   "metadata": {},
   "outputs": [],
   "source": [
    "import os\n",
    "import pandas as pd\n",
    "import ndex2\n",
    "import networkx as nx\n",
    "from netcoloc import netprop_zscore\n",
    "from netcoloc import netprop\n",
    "from netcoloc import network_colocalization\n",
    "import sys\n",
    "import random\n",
    "import numpy as np"
   ]
  },
  {
   "cell_type": "code",
   "execution_count": 2,
   "id": "58efd9dd-898e-4d00-90d6-59e5af05da50",
   "metadata": {},
   "outputs": [],
   "source": [
    "os.chdir('/tscc/projects/ps-palmer/brittany/rare_common_alcohol/rare_common_alcohol_comparison/notebooks/')"
   ]
  },
  {
   "cell_type": "code",
   "execution_count": 3,
   "id": "b04def16-2377-4f94-be32-e92e66b0dc33",
   "metadata": {},
   "outputs": [],
   "source": [
    "from rca_functions import *"
   ]
  },
  {
   "cell_type": "code",
   "execution_count": 4,
   "id": "5f541903-81d7-42a5-8387-85a2f0aac129",
   "metadata": {},
   "outputs": [],
   "source": [
    "os.chdir('/tscc/projects/ps-palmer/brittany/SUD_cross_species/')"
   ]
  },
  {
   "cell_type": "code",
   "execution_count": 5,
   "id": "6b5aa207-0f4e-4030-8881-81abcb527391",
   "metadata": {},
   "outputs": [],
   "source": [
    "random_seed=random.seed(211)"
   ]
  },
  {
   "cell_type": "code",
   "execution_count": 6,
   "id": "5784e661-4360-43e3-bfb3-014f7ab7b2a5",
   "metadata": {},
   "outputs": [],
   "source": [
    "save_file=True"
   ]
  },
  {
   "cell_type": "code",
   "execution_count": 7,
   "id": "2c6129d4-32fa-4954-80fe-5dcf55b0e753",
   "metadata": {},
   "outputs": [],
   "source": [
    "UUIDs={\n",
    "    'PCNet2.0':'d73d6357-e87b-11ee-9621-005056ae23aa',\n",
    "    'PCNet2.1':'e9c574f4-e87a-11ee-9621-005056ae23aa',\n",
    "    'PCNet2.2':'8b4b54fa-e87d-11ee-9621-005056ae23aa'\n",
    "}"
   ]
  },
  {
   "cell_type": "markdown",
   "id": "5e400156-6ded-4956-8b70-74b0dc6af01b",
   "metadata": {},
   "source": [
    "# functions"
   ]
  },
  {
   "cell_type": "code",
   "execution_count": 9,
   "id": "ed70953c-8e95-439b-aa8e-261d75e1ed21",
   "metadata": {},
   "outputs": [],
   "source": [
    "def import_seedgenes(path,pcol='P',gene_col='GENE NAME',delim='comma', cutoff=None):\n",
    "    if delim=='comma':\n",
    "        df=pd.read_csv(path,sep=',')\n",
    "    else:\n",
    "        df=pd.read_csv(path,sep='\\t')\n",
    "    if pcol==None:\n",
    "        print('pvalue column not specified- all genes will be used')\n",
    "        cutoff=None\n",
    "    if cutoff=='bonferroni':\n",
    "        df=df[df[pcol]<0.05/len(df)]\n",
    "    elif cutoff=='FDR_05':\n",
    "        df=df[df[pcol]<0.05]\n",
    "    else:\n",
    "        print('cutoff not defined/custom- using all genes ')\n",
    "        df=df\n",
    "    print(df.head())\n",
    "    return(df)"
   ]
  },
  {
   "cell_type": "code",
   "execution_count": 10,
   "id": "1eed56ce-25f1-4ca4-a3bf-bda7a5f6d86b",
   "metadata": {},
   "outputs": [],
   "source": [
    "def import_interactome(interactome_name=None, UUIDs=UUIDs,ndex_user=None, ndex_password=None,UUID=None):\n",
    "    \"\"\"\n",
    "    Imports a gene interactome from the NDEx database and returns it as a NetworkX graph object. Optionally,\n",
    "    the function allows for importing using a unique identifier (UUID) or by an interactome name.\n",
    "\n",
    "    The function checks if the interactome name provided corresponds to a predefined dictionary of UUIDs. If it does, it\n",
    "    retrieves the network using the specified credentials. If an interactome name is not provided but a UUID is,\n",
    "    it retrieves the network using the provided UUID. The nodes of pcnet_v14 are relabelled by their gene name rather than ID number.\n",
    "\n",
    "    Parameters:\n",
    "    - interactome_name (str, optional): The name of the interactome as defined in the UUIDs dictionary. If not provided\n",
    "      but a UUID is, the interactome associated with the UUID is imported instead.\n",
    "    - ndex_user (str, optional): The NDEx account username for accessing private networks.\n",
    "    - ndex_password (str, optional): The NDEx account password for accessing private networks.\n",
    "    - UUID (str, optional): A specific UUID to directly download an interactome from NDEx if the interactome name is not used.\n",
    "\n",
    "    Returns:\n",
    "    networkx.Graph: A graph object representing the interactome. Nodes and edges represent genes and their interactions, respectively.\n",
    "\n",
    "    Notes:\n",
    "    - The function uses the NDEx2 Python client and requires Internet access to NDEx's servers.\n",
    "    - Depending on the access rights of the NDEx account, private or public interactomes can be retrieved.\n",
    "    - The function prints the number of nodes and edges of the imported graph for diagnostic purposes.\n",
    "\n",
    "    Raises:\n",
    "    - ValueError: If neither an interactome name nor a UUID is provided.\n",
    "    \"\"\"    \n",
    "    interactome_uuid=UUIDs[interactome_name]\n",
    "    print(interactome_name)\n",
    "    ndex_server='public.ndexbio.org'\n",
    "    #import network based on provided interactome key\n",
    "    if (interactome_name in UUIDs.keys()):\n",
    "        graph = ndex2.create_nice_cx_from_server(\n",
    "                    ndex_server, \n",
    "                    username=ndex_user, \n",
    "                    password=ndex_password, \n",
    "                    uuid=interactome_uuid\n",
    "                ).to_networkx()\n",
    "        if (interactome_name=='pcnet_v14'):\n",
    "            graph=nx.relabel_nodes(graph, nx.get_node_attributes(graph, 'HGNC Symbol'))\n",
    "        # print out interactome num nodes and edges for diagnostic purposes\n",
    "        print('number of nodes:')\n",
    "        print(len(graph.nodes))\n",
    "        print('\\nnumber of edges:')\n",
    "        print(len(graph.edges))\n",
    "        return(graph)\n",
    "    elif(interactome_name==None & UUID!=None):\n",
    "        print('using novel UUID. For UUIDs used in this study, see UUID_dict')\n",
    "        graph = ndex2.create_nice_cx_from_server(\n",
    "            ndex_server, \n",
    "            username=ndex_user, \n",
    "            password=ndex_password, \n",
    "            uuid=UUID\n",
    "        ).to_networkx()\n",
    "        # print out interactome num nodes and edges for diagnostic purposes\n",
    "        print('number of nodes:')\n",
    "        print(len(graph.nodes))\n",
    "        print('\\nnumber of edges:')\n",
    "        print(len(graph.edges))\n",
    "        return(graph)\n",
    "    else:\n",
    "        print('UUID/interactome name not provided- please provide either to import interactome.')"
   ]
  },
  {
   "cell_type": "code",
   "execution_count": 11,
   "id": "41444419-4fba-4786-b74e-278d97cf9279",
   "metadata": {},
   "outputs": [],
   "source": [
    "#from rat bmi notebooks not netcoloc\n",
    "def calculate_heat_zscores_with_sampling(data, nodes, individual_heats, G_PC, trait=\"BMI\", max_genes=500, num_samples=100,\n",
    "                                        nominal_sig=0.05, num_reps=1000, out_path=\"\", minimum_bin_size=10,outfile='sample.tsv'):\n",
    "    \"\"\"Takes a set of summary statistics and a molecular interaction and performs sampling of the significant genes.\n",
    "    For each sample a random selection of seed genes is chosen, weighted by the p-value of each gene in the summary\n",
    "    statistics. Network propagation with zscore calculation is performed for each sample to generate a distribution\n",
    "    of z-scores for each gene in the seed_gene set.\n",
    "\n",
    "    Args:\n",
    "        data (pd.DataFrame): Gene level summary statistics\n",
    "        nodes (list): list of nodes in the interaction network\n",
    "        individual_heats (np.array): Heat matrix calculated by `netprop_zscore.get_individual_heats_matrix()`\n",
    "        G_PC (nx.Graph): molecular interaction network\n",
    "        trait (str, optional): name of trait being investigated. Defaults to \"BMI\".\n",
    "        max_genes (int, optional): Maximum number of seed genes to include in each sample (maximum=500). Defaults to 500.\n",
    "        num_samples (int, optional): Number of times to perform sampling. Defaults to 100.\n",
    "        nominal_sig (float, optional): Significance cutoff for keeping genes in data (Note: this value will be Bonferroni corrected). Defaults to 0.05.\n",
    "        num_reps (int, optional): Number of repetitions of randomization for generating null distribution for z_scores. Defaults to 1000.\n",
    "        out_path (str, optional): File path prefix for saving results of sampling. Defaults to \"\".\n",
    "        minimum_bin_size (int, optional): minimum number of genes that should be in each degree matching bin. Defaults to 10.\n",
    "\n",
    "    Returns:\n",
    "        pd.DataFrame: Gene x sampling run dataframe of sampled z-scores\n",
    "    \"\"\"\n",
    "    assert max_genes <= 500, \"NetColoc is only valid for sets of 500 or less genes so maximum number of genes for sampling must be <= 500\"\n",
    "    #outfile = out_path + trait + \"sampling_\" + str(max_genes) + \"_\" + str(num_samples) + \".tsv\"\n",
    "    data = data.loc[data.gene_symbol.isin(nodes)]  # subset to genes in interaction network\n",
    "    all_seeds = data.loc[data.pvalue <= nominal_sig / len(data)]  # Bonferroni correction\n",
    "    all_seeds = all_seeds.assign(log10p=-1 * np.log10(all_seeds.pvalue))  # get -log10p for weighted sampling\n",
    "    sampling_results = []\n",
    "    for i in tqdm(range(num_samples)):\n",
    "        # perform propagation for sample\n",
    "        sample_seeds = random.choices(population=all_seeds.gene_symbol.values, weights=all_seeds.log10p.values, k=max_genes)\n",
    "        sample_results = netprop_zscore.calculate_heat_zscores(individual_heats, nodes=list(G_PC.nodes), degrees=dict(G_PC.degree),\n",
    "                                                seed_genes=sample_seeds, num_reps=num_reps,\n",
    "                                                minimum_bin_size=minimum_bin_size, random_seed=i)[0]\n",
    "        sample_z = pd.DataFrame(sample_results, columns=[\"z\" + str(i)])\n",
    "        # save running results of sampling\n",
    "        if i == 0:\n",
    "            sample_z.to_csv(outfile, sep=\"\\t\")\n",
    "        else:\n",
    "            existing = pd.read_csv(outfile, sep=\"\\t\", index_col=0)\n",
    "            existing = existing.join(sample_z)\n",
    "            existing.to_csv(outfile, sep=\"\\t\")\n",
    "        sampling_results.append(sample_z)\n",
    "    return pd.concat(sampling_results, axis=1)"
   ]
  },
  {
   "cell_type": "code",
   "execution_count": 8,
   "id": "8fccd99b-fd03-4096-8616-03e4aeab81a8",
   "metadata": {},
   "outputs": [],
   "source": [
    "def get_consensus_z_scores(sampled_results, percentile=.75):\n",
    "    \"\"\"returns the consensus z score for each gene across all samples\n",
    "\n",
    "    Args:\n",
    "        sampled_results (str, :py:class:`pandas.DataFrame`):  output of netprop_zscore.calculate_heat_zscores_with_sampling. Can be a file path pointing to these results or a dataframe of the results\n",
    "        percentile (float, optional): Percentile cut off for determining consensus score. Defaults to .75.\n",
    "\n",
    "    Returns:\n",
    "        :py:class:`pandas.DataFrame`: Consensus z-scores for all genes based on sampling\n",
    "    \"\"\"\n",
    "    if type(sampled_results) == str:\n",
    "        results = pd.read_csv(sampled_results, sep=\"\\t\", index_col=0)\n",
    "    else:\n",
    "        results = sampled_results\n",
    "    consensus_z = pd.DataFrame({'z': results.quantile(q=percentile, axis=1)})\n",
    "    return consensus_z\n"
   ]
  },
  {
   "cell_type": "markdown",
   "id": "f592e945-cccb-41fe-9a6b-0c00ad8031e4",
   "metadata": {},
   "source": [
    "# Interactome Set-up"
   ]
  },
  {
   "cell_type": "markdown",
   "id": "ac73a7e9-bea2-4e25-9ff4-db9b57947dd0",
   "metadata": {},
   "source": [
    "pcnet2- versions \n",
    "from wright et al. 2024 preprint:\n",
    "PCNet 2.0= best-performing ranked composite (top 15 interactomes, 3.85M interactions)\n",
    "PCNet 2.1= top 8 interactomes, 1.75M interactions\n",
    "PCNet 2.2= top 10 co-citation-free interactomes, 3.32M interactions "
   ]
  },
  {
   "cell_type": "code",
   "execution_count": 12,
   "id": "30bb2a69-0c5e-40e2-99a6-ce8705f4d5c2",
   "metadata": {},
   "outputs": [],
   "source": [
    "interactome_name='PCNet2.0'"
   ]
  },
  {
   "cell_type": "code",
   "execution_count": 13,
   "id": "16d7e91b-af6f-4c2f-abdd-9f1c11139d21",
   "metadata": {},
   "outputs": [
    {
     "name": "stdout",
     "output_type": "stream",
     "text": [
      "PCNet2.0\n",
      "number of nodes:\n",
      "19267\n",
      "\n",
      "number of edges:\n",
      "3852119\n"
     ]
    }
   ],
   "source": [
    "graph=import_interactome(interactome_name)"
   ]
  },
  {
   "cell_type": "code",
   "execution_count": 14,
   "id": "b30e9308-92d7-4980-973e-b3280f13710f",
   "metadata": {},
   "outputs": [],
   "source": [
    "all_nodes=list(graph.nodes())"
   ]
  },
  {
   "cell_type": "code",
   "execution_count": 14,
   "id": "0ff6358b-83c2-4f7c-8470-a10aeb4a0c35",
   "metadata": {},
   "outputs": [
    {
     "name": "stdout",
     "output_type": "stream",
     "text": [
      "\n",
      "calculating w_prime\n",
      "\n",
      "calculating w_double_prime\n"
     ]
    }
   ],
   "source": [
    "# pre calculate the matricies used for network propagation\n",
    "print('\\ncalculating w_prime')\n",
    "w_prime = netprop.get_normalized_adjacency_matrix(graph, conserve_heat=True)\n",
    "\n",
    "print('\\ncalculating w_double_prime')\n",
    "w_double_prime = netprop.get_individual_heats_matrix(w_prime, .5)"
   ]
  },
  {
   "cell_type": "markdown",
   "id": "9d234624-1a8e-48af-adb3-f520966d2b47",
   "metadata": {},
   "source": [
    "# calculate gwas NPS"
   ]
  },
  {
   "cell_type": "code",
   "execution_count": 16,
   "id": "d68382ef-b8b2-43b7-a8dc-5631c254bc35",
   "metadata": {},
   "outputs": [
    {
     "data": {
      "text/plain": [
       "'/tscc/projects/ps-palmer/brittany/SUD_cross_species'"
      ]
     },
     "execution_count": 16,
     "metadata": {},
     "output_type": "execute_result"
    }
   ],
   "source": [
    "os.getcwd()"
   ]
  },
  {
   "cell_type": "code",
   "execution_count": 17,
   "id": "4c5d0e2e-7c9a-4d01-a2d6-48ccf9e3aa1d",
   "metadata": {},
   "outputs": [],
   "source": [
    "mag_dir='magma/seed_genes/'\n",
    "file_dict={\n",
    "    'loco':mag_dir+'loco_win10_annot.tsv',\n",
    "    'ext_munged':mag_dir+'ext_munged_annot.tsv',\n",
    "    'ext':mag_dir+'ext_orig_annot.tsv',\n",
    "    'ext_st22':mag_dir+'all_tests_ext1_st22_genes.csv'\n",
    "}"
   ]
  },
  {
   "cell_type": "code",
   "execution_count": 18,
   "id": "2c8d7a15-4705-4c36-acac-520771fd213a",
   "metadata": {},
   "outputs": [],
   "source": [
    "ext=pd.read_csv(file_dict['ext'],sep='\\t')\n",
    "ext_sub=ext[['GENE','P']]\n",
    "ext_sub.columns=['gene_symbol','pvalue']\n",
    "k='ext_subsample'"
   ]
  },
  {
   "cell_type": "code",
   "execution_count": null,
   "id": "e1d91dd9-4755-463d-af81-cd4ce3094435",
   "metadata": {
    "scrolled": true
   },
   "outputs": [],
   "source": [
    "NPSc, Fnew_score, Fnew_rand_score = calculate_heat_zscores_with_sampling(\n",
    "    data=ext_sub,\n",
    "    nodes=all_nodes,\n",
    "    individual_heats=w_double_prime,\n",
    "    G_PC=graph,\n",
    "    trait=k,\n",
    "    outfile='network_scores/'+k+'_'+interactome_name+'_sampled_zscore.tsv'\n",
    ")"
   ]
  },
  {
   "cell_type": "markdown",
   "id": "1d016a7f-3b92-4782-b99a-45a9f767b6a4",
   "metadata": {},
   "source": [
    "# get consensus from subsampling"
   ]
  },
  {
   "cell_type": "code",
   "execution_count": 19,
   "id": "30db289b-4e45-46bd-b0c3-30858d5ff6e1",
   "metadata": {},
   "outputs": [],
   "source": [
    "z_sample=pd.read_csv('network_scores/'+k+'_'+interactome_name+'_sampled_zscore.tsv',sep='\\t')"
   ]
  },
  {
   "cell_type": "code",
   "execution_count": 20,
   "id": "a2bb16c3-0270-4c34-afcc-4bf097c66872",
   "metadata": {},
   "outputs": [
    {
     "name": "stderr",
     "output_type": "stream",
     "text": [
      "/tmp/ipykernel_1835120/2697710531.py:15: FutureWarning: The default value of numeric_only in DataFrame.quantile is deprecated. In a future version, it will default to False. Select only valid columns or specify the value of numeric_only to silence this warning.\n",
      "  consensus_z = pd.DataFrame({'z': results.quantile(q=percentile, axis=1)})\n"
     ]
    }
   ],
   "source": [
    "z_bin = get_consensus_z_scores(z_sample, 0.75)"
   ]
  },
  {
   "cell_type": "code",
   "execution_count": 21,
   "id": "3a7f7aba-aa45-4c70-ac30-7b9f6b9ddf79",
   "metadata": {},
   "outputs": [
    {
     "data": {
      "text/html": [
       "<div>\n",
       "<style scoped>\n",
       "    .dataframe tbody tr th:only-of-type {\n",
       "        vertical-align: middle;\n",
       "    }\n",
       "\n",
       "    .dataframe tbody tr th {\n",
       "        vertical-align: top;\n",
       "    }\n",
       "\n",
       "    .dataframe thead th {\n",
       "        text-align: right;\n",
       "    }\n",
       "</style>\n",
       "<table border=\"1\" class=\"dataframe\">\n",
       "  <thead>\n",
       "    <tr style=\"text-align: right;\">\n",
       "      <th></th>\n",
       "      <th>z</th>\n",
       "    </tr>\n",
       "  </thead>\n",
       "  <tbody>\n",
       "    <tr>\n",
       "      <th>0</th>\n",
       "      <td>-0.258083</td>\n",
       "    </tr>\n",
       "    <tr>\n",
       "      <th>1</th>\n",
       "      <td>1.266998</td>\n",
       "    </tr>\n",
       "    <tr>\n",
       "      <th>2</th>\n",
       "      <td>0.230623</td>\n",
       "    </tr>\n",
       "    <tr>\n",
       "      <th>3</th>\n",
       "      <td>0.908787</td>\n",
       "    </tr>\n",
       "    <tr>\n",
       "      <th>4</th>\n",
       "      <td>0.104979</td>\n",
       "    </tr>\n",
       "    <tr>\n",
       "      <th>...</th>\n",
       "      <td>...</td>\n",
       "    </tr>\n",
       "    <tr>\n",
       "      <th>19262</th>\n",
       "      <td>0.061126</td>\n",
       "    </tr>\n",
       "    <tr>\n",
       "      <th>19263</th>\n",
       "      <td>-0.091927</td>\n",
       "    </tr>\n",
       "    <tr>\n",
       "      <th>19264</th>\n",
       "      <td>-0.095920</td>\n",
       "    </tr>\n",
       "    <tr>\n",
       "      <th>19265</th>\n",
       "      <td>-0.032786</td>\n",
       "    </tr>\n",
       "    <tr>\n",
       "      <th>19266</th>\n",
       "      <td>0.010737</td>\n",
       "    </tr>\n",
       "  </tbody>\n",
       "</table>\n",
       "<p>19267 rows × 1 columns</p>\n",
       "</div>"
      ],
      "text/plain": [
       "              z\n",
       "0     -0.258083\n",
       "1      1.266998\n",
       "2      0.230623\n",
       "3      0.908787\n",
       "4      0.104979\n",
       "...         ...\n",
       "19262  0.061126\n",
       "19263 -0.091927\n",
       "19264 -0.095920\n",
       "19265 -0.032786\n",
       "19266  0.010737\n",
       "\n",
       "[19267 rows x 1 columns]"
      ]
     },
     "execution_count": 21,
     "metadata": {},
     "output_type": "execute_result"
    }
   ],
   "source": [
    "z_bin"
   ]
  },
  {
   "cell_type": "code",
   "execution_count": 22,
   "id": "cb1d16e4-35fb-456b-9132-2b1fcfec97f5",
   "metadata": {},
   "outputs": [],
   "source": [
    "z_bin=z_sample[['Unnamed: 0']].merge(z_bin,left_index=True, right_index=True)\n",
    "z_bin.columns=[0,1]"
   ]
  },
  {
   "cell_type": "code",
   "execution_count": 23,
   "id": "ad1a3144-2ea0-4da5-bb13-5222c16e555a",
   "metadata": {},
   "outputs": [],
   "source": [
    "z_bin.index=z_bin[0]"
   ]
  },
  {
   "cell_type": "code",
   "execution_count": 24,
   "id": "2c37cc01-67c3-468c-9dca-63f3f1372ef1",
   "metadata": {},
   "outputs": [],
   "source": [
    "z_bin=z_bin[1]"
   ]
  },
  {
   "cell_type": "code",
   "execution_count": 25,
   "id": "41e1b14c-9e37-482c-b723-58180d17682e",
   "metadata": {},
   "outputs": [
    {
     "data": {
      "text/plain": [
       "0\n",
       "TGFBR1           -0.258083\n",
       "TGFBR2            1.266998\n",
       "SMAD3             0.230623\n",
       "TGFB1             0.908787\n",
       "SMAD2             0.104979\n",
       "                    ...   \n",
       "TRBV5-1           0.061126\n",
       "TRBV19           -0.091927\n",
       "TRAV12-3         -0.095920\n",
       "TRAV22           -0.032786\n",
       "ARMCX5-GPRASP2    0.010737\n",
       "Name: 1, Length: 19267, dtype: float64"
      ]
     },
     "execution_count": 25,
     "metadata": {},
     "output_type": "execute_result"
    }
   ],
   "source": [
    "z_bin"
   ]
  },
  {
   "cell_type": "code",
   "execution_count": 26,
   "id": "841a71f9-c9bf-4e4e-ad05-ecfedf99ec22",
   "metadata": {},
   "outputs": [],
   "source": [
    "z_bin.to_csv('network_scores/'+k+'_'+interactome_name+'_zscore.tsv',sep='\\t',header=None)"
   ]
  }
 ],
 "metadata": {
  "kernelspec": {
   "display_name": "Python [conda env:env-std-py38]",
   "language": "python",
   "name": "conda-env-env-std-py38-py"
  },
  "language_info": {
   "codemirror_mode": {
    "name": "ipython",
    "version": 3
   },
   "file_extension": ".py",
   "mimetype": "text/x-python",
   "name": "python",
   "nbconvert_exporter": "python",
   "pygments_lexer": "ipython3",
   "version": "3.8.13"
  }
 },
 "nbformat": 4,
 "nbformat_minor": 5
}
