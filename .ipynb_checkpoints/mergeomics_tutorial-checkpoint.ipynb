{
 "cells": [
  {
   "cell_type": "markdown",
   "id": "3e4957db-b83b-4022-a35e-37db6b56cf45",
   "metadata": {},
   "source": [
    "purpose: run mergeomics in R for locomotor and externalizing"
   ]
  },
  {
   "cell_type": "code",
   "execution_count": 6,
   "id": "e5c99857-0109-4ff3-b292-115952acfe8c",
   "metadata": {},
   "outputs": [],
   "source": [
    "setwd('/tscc/projects/ps-palmer/brittany/mergeomics/')"
   ]
  },
  {
   "cell_type": "code",
   "execution_count": 10,
   "id": "f3fe89c5-2e24-4e9e-bf7c-28dae0471ffd",
   "metadata": {},
   "outputs": [],
   "source": [
    "source(\"Mergeomics_Version_1.99.0.R\")\n",
    "source(\"Mergeomics_utils.R\")"
   ]
  },
  {
   "cell_type": "code",
   "execution_count": 11,
   "id": "4f320455-528d-4eeb-8b4a-ab9423d3b819",
   "metadata": {},
   "outputs": [
    {
     "name": "stderr",
     "output_type": "stream",
     "text": [
      "starting httpd help server ...\n",
      " done\n",
      "\n",
      "ERROR while rich displaying an object: Error in browseURL(sprintf(\"http://127.0.0.1:%d/session/%s\", port, basename(file))): 'browser' must be a non-empty character string\n",
      "\n",
      "Traceback:\n",
      "1. tryCatch(withCallingHandlers({\n",
      " .     if (!mime %in% names(repr::mime2repr)) \n",
      " .         stop(\"No repr_* for mimetype \", mime, \" in repr::mime2repr\")\n",
      " .     rpr <- repr::mime2repr[[mime]](obj)\n",
      " .     if (is.null(rpr)) \n",
      " .         return(NULL)\n",
      " .     prepare_content(is.raw(rpr), rpr)\n",
      " . }, error = error_handler), error = outer_handler)\n",
      "2. tryCatchList(expr, classes, parentenv, handlers)\n",
      "3. tryCatchOne(expr, names, parentenv, handlers[[1L]])\n",
      "4. doTryCatch(return(expr), name, parentenv, handler)\n",
      "5. withCallingHandlers({\n",
      " .     if (!mime %in% names(repr::mime2repr)) \n",
      " .         stop(\"No repr_* for mimetype \", mime, \" in repr::mime2repr\")\n",
      " .     rpr <- repr::mime2repr[[mime]](obj)\n",
      " .     if (is.null(rpr)) \n",
      " .         return(NULL)\n",
      " .     prepare_content(is.raw(rpr), rpr)\n",
      " . }, error = error_handler)\n",
      "6. repr::mime2repr[[mime]](obj)\n",
      "7. repr_text.default(obj)\n",
      "8. paste(capture.output(print(obj)), collapse = \"\\n\")\n",
      "9. capture.output(print(obj))\n",
      "10. withVisible(...elt(i))\n",
      "11. print(obj)\n",
      "12. print.browseVignettes(obj)\n",
      "13. browseURL(sprintf(\"http://127.0.0.1:%d/session/%s\", port, basename(file)))\n",
      "14. stop(\"'browser' must be a non-empty character string\")\n"
     ]
    }
   ],
   "source": [
    "browseVignettes(\"Mergeomics\")"
   ]
  },
  {
   "cell_type": "markdown",
   "id": "e0de9b9d-76c5-4e4e-8f31-1017be0a7ac3",
   "metadata": {},
   "source": [
    "# GWAS Enrichment"
   ]
  },
  {
   "cell_type": "code",
   "execution_count": 8,
   "id": "94e729a0-9162-4378-921f-cef573402bf2",
   "metadata": {},
   "outputs": [
    {
     "name": "stderr",
     "output_type": "stream",
     "text": [
      "Warning message in system(paste0(\"bash \", paste0(label, \".bash\"))):\n",
      "“error in running command”\n"
     ]
    }
   ],
   "source": [
    "msea_job <- runMDF(marker_associations= \"GWAS/GWAS_MSEA/Kunkle_AD.txt\", # marker association file\n",
    "                   marker_mapping = \"mapping/MONOCYTES_EQTL.txt\", # marker to gene mapping file\n",
    "                   marker_dependency = \"linkage/LD50.1000G.CEU.txt\", # marker dependency file\n",
    "                   n_top = 0.2, # top proportion of marker association file to consider\n",
    "                   md_threshold = 50, # dependency (correlation/R2) cutoff, used to label output\n",
    "                   mdprune = \"mdprune\" # path to mdprune program\n",
    "                   )"
   ]
  },
  {
   "cell_type": "code",
   "execution_count": null,
   "id": "1de9dca8-9f1d-46c9-8adf-06932f266c64",
   "metadata": {},
   "outputs": [],
   "source": [
    "msea_job <- runMSEA(job=msea_job, \n",
    "                    marker_set=\"genesets/KEGG_Reactome_BioCarta.txt\")"
   ]
  },
  {
   "cell_type": "code",
   "execution_count": null,
   "id": "8d1699a2-add0-42d5-88e5-314ed7f30712",
   "metadata": {},
   "outputs": [],
   "source": [
    "kda_job <- runKDA(job=msea_job, \n",
    "                  merge_modules=TRUE,# whether to merge redundant modules, TRUE recommended\n",
    "                  network=\"network/bayesian_network_brain.txt\")\n"
   ]
  }
 ],
 "metadata": {
  "kernelspec": {
   "display_name": "R [conda env:R_base]",
   "language": "R",
   "name": "conda-env-R_base-r"
  },
  "language_info": {
   "codemirror_mode": "r",
   "file_extension": ".r",
   "mimetype": "text/x-r-source",
   "name": "R",
   "pygments_lexer": "r",
   "version": "4.3.1"
  }
 },
 "nbformat": 4,
 "nbformat_minor": 5
}
