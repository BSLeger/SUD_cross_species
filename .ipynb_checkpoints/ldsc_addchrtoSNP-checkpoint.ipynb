{
 "cells": [
  {
   "cell_type": "code",
   "execution_count": null,
   "id": "6620a8ff-0661-4a80-8c43-51a8c03587b6",
   "metadata": {},
   "outputs": [],
   "source": [
    "import pandas as pd\n",
    "import os\n",
    "import numpy as np\n",
    "from bed_reader import open_bed, sample_file\n",
    "import pybedtools\n",
    "import pyranges as pr\n",
    "from pysnptools.snpreader import Bed\n",
    "from glob import glob"
   ]
  },
  {
   "cell_type": "code",
   "execution_count": null,
   "id": "a095ec0d-d92e-4d68-a7de-3a919e70e0fb",
   "metadata": {},
   "outputs": [],
   "source": [
    "#putting chr in the SNP column\n",
    "#os.makedirs(f\"{'/'.join(file.split('/')[:-1])}_wchr/\", exist_ok=True)\n",
    "for file in sorted(glob('/tscc/projects/ps-palmer/mklara/genomic_sem/ld_score_estimation/ld_scores_dd_wchr/*.ldscore.gz')):\n",
    "    temp = pd.read_csv(file, compression='gzip', sep = '\\t', comment='#')\n",
    "    temp['SNP'] = 'chr' + temp['SNP']\n",
    "    temp.to_csv(file, compression='gzip', sep = '\\t', index = False)"
   ]
  }
 ],
 "metadata": {
  "kernelspec": {
   "display_name": "Python 3 (ipykernel)",
   "language": "python",
   "name": "python3"
  },
  "language_info": {
   "codemirror_mode": {
    "name": "ipython",
    "version": 3
   },
   "file_extension": ".py",
   "mimetype": "text/x-python",
   "name": "python",
   "nbconvert_exporter": "python",
   "pygments_lexer": "ipython3",
   "version": "3.11.5"
  }
 },
 "nbformat": 4,
 "nbformat_minor": 5
}
