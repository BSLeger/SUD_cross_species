{
 "cells": [
  {
   "cell_type": "code",
   "execution_count": 17,
   "id": "01b37b68-0e17-496b-80a8-2ecd68ff4199",
   "metadata": {},
   "outputs": [],
   "source": [
    "import pandas as pd\n",
    "import sys\n",
    "import os\n",
    "from network_functions import *\n",
    "import re"
   ]
  },
  {
   "cell_type": "code",
   "execution_count": 2,
   "id": "c1ea75e4-7fd9-475a-b10b-52d9a690f5f3",
   "metadata": {},
   "outputs": [],
   "source": [
    "os.chdir('/tscc/projects/ps-palmer/brittany/SUD_cross_species/')"
   ]
  },
  {
   "cell_type": "code",
   "execution_count": 3,
   "id": "365dbc28-4e35-4ec9-aa29-cd2d75e7d49f",
   "metadata": {},
   "outputs": [],
   "source": [
    "outdir='tissue_networks/intermediate/'"
   ]
  },
  {
   "cell_type": "code",
   "execution_count": 9,
   "id": "b14c7852-1587-42d4-a13e-6716f43f4c14",
   "metadata": {
    "scrolled": true
   },
   "outputs": [],
   "source": [
    "files=[x for x in os.listdir('network_scores') if 'tissue' in x]"
   ]
  },
  {
   "cell_type": "code",
   "execution_count": 11,
   "id": "52f91f9a-b932-49e1-b648-3d9301b22054",
   "metadata": {},
   "outputs": [],
   "source": [
    "tissues = [\"basal_ganglion\", \"brain\", \"caudate_nucleus\", \"caudate_putamen\", \n",
    "    \"central_nervous_system\", \"cerebellar_cortex\", \"cerebellum\", \n",
    "    \"cerebral_cortex\", \"corpus_callosum\", \"corpus_striatum\", \n",
    "    \"dentate_gyrus\", \"diencephalon\", \"forebrain\", \"frontal_lobe\", \n",
    "    \"glia\", \"hippocampus\", \"hypophysis\", \"hypothalamus\", \n",
    "    \"locus_ceruleus\", \"medulla_oblongata\", \"midbrain\", \"nervous_system\", \n",
    "    \"neuron\", \"nucleus_accumbens\", \"occipital_lobe\", \"occipital_pole\", \n",
    "    \"pons\", \"peripheral_nervous_system\", \"spinal_cord\", \n",
    "    \"substantia_nigra\", \"subthalamic_nucleus\", \"telencephalon\", \n",
    "    \"temporal_lobe\", \"thalamus\", \"bronchial_epithelial_cell\", \"bronchus\", \n",
    "    \"lung\", \"trachea\", \"global\"]"
   ]
  },
  {
   "cell_type": "code",
   "execution_count": 20,
   "id": "7b6e3b1d-9fe7-47a9-938c-eecfb50fbb40",
   "metadata": {},
   "outputs": [],
   "source": [
    "f= [re.findall(r\"(.*?)_hb_tissue_(.*?)_top_zscore\\.tsv\", x)[0] for x in files]"
   ]
  },
  {
   "cell_type": "code",
   "execution_count": 35,
   "id": "1db50357-c589-41cd-9413-66a0d270d2af",
   "metadata": {},
   "outputs": [
    {
     "name": "stdout",
     "output_type": "stream",
     "text": [
      "available files for this tissue: ['node_list_global_top.txt', 'w_double_prime_global.npy', 'degree_global.csv', 'node_list_global.txt', 'w_double_prime_global_top.npy', 'normalized_adjacency_global_top.npz', 'degree_global_top.csv', 'normalized_adjacency_global.npz']\n"
     ]
    }
   ],
   "source": [
    "tissue_network=True\n",
    "tissue='global'\n",
    "netdir='tissue_networks/intermediate/'\n",
    "\n",
    "print(f'available files for this tissue: {[x for x in os.listdir(netdir) if tissue in x]}')\n",
    "interactome_name=f'hb_tissue_{tissue}_top'\n",
    "#import node list\n",
    "with open(f'{netdir}node_list_{tissue}_top.txt', 'r') as file:\n",
    "    lines = file.readlines()\n",
    "all_nodes=[line.strip() for line in lines]"
   ]
  },
  {
   "cell_type": "code",
   "execution_count": 67,
   "id": "2e6ae45e-4f09-4b57-ad4f-f3fdabd18bad",
   "metadata": {},
   "outputs": [],
   "source": [
    "if not tissue_network:\n",
    "    seed_dict=import_seed_dict(mag_dir,file_dict,bonf_dict,gene_col_dict,all_nodes)\n",
    "else:\n",
    "    hgnc=pd.read_csv('hgnc_complete_set.txt',sep='\\t',low_memory=False)\n",
    "    hgnc=hgnc[['symbol','entrez_id']].dropna()\n",
    "    hgnc['entrez_id']=hgnc['entrez_id'].astype(int).astype(str)\n",
    "    seed_dict=import_seed_dict(mag_dir,file_dict,bonf_dict,gene_col_dict,hgnc[hgnc.entrez_id.isin(all_nodes)]['symbol']) \n",
    "seed_dict.keys()\n",
    "#dictionary of human control traits\n",
    "ctrl_dict={}\n",
    "ctrl_traits=['facial_hair', 'age_smkinit', 'antisoc', 'friend_sat', 'hr', 'infant_bw', 'LDL', 'maternal_smok', 'townsend', 'age_menarche', 'neurot','addict-rf']\n",
    "for t in ctrl_traits:\n",
    "    ctrl_dict[t]=pd.read_csv('gwas_ctrl_hm/magma/seed_genes/'+t+'_annot.tsv',sep='\\t')\n",
    "for t in ctrl_traits:\n",
    "    seed_dict[t+'_FDR']=(set(ctrl_dict[t][ctrl_dict[t]['Q']<0.05]['GENE']))\n",
    "    seed_dict[t+'_bonf']=(set(ctrl_dict[t][ctrl_dict[t]['P']<0.05/len(ctrl_dict[t])]['GENE']))\n",
    "    if not tissue_network:\n",
    "        seed_dict[t+'_top500']=set(ctrl_dict[t][(ctrl_dict[t]['GENE'].isin(all_nodes))].nsmallest(500,'P')['GENE'])\n",
    "    else:\n",
    "        seed_dict[t+'_top500']=set(ctrl_dict[t][(ctrl_dict[t]['GENE'].isin(hgnc[hgnc.entrez_id.isin(all_nodes)]['symbol']))].nsmallest(500,'P')['GENE'])\n",
    "if tissue_network:\n",
    "    seed_dict={k: set(hgnc[hgnc.symbol.isin(v)]['entrez_id']) for k, v in seed_dict.items()}"
   ]
  },
  {
   "cell_type": "code",
   "execution_count": 48,
   "id": "6cf9dafa-0fcd-4d2e-abbc-27fef77ab120",
   "metadata": {
    "scrolled": true
   },
   "outputs": [],
   "source": [
    "seeds=set(seed_dict.keys())"
   ]
  },
  {
   "cell_type": "code",
   "execution_count": 50,
   "id": "f48c0021-70a8-4128-a7be-f2995d754888",
   "metadata": {},
   "outputs": [
    {
     "name": "stdout",
     "output_type": "stream",
     "text": [
      "70 MISSING VALUES for basal_ganglion\n",
      "18 MISSING VALUES for brain\n",
      "18 MISSING VALUES for caudate_nucleus\n",
      "18 MISSING VALUES for caudate_putamen\n",
      "18 MISSING VALUES for central_nervous_system\n",
      "18 MISSING VALUES for cerebellar_cortex\n",
      "30 MISSING VALUES for cerebellum\n",
      "21 MISSING VALUES for cerebral_cortex\n",
      "18 MISSING VALUES for corpus_callosum\n",
      "18 MISSING VALUES for corpus_striatum\n",
      "18 MISSING VALUES for dentate_gyrus\n",
      "18 MISSING VALUES for diencephalon\n",
      "18 MISSING VALUES for forebrain\n",
      "18 MISSING VALUES for frontal_lobe\n",
      "18 MISSING VALUES for glia\n",
      "18 MISSING VALUES for hippocampus\n",
      "18 MISSING VALUES for hypophysis\n",
      "22 MISSING VALUES for hypothalamus\n",
      "22 MISSING VALUES for locus_ceruleus\n",
      "18 MISSING VALUES for medulla_oblongata\n",
      "18 MISSING VALUES for midbrain\n",
      "18 MISSING VALUES for nervous_system\n",
      "18 MISSING VALUES for neuron\n",
      "22 MISSING VALUES for nucleus_accumbens\n",
      "32 MISSING VALUES for occipital_lobe\n",
      "32 MISSING VALUES for occipital_pole\n",
      "32 MISSING VALUES for pons\n",
      "18 MISSING VALUES for peripheral_nervous_system\n",
      "18 MISSING VALUES for spinal_cord\n",
      "18 MISSING VALUES for substantia_nigra\n",
      "18 MISSING VALUES for subthalamic_nucleus\n",
      "18 MISSING VALUES for telencephalon\n",
      "18 MISSING VALUES for temporal_lobe\n",
      "18 MISSING VALUES for thalamus\n",
      "18 MISSING VALUES for bronchial_epithelial_cell\n",
      "18 MISSING VALUES for bronchus\n",
      "18 MISSING VALUES for lung\n",
      "18 MISSING VALUES for trachea\n",
      "all scores calculated for global\n"
     ]
    }
   ],
   "source": [
    "missing_dict={}\n",
    "for t in tissues:\n",
    "    scores=[x for x in f if t in x]\n",
    "    if len(scores)==len(seeds):\n",
    "        print(f'all scores calculated for {t}')\n",
    "    else:\n",
    "        print(f'{len(seeds)-len(scores)} MISSING VALUES for {t}')\n",
    "        missing_dict[t]=set(seed_dict).difference([x[0] for x in scores])"
   ]
  },
  {
   "cell_type": "code",
   "execution_count": 52,
   "id": "915adfea-c106-4732-8c75-1e69ff4d5cc9",
   "metadata": {
    "scrolled": true
   },
   "outputs": [
    {
     "data": {
      "text/plain": [
       "dict_keys(['basal_ganglion', 'brain', 'caudate_nucleus', 'caudate_putamen', 'central_nervous_system', 'cerebellar_cortex', 'cerebellum', 'cerebral_cortex', 'corpus_callosum', 'corpus_striatum', 'dentate_gyrus', 'diencephalon', 'forebrain', 'frontal_lobe', 'glia', 'hippocampus', 'hypophysis', 'hypothalamus', 'locus_ceruleus', 'medulla_oblongata', 'midbrain', 'nervous_system', 'neuron', 'nucleus_accumbens', 'occipital_lobe', 'occipital_pole', 'pons', 'peripheral_nervous_system', 'spinal_cord', 'substantia_nigra', 'subthalamic_nucleus', 'telencephalon', 'temporal_lobe', 'thalamus', 'bronchial_epithelial_cell', 'bronchus', 'lung', 'trachea'])"
      ]
     },
     "execution_count": 52,
     "metadata": {},
     "output_type": "execute_result"
    }
   ],
   "source": [
    "missing_dict.keys()"
   ]
  },
  {
   "cell_type": "code",
   "execution_count": null,
   "id": "82d464f9-6373-43f8-9a56-d54fcca09235",
   "metadata": {},
   "outputs": [],
   "source": [
    "ctrl_traits=['facial_hair', 'age_smkinit', 'antisoc', 'friend_sat', 'hr', 'infant_bw', 'LDL', 'maternal_smok', 'townsend', 'age_menarche', 'neurot','addict-rf']\n"
   ]
  },
  {
   "cell_type": "code",
   "execution_count": 55,
   "id": "89ccc567-8e8f-4720-8bda-205bb4d480de",
   "metadata": {},
   "outputs": [
    {
     "data": {
      "text/plain": [
       "{'LDL_top500',\n",
       " 'addict-rf_top500',\n",
       " 'age_menarche_top500',\n",
       " 'age_smkinit_top500',\n",
       " 'antisoc_FDR',\n",
       " 'antisoc_bonf',\n",
       " 'antisoc_top500',\n",
       " 'facial_hair_top500',\n",
       " 'friend_sat_top500',\n",
       " 'hr_top500',\n",
       " 'infant_bw_top500',\n",
       " 'loco_final_cf_rat_FDR',\n",
       " 'loco_final_cf_rat_bonf',\n",
       " 'maternal_smok_top500',\n",
       " 'neurot_FDR',\n",
       " 'neurot_bonf',\n",
       " 'neurot_top500',\n",
       " 'townsend_top500'}"
      ]
     },
     "execution_count": 55,
     "metadata": {},
     "output_type": "execute_result"
    }
   ],
   "source": [
    "missing_dict['brain']"
   ]
  }
 ],
 "metadata": {
  "kernelspec": {
   "display_name": "Python [conda env:env-std-py38]",
   "language": "python",
   "name": "conda-env-env-std-py38-py"
  },
  "language_info": {
   "codemirror_mode": {
    "name": "ipython",
    "version": 3
   },
   "file_extension": ".py",
   "mimetype": "text/x-python",
   "name": "python",
   "nbconvert_exporter": "python",
   "pygments_lexer": "ipython3",
   "version": "3.8.13"
  }
 },
 "nbformat": 4,
 "nbformat_minor": 5
}
