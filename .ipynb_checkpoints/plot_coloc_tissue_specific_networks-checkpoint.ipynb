{
 "cells": [
  {
   "cell_type": "markdown",
   "id": "2ee8ef43-9549-48f2-9bf7-38357bfbf428",
   "metadata": {},
   "source": [
    "# set-up"
   ]
  },
  {
   "cell_type": "code",
   "execution_count": 1,
   "id": "2b24fac2-3701-453c-901c-0d342d66d1ac",
   "metadata": {},
   "outputs": [],
   "source": [
    "import os\n",
    "import pandas as pd\n",
    "import ndex2\n",
    "import networkx as nx\n",
    "from netcoloc import netprop_zscore\n",
    "from netcoloc import netprop\n",
    "from netcoloc import network_colocalization\n",
    "import sys\n",
    "import random\n",
    "#os.chdir('/tscc/projects/ps-palmer/brittany/rare_common_alcohol/rare_common_alcohol_comparison/notebooks/')\n",
    "#from rca_functions import *\n",
    "os.chdir('/tscc/projects/ps-palmer/brittany/SUD_cross_species/scripts')\n",
    "from network_functions import *\n",
    "from network_validation_functions import *\n",
    "from plotting_functions import *\n",
    "os.chdir('/tscc/projects/ps-palmer/brittany/SUD_cross_species/')"
   ]
  },
  {
   "cell_type": "code",
   "execution_count": 2,
   "id": "780be403-8796-4ee6-aa6a-f2a37e304858",
   "metadata": {},
   "outputs": [],
   "source": [
    "random_seed=random.seed(211)"
   ]
  },
  {
   "cell_type": "code",
   "execution_count": 3,
   "id": "54cc86a2-5c0e-46f0-80cc-4c7385324415",
   "metadata": {},
   "outputs": [],
   "source": [
    "save_fig=True"
   ]
  },
  {
   "cell_type": "code",
   "execution_count": 4,
   "id": "3f943633-6d56-4d3c-be8f-50d11471aef7",
   "metadata": {},
   "outputs": [],
   "source": [
    "#whether to rerun the significance analysis for network colocalization\n",
    "rerun_colocalization=False"
   ]
  },
  {
   "cell_type": "code",
   "execution_count": 5,
   "id": "3c0912a7-9992-4b9f-bf65-f6cd883c2eea",
   "metadata": {},
   "outputs": [
    {
     "name": "stdout",
     "output_type": "stream",
     "text": [
      "NDEx credentials imported from meta file\n"
     ]
    }
   ],
   "source": [
    "#create a file called environ_ndex_meta.py where you save variables 'ndex_user' and 'ndex_password'\n",
    "#otherwise will prompt you to define those within the notebooks\n",
    "if os.path.isfile('../environ_ndex_meta.py'):\n",
    "    print ('NDEx credentials imported from meta file')\n",
    "    sys.path.insert(1, '../')\n",
    "    from environ_ndex_meta import *\n",
    "    sys.path.pop(1)\n",
    "else:\n",
    "    # Prompt the user for a username\n",
    "    ndex_user = input(\"Enter your NDEx username: \")\n",
    "    # Prompt the user for a password\n",
    "    ndex_password = input(\"Enter your NDEx password: \")"
   ]
  },
  {
   "cell_type": "code",
   "execution_count": 26,
   "id": "888aa59c-d182-47b3-a055-746825abf1da",
   "metadata": {},
   "outputs": [],
   "source": [
    "tissue='neuron'"
   ]
  },
  {
   "cell_type": "code",
   "execution_count": 14,
   "id": "13ac2f2a-d742-45b1-89aa-9217bbcd0952",
   "metadata": {},
   "outputs": [],
   "source": [
    "tissue_network=True"
   ]
  },
  {
   "cell_type": "code",
   "execution_count": 27,
   "id": "3596775a-ed35-4de8-bccc-563ae446698f",
   "metadata": {},
   "outputs": [],
   "source": [
    "if tissue_network:\n",
    "    netdir='tissue_networks/intermediate/'\n",
    "    interactome_name=f'hb_tissue_{tissue}_top'\n",
    "    #import node list\n",
    "    with open(f'{netdir}node_list_{tissue}_top.txt', 'r') as file:\n",
    "        lines = file.readlines()\n",
    "    # Remove newline characters from each line\n",
    "    all_nodes=[line.strip() for line in lines]"
   ]
  },
  {
   "cell_type": "markdown",
   "id": "861887bf-3d37-48a5-8408-e88fb05467c3",
   "metadata": {},
   "source": [
    "# import NPS scores and seed genes"
   ]
  },
  {
   "cell_type": "code",
   "execution_count": 16,
   "id": "eb9a6e63-3174-4543-a1bb-4c3d5424af39",
   "metadata": {
    "scrolled": true
   },
   "outputs": [
    {
     "data": {
      "text/plain": [
       "dict_keys(['loco_bonf', 'loco_top500', 'loco_FDR', 'loco_gsem_bonf', 'loco_gsem_top500', 'loco_gsem_FDR', 'ext_bonf', 'ext_top500', 'ext_FDR', 'ext_st22', 'loco_mega_fus_naac_bonf', 'loco_mega_fus_naac_top500', 'loco_mega_fus_naac_FDR', 'ext_fus_naac_bonf', 'ext_fus_naac_top500', 'ext_fus_naac_FDR', 'loco_final_cf_bonf', 'loco_final_cf_top500', 'loco_final_cf_FDR', 'loco_final_mega_bonf', 'loco_final_mega_top500', 'loco_final_mega_FDR', 'ext_rat_bonf', 'ext_rat_top500', 'ext_rat_FDR', 'loco_final_cf_rat_bonf', 'loco_final_cf_rat_top500', 'loco_final_cf_rat_FDR', 'ext_db_bonf', 'ext_db_top500', 'ext_db_FDR', 'ext_rtb_bonf', 'ext_rtb_top500', 'ext_rtb_FDR', 'loco_final_cf_25_bonf', 'loco_final_cf_25_top500', 'loco_final_cf_25_FDR'])"
      ]
     },
     "execution_count": 16,
     "metadata": {},
     "output_type": "execute_result"
    }
   ],
   "source": [
    "if not tissue_network:\n",
    "    seed_dict=import_seed_dict(mag_dir,file_dict,bonf_dict,gene_col_dict,all_nodes)\n",
    "else:\n",
    "    hgnc=pd.read_csv('hgnc_complete_set.txt',sep='\\t',low_memory=False)\n",
    "    hgnc=hgnc[['symbol','entrez_id']].dropna()\n",
    "    hgnc['entrez_id']=hgnc['entrez_id'].astype(int).astype(str)\n",
    "    seed_dict=import_seed_dict(mag_dir,file_dict,bonf_dict,gene_col_dict,hgnc[hgnc.entrez_id.isin(all_nodes)]['symbol']) \n",
    "seed_dict.keys()"
   ]
  },
  {
   "cell_type": "code",
   "execution_count": 17,
   "id": "7495c36f-e61a-4174-9783-340007d8fccc",
   "metadata": {},
   "outputs": [],
   "source": [
    "#dictionary of human control traits\n",
    "ctrl_dict={}\n",
    "ctrl_traits=['facial_hair', 'age_smkinit', 'antisoc', 'friend_sat', 'hr', 'infant_bw', 'LDL', 'maternal_smok', 'townsend', 'age_menarche', 'neurot','addict-rf']\n",
    "for t in ctrl_traits:\n",
    "    ctrl_dict[t]=pd.read_csv('gwas_ctrl_hm/magma/seed_genes/'+t+'_annot.tsv',sep='\\t')\n",
    "for t in ctrl_traits:\n",
    "    seed_dict[t+'_FDR']=(set(ctrl_dict[t][ctrl_dict[t]['Q']<0.05]['GENE']))\n",
    "    seed_dict[t+'_bonf']=(set(ctrl_dict[t][ctrl_dict[t]['P']<0.05/len(ctrl_dict[t])]['GENE']))\n",
    "    seed_dict[t+'_top500']=set(ctrl_dict[t][(ctrl_dict[t]['GENE'].isin(all_nodes))].nsmallest(500,'P')['GENE'])"
   ]
  },
  {
   "cell_type": "code",
   "execution_count": 18,
   "id": "d9bb563a-253d-4f0e-8489-c5e12d862ee7",
   "metadata": {},
   "outputs": [],
   "source": [
    "if tissue_network:\n",
    "    seed_dict={k: set(hgnc[hgnc.symbol.isin(v)]['entrez_id']) for k, v in seed_dict.items()}"
   ]
  },
  {
   "cell_type": "code",
   "execution_count": 19,
   "id": "5ca5ba87-4079-42ad-803b-1163f203a6dc",
   "metadata": {
    "scrolled": true
   },
   "outputs": [
    {
     "data": {
      "text/plain": [
       "dict_keys(['loco_bonf_hb_tissue_global_top', 'loco_top500_hb_tissue_global_top', 'loco_FDR_hb_tissue_global_top', 'loco_gsem_bonf_hb_tissue_global_top', 'loco_gsem_top500_hb_tissue_global_top', 'loco_gsem_FDR_hb_tissue_global_top', 'ext_bonf_hb_tissue_global_top', 'ext_top500_hb_tissue_global_top', 'ext_FDR_hb_tissue_global_top', 'ext_st22_hb_tissue_global_top', 'loco_mega_fus_naac_bonf_hb_tissue_global_top', 'loco_mega_fus_naac_top500_hb_tissue_global_top', 'loco_mega_fus_naac_FDR_hb_tissue_global_top', 'ext_fus_naac_bonf_hb_tissue_global_top', 'ext_fus_naac_top500_hb_tissue_global_top', 'ext_fus_naac_FDR_hb_tissue_global_top', 'loco_final_cf_bonf_hb_tissue_global_top', 'loco_final_cf_top500_hb_tissue_global_top', 'loco_final_cf_FDR_hb_tissue_global_top', 'loco_final_mega_bonf_hb_tissue_global_top', 'loco_final_mega_top500_hb_tissue_global_top', 'loco_final_mega_FDR_hb_tissue_global_top', 'ext_rat_bonf_hb_tissue_global_top', 'ext_rat_top500_hb_tissue_global_top', 'ext_rat_FDR_hb_tissue_global_top', 'loco_final_cf_rat_bonf_hb_tissue_global_top', 'loco_final_cf_rat_top500_hb_tissue_global_top', 'loco_final_cf_rat_FDR_hb_tissue_global_top', 'ext_db_bonf_hb_tissue_global_top', 'ext_db_top500_hb_tissue_global_top', 'ext_db_FDR_hb_tissue_global_top', 'ext_rtb_bonf_hb_tissue_global_top', 'ext_rtb_top500_hb_tissue_global_top', 'ext_rtb_FDR_hb_tissue_global_top', 'facial_hair_FDR_hb_tissue_global_top', 'facial_hair_bonf_hb_tissue_global_top', 'facial_hair_top500_hb_tissue_global_top', 'age_smkinit_FDR_hb_tissue_global_top', 'age_smkinit_bonf_hb_tissue_global_top', 'age_smkinit_top500_hb_tissue_global_top', 'antisoc_FDR_hb_tissue_global_top', 'antisoc_bonf_hb_tissue_global_top', 'antisoc_top500_hb_tissue_global_top', 'friend_sat_FDR_hb_tissue_global_top', 'friend_sat_bonf_hb_tissue_global_top', 'friend_sat_top500_hb_tissue_global_top', 'hr_FDR_hb_tissue_global_top', 'hr_bonf_hb_tissue_global_top', 'hr_top500_hb_tissue_global_top', 'infant_bw_FDR_hb_tissue_global_top', 'infant_bw_bonf_hb_tissue_global_top', 'infant_bw_top500_hb_tissue_global_top', 'LDL_FDR_hb_tissue_global_top', 'LDL_bonf_hb_tissue_global_top', 'LDL_top500_hb_tissue_global_top', 'maternal_smok_FDR_hb_tissue_global_top', 'maternal_smok_bonf_hb_tissue_global_top', 'maternal_smok_top500_hb_tissue_global_top', 'townsend_FDR_hb_tissue_global_top', 'townsend_bonf_hb_tissue_global_top', 'townsend_top500_hb_tissue_global_top', 'age_menarche_FDR_hb_tissue_global_top', 'age_menarche_bonf_hb_tissue_global_top', 'age_menarche_top500_hb_tissue_global_top', 'neurot_FDR_hb_tissue_global_top', 'neurot_bonf_hb_tissue_global_top', 'neurot_top500_hb_tissue_global_top', 'addict-rf_FDR_hb_tissue_global_top', 'addict-rf_bonf_hb_tissue_global_top', 'addict-rf_top500_hb_tissue_global_top'])"
      ]
     },
     "execution_count": 19,
     "metadata": {},
     "output_type": "execute_result"
    }
   ],
   "source": [
    "NPS_dict,NPS_dict_series=import_NPS_scores(seed_dict,interactome_name)\n",
    "NPS_dict.keys()"
   ]
  },
  {
   "cell_type": "markdown",
   "id": "cfbf86e0-734b-40d1-92bd-089ca7c92dc9",
   "metadata": {},
   "source": [
    "# choose datasets for analysis"
   ]
  },
  {
   "cell_type": "code",
   "execution_count": 20,
   "id": "879874ed-f007-4e7e-9734-0957f96b08f4",
   "metadata": {},
   "outputs": [],
   "source": [
    "def return_analysis_datasets(trait_r,cut_r,trait_h,cut_h,seed_dict,NPS_dict,interactome_name):\n",
    "    #labels\n",
    "\tif not (trait_h==None):\n",
    "\t    if cut_h==None:\n",
    "\t        label_h=trait_h\n",
    "\t    else:\n",
    "\t        label_h=trait_h+'_'+cut_h\n",
    "\t    seed_h=seed_dict[label_h]\n",
    "\t    NPS_h=NPS_dict[label_h+'_'+interactome_name]\n",
    "\telse:\n",
    "\t\ttrait_h=None\n",
    "\t\tlabel_h=None\n",
    "\t\tcut_h=None\n",
    "\t\tseed_h=None\n",
    "\t\tNPS_h=None\n",
    "\n",
    "\tif not (trait_r==None):\n",
    "\t    if cut_r==None:\n",
    "\t        label_r=trait_r\n",
    "\t    else:\n",
    "\t        label_r=trait_r+'_'+cut_r\n",
    "\t    seed_r=seed_dict[label_r]\n",
    "\t    NPS_r=NPS_dict[label_r+'_'+interactome_name]\n",
    "\n",
    "\telse:\n",
    "\t\ttrait_r=None\n",
    "\t\tlabel_r=None\n",
    "\t\tcut_r=None\n",
    "\t\tseed_r=None\n",
    "\t\tNPS_r=None\n",
    "    #seed genes\n",
    "    #NPS scores\n",
    "\tif ((trait_h!=None) and (trait_r!=None)):\n",
    "\t    NPS = NPS_h.join(NPS_r, lsuffix=\"h\", rsuffix=\"r\")\n",
    "\t    NPS = NPS.assign(zhr=NPS.zh * NPS.zr)\n",
    "\telse:\n",
    "\t    NPS=None\n",
    "\treturn label_h,label_r,seed_h,seed_r,NPS_h,NPS_r,NPS"
   ]
  },
  {
   "cell_type": "code",
   "execution_count": 21,
   "id": "9540047e-d0ae-4ff6-8af0-71bba966fb54",
   "metadata": {},
   "outputs": [],
   "source": [
    "#set the Z-score cutoffs to calculate network enrichment significance\n",
    "zlist = [1,2,3,4,5,6,7,8,9,10]\n",
    "z12list = [1,1.5,2,3,4,5]\n",
    "cutoff_comb=3\n",
    "cutoff_single=1.5"
   ]
  },
  {
   "cell_type": "code",
   "execution_count": 22,
   "id": "0d66227e-5d7e-4c80-8781-c603832a17eb",
   "metadata": {},
   "outputs": [
    {
     "data": {
      "text/plain": [
       "dict_keys(['loco_bonf', 'loco_top500', 'loco_FDR', 'loco_gsem_bonf', 'loco_gsem_top500', 'loco_gsem_FDR', 'ext_bonf', 'ext_top500', 'ext_FDR', 'ext_st22', 'loco_mega_fus_naac_bonf', 'loco_mega_fus_naac_top500', 'loco_mega_fus_naac_FDR', 'ext_fus_naac_bonf', 'ext_fus_naac_top500', 'ext_fus_naac_FDR', 'loco_final_cf_bonf', 'loco_final_cf_top500', 'loco_final_cf_FDR', 'loco_final_mega_bonf', 'loco_final_mega_top500', 'loco_final_mega_FDR', 'ext_rat_bonf', 'ext_rat_top500', 'ext_rat_FDR', 'loco_final_cf_rat_bonf', 'loco_final_cf_rat_top500', 'loco_final_cf_rat_FDR', 'ext_db_bonf', 'ext_db_top500', 'ext_db_FDR', 'ext_rtb_bonf', 'ext_rtb_top500', 'ext_rtb_FDR', 'loco_final_cf_25_bonf', 'loco_final_cf_25_top500', 'loco_final_cf_25_FDR', 'facial_hair_FDR', 'facial_hair_bonf', 'facial_hair_top500', 'age_smkinit_FDR', 'age_smkinit_bonf', 'age_smkinit_top500', 'antisoc_FDR', 'antisoc_bonf', 'antisoc_top500', 'friend_sat_FDR', 'friend_sat_bonf', 'friend_sat_top500', 'hr_FDR', 'hr_bonf', 'hr_top500', 'infant_bw_FDR', 'infant_bw_bonf', 'infant_bw_top500', 'LDL_FDR', 'LDL_bonf', 'LDL_top500', 'maternal_smok_FDR', 'maternal_smok_bonf', 'maternal_smok_top500', 'townsend_FDR', 'townsend_bonf', 'townsend_top500', 'age_menarche_FDR', 'age_menarche_bonf', 'age_menarche_top500', 'neurot_FDR', 'neurot_bonf', 'neurot_top500', 'addict-rf_FDR', 'addict-rf_bonf', 'addict-rf_top500'])"
      ]
     },
     "execution_count": 22,
     "metadata": {},
     "output_type": "execute_result"
    }
   ],
   "source": [
    "seed_dict.keys()"
   ]
  },
  {
   "cell_type": "markdown",
   "id": "1191983a-a030-4fa3-840a-8d05eea7b4e2",
   "metadata": {},
   "source": [
    "# loop over all traits and loco cutoffs"
   ]
  },
  {
   "cell_type": "code",
   "execution_count": 23,
   "id": "e90744ae-f102-4d27-a711-49f8dc474b05",
   "metadata": {},
   "outputs": [],
   "source": [
    "ctrl_traits=['facial_hair', 'age_smkinit', 'antisoc', 'friend_sat', 'hr', 'infant_bw', 'LDL', 'maternal_smok', 'townsend', 'age_menarche', 'neurot','addict-rf','ext_rtb','ext_db']\n",
    "ctrl_traits.insert(len(ctrl_traits),'ext')\n",
    "ctrl_traits=[x for x in seed_dict.keys() if any(ctrl_trait in x for ctrl_trait in ctrl_traits)]\n",
    "ctrl_traits=[x for x in ctrl_traits if 'fus' not in x]\n",
    "ctrl_traits=[x for x in ctrl_traits if 'rat' not in x]"
   ]
  },
  {
   "cell_type": "code",
   "execution_count": 28,
   "id": "b63c8553-77c8-4ba2-93a6-7df86913fe25",
   "metadata": {},
   "outputs": [
    {
     "data": {
      "text/plain": [
       "'hb_tissue_neuron_top'"
      ]
     },
     "execution_count": 28,
     "metadata": {},
     "output_type": "execute_result"
    }
   ],
   "source": [
    "interactome_name"
   ]
  },
  {
   "cell_type": "code",
   "execution_count": 35,
   "id": "b77d7759-f1ae-468c-b7a0-0c86c45ebb70",
   "metadata": {},
   "outputs": [
    {
     "data": {
      "text/plain": [
       "'hb_tissue_neuron_top'"
      ]
     },
     "execution_count": 35,
     "metadata": {},
     "output_type": "execute_result"
    }
   ],
   "source": [
    "interactome_name"
   ]
  },
  {
   "cell_type": "code",
   "execution_count": null,
   "id": "4b8163f7-983a-4a87-8200-0fa19e2112b2",
   "metadata": {},
   "outputs": [],
   "source": [
    "loco_final_cf_FDR_hb_tissue_neuron_top_zscore.tsv"
   ]
  },
  {
   "cell_type": "code",
   "execution_count": 36,
   "id": "74f43f0b-49ab-477a-bffe-d7e7cf85d600",
   "metadata": {
    "scrolled": true
   },
   "outputs": [
    {
     "ename": "KeyError",
     "evalue": "'loco_final_cf_FDR_neuron'",
     "output_type": "error",
     "traceback": [
      "\u001b[0;31m---------------------------------------------------------------------------\u001b[0m",
      "\u001b[0;31mKeyError\u001b[0m                                  Traceback (most recent call last)",
      "Input \u001b[0;32mIn [36]\u001b[0m, in \u001b[0;36m<cell line: 5>\u001b[0;34m()\u001b[0m\n\u001b[1;32m      4\u001b[0m cut_h\u001b[38;5;241m=\u001b[39m\u001b[38;5;28;01mNone\u001b[39;00m\n\u001b[1;32m      5\u001b[0m \u001b[38;5;28;01mfor\u001b[39;00m cut_r \u001b[38;5;129;01min\u001b[39;00m [\u001b[38;5;124m'\u001b[39m\u001b[38;5;124mFDR\u001b[39m\u001b[38;5;124m'\u001b[39m,\u001b[38;5;124m'\u001b[39m\u001b[38;5;124mbonf\u001b[39m\u001b[38;5;124m'\u001b[39m,\u001b[38;5;124m'\u001b[39m\u001b[38;5;124mtop500\u001b[39m\u001b[38;5;124m'\u001b[39m]:\n\u001b[0;32m----> 6\u001b[0m     _,label_r,_,seed_r,_,_,_\u001b[38;5;241m=\u001b[39m\u001b[43mreturn_analysis_datasets\u001b[49m\u001b[43m(\u001b[49m\u001b[43mtrait_r\u001b[49m\u001b[43m,\u001b[49m\u001b[43mcut_r\u001b[49m\u001b[43m,\u001b[49m\u001b[43mtrait_h\u001b[49m\u001b[43m,\u001b[49m\u001b[43mcut_h\u001b[49m\u001b[43m,\u001b[49m\u001b[43mseed_dict\u001b[49m\u001b[43m,\u001b[49m\u001b[43mNPS_dict\u001b[49m\u001b[43m,\u001b[49m\u001b[43mtissue\u001b[49m\u001b[43m)\u001b[49m\n\u001b[1;32m      7\u001b[0m     \u001b[38;5;28mprint\u001b[39m(trait_r)\n\u001b[1;32m      8\u001b[0m     \u001b[38;5;28;01mfor\u001b[39;00m label_h \u001b[38;5;129;01min\u001b[39;00m ctrl_traits:\n",
      "Input \u001b[0;32mIn [20]\u001b[0m, in \u001b[0;36mreturn_analysis_datasets\u001b[0;34m(trait_r, cut_r, trait_h, cut_h, seed_dict, NPS_dict, interactome_name)\u001b[0m\n\u001b[1;32m     21\u001b[0m         label_r\u001b[38;5;241m=\u001b[39mtrait_r\u001b[38;5;241m+\u001b[39m\u001b[38;5;124m'\u001b[39m\u001b[38;5;124m_\u001b[39m\u001b[38;5;124m'\u001b[39m\u001b[38;5;241m+\u001b[39mcut_r\n\u001b[1;32m     22\u001b[0m     seed_r\u001b[38;5;241m=\u001b[39mseed_dict[label_r]\n\u001b[0;32m---> 23\u001b[0m     NPS_r\u001b[38;5;241m=\u001b[39m\u001b[43mNPS_dict\u001b[49m\u001b[43m[\u001b[49m\u001b[43mlabel_r\u001b[49m\u001b[38;5;241;43m+\u001b[39;49m\u001b[38;5;124;43m'\u001b[39;49m\u001b[38;5;124;43m_\u001b[39;49m\u001b[38;5;124;43m'\u001b[39;49m\u001b[38;5;241;43m+\u001b[39;49m\u001b[43minteractome_name\u001b[49m\u001b[43m]\u001b[49m\n\u001b[1;32m     25\u001b[0m \u001b[38;5;28;01melse\u001b[39;00m:\n\u001b[1;32m     26\u001b[0m \ttrait_r\u001b[38;5;241m=\u001b[39m\u001b[38;5;28;01mNone\u001b[39;00m\n",
      "\u001b[0;31mKeyError\u001b[0m: 'loco_final_cf_FDR_neuron'"
     ]
    }
   ],
   "source": [
    "#modify for correct genesets\n",
    "trait_r='loco_final_cf'\n",
    "trait_h=None\n",
    "cut_h=None\n",
    "for cut_r in ['FDR','bonf','top500']:\n",
    "    _,label_r,_,seed_r,_,NPS_r,_=return_analysis_datasets(trait_r,cut_r,trait_h,cut_h,seed_dict,NPS_dict,interactome_name)\n",
    "    print(trait_r)\n",
    "    for label_h in ctrl_traits:\n",
    "            print(label_h)\n",
    "            coloc_filename=f'colocalization_scores/colocScore_{label_r}_{label_h}_{interactome_name}.tsv'\n",
    "            if not (os.path.exists(coloc_filename)):\n",
    "                print('running analysis')\n",
    "                seed_h=seed_dict[label_h]\n",
    "                NPS_h=NPS_dict[label_h+'_'+interactome_name]\n",
    "                netcoloc_enrichment_df = network_colocalization.calculate_network_enrichment(NPS_r,NPS_h,\n",
    "                                                                                             zthresh_list = zlist,\n",
    "                                                                                             z12thresh_list=z12list,\n",
    "                                                                                             verbose=False)\n",
    "                #netcoloc_enrichment_df=netcoloc_enrichment_df[netcoloc_enrichment_df['z_comb']>=netcoloc_enrichment_df['NPS_single']]\n",
    "                print(netcoloc_enrichment_df)\n",
    "                netcoloc_enrichment_df['rat_dataset']=label_r\n",
    "                netcoloc_enrichment_df['human_dataset']=label_h\n",
    "                if save_fig:\n",
    "                    netcoloc_enrichment_df.to_csv('colocalization_scores/colocScore_'+label_r+'_'+label_h+'_'+interactome_name+'.tsv',sep='\\t',index=False)\n",
    "            else:\n",
    "                print('file already exists')"
   ]
  }
 ],
 "metadata": {
  "kernelspec": {
   "display_name": "Python [conda env:env-std-py38]",
   "language": "python",
   "name": "conda-env-env-std-py38-py"
  },
  "language_info": {
   "codemirror_mode": {
    "name": "ipython",
    "version": 3
   },
   "file_extension": ".py",
   "mimetype": "text/x-python",
   "name": "python",
   "nbconvert_exporter": "python",
   "pygments_lexer": "ipython3",
   "version": "3.8.13"
  }
 },
 "nbformat": 4,
 "nbformat_minor": 5
}
