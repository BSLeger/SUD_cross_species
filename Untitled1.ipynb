{
 "cells": [
  {
   "cell_type": "code",
   "execution_count": 3,
   "id": "1e6a03d1-13a0-416e-a4d7-b44b536d94d6",
   "metadata": {},
   "outputs": [],
   "source": [
    "cd /tscc/projects/ps-palmer/brittany/rat_genomics_paper_pipeline_2024/"
   ]
  },
  {
   "cell_type": "code",
   "execution_count": 8,
   "id": "cc892635-d595-4f2a-a8a6-dfd30991467b",
   "metadata": {},
   "outputs": [
    {
     "name": "stdout",
     "output_type": "stream",
     "text": [
      "*******************************************************************\n",
      "* Genome-wide Complex Trait Analysis (GCTA)\n",
      "* version 1.26.0\n",
      "* (C) 2010-2016, The University of Queensland\n",
      "* MIT License\n",
      "* Please report bugs to: Jian Yang <jian.yang@uq.edu.au>\n",
      "*******************************************************************\n",
      "Analysis started: Mon Aug 26 17:24:00 2024\n",
      "\n",
      "Options:\n",
      "--grm output/loco_meta_7k\n",
      "--pheno data/phenotype/combined_loco_trait_7k_sorted.fam\n",
      "--reml-bivar 1 2\n",
      "--out loco_meta_7k\n",
      "\n",
      "Note: This is a multi-thread program. You could specify the number of threads by the --thread-num option to speed up the computation if there are multiple processors in your machine.\n",
      "\n",
      "Reading IDs of the GRM from [output/loco_meta_7k.grm.id].\n",
      "7722 IDs read from [output/loco_meta_7k.grm.id].\n",
      "Reading the GRM from [output/loco_meta_7k.grm.bin].\n",
      "GRM for 7722 individuals are included from [output/loco_meta_7k.grm.bin].\n",
      "Reading phenotypes from [data/phenotype/combined_loco_trait_7k_sorted.fam].\n",
      "\n",
      "Error: can not find the 2th trait in the file [data/phenotype/combined_loco_trait_7k_sorted.fam].\n",
      "\n",
      "Analysis finished: Mon Aug 26 17:24:01 2024\n",
      "Computational time: 0:0:1\n"
     ]
    }
   ],
   "source": [
    "/tscc/projects/ps-palmer/software/local/src/gcta/gcta64 --grm output/loco_meta_7k \\\n",
    "       --pheno data/phenotype/combined_loco_trait_7k_sorted.fam \\\n",
    "       --reml-bivar 1 2 \\\n",
    "       --out loco_meta_7k"
   ]
  }
 ],
 "metadata": {
  "kernelspec": {
   "display_name": "Bash",
   "language": "bash",
   "name": "bash"
  },
  "language_info": {
   "codemirror_mode": "shell",
   "file_extension": ".sh",
   "mimetype": "text/x-sh",
   "name": "bash"
  }
 },
 "nbformat": 4,
 "nbformat_minor": 5
}
