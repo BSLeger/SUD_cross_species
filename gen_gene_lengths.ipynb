{
 "cells": [
  {
   "cell_type": "code",
   "execution_count": 2,
   "id": "1861e985-5dfd-4cbb-9e63-012039489281",
   "metadata": {},
   "outputs": [],
   "source": [
    "import pandas as pd\n",
    "import numpy as np"
   ]
  },
  {
   "cell_type": "code",
   "execution_count": 19,
   "id": "30819a74-8ba4-4c6a-808a-055a9d037bf5",
   "metadata": {},
   "outputs": [],
   "source": [
    "tbl=pd.read_csv('/tscc/projects/ps-palmer/brittany/magma_v1/NCBI38/NCBI38.gene.loc',sep='\\t',header=None)\n",
    "tbl.columns=['ID','CHR','START','END','STRAND','GENE_NAME']"
   ]
  },
  {
   "cell_type": "code",
   "execution_count": 5,
   "id": "5e079838-ce03-4527-aa81-3d18f4bd5fd8",
   "metadata": {},
   "outputs": [],
   "source": [
    "gene_ls=['ZNF800', 'GCC1', 'PSMC3', 'VPS54', 'POU3F2', 'CHRNA2', 'CPNE4', 'MDH1', 'PTK2B', 'SLC39A13', 'ARF5', 'FSCN3', 'UGP2', 'RNF150', 'PAX4']"
   ]
  },
  {
   "cell_type": "code",
   "execution_count": 20,
   "id": "6641575b-ed24-4ca4-a86b-1695519d6efb",
   "metadata": {},
   "outputs": [],
   "source": [
    "tbl['LEN (KB)']=(tbl.END-tbl.START)/1000"
   ]
  },
  {
   "cell_type": "code",
   "execution_count": 30,
   "id": "8c3671c5-c21d-4890-9a8f-2531fc50f0c0",
   "metadata": {
    "scrolled": true
   },
   "outputs": [
    {
     "data": {
      "text/plain": [
       "count     15.000000\n",
       "mean     104.011400\n",
       "std      202.057935\n",
       "min        3.353000\n",
       "25%        7.802000\n",
       "50%       18.588000\n",
       "75%       88.771000\n",
       "max      751.987000\n",
       "Name: LEN (KB), dtype: float64"
      ]
     },
     "execution_count": 30,
     "metadata": {},
     "output_type": "execute_result"
    }
   ],
   "source": [
    "tbl[tbl['GENE_NAME'].isin(gene_ls)]['LEN (KB)'].describe()"
   ]
  },
  {
   "cell_type": "code",
   "execution_count": 29,
   "id": "06d9499c-ca8a-414c-a1bb-f15fc7dd3189",
   "metadata": {},
   "outputs": [
    {
     "data": {
      "text/plain": [
       "count    20137.000000\n",
       "mean        63.326954\n",
       "std        127.124234\n",
       "min          0.146000\n",
       "25%          8.432000\n",
       "50%         24.058000\n",
       "75%         64.228000\n",
       "max       2473.558000\n",
       "Name: LEN (KB), dtype: float64"
      ]
     },
     "execution_count": 29,
     "metadata": {},
     "output_type": "execute_result"
    }
   ],
   "source": [
    "tbl['LEN (KB)'].describe()"
   ]
  }
 ],
 "metadata": {
  "kernelspec": {
   "display_name": "Python [conda env:env-std-py38]",
   "language": "python",
   "name": "conda-env-env-std-py38-py"
  },
  "language_info": {
   "codemirror_mode": {
    "name": "ipython",
    "version": 3
   },
   "file_extension": ".py",
   "mimetype": "text/x-python",
   "name": "python",
   "nbconvert_exporter": "python",
   "pygments_lexer": "ipython3",
   "version": "3.8.13"
  }
 },
 "nbformat": 4,
 "nbformat_minor": 5
}
