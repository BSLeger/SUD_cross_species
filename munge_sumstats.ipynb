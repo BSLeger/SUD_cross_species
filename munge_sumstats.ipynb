{
 "cells": [
  {
   "cell_type": "markdown",
   "id": "2644fa17-7145-46c2-8938-73f7a7096263",
   "metadata": {},
   "source": [
    "purpose: purpose: standardize format of NISCA sumstats for running LDSC on."
   ]
  },
  {
   "cell_type": "code",
   "execution_count": null,
   "id": "7d4b501a-873d-46ea-9b80-b8b6a2c968ee",
   "metadata": {},
   "outputs": [],
   "source": [
    "all.packages <- c(\"tidyverse\", \n",
    "                  \"ggplot2\", \n",
    "                  \"here\", \n",
    "                  \"readxl\",\n",
    "                  \"conflicted\", \n",
    "                  \"devtools\", \n",
    "                  \"GenomicSEM\")\n",
    "for(i in 1:length(all.packages)){library(all.packages[i], character.only = TRUE)} \n",
    "conflict_prefer(\"filter\", \"dplyr\")\n",
    "conflict_prefer(\"select\", \"dplyr\")"
   ]
  },
  {
   "cell_type": "code",
   "execution_count": 2,
   "id": "6142cdc3-ff09-44e9-b29e-7a257455316c",
   "metadata": {},
   "outputs": [
    {
     "data": {
      "text/html": [
       "'/tscc/projects/ps-palmer/brittany/SUD_cross_species'"
      ],
      "text/latex": [
       "'/tscc/projects/ps-palmer/brittany/SUD\\_cross\\_species'"
      ],
      "text/markdown": [
       "'/tscc/projects/ps-palmer/brittany/SUD_cross_species'"
      ],
      "text/plain": [
       "[1] \"/tscc/projects/ps-palmer/brittany/SUD_cross_species\""
      ]
     },
     "metadata": {},
     "output_type": "display_data"
    }
   ],
   "source": [
    "setwd('/tscc/projects/ps-palmer/brittany/SUD_cross_species')\n",
    "getwd()"
   ]
  },
  {
   "cell_type": "code",
   "execution_count": 3,
   "id": "d1e3b82b-da61-4aca-b558-eb03d655c2ca",
   "metadata": {},
   "outputs": [],
   "source": [
    "mlma.dir <- here(\"/tscc/projects/ps-palmer/brittany/SUD_cross_species/nicsa_gwas/mlma/mlma_concat\")\n",
    "results.dir <- here(\"nicsa_munge\")"
   ]
  },
  {
   "cell_type": "code",
   "execution_count": 4,
   "id": "b6ee02ec-fa45-4d7c-a8a9-2c9cc9b98eab",
   "metadata": {},
   "outputs": [],
   "source": [
    "meta=read.table('scripts/nicsa_munge_ref/nicsa_traits.csv',sep=',',header=1)"
   ]
  },
  {
   "cell_type": "code",
   "execution_count": 22,
   "id": "7481da8f-1247-4e47-8328-34bd04df07d9",
   "metadata": {},
   "outputs": [],
   "source": [
    "files <- list.files(mlma.dir, full.names = TRUE)\n",
    "trait_names <- as.list(meta$'file_prefix')\n",
    "ref <- 'scripts/nicsa_munge_ref/nicsa_ref_snplist_notmaf.txt'\n",
    "N <- as.list(meta$'N')"
   ]
  },
  {
   "cell_type": "code",
   "execution_count": null,
   "id": "2225d299-3130-4739-98c1-98414a74dd99",
   "metadata": {},
   "outputs": [],
   "source": [
    "#you can run munge as just \n",
    "# munge(files=files, trait.names=trait_names, N = N, hm3 = ref)\n",
    "#but if you upload too many then it holds it in memory and crashes\n",
    "#so either run it in chunks or as a loop\n",
    "for (x in 1:length(files))\n",
    "    {\n",
    "    munge(files=files[x], trait.names=trait_names[x], N = as.integer(N[x]), hm3 = ref)\n",
    "    }"
   ]
  }
 ],
 "metadata": {
  "kernelspec": {
   "display_name": "R [conda env:lzenv]",
   "language": "R",
   "name": "conda-env-lzenv-r"
  },
  "language_info": {
   "codemirror_mode": "r",
   "file_extension": ".r",
   "mimetype": "text/x-r-source",
   "name": "R",
   "pygments_lexer": "r",
   "version": "4.3.1"
  }
 },
 "nbformat": 4,
 "nbformat_minor": 5
}
