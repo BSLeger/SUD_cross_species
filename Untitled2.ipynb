{
 "cells": [
  {
   "cell_type": "code",
   "execution_count": 2,
   "id": "fefc6c8b-dba9-42f9-bc87-d0f4e8ec7fd2",
   "metadata": {},
   "outputs": [],
   "source": [
    "CHR=1"
   ]
  },
  {
   "cell_type": "code",
   "execution_count": 3,
   "id": "d2629765-3ca9-4a1a-9b2d-a4ce9d00c51e",
   "metadata": {},
   "outputs": [],
   "source": [
    "GRM=apurva/locomotor_round10.1/grm/10chrGRM.grm.bin"
   ]
  },
  {
   "cell_type": "code",
   "execution_count": 13,
   "id": "e8225f23-e640-42ef-899e-ce558ee99150",
   "metadata": {},
   "outputs": [],
   "source": [
    "cd /tscc/projects/ps-palmer/"
   ]
  },
  {
   "cell_type": "code",
   "execution_count": null,
   "id": "d25518d4-0dae-4a77-83ef-e05c8e6aa9c1",
   "metadata": {},
   "outputs": [
    {
     "name": "stdout",
     "output_type": "stream",
     "text": [
      "*******************************************************************\n",
      "* Genome-wide Complex Trait Analysis (GCTA)\n",
      "* version 1.26.0\n",
      "* (C) 2010-2016, The University of Queensland\n",
      "* MIT License\n",
      "* Please report bugs to: Jian Yang <jian.yang@uq.edu.au>\n",
      "*******************************************************************\n",
      "Analysis started: Tue Aug 27 22:27:20 2024\n",
      "\n",
      "Options:\n",
      "--mlma \n",
      "--bfile apurva/locomotor_round10.1/genotypes/genotypes.chr1\n",
      "--grm apurva/locomotor_round10.1/grm/1chrGRM\n",
      "--pheno brittany/rat_genomics_paper_pipeline_2024/data/phenotype/combined_loco_trait_7k_sorted.fam\n",
      "--out loco_7k\n",
      "--thread-num 10\n",
      "\n",
      "Note: the program will be running on 10 threads.\n",
      "\n",
      "Reading PLINK FAM file from [apurva/locomotor_round10.1/genotypes/genotypes.chr1.fam].\n",
      "8679 individuals to be included from [apurva/locomotor_round10.1/genotypes/genotypes.chr1.fam].\n",
      "Reading PLINK BIM file from [apurva/locomotor_round10.1/genotypes/genotypes.chr1.bim].\n",
      "544808 SNPs to be included from [apurva/locomotor_round10.1/genotypes/genotypes.chr1.bim].\n",
      "Reading PLINK BED file from [apurva/locomotor_round10.1/genotypes/genotypes.chr1.bed] in SNP-major format ...\n",
      "Genotype data for 8679 individuals and 544808 SNPs to be included from [apurva/locomotor_round10.1/genotypes/genotypes.chr1.bed].\n",
      "Reading phenotypes from [brittany/rat_genomics_paper_pipeline_2024/data/phenotype/combined_loco_trait_7k_sorted.fam].\n",
      "Non-missing phenotypes of 7722 individuals are included from [brittany/rat_genomics_paper_pipeline_2024/data/phenotype/combined_loco_trait_7k_sorted.fam].\n",
      "Reading IDs of the GRM from [apurva/locomotor_round10.1/grm/1chrGRM.grm.id].\n",
      "8679 IDs read from [apurva/locomotor_round10.1/grm/1chrGRM.grm.id].\n",
      "Reading the GRM from [apurva/locomotor_round10.1/grm/1chrGRM.grm.bin].\n",
      "GRM for 8679 individuals are included from [apurva/locomotor_round10.1/grm/1chrGRM.grm.bin].\n",
      "7722 individuals are in common in these files.\n",
      "\n",
      "Performing MLM association analyses (including the candidate SNP) ...\n",
      "\n",
      "Performing  REML analysis ... (Note: may take hours depending on sample size).\n",
      "7722 observations, 1 fixed effect(s), and 2 variance component(s)(including residual variance).\n",
      "Calculating prior values of variance components by EM-REML ...\n",
      "Updated prior values: 0.493771 0.933553\n",
      "logL: -4944.4\n",
      "Running AI-REML algorithm ...\n",
      "Iter.\tlogL\tV(G)\tV(e)\t\n",
      "1\t-3957.82\t0.01828\t0.95251\t\n",
      "2\t-3842.22\t0.01791\t0.96165\t\n",
      "3\t-3841.27\t0.01765\t0.96806\t\n",
      "4\t-3840.82\t0.01706\t0.98217\t\n",
      "5\t-3840.41\t0.01699\t0.98241\t\n",
      "6\t-3840.41\t0.01699\t0.98241\t\n",
      "7\t-3840.41\t0.01699\t0.98241\t\n",
      "Log-likelihood ratio converged.\n",
      "Calculating allele frequencies ...\n",
      "\n",
      "Running association tests for 544808 SNPs ...\n"
     ]
    }
   ],
   "source": [
    "/tscc/projects/ps-palmer/software/local/src/gcta/gcta64 --mlma --bfile apurva/locomotor_round10.1/genotypes/genotypes.chr${CHR} --grm apurva/locomotor_round10.1/grm/${CHR}chrGRM --pheno brittany/rat_genomics_paper_pipeline_2024/data/phenotype/combined_loco_trait_7k_sorted.fam --out brittany/loco_7k --thread-num 10\n",
    "\n"
   ]
  },
  {
   "cell_type": "code",
   "execution_count": 9,
   "id": "03bad20a-39de-494b-85e7-e7fa7ff8b3bb",
   "metadata": {},
   "outputs": [
    {
     "name": "stdout",
     "output_type": "stream",
     "text": [
      "ls: cannot access 'brittany/rat_genomics_paper_pipeline_2024/data/phenotype/': No such file or directory\n"
     ]
    },
    {
     "ename": "",
     "evalue": "2",
     "output_type": "error",
     "traceback": []
    }
   ],
   "source": [
    "ls brittany/rat_genomics_paper_pipeline_2024/data/phenotype/"
   ]
  }
 ],
 "metadata": {
  "kernelspec": {
   "display_name": "Bash",
   "language": "bash",
   "name": "bash"
  },
  "language_info": {
   "codemirror_mode": "shell",
   "file_extension": ".sh",
   "mimetype": "text/x-sh",
   "name": "bash"
  }
 },
 "nbformat": 4,
 "nbformat_minor": 5
}
