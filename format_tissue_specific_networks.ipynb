{
 "cells": [
  {
   "cell_type": "markdown",
   "id": "7df98644-4452-48a3-8ece-544f5843bc1c",
   "metadata": {},
   "source": [
    "purpose: to download human tissue-specific networks, to see if the tissue specific networks have higher network overlap for those that are relevant to the phenotype than those that are not\n",
    "\n",
    "Full Network: the network is fully connected\n",
    "\n",
    "    [entrez gene id 1][entrez gene id 2][posterior prob., with known edges set to 1][posterior prob.]"
   ]
  },
  {
   "cell_type": "code",
   "execution_count": 1,
   "id": "4b83e77c-f842-4af2-85b7-e6d4a6c6147a",
   "metadata": {},
   "outputs": [],
   "source": [
    "import pandas as pd\n",
    "import os\n",
    "import networkx as nx\n",
    "import gzip\n",
    "import ndex2\n",
    "import sys\n",
    "import pickle\n",
    "import gzip\n",
    "import numpy as np\n",
    "import scipy.sparse as sp\n",
    "from collections import defaultdict\n",
    "\n",
    "from netcoloc import netprop_zscore\n",
    "from netcoloc import netprop\n",
    "from netcoloc import network_colocalization\n"
   ]
  },
  {
   "cell_type": "code",
   "execution_count": 2,
   "id": "435f27c7-5e66-4da5-99cd-6c182f63cb66",
   "metadata": {},
   "outputs": [],
   "source": [
    "def process_network_in_chunks(file_path, chunk_size=100000):\n",
    "    node_set = set()\n",
    "    edges = []\n",
    "    node_index = {}\n",
    "    \n",
    "    print('First pass: determine unique nodes and create an index')\n",
    "    with gzip.open(file_path, 'rt') as file:\n",
    "        while True:\n",
    "            lines = [file.readline() for _ in range(chunk_size)]\n",
    "            if not lines or lines[0] == '':\n",
    "                break  # Stop at EOF\n",
    "            \n",
    "            for line in lines:\n",
    "                parts = line.strip().split()\n",
    "                if len(parts) < 2:\n",
    "                    continue  # Skip malformed lines\n",
    "                \n",
    "                node1, node2 = (parts[0]), (parts[1])\n",
    "                \n",
    "                node_set.add(node1)\n",
    "                node_set.add(node2)\n",
    "                edges.append((node1, node2))\n",
    "                edges.append((node2, node1))  # Ensure symmetry\n",
    "    \n",
    "    print('Create node index mapping')\n",
    "    node_list = sorted(node_set)  # Ensure consistent order- MUST REPLACE WHEN FIXED\n",
    "    node_index = {node: idx for idx, node in enumerate(node_list)}\n",
    "    \n",
    "    print('Second pass: construct sparse adjacency matrix')\n",
    "    row_idx, col_idx = [], []\n",
    "    degree = defaultdict(int)\n",
    "    \n",
    "    with gzip.open(file_path, 'rt') as file:\n",
    "        while True:\n",
    "            lines = [file.readline() for _ in range(chunk_size)]\n",
    "            if not lines or lines[0] == '':\n",
    "                break  # Stop at EOF\n",
    "            \n",
    "            for line in lines:\n",
    "                parts = line.strip().split()\n",
    "                if len(parts) < 2:\n",
    "                    continue  # Skip malformed lines\n",
    "                \n",
    "                node1, node2 = (parts[0]), (parts[1])\n",
    "    \n",
    "                i, j = node_index[node1], node_index[node2]\n",
    "                \n",
    "                # Store indices (all weights are 1)\n",
    "                row_idx.append(i)\n",
    "                col_idx.append(j)\n",
    "                row_idx.append(j)\n",
    "                col_idx.append(i)  # Ensure symmetric adjacency matrix\n",
    "                \n",
    "                # Update node degree\n",
    "                degree[node1] += 1\n",
    "                degree[node2] += 1\n",
    "\n",
    "    n = len(node_list)\n",
    "    adj_matrix = sp.csr_matrix((np.ones(len(row_idx)), (row_idx, col_idx)), shape=(n, n))\n",
    "    return adj_matrix, node_index, degree, node_list\n"
   ]
  },
  {
   "cell_type": "code",
   "execution_count": 3,
   "id": "2a4e3c5b-a7b4-432c-bb2a-4cc8f4d75f86",
   "metadata": {},
   "outputs": [],
   "source": [
    "def normalize_adjacency_matrix(adj_matrix, node_index, degree, node_list, conserve_heat=True):\n",
    "    print('normalize adjacency matrix')\n",
    "    row_idx, col_idx = adj_matrix.nonzero()\n",
    "    weight_vals = adj_matrix.data.copy()  # Copy original weights (all 1s)\n",
    "    \n",
    "    if conserve_heat:\n",
    "        for k in range(len(weight_vals)):\n",
    "            i, j = row_idx[k], col_idx[k]\n",
    "            weight_vals[k] = 1/degree[node_list[i]]  # Normalize by the degree of the destination node\n",
    "    \n",
    "    else:\n",
    "        for k in range(len(weight_vals)):\n",
    "            i, j = row_idx[k], col_idx[k]\n",
    "            weight_vals[k] = 1/np.sqrt(degree[node_list[i]] * degree[node_list[j]])\n",
    "    \n",
    "    x=sp.csr_matrix((weight_vals, (row_idx, col_idx)), shape=adj_matrix.shape)\n",
    "    return x"
   ]
  },
  {
   "cell_type": "code",
   "execution_count": 20,
   "id": "4b700078-ad21-43bc-9c82-dbd979c06317",
   "metadata": {},
   "outputs": [],
   "source": [
    "#tissue=sys.argv[1]\n",
    "#python format_tissue_specific_network.py"
   ]
  },
  {
   "cell_type": "code",
   "execution_count": 4,
   "id": "c7bba884-fe61-4db8-89ec-f54d951c4f63",
   "metadata": {},
   "outputs": [],
   "source": [
    "os.chdir('/tscc/projects/ps-palmer/brittany/SUD_cross_species/')"
   ]
  },
  {
   "cell_type": "code",
   "execution_count": 5,
   "id": "949259f0-1ac2-4aa3-85aa-68b3830ea1b4",
   "metadata": {},
   "outputs": [],
   "source": [
    "tissue='amygdala'"
   ]
  },
  {
   "cell_type": "code",
   "execution_count": 6,
   "id": "39ddd58c-984d-4275-bf85-672ec91f2ffb",
   "metadata": {},
   "outputs": [],
   "source": [
    "file_path=f'tissue_networks/{tissue}.gz'"
   ]
  },
  {
   "cell_type": "code",
   "execution_count": 7,
   "id": "6b75162e-3d58-412f-9bb9-ed5eb15753a6",
   "metadata": {},
   "outputs": [],
   "source": [
    "outdir='tissue_networks/intermediate/'"
   ]
  },
  {
   "cell_type": "code",
   "execution_count": 8,
   "id": "702c860c-e77b-4a10-abc1-a1368af8151d",
   "metadata": {},
   "outputs": [
    {
     "data": {
      "text/plain": [
       "True"
      ]
     },
     "execution_count": 8,
     "metadata": {},
     "output_type": "execute_result"
    }
   ],
   "source": [
    "os.path.exists(file_path) #check if input data exists"
   ]
  },
  {
   "cell_type": "code",
   "execution_count": 9,
   "id": "fdcac58d-b265-459e-bb53-89c256edf6a7",
   "metadata": {},
   "outputs": [
    {
     "name": "stdout",
     "output_type": "stream",
     "text": [
      "First pass: determine unique nodes and create an index\n",
      "Create node index mapping\n",
      "Second pass: construct sparse adjacency matrix\n"
     ]
    }
   ],
   "source": [
    "adj_matrix, node_index, degree, node_list = process_network_in_chunks(file_path)"
   ]
  },
  {
   "cell_type": "code",
   "execution_count": 10,
   "id": "1745794e-ffed-47e7-9b9f-921f40ed595c",
   "metadata": {},
   "outputs": [
    {
     "name": "stdout",
     "output_type": "stream",
     "text": [
      "normalize adjacency matrix\n"
     ]
    }
   ],
   "source": [
    "wp = normalize_adjacency_matrix(adj_matrix, node_index, degree, node_list, conserve_heat=True)"
   ]
  },
  {
   "cell_type": "code",
   "execution_count": 12,
   "id": "2950c851-d37a-47b8-98d0-e67b57c0f3f5",
   "metadata": {},
   "outputs": [],
   "source": [
    "# write the node list and adjacency matrix to file\n",
    "#outdir='tissue_networks/intermediate/'\n",
    "\n",
    "# Save adjacency matrix as a sparse file\n",
    "sp.save_npz(f'{outdir}normalized_adjacency_{tissue}.npz', wp)\n",
    "\n",
    "# Save the node list in the same order as adjacency matrix\n",
    "with open(f'{outdir}node_list_{tissue}.txt', 'w') as f:\n",
    "    for node in node_list:\n",
    "        f.write(f\"{node}\\n\")"
   ]
  },
  {
   "cell_type": "code",
   "execution_count": null,
   "id": "4adc41d9-23e4-454e-8823-7c596940a3e5",
   "metadata": {},
   "outputs": [],
   "source": [
    "node_list"
   ]
  },
  {
   "cell_type": "code",
   "execution_count": 16,
   "id": "5eb3d926-bb64-495d-a0c6-c6e20ba9a3c8",
   "metadata": {},
   "outputs": [],
   "source": [
    "pd.DataFrame.from_dict(degree,orient='index').to_csv(f'{outdir}degree_{tissue}.csv',header=None)"
   ]
  },
  {
   "cell_type": "code",
   "execution_count": null,
   "id": "ec61ffff-332f-4bfa-87cd-ac8962669252",
   "metadata": {
    "scrolled": true
   },
   "outputs": [],
   "source": [
    "# calculate w_double_prime and write it to file\n",
    "wdp = netprop.get_individual_heats_matrix(wp, .5)\n",
    "np.save(f'{outdir}w_double_prime_{tissue}',wdp)"
   ]
  },
  {
   "cell_type": "markdown",
   "id": "5fe04541-4dfd-465b-bc9a-e621939c6dfe",
   "metadata": {},
   "source": [
    "# check which tissues are missing"
   ]
  },
  {
   "cell_type": "code",
   "execution_count": null,
   "id": "d8692132-2557-4aff-90bf-119a3e98e954",
   "metadata": {},
   "outputs": [],
   "source": []
  },
  {
   "cell_type": "markdown",
   "id": "4674432d-3e79-457a-ae55-ffa111c4ee57",
   "metadata": {},
   "source": [
    "# old code"
   ]
  },
  {
   "cell_type": "code",
   "execution_count": null,
   "id": "b2d3b269-35e4-4712-8782-eb2935d426e0",
   "metadata": {},
   "outputs": [],
   "source": []
  },
  {
   "cell_type": "code",
   "execution_count": 41,
   "id": "0ab5f521-243d-4310-a02a-312b7ca706f7",
   "metadata": {},
   "outputs": [],
   "source": [
    "tissue='PCNet2.0'"
   ]
  },
  {
   "cell_type": "code",
   "execution_count": 42,
   "id": "32a57ba5-c50c-4a21-8815-32e267ab2019",
   "metadata": {},
   "outputs": [],
   "source": [
    "outdir='tissue_networks/intermediate/'\n",
    "# Save adjacency matrix as a sparse file\n",
    "sp.save_npz(f'{outdir}normalized_adjacency_{tissue}.npz', norm_adj_matrix)\n",
    "\n",
    "# Save the node list in the same order as adjacency matrix\n",
    "with open(f'{outdir}node_list_{tissue}.txt', 'w') as f:\n",
    "    for node in node_list:\n",
    "        f.write(f\"{node}\\n\")"
   ]
  },
  {
   "cell_type": "code",
   "execution_count": 43,
   "id": "671a0a79-8b2c-4af6-8459-124c826106d0",
   "metadata": {
    "scrolled": true
   },
   "outputs": [],
   "source": [
    "w_double_prime = netprop.get_individual_heats_matrix(norm_adj_matrix, .5)\n",
    "w_double_prime.tofile(f'{outdir}w_double_prime_{tissue}.csv', sep=',')"
   ]
  },
  {
   "cell_type": "code",
   "execution_count": null,
   "id": "9002f962-0c5b-4762-8a19-234cb87e5ae2",
   "metadata": {},
   "outputs": [],
   "source": [
    "adj_matrix"
   ]
  },
  {
   "cell_type": "code",
   "execution_count": 12,
   "id": "b7511c99-86b2-4db8-b9af-ef0cd7d21d6f",
   "metadata": {},
   "outputs": [],
   "source": [
    "# Normalize the adjacency matrix\n",
    "norm_adj_matrix = normalize_adjacency_matrix(adj_matrix, node_index, degree, node_list, conserve_heat=True)\n",
    "\n",
    "sp.save_npz(f'tissue_networks/intermediate/normalized_adjacency_{tissue}.npz', norm_adj_matrix)\n"
   ]
  },
  {
   "cell_type": "code",
   "execution_count": 21,
   "id": "2defbd3f-5b2b-4edb-bffb-e5818ae2737f",
   "metadata": {},
   "outputs": [],
   "source": [
    "w_double_prime.tofile(f'tissue_networks/intermediate/w_double_prime_{tissue}.csv', sep=',')"
   ]
  },
  {
   "cell_type": "code",
   "execution_count": null,
   "id": "ec7dd8a6-5b27-4a3f-9f8d-1e1c0423262c",
   "metadata": {},
   "outputs": [],
   "source": [
    "# File path to your gzipped network\n",
    "file_path = file\n",
    "\n",
    "# Normalize the adjacency matrix\n",
    "norm_adj_matrix = normalize_adjacency_matrix(adj_matrix, node_index, degree, conserve_heat=True)\n",
    "\n",
    "# Save as sparse matrix\n",
    "#sp.save_npz(f'normalized_adjacency_{tissue}.npz', norm_adj_matrix)\n"
   ]
  },
  {
   "cell_type": "code",
   "execution_count": 14,
   "id": "55c9cae3-9361-4f12-9548-ce8f97c8898c",
   "metadata": {},
   "outputs": [
    {
     "ename": "FileNotFoundError",
     "evalue": "[Errno 2] No such file or directory: 'tissue_networks/amydala.gz'",
     "output_type": "error",
     "traceback": [
      "\u001b[0;31m---------------------------------------------------------------------------\u001b[0m",
      "\u001b[0;31mFileNotFoundError\u001b[0m                         Traceback (most recent call last)",
      "Input \u001b[0;32mIn [14]\u001b[0m, in \u001b[0;36m<cell line: 6>\u001b[0;34m()\u001b[0m\n\u001b[1;32m      4\u001b[0m \u001b[38;5;66;03m# Read the file and process each line\u001b[39;00m\n\u001b[1;32m      5\u001b[0m i\u001b[38;5;241m=\u001b[39m\u001b[38;5;241m0\u001b[39m\n\u001b[0;32m----> 6\u001b[0m \u001b[38;5;28;01mwith\u001b[39;00m \u001b[43mgzip\u001b[49m\u001b[38;5;241;43m.\u001b[39;49m\u001b[43mopen\u001b[49m\u001b[43m(\u001b[49m\u001b[43mfile\u001b[49m\u001b[43m,\u001b[49m\u001b[38;5;124;43m'\u001b[39;49m\u001b[38;5;124;43mrt\u001b[39;49m\u001b[38;5;124;43m'\u001b[39;49m\u001b[43m)\u001b[49m \u001b[38;5;28;01mas\u001b[39;00m f:\n\u001b[1;32m      7\u001b[0m     \u001b[38;5;28;01mfor\u001b[39;00m line \u001b[38;5;129;01min\u001b[39;00m f:    \n\u001b[1;32m      8\u001b[0m         i\u001b[38;5;241m=\u001b[39mi\u001b[38;5;241m+\u001b[39m\u001b[38;5;241m1\u001b[39m\n",
      "File \u001b[0;32m~/miniconda3/envs/env-std-py38/lib/python3.8/gzip.py:58\u001b[0m, in \u001b[0;36mopen\u001b[0;34m(filename, mode, compresslevel, encoding, errors, newline)\u001b[0m\n\u001b[1;32m     56\u001b[0m gz_mode \u001b[38;5;241m=\u001b[39m mode\u001b[38;5;241m.\u001b[39mreplace(\u001b[38;5;124m\"\u001b[39m\u001b[38;5;124mt\u001b[39m\u001b[38;5;124m\"\u001b[39m, \u001b[38;5;124m\"\u001b[39m\u001b[38;5;124m\"\u001b[39m)\n\u001b[1;32m     57\u001b[0m \u001b[38;5;28;01mif\u001b[39;00m \u001b[38;5;28misinstance\u001b[39m(filename, (\u001b[38;5;28mstr\u001b[39m, \u001b[38;5;28mbytes\u001b[39m, os\u001b[38;5;241m.\u001b[39mPathLike)):\n\u001b[0;32m---> 58\u001b[0m     binary_file \u001b[38;5;241m=\u001b[39m \u001b[43mGzipFile\u001b[49m\u001b[43m(\u001b[49m\u001b[43mfilename\u001b[49m\u001b[43m,\u001b[49m\u001b[43m \u001b[49m\u001b[43mgz_mode\u001b[49m\u001b[43m,\u001b[49m\u001b[43m \u001b[49m\u001b[43mcompresslevel\u001b[49m\u001b[43m)\u001b[49m\n\u001b[1;32m     59\u001b[0m \u001b[38;5;28;01melif\u001b[39;00m \u001b[38;5;28mhasattr\u001b[39m(filename, \u001b[38;5;124m\"\u001b[39m\u001b[38;5;124mread\u001b[39m\u001b[38;5;124m\"\u001b[39m) \u001b[38;5;129;01mor\u001b[39;00m \u001b[38;5;28mhasattr\u001b[39m(filename, \u001b[38;5;124m\"\u001b[39m\u001b[38;5;124mwrite\u001b[39m\u001b[38;5;124m\"\u001b[39m):\n\u001b[1;32m     60\u001b[0m     binary_file \u001b[38;5;241m=\u001b[39m GzipFile(\u001b[38;5;28;01mNone\u001b[39;00m, gz_mode, compresslevel, filename)\n",
      "File \u001b[0;32m~/miniconda3/envs/env-std-py38/lib/python3.8/gzip.py:173\u001b[0m, in \u001b[0;36mGzipFile.__init__\u001b[0;34m(self, filename, mode, compresslevel, fileobj, mtime)\u001b[0m\n\u001b[1;32m    171\u001b[0m     mode \u001b[38;5;241m+\u001b[39m\u001b[38;5;241m=\u001b[39m \u001b[38;5;124m'\u001b[39m\u001b[38;5;124mb\u001b[39m\u001b[38;5;124m'\u001b[39m\n\u001b[1;32m    172\u001b[0m \u001b[38;5;28;01mif\u001b[39;00m fileobj \u001b[38;5;129;01mis\u001b[39;00m \u001b[38;5;28;01mNone\u001b[39;00m:\n\u001b[0;32m--> 173\u001b[0m     fileobj \u001b[38;5;241m=\u001b[39m \u001b[38;5;28mself\u001b[39m\u001b[38;5;241m.\u001b[39mmyfileobj \u001b[38;5;241m=\u001b[39m \u001b[43mbuiltins\u001b[49m\u001b[38;5;241;43m.\u001b[39;49m\u001b[43mopen\u001b[49m\u001b[43m(\u001b[49m\u001b[43mfilename\u001b[49m\u001b[43m,\u001b[49m\u001b[43m \u001b[49m\u001b[43mmode\u001b[49m\u001b[43m \u001b[49m\u001b[38;5;129;43;01mor\u001b[39;49;00m\u001b[43m \u001b[49m\u001b[38;5;124;43m'\u001b[39;49m\u001b[38;5;124;43mrb\u001b[39;49m\u001b[38;5;124;43m'\u001b[39;49m\u001b[43m)\u001b[49m\n\u001b[1;32m    174\u001b[0m \u001b[38;5;28;01mif\u001b[39;00m filename \u001b[38;5;129;01mis\u001b[39;00m \u001b[38;5;28;01mNone\u001b[39;00m:\n\u001b[1;32m    175\u001b[0m     filename \u001b[38;5;241m=\u001b[39m \u001b[38;5;28mgetattr\u001b[39m(fileobj, \u001b[38;5;124m'\u001b[39m\u001b[38;5;124mname\u001b[39m\u001b[38;5;124m'\u001b[39m, \u001b[38;5;124m'\u001b[39m\u001b[38;5;124m'\u001b[39m)\n",
      "\u001b[0;31mFileNotFoundError\u001b[0m: [Errno 2] No such file or directory: 'tissue_networks/amydala.gz'"
     ]
    }
   ],
   "source": [
    "# Initialize an empty graph\n",
    "G = nx.Graph()\n",
    "\n",
    "# Read the file and process each line\n",
    "i=0\n",
    "with gzip.open(file,'rt') as f:\n",
    "    for line in f:    \n",
    "        i=i+1\n",
    "        parts = line.split()\n",
    "        \n",
    "        if len(parts) == 4:\n",
    "            node1, node2, _, weight = parts\n",
    "        elif len(parts) == 3:\n",
    "            node1, node2, weight = parts\n",
    "        else:\n",
    "            print('line skipped:')\n",
    "            print(parts)\n",
    "            continue  # Skip malformed lines\n",
    "        \n",
    "        # Convert types and add edge\n",
    "        G.add_edge(int(node1), int(node2), weight=float(weight))\n",
    "print('import complete')"
   ]
  },
  {
   "cell_type": "code",
   "execution_count": 10,
   "id": "674e50f0-b284-4c7e-8016-e3cab1967182",
   "metadata": {},
   "outputs": [
    {
     "name": "stdout",
     "output_type": "stream",
     "text": [
      "Nedges333452400\n",
      "Nedges-len file=0\n"
     ]
    }
   ],
   "source": [
    "print(f'Nedges {len(G.edges())}')\n",
    "print(f'Nedges-len file={len(G.edges())-i}')"
   ]
  },
  {
   "cell_type": "code",
   "execution_count": 11,
   "id": "044442bc-fa7f-4579-9320-bdc7697cffad",
   "metadata": {},
   "outputs": [
    {
     "name": "stdout",
     "output_type": "stream",
     "text": [
      "Nnodes=25825\n"
     ]
    }
   ],
   "source": [
    "print(f'Nnodes={len(G.nodes())}')"
   ]
  },
  {
   "cell_type": "code",
   "execution_count": 15,
   "id": "2febf554-9bd3-4973-85f7-d01ba0c32f69",
   "metadata": {},
   "outputs": [
    {
     "name": "stdout",
     "output_type": "stream",
     "text": [
      "\n",
      "calculating w_prime\n",
      "\n",
      "calculating w_double_prime\n"
     ]
    }
   ],
   "source": [
    "# pre calculate the matricies used for network propagation\n",
    "print('\\ncalculating w_prime')\n",
    "w_prime = netprop.get_normalized_adjacency_matrix(G, conserve_heat=True)\n",
    "\n",
    "print('\\ncalculating w_double_prime')\n",
    "w_double_prime = netprop.get_individual_heats_matrix(w_prime, .5)"
   ]
  },
  {
   "cell_type": "code",
   "execution_count": 19,
   "id": "56a1f1b3-82d2-49f1-b1ac-b25e8dcb03d6",
   "metadata": {},
   "outputs": [
    {
     "data": {
      "text/plain": [
       "(25825, 25825)"
      ]
     },
     "execution_count": 19,
     "metadata": {},
     "output_type": "execute_result"
    }
   ],
   "source": [
    "w_prime.shape"
   ]
  },
  {
   "cell_type": "code",
   "execution_count": null,
   "id": "7f61340b-8a9b-42bb-a720-bc002834fdc5",
   "metadata": {},
   "outputs": [],
   "source": [
    "pickle.dump(G, open(f'tissue_networks/{tissue}.pickle', 'wb'))\n",
    "#G = pickle.load(open('filename.pickle', 'rb'))"
   ]
  },
  {
   "cell_type": "code",
   "execution_count": 12,
   "id": "55f3ca1b-a946-4b66-8b46-97d7c7eacd4a",
   "metadata": {},
   "outputs": [],
   "source": [
    "G = pickle.load(open(f'tissue_networks/{tissue}.pickle', 'rb'))"
   ]
  },
  {
   "cell_type": "code",
   "execution_count": null,
   "id": "ae7ffbf2-edcc-4b00-80b6-c56f174c75fd",
   "metadata": {},
   "outputs": [],
   "source": [
    "#nx.write_gml(G,f'tissue_networks/{tissue}.gml')"
   ]
  },
  {
   "cell_type": "code",
   "execution_count": 21,
   "id": "c5caad02-4fef-4d2d-8614-6752fc42a16b",
   "metadata": {},
   "outputs": [
    {
     "data": {
      "text/plain": [
       "48"
      ]
     },
     "execution_count": 21,
     "metadata": {},
     "output_type": "execute_result"
    }
   ],
   "source": [
    "sys.getsizeof(G)"
   ]
  },
  {
   "cell_type": "code",
   "execution_count": 15,
   "id": "a4b9b3e4-3bb6-4a35-84f1-aac85c58c90b",
   "metadata": {},
   "outputs": [],
   "source": []
  },
  {
   "cell_type": "code",
   "execution_count": 16,
   "id": "b7bdfbab-18f2-43db-813b-439207db862e",
   "metadata": {},
   "outputs": [],
   "source": [
    "HGNC=pd.read_csv('HGNC_ncbi_gene_id.txt',sep='\\t')\n",
    "t=HGNC[['NCBI gene ID','Approved symbol']].dropna()\n",
    "t.index=t['NCBI gene ID'].astype(int)\n",
    "symbol_dict=t['Approved symbol'].to_dict()"
   ]
  },
  {
   "cell_type": "code",
   "execution_count": 17,
   "id": "eeb31957-c1f6-43ed-aede-3deedf6ff454",
   "metadata": {},
   "outputs": [],
   "source": []
  },
  {
   "cell_type": "code",
   "execution_count": 18,
   "id": "a7f2420c-55f0-4c8e-97c0-4b2ec2ab99b2",
   "metadata": {},
   "outputs": [
    {
     "name": "stdout",
     "output_type": "stream",
     "text": [
      "genes with mapped symbols\n"
     ]
    },
    {
     "data": {
      "text/plain": [
       "0.9167086156824782"
      ]
     },
     "execution_count": 18,
     "metadata": {},
     "output_type": "execute_result"
    }
   ],
   "source": [
    "print('genes with mapped symbols')\n",
    "retain=set(G.nodes()).intersection(t.index)\n",
    "len(retain)/len(set(G.nodes()))"
   ]
  },
  {
   "cell_type": "code",
   "execution_count": 19,
   "id": "c9d54615-b4d1-4afe-a82e-8549de5aa968",
   "metadata": {},
   "outputs": [
    {
     "name": "stdout",
     "output_type": "stream",
     "text": [
      "genes without mapped symbols\n"
     ]
    },
    {
     "data": {
      "text/plain": [
       "0.08329138431752178"
      ]
     },
     "execution_count": 19,
     "metadata": {},
     "output_type": "execute_result"
    }
   ],
   "source": [
    "print('genes without mapped symbols')\n",
    "len(set(G.nodes()).difference(t.index))/len(set(G.nodes()))"
   ]
  },
  {
   "cell_type": "code",
   "execution_count": 20,
   "id": "fef513d0-27b3-4536-a78b-7dba86069973",
   "metadata": {},
   "outputs": [],
   "source": [
    "Gsub=G.subgraph(retain)"
   ]
  },
  {
   "cell_type": "code",
   "execution_count": 22,
   "id": "fde4bec8-c348-457b-9c0d-4670f582de31",
   "metadata": {},
   "outputs": [],
   "source": [
    "del(G)"
   ]
  },
  {
   "cell_type": "code",
   "execution_count": 23,
   "id": "303c2f74-a1ff-4f90-97ac-a9acaf628262",
   "metadata": {},
   "outputs": [
    {
     "name": "stdout",
     "output_type": "stream",
     "text": [
      "relabelling completed\n"
     ]
    }
   ],
   "source": [
    "g=nx.relabel_nodes(Gsub, symbol_dict, copy=True)\n",
    "print ('relabelling completed')"
   ]
  },
  {
   "cell_type": "code",
   "execution_count": 35,
   "id": "91227c97-79b6-49d0-805b-673990572afe",
   "metadata": {},
   "outputs": [
    {
     "data": {
      "text/plain": [
       "48"
      ]
     },
     "execution_count": 35,
     "metadata": {},
     "output_type": "execute_result"
    }
   ],
   "source": [
    "sys.getsizeof(g)"
   ]
  },
  {
   "cell_type": "code",
   "execution_count": null,
   "id": "95411d90-96e1-4a96-aa4c-d6f5b1a54501",
   "metadata": {
    "scrolled": true
   },
   "outputs": [],
   "source": [
    "g.nodes()"
   ]
  },
  {
   "cell_type": "code",
   "execution_count": 1,
   "id": "7b3c0204-09f9-4ee8-96d8-a546cb849132",
   "metadata": {},
   "outputs": [
    {
     "ename": "NameError",
     "evalue": "name 'pickle' is not defined",
     "output_type": "error",
     "traceback": [
      "\u001b[0;31m---------------------------------------------------------------------------\u001b[0m",
      "\u001b[0;31mNameError\u001b[0m                                 Traceback (most recent call last)",
      "Input \u001b[0;32mIn [1]\u001b[0m, in \u001b[0;36m<cell line: 1>\u001b[0;34m()\u001b[0m\n\u001b[0;32m----> 1\u001b[0m \u001b[43mpickle\u001b[49m\u001b[38;5;241m.\u001b[39mdump(g, \u001b[38;5;28mopen\u001b[39m(\u001b[38;5;124mf\u001b[39m\u001b[38;5;124m'\u001b[39m\u001b[38;5;124mtissue_networks/\u001b[39m\u001b[38;5;132;01m{\u001b[39;00mtissue\u001b[38;5;132;01m}\u001b[39;00m\u001b[38;5;124m_relabelled_nodes.pickle\u001b[39m\u001b[38;5;124m'\u001b[39m, \u001b[38;5;124m'\u001b[39m\u001b[38;5;124mwb\u001b[39m\u001b[38;5;124m'\u001b[39m))\n",
      "\u001b[0;31mNameError\u001b[0m: name 'pickle' is not defined"
     ]
    }
   ],
   "source": [
    "pickle.dump(g, open(f'tissue_networks/{tissue}_relabelled_nodes.pickle', 'wb'))"
   ]
  },
  {
   "cell_type": "code",
   "execution_count": 7,
   "id": "3364ed09-f9b2-4d28-bad2-0a711678a714",
   "metadata": {},
   "outputs": [
    {
     "ename": "UnpicklingError",
     "evalue": "invalid load key, '\\x00'.",
     "output_type": "error",
     "traceback": [
      "\u001b[0;31m---------------------------------------------------------------------------\u001b[0m",
      "\u001b[0;31mUnpicklingError\u001b[0m                           Traceback (most recent call last)",
      "Input \u001b[0;32mIn [7]\u001b[0m, in \u001b[0;36m<cell line: 1>\u001b[0;34m()\u001b[0m\n\u001b[0;32m----> 1\u001b[0m graph \u001b[38;5;241m=\u001b[39m \u001b[43mpickle\u001b[49m\u001b[38;5;241;43m.\u001b[39;49m\u001b[43mload\u001b[49m\u001b[43m(\u001b[49m\u001b[38;5;28;43mopen\u001b[39;49m\u001b[43m(\u001b[49m\u001b[38;5;124;43mf\u001b[39;49m\u001b[38;5;124;43m'\u001b[39;49m\u001b[38;5;124;43mtissue_networks/\u001b[39;49m\u001b[38;5;132;43;01m{\u001b[39;49;00m\u001b[43mtissue\u001b[49m\u001b[38;5;132;43;01m}\u001b[39;49;00m\u001b[38;5;124;43m_relabelled_nodes.pickle\u001b[39;49m\u001b[38;5;124;43m'\u001b[39;49m\u001b[43m,\u001b[49m\u001b[43m \u001b[49m\u001b[38;5;124;43m'\u001b[39;49m\u001b[38;5;124;43mrb\u001b[39;49m\u001b[38;5;124;43m'\u001b[39;49m\u001b[43m)\u001b[49m\u001b[43m)\u001b[49m\n",
      "\u001b[0;31mUnpicklingError\u001b[0m: invalid load key, '\\x00'."
     ]
    }
   ],
   "source": [
    "graph = pickle.load(open(f'tissue_networks/{tissue}_relabelled_nodes.pickle', 'rb'))"
   ]
  },
  {
   "cell_type": "code",
   "execution_count": 16,
   "id": "9a20a262-1ee9-4159-91ec-a808ccd63637",
   "metadata": {},
   "outputs": [
    {
     "data": {
      "text/plain": [
       "23674"
      ]
     },
     "execution_count": 16,
     "metadata": {},
     "output_type": "execute_result"
    }
   ],
   "source": [
    "len(g.nodes())"
   ]
  },
  {
   "cell_type": "code",
   "execution_count": 36,
   "id": "622d9496-b783-45f4-a7d0-1643eed8c263",
   "metadata": {},
   "outputs": [
    {
     "data": {
      "text/plain": [
       "23674"
      ]
     },
     "execution_count": 36,
     "metadata": {},
     "output_type": "execute_result"
    }
   ],
   "source": [
    "len(set(g.nodes()))"
   ]
  },
  {
   "cell_type": "code",
   "execution_count": null,
   "id": "51192b9d-31aa-464e-8263-131094fdcde8",
   "metadata": {},
   "outputs": [],
   "source": [
    "net_cx = ndex2.create_nice_cx_from_networkx(g)\n",
    "net_cx.set_name(f'human_base_{tissue}_full_network_mapped_to_symbol')\n",
    "#network_uuid = net_cx.upload_to(ndex_server, user, password)"
   ]
  },
  {
   "cell_type": "code",
   "execution_count": null,
   "id": "a6d83640-e717-4ee3-85ec-4842c4f562f2",
   "metadata": {},
   "outputs": [],
   "source": [
    "net_cx = ndex2.create_nice_cx_from_networkx(G)"
   ]
  },
  {
   "cell_type": "code",
   "execution_count": null,
   "id": "2b9940c1-0ff4-43db-a58b-cd493bbe8aa7",
   "metadata": {},
   "outputs": [],
   "source": [
    "net_cx.set_name(f'human_base_{tissue}_full_network')"
   ]
  },
  {
   "cell_type": "code",
   "execution_count": null,
   "id": "de372f9c-0321-4792-bf34-6bc8594c0a2a",
   "metadata": {},
   "outputs": [],
   "source": [
    "network_uuid = net_cx.upload_to(ndex_server, user, password)"
   ]
  },
  {
   "cell_type": "code",
   "execution_count": null,
   "id": "60543b7d-e821-4bf8-91ae-04c5a2ca005a",
   "metadata": {},
   "outputs": [],
   "source": [
    "net_cx = ndex2.create_nice_cx_from_networkx(G)"
   ]
  }
 ],
 "metadata": {
  "kernelspec": {
   "display_name": "Python [conda env:env-std-py38]",
   "language": "python",
   "name": "conda-env-env-std-py38-py"
  },
  "language_info": {
   "codemirror_mode": {
    "name": "ipython",
    "version": 3
   },
   "file_extension": ".py",
   "mimetype": "text/x-python",
   "name": "python",
   "nbconvert_exporter": "python",
   "pygments_lexer": "ipython3",
   "version": "3.8.13"
  }
 },
 "nbformat": 4,
 "nbformat_minor": 5
}
