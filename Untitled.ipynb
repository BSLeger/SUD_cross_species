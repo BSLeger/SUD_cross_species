{
 "cells": [
  {
   "cell_type": "code",
   "execution_count": null,
   "id": "f6997664-1e9c-489b-aa42-0e433be4423f",
   "metadata": {},
   "outputs": [],
   "source": []
  },
  {
   "cell_type": "code",
   "execution_count": 3,
   "id": "4156f91c-15a3-4855-8b8d-0d622f4e1003",
   "metadata": {},
   "outputs": [],
   "source": [
    "setwd(\"/tscc/projects/ps-palmer/brittany/SUD_cross_species/\")"
   ]
  },
  {
   "cell_type": "code",
   "execution_count": 2,
   "id": "1835b977-8086-448d-8e9c-52208c22d832",
   "metadata": {
    "scrolled": true
   },
   "outputs": [
    {
     "name": "stderr",
     "output_type": "stream",
     "text": [
      "Loading required package: GenomicSEM\n",
      "\n",
      "Warning message:\n",
      "“replacing previous import ‘gdata::nobs’ by ‘lavaan::nobs’ when loading ‘GenomicSEM’”\n",
      "Warning message:\n",
      "“replacing previous import ‘gdata::first’ by ‘data.table::first’ when loading ‘GenomicSEM’”\n",
      "Warning message:\n",
      "“replacing previous import ‘gdata::last’ by ‘data.table::last’ when loading ‘GenomicSEM’”\n",
      "Warning message:\n",
      "“replacing previous import ‘gdata::resample’ by ‘R.utils::resample’ when loading ‘GenomicSEM’”\n",
      "Warning message:\n",
      "“replacing previous import ‘gdata::env’ by ‘R.utils::env’ when loading ‘GenomicSEM’”\n",
      "Warning message:\n",
      "“replacing previous import ‘data.table::first’ by ‘dplyr::first’ when loading ‘GenomicSEM’”\n",
      "Warning message:\n",
      "“replacing previous import ‘plyr::arrange’ by ‘dplyr::arrange’ when loading ‘GenomicSEM’”\n",
      "Warning message:\n",
      "“replacing previous import ‘plyr::count’ by ‘dplyr::count’ when loading ‘GenomicSEM’”\n",
      "Warning message:\n",
      "“replacing previous import ‘plyr::desc’ by ‘dplyr::desc’ when loading ‘GenomicSEM’”\n",
      "Warning message:\n",
      "“replacing previous import ‘plyr::summarise’ by ‘dplyr::summarise’ when loading ‘GenomicSEM’”\n",
      "Warning message:\n",
      "“replacing previous import ‘plyr::id’ by ‘dplyr::id’ when loading ‘GenomicSEM’”\n",
      "Warning message:\n",
      "“replacing previous import ‘plyr::rename’ by ‘dplyr::rename’ when loading ‘GenomicSEM’”\n",
      "Warning message:\n",
      "“replacing previous import ‘plyr::summarize’ by ‘dplyr::summarize’ when loading ‘GenomicSEM’”\n",
      "Warning message:\n",
      "“replacing previous import ‘data.table::last’ by ‘dplyr::last’ when loading ‘GenomicSEM’”\n",
      "Warning message:\n",
      "“replacing previous import ‘data.table::between’ by ‘dplyr::between’ when loading ‘GenomicSEM’”\n",
      "Warning message:\n",
      "“replacing previous import ‘gdata::combine’ by ‘dplyr::combine’ when loading ‘GenomicSEM’”\n",
      "Warning message:\n",
      "“replacing previous import ‘gdata::starts_with’ by ‘dplyr::starts_with’ when loading ‘GenomicSEM’”\n",
      "Warning message:\n",
      "“replacing previous import ‘plyr::failwith’ by ‘dplyr::failwith’ when loading ‘GenomicSEM’”\n",
      "Warning message:\n",
      "“replacing previous import ‘plyr::mutate’ by ‘dplyr::mutate’ when loading ‘GenomicSEM’”\n",
      "Warning message:\n",
      "“replacing previous import ‘Rcpp::.DollarNames’ by ‘utils::.DollarNames’ when loading ‘GenomicSEM’”\n",
      "Warning message:\n",
      "“replacing previous import ‘Matrix::tail’ by ‘utils::tail’ when loading ‘GenomicSEM’”\n",
      "Warning message:\n",
      "“replacing previous import ‘gdata::object.size’ by ‘utils::object.size’ when loading ‘GenomicSEM’”\n",
      "Warning message:\n",
      "“replacing previous import ‘Rcpp::prompt’ by ‘utils::prompt’ when loading ‘GenomicSEM’”\n",
      "Warning message:\n",
      "“replacing previous import ‘Matrix::head’ by ‘utils::head’ when loading ‘GenomicSEM’”\n",
      "Warning message:\n",
      "“replacing previous import ‘R.utils::timestamp’ by ‘utils::timestamp’ when loading ‘GenomicSEM’”\n"
     ]
    }
   ],
   "source": [
    "require(GenomicSEM)"
   ]
  },
  {
   "cell_type": "code",
   "execution_count": null,
   "id": "c816e263-22f2-48be-90d0-49b0fe19e4f3",
   "metadata": {},
   "outputs": [],
   "source": []
  }
 ],
 "metadata": {
  "kernelspec": {
   "display_name": "R [conda env:tsem]",
   "language": "R",
   "name": "conda-env-tsem-r"
  },
  "language_info": {
   "codemirror_mode": "r",
   "file_extension": ".r",
   "mimetype": "text/x-r-source",
   "name": "R",
   "pygments_lexer": "r",
   "version": "4.3.1"
  }
 },
 "nbformat": 4,
 "nbformat_minor": 5
}
