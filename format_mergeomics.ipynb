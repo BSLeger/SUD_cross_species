{
 "cells": [
  {
   "cell_type": "code",
   "execution_count": 14,
   "id": "9823128b-fc34-4762-9434-fa509f8a27ec",
   "metadata": {},
   "outputs": [],
   "source": [
    "import pandas as pd\n",
    "import os\n",
    "import numpy as np"
   ]
  },
  {
   "cell_type": "code",
   "execution_count": 7,
   "id": "39dd752f-891f-409e-97e2-8236168e89e9",
   "metadata": {},
   "outputs": [],
   "source": [
    "os.chdir('/tscc/projects/ps-palmer/brittany/SUD_cross_species/')"
   ]
  },
  {
   "cell_type": "code",
   "execution_count": 3,
   "id": "c3cb52a8-6409-44f2-a769-89e715f8682c",
   "metadata": {},
   "outputs": [],
   "source": [
    "mag_dir='magma/seed_genes/'\n",
    "file_dict={\n",
    "    'loco':mag_dir+'loco_win10_annot.tsv',\n",
    "    'loco_gsem':mag_dir+'loco_gsem_annot.tsv',\n",
    "    'ext_munged':mag_dir+'ext_munged_annot.tsv',\n",
    "    'ext':mag_dir+'ext_orig_annot.tsv'\n",
    "}"
   ]
  },
  {
   "cell_type": "code",
   "execution_count": 23,
   "id": "2c752a3f-c6d0-4f48-8207-e9dab013c233",
   "metadata": {},
   "outputs": [],
   "source": [
    "loco=pd.read_csv(file_dict['loco_gsem'],sep='\\t')"
   ]
  },
  {
   "cell_type": "code",
   "execution_count": 26,
   "id": "0eed04f9-b53d-4d44-9095-869c7f82cb87",
   "metadata": {},
   "outputs": [
    {
     "name": "stderr",
     "output_type": "stream",
     "text": [
      "/tmp/ipykernel_2474589/4159109507.py:2: SettingWithCopyWarning: \n",
      "A value is trying to be set on a copy of a slice from a DataFrame.\n",
      "Try using .loc[row_indexer,col_indexer] = value instead\n",
      "\n",
      "See the caveats in the documentation: https://pandas.pydata.org/pandas-docs/stable/user_guide/indexing.html#returning-a-view-versus-a-copy\n",
      "  t.P=-np.log10(t.P)\n"
     ]
    }
   ],
   "source": [
    "t=loco[['HM_ORTHO','P']]\n",
    "t.P=-np.log10(t.P)\n",
    "t.columns=['MARKER','VALUE']"
   ]
  },
  {
   "cell_type": "code",
   "execution_count": 30,
   "id": "24c540cc-80bf-48f2-b61e-5fa76ca40d22",
   "metadata": {},
   "outputs": [
    {
     "data": {
      "text/html": [
       "<div>\n",
       "<style scoped>\n",
       "    .dataframe tbody tr th:only-of-type {\n",
       "        vertical-align: middle;\n",
       "    }\n",
       "\n",
       "    .dataframe tbody tr th {\n",
       "        vertical-align: top;\n",
       "    }\n",
       "\n",
       "    .dataframe thead th {\n",
       "        text-align: right;\n",
       "    }\n",
       "</style>\n",
       "<table border=\"1\" class=\"dataframe\">\n",
       "  <thead>\n",
       "    <tr style=\"text-align: right;\">\n",
       "      <th></th>\n",
       "      <th>MARKER</th>\n",
       "      <th>VALUE</th>\n",
       "    </tr>\n",
       "  </thead>\n",
       "  <tbody>\n",
       "    <tr>\n",
       "      <th>0</th>\n",
       "      <td>RAET1E</td>\n",
       "      <td>0.531712</td>\n",
       "    </tr>\n",
       "    <tr>\n",
       "      <th>1</th>\n",
       "      <td>LRP11</td>\n",
       "      <td>0.340959</td>\n",
       "    </tr>\n",
       "    <tr>\n",
       "      <th>2</th>\n",
       "      <td>PCMT1</td>\n",
       "      <td>0.377040</td>\n",
       "    </tr>\n",
       "    <tr>\n",
       "      <th>3</th>\n",
       "      <td>NUP43</td>\n",
       "      <td>0.354922</td>\n",
       "    </tr>\n",
       "    <tr>\n",
       "      <th>4</th>\n",
       "      <td>LATS1</td>\n",
       "      <td>0.306335</td>\n",
       "    </tr>\n",
       "    <tr>\n",
       "      <th>...</th>\n",
       "      <td>...</td>\n",
       "      <td>...</td>\n",
       "    </tr>\n",
       "    <tr>\n",
       "      <th>16447</th>\n",
       "      <td>HACE1</td>\n",
       "      <td>0.113656</td>\n",
       "    </tr>\n",
       "    <tr>\n",
       "      <th>16448</th>\n",
       "      <td>GRIK2</td>\n",
       "      <td>0.025281</td>\n",
       "    </tr>\n",
       "    <tr>\n",
       "      <th>16449</th>\n",
       "      <td>ASCC3</td>\n",
       "      <td>0.133807</td>\n",
       "    </tr>\n",
       "    <tr>\n",
       "      <th>16450</th>\n",
       "      <td>SIM1</td>\n",
       "      <td>0.145487</td>\n",
       "    </tr>\n",
       "    <tr>\n",
       "      <th>16451</th>\n",
       "      <td>CD99</td>\n",
       "      <td>0.127191</td>\n",
       "    </tr>\n",
       "  </tbody>\n",
       "</table>\n",
       "<p>16452 rows × 2 columns</p>\n",
       "</div>"
      ],
      "text/plain": [
       "       MARKER     VALUE\n",
       "0      RAET1E  0.531712\n",
       "1       LRP11  0.340959\n",
       "2       PCMT1  0.377040\n",
       "3       NUP43  0.354922\n",
       "4       LATS1  0.306335\n",
       "...       ...       ...\n",
       "16447   HACE1  0.113656\n",
       "16448   GRIK2  0.025281\n",
       "16449   ASCC3  0.133807\n",
       "16450    SIM1  0.145487\n",
       "16451    CD99  0.127191\n",
       "\n",
       "[16452 rows x 2 columns]"
      ]
     },
     "execution_count": 30,
     "metadata": {},
     "output_type": "execute_result"
    }
   ],
   "source": [
    "t.MARKER"
   ]
  },
  {
   "cell_type": "code",
   "execution_count": 25,
   "id": "f27aa51a-36b0-4629-bdab-0a3026921825",
   "metadata": {},
   "outputs": [],
   "source": [
    "t.to_csv(mag_dir+'loco_gsem_mergeomics.txt',index=False,sep='\\t')"
   ]
  },
  {
   "cell_type": "code",
   "execution_count": 18,
   "id": "29331598-d4bd-472d-b8a0-cf3d67d23c98",
   "metadata": {},
   "outputs": [],
   "source": [
    "ext=pd.read_csv(file_dict['ext'],sep='\\t')"
   ]
  },
  {
   "cell_type": "code",
   "execution_count": 31,
   "id": "09cf16d0-bc5f-408c-b701-75464c6ba370",
   "metadata": {},
   "outputs": [
    {
     "name": "stderr",
     "output_type": "stream",
     "text": [
      "/tmp/ipykernel_2474589/1910763473.py:2: SettingWithCopyWarning: \n",
      "A value is trying to be set on a copy of a slice from a DataFrame.\n",
      "Try using .loc[row_indexer,col_indexer] = value instead\n",
      "\n",
      "See the caveats in the documentation: https://pandas.pydata.org/pandas-docs/stable/user_guide/indexing.html#returning-a-view-versus-a-copy\n",
      "  t.P=-np.log10(t.P)\n"
     ]
    }
   ],
   "source": [
    "t=ext[['GENE','P']]\n",
    "t.P=-np.log10(t.P)\n",
    "t.columns=['MARKER','VALUE']"
   ]
  },
  {
   "cell_type": "code",
   "execution_count": 22,
   "id": "14004f41-6d6d-45d0-8f5e-98ed76f64cf5",
   "metadata": {},
   "outputs": [],
   "source": [
    "t.to_csv(mag_dir+'ext_mergeomics.txt',index=False,sep='\\t')"
   ]
  }
 ],
 "metadata": {
  "kernelspec": {
   "display_name": "Python [conda env:env-std-py38]",
   "language": "python",
   "name": "conda-env-env-std-py38-py"
  },
  "language_info": {
   "codemirror_mode": {
    "name": "ipython",
    "version": 3
   },
   "file_extension": ".py",
   "mimetype": "text/x-python",
   "name": "python",
   "nbconvert_exporter": "python",
   "pygments_lexer": "ipython3",
   "version": "3.8.13"
  }
 },
 "nbformat": 4,
 "nbformat_minor": 5
}
