{
 "cells": [
  {
   "cell_type": "markdown",
   "id": "2a3759e3-3706-411a-84ab-9e8a5892407c",
   "metadata": {},
   "source": [
    "purpose: to run magma on the gwas output for SMKINIT and CIGDAY PC1s (from input traits recommended by Hao Chen- MCs made using PCA_phenotypes_nicsa.ipynb, format_PCA_forgwas.ipynb, and gwas pipeline) and Locomotor phenotypes"
   ]
  },
  {
   "cell_type": "markdown",
   "id": "f9f7c7d5-a24f-4d83-9c2f-e2d936c88aea",
   "metadata": {
    "jp-MarkdownHeadingCollapsed": true
   },
   "source": [
    "# concat MLMA output from GWAS"
   ]
  },
  {
   "cell_type": "code",
   "execution_count": null,
   "id": "aa8ba5a2-5c9b-4e8d-940b-e299fbe159fd",
   "metadata": {},
   "outputs": [],
   "source": [
    "#bash\n",
    "#run to concat all the files in order for a trait to get a both a ref file and concated mlma files for genomic sem- awk to remove header\n",
    "\n",
    "cd /tscc/projects/ps-palmer/apurva/locomotor_round10.1/GWAS-pipeline/combined_loco_backup/results/gwas_all/\n",
    "if [ ! -d \"mlma_concat\" ]; then\n",
    "  mkdir mlma_concat\n",
    "\n",
    "fi\n",
    "\n",
    "directories=('common_factor/' 'mega/')\n",
    "prefixes=('regressedlr_gsem_results_commonfactor_F1_common_chrgwas' 'regressedlr_locomotor_mega_chrgwas')\n",
    "for ((i=0; i<${#prefixes[@]}; i++)); do\n",
    "    p=${prefixes[i]}\n",
    "    d=${directories[i]}\n",
    "    for CHR in {1..20}; do\n",
    "        # Define the file\n",
    "        file=${d}${p}${CHR}.mlma\n",
    "        echo $file\n",
    "        if [ ${CHR} -eq 1 ];\n",
    "        then\n",
    "            cp $file mlma_concat/${p}.mlma\n",
    "        else\n",
    "            awk 'FNR>1' $file >> mlma_concat/${p}.mlma\n",
    "        fi   \n",
    "    done\n",
    "done\n",
    "\n",
    "# makes files  /tscc/projects/ps-palmer/brittany/SUD_cross_species/nicsa_gwas/results/gwas/mlma_concat/regressedlr_cigday_pc1.mlma\n",
    "# /tscc/projects/ps-palmer/brittany/SUD_cross_species/nicsa_gwas/results/gwas/mlma_concat/regressedlr_cigday_pc1.mlma"
   ]
  },
  {
   "cell_type": "code",
   "execution_count": null,
   "id": "8d540fba-b2f2-4092-9276-50fc6903ba4a",
   "metadata": {},
   "outputs": [],
   "source": [
    "for ((i=0; i<${#prefixes[@]}; i++)); do\n",
    "    p=${prefixes[0]}\n",
    "    d=${directories[0]}\n",
    "    for CHR in {1..20}; do\n",
    "        # Define the file\n",
    "        file=${d}${p}${CHR}.mlma\n",
    "        echo $file\n",
    "        if [ ${CHR} -eq 1 ];\n",
    "        then\n",
    "            cp $file mlma_concat/${p}.mlma\n",
    "        else\n",
    "            awk 'FNR>1' $file >> mlma_concat/${p}.mlma\n",
    "        fi   \n",
    "    done\n",
    "done"
   ]
  },
  {
   "cell_type": "code",
   "execution_count": null,
   "id": "ede6274d-7f61-4e4c-93f6-f6df11b61665",
   "metadata": {},
   "outputs": [],
   "source": [
    "#bash\n",
    "#run to concat all the files in order for a trait to get a both a ref file and concated mlma files for genomic sem- awk to remove header\n",
    "\n",
    "cd /tscc/projects/ps-palmer/brittany/SUD_cross_species/nicsa_gwas_pc2/results/gwas\n",
    "\n",
    "if [ ! -d \"mlma_concat\" ]; then\n",
    "  mkdir mlma_concat\n",
    "\n",
    "fi\n",
    "\n",
    "prefixes=('pc1_cigday_qtl' 'pc1_cigday2a_qtl' 'pc1_cigday1a_qtl' 'pc1_smkinit1a_qtl' 'pc1_smkinit_qtl')\n",
    "for p in ${prefixes[@]}; do\n",
    "    for CHR in {1..20}; do\n",
    "        # Define the file\n",
    "        file=regressedlr_${p}_chrgwas${CHR}.mlma\n",
    "        echo $file\n",
    "        if [ ${CHR} -eq 1 ];\n",
    "        then\n",
    "            cp $file mlma_concat/${p}.mlma\n",
    "        else\n",
    "            awk 'FNR>1' $file >> mlma_concat/${p}.mlma\n",
    "        fi   \n",
    "    done\n",
    "done\n",
    "\n",
    "\n",
    "\n",
    "# makes files  /tscc/projects/ps-palmer/brittany/SUD_cross_species/nicsa_gwas/results/gwas/mlma_concat/regressedlr_cigday_pc1.mlma\n",
    "# /tscc/projects/ps-palmer/brittany/SUD_cross_species/nicsa_gwas/results/gwas/mlma_concat/regressedlr_cigday_pc1.mlma"
   ]
  },
  {
   "cell_type": "code",
   "execution_count": 57,
   "id": "3e94694e-6d5f-4677-b590-fa973abed5bc",
   "metadata": {
    "scrolled": true
   },
   "outputs": [
    {
     "ename": "SyntaxError",
     "evalue": "invalid syntax (3043570197.py, line 6)",
     "output_type": "error",
     "traceback": [
      "\u001b[0;36m  Input \u001b[0;32mIn [57]\u001b[0;36m\u001b[0m\n\u001b[0;31m    if [ ! -d \"mlma_concat\" ]; then\u001b[0m\n\u001b[0m         ^\u001b[0m\n\u001b[0;31mSyntaxError\u001b[0m\u001b[0;31m:\u001b[0m invalid syntax\n"
     ]
    }
   ],
   "source": [
    "#bash\n",
    "#run to concat all the files in order for a trait to get a both a ref file and concated mlma files for genomic sem- awk to remove header\n",
    "# all traits with qtls\n",
    "cd /tscc/projects/ps-palmer/brittany/SUD_cross_species/nicsa_gwas_pc1/results_run1/gwas\n",
    "\n",
    "if [ ! -d \"mlma_concat\" ]; then\n",
    "  mkdir mlma_concat\n",
    "fi\n",
    "\n",
    "\n",
    "prefixes=('nicsa_active_inactive_ratio_all_days' 'nicsa_active_inactive_ratio_last_three_median' 'nicsa_day10_inactivelick' 'nicsa_day11_active_inactive_ratio' 'nicsa_day11_activelick' 'nicsa_day11_infusion' 'nicsa_day1_activelick' 'nicsa_day1_inactivelick' 'nicsa_day1_infusion' 'nicsa_day2_activelick' 'nicsa_day2_infusion' 'nicsa_day3_active_inactive_ratio' 'nicsa_day3_activelick' 'nicsa_day3_inactivelick' 'nicsa_day4_active_inactive_ratio' 'nicsa_day4_activelick' 'nicsa_day4_inactivelick' 'nicsa_day4_infusion' 'nicsa_day5_infusion' 'nicsa_day6_active_inactive_ratio' 'nicsa_day6_activelick' 'nicsa_day6_infusion' 'nicsa_day8_active_inactive_ratio' 'nicsa_day8_activelick' 'nicsa_day8_infusion' 'nicsa_day9_inactivelick' 'nicsa_first_three_days_infusion_median' 'nicsa_last_three_days_infusion_median' 'nicsa_slope_nicotine_infusion' 'nicsa_total_activelick_10days' 'nicsa_total_inactivelick_10days' 'nicsa_total_infusion_10days')\n",
    "\n",
    "for p in ${prefixes[@]}; do\n",
    "    for CHR in {1..20}; do\n",
    "        # Define the file\n",
    "        file=regressedlr_${p}_chrgwas${CHR}.mlma\n",
    "        echo $file\n",
    "        if [ ${CHR} -eq 1 ];\n",
    "        then\n",
    "            cp $file mlma_concat/${p}.mlma\n",
    "        else\n",
    "            awk 'FNR>1' $file >> mlma_concat/${p}.mlma\n",
    "        fi   \n",
    "    done\n",
    "done\n",
    "\n",
    "\n",
    "\n",
    "# makes files  /tscc/projects/ps-palmer/brittany/SUD_cross_species/nicsa_gwas/results/gwas/mlma_concat/regressedlr_cigday_pc1.mlma\n",
    "# /tscc/projects/ps-palmer/brittany/SUD_cross_species/nicsa_gwas/results/gwas/mlma_concat/regressedlr_cigday_pc1.mlma"
   ]
  },
  {
   "cell_type": "code",
   "execution_count": 9,
   "id": "a61f2583-b408-471a-ab7f-bfc7f6f358c8",
   "metadata": {},
   "outputs": [
    {
     "name": "stdout",
     "output_type": "stream",
     "text": [
      "/tscc/projects/ps-palmer/brittany/SUD_cross_species\n"
     ]
    }
   ],
   "source": [
    "cd /tscc/projects/ps-palmer/brittany/SUD_cross_species/"
   ]
  },
  {
   "cell_type": "markdown",
   "id": "aa54bfc1-79e9-423b-8764-96524d1fa157",
   "metadata": {},
   "source": [
    "# format gwas mlma into pval files and position files for magma- I find it easier to do this than set it in the magma files (python)"
   ]
  },
  {
   "cell_type": "markdown",
   "id": "2114959e-4820-45b6-84a7-1af47dd1e757",
   "metadata": {
    "jp-MarkdownHeadingCollapsed": true
   },
   "source": [
    "## define functions"
   ]
  },
  {
   "cell_type": "code",
   "execution_count": 14,
   "id": "8778d999-7cfb-4e24-926e-369d154250cb",
   "metadata": {},
   "outputs": [],
   "source": [
    "def ex_magma_input(snp,prefix,dir):\n",
    "    #purpose- format pvalue and pos files- specifics for mlma\n",
    "    print((snp.head))\n",
    "    pos=snp[['SNP','Chr','bp']]\n",
    "    pos['bp']=pos['bp'].astype(int)\n",
    "    pos.columns=['SNP','CHR','POS']\n",
    "    pos.to_csv(dir+prefix+'_pos.tsv',sep='\\t',index=False)\n",
    "    print('pos file written to '+dir+prefix+'_pos.tsv')\n",
    "    pval=snp[['SNP','p']]\n",
    "    pval.columns=['SNP','P']\n",
    "    pval.to_csv(dir+prefix+'_pval.tsv',sep='\\t',index=False)\n",
    "    print('pval file written to '+dir+prefix+'_pval.tsv')"
   ]
  },
  {
   "cell_type": "code",
   "execution_count": 2,
   "id": "450f80d2-8daa-4384-b42f-cb992b4cbcec",
   "metadata": {},
   "outputs": [],
   "source": [
    "def ex_magma(snp,colname,prefix,dir,N=None,use_RSID=False):\n",
    "    #purpose- format pvalue and pos files- specifics for mlma- allows to modify\n",
    "    #colname is a list with the following order: rsid,chr,pos,pval\n",
    "    if use_RSID==False:\n",
    "        pos=snp[[colname[0],colname[1],colname[2]]]\n",
    "    else:\n",
    "        pos=snp[['RSID',colname[1],colname[2]]]\n",
    "    pos.columns=['SNP','CHR','POS']\n",
    "    pos.to_csv(dir+prefix+'_pos.tsv',sep='\\t',index=False)\n",
    "    print(pos.head())\n",
    "    print('pos file written to '+dir+prefix+'_pos.tsv')\n",
    "    if use_RSID==False:\n",
    "        pval=snp[[colname[0],colname[3]]]\n",
    "    else:\n",
    "        pval=snp[['RSID',colname[3]]]\n",
    "    pval.columns=['SNP','P']\n",
    "    if (N!=None):\n",
    "        print(N)\n",
    "        pval.insert(0, 'N', N)\n",
    "    print(pval.head())\n",
    "\n",
    "    pval.to_csv(dir+prefix+'_pval.tsv',sep='\\t',index=False)\n",
    "    print('pval file written to '+dir+prefix+'_pval.tsv')\n",
    "    return pos,pval"
   ]
  },
  {
   "cell_type": "markdown",
   "id": "77d8a4be-3cb6-42d7-8e63-cd3ccde81b95",
   "metadata": {
    "jp-MarkdownHeadingCollapsed": true
   },
   "source": [
    "## import files"
   ]
  },
  {
   "cell_type": "code",
   "execution_count": 3,
   "id": "6d62ff85-ba1c-4683-9358-9aea72955136",
   "metadata": {},
   "outputs": [],
   "source": [
    "import pandas as pd\n",
    "import os"
   ]
  },
  {
   "cell_type": "code",
   "execution_count": 4,
   "id": "aad1dad2-67d4-4380-ae37-dc19c898910b",
   "metadata": {},
   "outputs": [],
   "source": [
    "os.getcwd()\n",
    "os.chdir('/tscc/projects/ps-palmer/brittany/SUD_cross_species/')"
   ]
  },
  {
   "cell_type": "code",
   "execution_count": null,
   "id": "580c387c-52ca-4971-af59-ca0d16c9fbe8",
   "metadata": {},
   "outputs": [],
   "source": [
    "#nicsa\n",
    "mlma_path='/tscc/projects/ps-palmer/brittany/SUD_cross_species/nicsa_gwas_pc1/results/gwas/mlma_concat/'\n",
    "magma_out_dir='/tscc/projects/ps-palmer/brittany/SUD_cross_species/magma/'\n",
    "cigday=pd.read_csv(mlma_path+'regressedlr_cigday_pc1.mlma',sep='\\t')\n",
    "smkinit=pd.read_csv(mlma_path+'regressedlr_smkinit_pc1.mlma',sep='\\t')\n",
    "pca_path='/tscc/projects/ps-palmer/brittany/SUD_cross_species/nicsa_gwas_pc2/results/gwas/mlma_concat/'"
   ]
  },
  {
   "cell_type": "code",
   "execution_count": 26,
   "id": "fc0bdcf2-3018-498f-9ef2-f706a4a84a16",
   "metadata": {},
   "outputs": [],
   "source": [
    "qtl=pd.read_csv('nicsa_gwas_pc1/results_run1/qtls/finalqtlannotated.csv')\n",
    "qtl_t=set(qtl.trait)\n",
    "#remove the PCA analysis and UMAP traits\n",
    "qtl_t={x for x in qtl_t if ('pc' not in x) and ('umap' not in x)}"
   ]
  },
  {
   "cell_type": "code",
   "execution_count": 5,
   "id": "0a42c95a-8f78-4869-bf65-e3cb802aeb49",
   "metadata": {},
   "outputs": [],
   "source": [
    "loco=pd.read_csv('loco_meta/regressedlr_combined_locomotor.mlma', sep='\\t')\n",
    "loco_gsem=pd.read_csv('loco_commonFactor/combined_gwas_results_CF_MPH.txt',sep='\\t')"
   ]
  },
  {
   "cell_type": "code",
   "execution_count": 6,
   "id": "69477724-0750-43ee-b82b-559add891a7e",
   "metadata": {},
   "outputs": [],
   "source": [
    "loco_final_mega=pd.read_csv('/tscc/projects/ps-palmer/brittany/SUD_cross_species/loco_final/mlma_concat/regressedlr_gsem_results_commonfactor_F1_common_chrgwas.mlma', sep='\\t')\n",
    "loco_final_cf=pd.read_csv('/tscc/projects/ps-palmer/brittany/SUD_cross_species/loco_final/mlma_concat/regressedlr_locomotor_mega_chrgwas.mlma', sep='\\t')"
   ]
  },
  {
   "cell_type": "code",
   "execution_count": 9,
   "id": "48ce63e3-ed10-4266-8f9a-f255c1b2debd",
   "metadata": {},
   "outputs": [
    {
     "data": {
      "text/html": [
       "<div>\n",
       "<style scoped>\n",
       "    .dataframe tbody tr th:only-of-type {\n",
       "        vertical-align: middle;\n",
       "    }\n",
       "\n",
       "    .dataframe tbody tr th {\n",
       "        vertical-align: top;\n",
       "    }\n",
       "\n",
       "    .dataframe thead th {\n",
       "        text-align: right;\n",
       "    }\n",
       "</style>\n",
       "<table border=\"1\" class=\"dataframe\">\n",
       "  <thead>\n",
       "    <tr style=\"text-align: right;\">\n",
       "      <th></th>\n",
       "      <th>Chr</th>\n",
       "      <th>bp</th>\n",
       "      <th>SNP</th>\n",
       "      <th>A1</th>\n",
       "      <th>A2</th>\n",
       "      <th>Freq</th>\n",
       "      <th>b</th>\n",
       "      <th>se</th>\n",
       "      <th>p</th>\n",
       "    </tr>\n",
       "  </thead>\n",
       "  <tbody>\n",
       "    <tr>\n",
       "      <th>0</th>\n",
       "      <td>1</td>\n",
       "      <td>735254.0</td>\n",
       "      <td>1:735254</td>\n",
       "      <td>G</td>\n",
       "      <td>A</td>\n",
       "      <td>0.07666</td>\n",
       "      <td>0.030389</td>\n",
       "      <td>0.019776</td>\n",
       "      <td>0.124380</td>\n",
       "    </tr>\n",
       "    <tr>\n",
       "      <th>1</th>\n",
       "      <td>1</td>\n",
       "      <td>763121.0</td>\n",
       "      <td>1:763121</td>\n",
       "      <td>T</td>\n",
       "      <td>C</td>\n",
       "      <td>0.07985</td>\n",
       "      <td>0.039158</td>\n",
       "      <td>0.019658</td>\n",
       "      <td>0.046378</td>\n",
       "    </tr>\n",
       "    <tr>\n",
       "      <th>2</th>\n",
       "      <td>1</td>\n",
       "      <td>767113.0</td>\n",
       "      <td>1:767113</td>\n",
       "      <td>G</td>\n",
       "      <td>A</td>\n",
       "      <td>0.07978</td>\n",
       "      <td>0.039805</td>\n",
       "      <td>0.019681</td>\n",
       "      <td>0.043128</td>\n",
       "    </tr>\n",
       "    <tr>\n",
       "      <th>3</th>\n",
       "      <td>1</td>\n",
       "      <td>1113500.0</td>\n",
       "      <td>1:1113500</td>\n",
       "      <td>A</td>\n",
       "      <td>T</td>\n",
       "      <td>0.05762</td>\n",
       "      <td>0.066123</td>\n",
       "      <td>0.022563</td>\n",
       "      <td>0.003384</td>\n",
       "    </tr>\n",
       "    <tr>\n",
       "      <th>4</th>\n",
       "      <td>1</td>\n",
       "      <td>1124362.0</td>\n",
       "      <td>1:1124362</td>\n",
       "      <td>A</td>\n",
       "      <td>G</td>\n",
       "      <td>0.05754</td>\n",
       "      <td>0.062078</td>\n",
       "      <td>0.022618</td>\n",
       "      <td>0.006059</td>\n",
       "    </tr>\n",
       "    <tr>\n",
       "      <th>...</th>\n",
       "      <td>...</td>\n",
       "      <td>...</td>\n",
       "      <td>...</td>\n",
       "      <td>...</td>\n",
       "      <td>...</td>\n",
       "      <td>...</td>\n",
       "      <td>...</td>\n",
       "      <td>...</td>\n",
       "      <td>...</td>\n",
       "    </tr>\n",
       "    <tr>\n",
       "      <th>5297445</th>\n",
       "      <td>20</td>\n",
       "      <td>54428480.0</td>\n",
       "      <td>20:54428480</td>\n",
       "      <td>A</td>\n",
       "      <td>T</td>\n",
       "      <td>0.01958</td>\n",
       "      <td>-0.034303</td>\n",
       "      <td>0.043364</td>\n",
       "      <td>0.428915</td>\n",
       "    </tr>\n",
       "    <tr>\n",
       "      <th>5297446</th>\n",
       "      <td>20</td>\n",
       "      <td>54428485.0</td>\n",
       "      <td>20:54428485</td>\n",
       "      <td>A</td>\n",
       "      <td>G</td>\n",
       "      <td>0.01958</td>\n",
       "      <td>-0.034303</td>\n",
       "      <td>0.043364</td>\n",
       "      <td>0.428915</td>\n",
       "    </tr>\n",
       "    <tr>\n",
       "      <th>5297447</th>\n",
       "      <td>20</td>\n",
       "      <td>54428858.0</td>\n",
       "      <td>20:54428858</td>\n",
       "      <td>A</td>\n",
       "      <td>C</td>\n",
       "      <td>0.01958</td>\n",
       "      <td>-0.034303</td>\n",
       "      <td>0.043364</td>\n",
       "      <td>0.428915</td>\n",
       "    </tr>\n",
       "    <tr>\n",
       "      <th>5297448</th>\n",
       "      <td>20</td>\n",
       "      <td>54429269.0</td>\n",
       "      <td>20:54429269</td>\n",
       "      <td>G</td>\n",
       "      <td>A</td>\n",
       "      <td>0.01988</td>\n",
       "      <td>-0.024537</td>\n",
       "      <td>0.042427</td>\n",
       "      <td>0.563037</td>\n",
       "    </tr>\n",
       "    <tr>\n",
       "      <th>5297449</th>\n",
       "      <td>20</td>\n",
       "      <td>54429288.0</td>\n",
       "      <td>20:54429288</td>\n",
       "      <td>G</td>\n",
       "      <td>A</td>\n",
       "      <td>0.01988</td>\n",
       "      <td>-0.024537</td>\n",
       "      <td>0.042427</td>\n",
       "      <td>0.563037</td>\n",
       "    </tr>\n",
       "  </tbody>\n",
       "</table>\n",
       "<p>5297450 rows × 9 columns</p>\n",
       "</div>"
      ],
      "text/plain": [
       "         Chr          bp          SNP A1 A2     Freq         b        se  \\\n",
       "0          1    735254.0     1:735254  G  A  0.07666  0.030389  0.019776   \n",
       "1          1    763121.0     1:763121  T  C  0.07985  0.039158  0.019658   \n",
       "2          1    767113.0     1:767113  G  A  0.07978  0.039805  0.019681   \n",
       "3          1   1113500.0    1:1113500  A  T  0.05762  0.066123  0.022563   \n",
       "4          1   1124362.0    1:1124362  A  G  0.05754  0.062078  0.022618   \n",
       "...      ...         ...          ... .. ..      ...       ...       ...   \n",
       "5297445   20  54428480.0  20:54428480  A  T  0.01958 -0.034303  0.043364   \n",
       "5297446   20  54428485.0  20:54428485  A  G  0.01958 -0.034303  0.043364   \n",
       "5297447   20  54428858.0  20:54428858  A  C  0.01958 -0.034303  0.043364   \n",
       "5297448   20  54429269.0  20:54429269  G  A  0.01988 -0.024537  0.042427   \n",
       "5297449   20  54429288.0  20:54429288  G  A  0.01988 -0.024537  0.042427   \n",
       "\n",
       "                p  \n",
       "0        0.124380  \n",
       "1        0.046378  \n",
       "2        0.043128  \n",
       "3        0.003384  \n",
       "4        0.006059  \n",
       "...           ...  \n",
       "5297445  0.428915  \n",
       "5297446  0.428915  \n",
       "5297447  0.428915  \n",
       "5297448  0.563037  \n",
       "5297449  0.563037  \n",
       "\n",
       "[5297450 rows x 9 columns]"
      ]
     },
     "execution_count": 9,
     "metadata": {},
     "output_type": "execute_result"
    }
   ],
   "source": [
    "loco_final_mega"
   ]
  },
  {
   "cell_type": "markdown",
   "id": "20a9acfe-2b76-41fc-a404-aa17f734a131",
   "metadata": {},
   "source": [
    "## export files"
   ]
  },
  {
   "cell_type": "markdown",
   "id": "4a19ae64-44d9-4846-8325-cd00c1e90a23",
   "metadata": {
    "jp-MarkdownHeadingCollapsed": true
   },
   "source": [
    "### nicsa"
   ]
  },
  {
   "cell_type": "code",
   "execution_count": 32,
   "id": "604b878c-0a80-46f6-8b62-901b2ae4e5d5",
   "metadata": {},
   "outputs": [
    {
     "name": "stdout",
     "output_type": "stream",
     "text": [
      "pos file written to /tscc/projects/ps-palmer/brittany/SUD_cross_species/nicsa_magma/cigday_pc1_pos.tsv\n",
      "pval file written to /tscc/projects/ps-palmer/brittany/SUD_cross_species/nicsa_magma/cigday_pc1_pval.tsv\n",
      "pos file written to /tscc/projects/ps-palmer/brittany/SUD_cross_species/nicsa_magma/smkinit_pc1_pos.tsv\n",
      "pval file written to /tscc/projects/ps-palmer/brittany/SUD_cross_species/nicsa_magma/smkinit_pc1_pval.tsv\n"
     ]
    }
   ],
   "source": [
    "ex_magma_input(cigday,'cigday_pc1',magma_out_dir)\n",
    "ex_magma_input(smkinit,'smkinit_pc1',magma_out_dir)"
   ]
  },
  {
   "cell_type": "code",
   "execution_count": 49,
   "id": "61b3fa50-8f25-490d-baf8-6980d9045512",
   "metadata": {},
   "outputs": [
    {
     "data": {
      "text/plain": [
       "'/tscc/projects/ps-palmer/brittany/SUD_cross_species/nicsa_gwas_pc2/results/gwas/mlma_concat'"
      ]
     },
     "execution_count": 49,
     "metadata": {},
     "output_type": "execute_result"
    }
   ],
   "source": [
    "pca_path"
   ]
  },
  {
   "cell_type": "code",
   "execution_count": 51,
   "id": "1ca5e55d-c1fc-42a3-8406-2157775ee90c",
   "metadata": {},
   "outputs": [
    {
     "name": "stdout",
     "output_type": "stream",
     "text": [
      "pos file written to /tscc/projects/ps-palmer/brittany/SUD_cross_species/magma/pc1_smkinit_qtl_pos.tsv\n",
      "pval file written to /tscc/projects/ps-palmer/brittany/SUD_cross_species/magma/pc1_smkinit_qtl_pval.tsv\n",
      "pos file written to /tscc/projects/ps-palmer/brittany/SUD_cross_species/magma/pc1_cigday1a_qtl_pos.tsv\n",
      "pval file written to /tscc/projects/ps-palmer/brittany/SUD_cross_species/magma/pc1_cigday1a_qtl_pval.tsv\n",
      "pos file written to /tscc/projects/ps-palmer/brittany/SUD_cross_species/magma/pc1_smkinit1a_qtl_pos.tsv\n",
      "pval file written to /tscc/projects/ps-palmer/brittany/SUD_cross_species/magma/pc1_smkinit1a_qtl_pval.tsv\n",
      "pos file written to /tscc/projects/ps-palmer/brittany/SUD_cross_species/magma/pc1_cigday2a_qtl_pos.tsv\n",
      "pval file written to /tscc/projects/ps-palmer/brittany/SUD_cross_species/magma/pc1_cigday2a_qtl_pval.tsv\n",
      "pos file written to /tscc/projects/ps-palmer/brittany/SUD_cross_species/magma/pc1_cigday_qtl_pos.tsv\n",
      "pval file written to /tscc/projects/ps-palmer/brittany/SUD_cross_species/magma/pc1_cigday_qtl_pval.tsv\n"
     ]
    }
   ],
   "source": [
    "#export PCA analysis run 2 GWAS\n",
    "for f in os.listdir(pca_path):\n",
    "    ex_magma_input_file(pca_path+f,(f[0:len(f)-5]),magma_out_dir)"
   ]
  },
  {
   "cell_type": "code",
   "execution_count": 61,
   "id": "59c77166-1caf-4470-9c96-babd4ba908e9",
   "metadata": {
    "scrolled": true
   },
   "outputs": [
    {
     "name": "stdout",
     "output_type": "stream",
     "text": [
      "pos file written to /tscc/projects/ps-palmer/brittany/SUD_cross_species/magma/nicsa_day8_infusion_pos.tsv\n",
      "pval file written to /tscc/projects/ps-palmer/brittany/SUD_cross_species/magma/nicsa_day8_infusion_pval.tsv\n",
      "pos file written to /tscc/projects/ps-palmer/brittany/SUD_cross_species/magma/nicsa_day6_activelick_pos.tsv\n",
      "pval file written to /tscc/projects/ps-palmer/brittany/SUD_cross_species/magma/nicsa_day6_activelick_pval.tsv\n",
      "pos file written to /tscc/projects/ps-palmer/brittany/SUD_cross_species/magma/nicsa_day2_activelick_pos.tsv\n",
      "pval file written to /tscc/projects/ps-palmer/brittany/SUD_cross_species/magma/nicsa_day2_activelick_pval.tsv\n",
      "pos file written to /tscc/projects/ps-palmer/brittany/SUD_cross_species/magma/nicsa_total_activelick_10days_pos.tsv\n",
      "pval file written to /tscc/projects/ps-palmer/brittany/SUD_cross_species/magma/nicsa_total_activelick_10days_pval.tsv\n",
      "pos file written to /tscc/projects/ps-palmer/brittany/SUD_cross_species/magma/nicsa_day11_activelick_pos.tsv\n",
      "pval file written to /tscc/projects/ps-palmer/brittany/SUD_cross_species/magma/nicsa_day11_activelick_pval.tsv\n",
      "pos file written to /tscc/projects/ps-palmer/brittany/SUD_cross_species/magma/nicsa_total_inactivelick_10days_pos.tsv\n",
      "pval file written to /tscc/projects/ps-palmer/brittany/SUD_cross_species/magma/nicsa_total_inactivelick_10days_pval.tsv\n",
      "pos file written to /tscc/projects/ps-palmer/brittany/SUD_cross_species/magma/nicsa_day4_inactivelick_pos.tsv\n",
      "pval file written to /tscc/projects/ps-palmer/brittany/SUD_cross_species/magma/nicsa_day4_inactivelick_pval.tsv\n",
      "pos file written to /tscc/projects/ps-palmer/brittany/SUD_cross_species/magma/nicsa_day8_activelick_pos.tsv\n",
      "pval file written to /tscc/projects/ps-palmer/brittany/SUD_cross_species/magma/nicsa_day8_activelick_pval.tsv\n",
      "pos file written to /tscc/projects/ps-palmer/brittany/SUD_cross_species/magma/nicsa_day5_infusion_pos.tsv\n",
      "pval file written to /tscc/projects/ps-palmer/brittany/SUD_cross_species/magma/nicsa_day5_infusion_pval.tsv\n",
      "pos file written to /tscc/projects/ps-palmer/brittany/SUD_cross_species/magma/nicsa_active_inactive_ratio_all_days_pos.tsv\n",
      "pval file written to /tscc/projects/ps-palmer/brittany/SUD_cross_species/magma/nicsa_active_inactive_ratio_all_days_pval.tsv\n",
      "pos file written to /tscc/projects/ps-palmer/brittany/SUD_cross_species/magma/nicsa_day10_inactivelick_pos.tsv\n",
      "pval file written to /tscc/projects/ps-palmer/brittany/SUD_cross_species/magma/nicsa_day10_inactivelick_pval.tsv\n",
      "pos file written to /tscc/projects/ps-palmer/brittany/SUD_cross_species/magma/nicsa_day3_active_inactive_ratio_pos.tsv\n",
      "pval file written to /tscc/projects/ps-palmer/brittany/SUD_cross_species/magma/nicsa_day3_active_inactive_ratio_pval.tsv\n",
      "pos file written to /tscc/projects/ps-palmer/brittany/SUD_cross_species/magma/nicsa_day6_infusion_pos.tsv\n",
      "pval file written to /tscc/projects/ps-palmer/brittany/SUD_cross_species/magma/nicsa_day6_infusion_pval.tsv\n",
      "pos file written to /tscc/projects/ps-palmer/brittany/SUD_cross_species/magma/nicsa_day3_inactivelick_pos.tsv\n",
      "pval file written to /tscc/projects/ps-palmer/brittany/SUD_cross_species/magma/nicsa_day3_inactivelick_pval.tsv\n",
      "pos file written to /tscc/projects/ps-palmer/brittany/SUD_cross_species/magma/nicsa_day1_inactivelick_pos.tsv\n",
      "pval file written to /tscc/projects/ps-palmer/brittany/SUD_cross_species/magma/nicsa_day1_inactivelick_pval.tsv\n",
      "pos file written to /tscc/projects/ps-palmer/brittany/SUD_cross_species/magma/nicsa_slope_nicotine_infusion_pos.tsv\n",
      "pval file written to /tscc/projects/ps-palmer/brittany/SUD_cross_species/magma/nicsa_slope_nicotine_infusion_pval.tsv\n",
      "pos file written to /tscc/projects/ps-palmer/brittany/SUD_cross_species/magma/nicsa_day4_infusion_pos.tsv\n",
      "pval file written to /tscc/projects/ps-palmer/brittany/SUD_cross_species/magma/nicsa_day4_infusion_pval.tsv\n",
      "pos file written to /tscc/projects/ps-palmer/brittany/SUD_cross_species/magma/nicsa_first_three_days_infusion_median_pos.tsv\n",
      "pval file written to /tscc/projects/ps-palmer/brittany/SUD_cross_species/magma/nicsa_first_three_days_infusion_median_pval.tsv\n",
      "pos file written to /tscc/projects/ps-palmer/brittany/SUD_cross_species/magma/nicsa_day1_infusion_pos.tsv\n",
      "pval file written to /tscc/projects/ps-palmer/brittany/SUD_cross_species/magma/nicsa_day1_infusion_pval.tsv\n",
      "pos file written to /tscc/projects/ps-palmer/brittany/SUD_cross_species/magma/nicsa_day8_active_inactive_ratio_pos.tsv\n",
      "pval file written to /tscc/projects/ps-palmer/brittany/SUD_cross_species/magma/nicsa_day8_active_inactive_ratio_pval.tsv\n",
      "pos file written to /tscc/projects/ps-palmer/brittany/SUD_cross_species/magma/nicsa_active_inactive_ratio_last_three_median_pos.tsv\n",
      "pval file written to /tscc/projects/ps-palmer/brittany/SUD_cross_species/magma/nicsa_active_inactive_ratio_last_three_median_pval.tsv\n",
      "pos file written to /tscc/projects/ps-palmer/brittany/SUD_cross_species/magma/nicsa_day6_active_inactive_ratio_pos.tsv\n",
      "pval file written to /tscc/projects/ps-palmer/brittany/SUD_cross_species/magma/nicsa_day6_active_inactive_ratio_pval.tsv\n",
      "pos file written to /tscc/projects/ps-palmer/brittany/SUD_cross_species/magma/nicsa_day4_active_inactive_ratio_pos.tsv\n",
      "pval file written to /tscc/projects/ps-palmer/brittany/SUD_cross_species/magma/nicsa_day4_active_inactive_ratio_pval.tsv\n",
      "pos file written to /tscc/projects/ps-palmer/brittany/SUD_cross_species/magma/nicsa_day3_activelick_pos.tsv\n",
      "pval file written to /tscc/projects/ps-palmer/brittany/SUD_cross_species/magma/nicsa_day3_activelick_pval.tsv\n",
      "pos file written to /tscc/projects/ps-palmer/brittany/SUD_cross_species/magma/nicsa_day11_infusion_pos.tsv\n",
      "pval file written to /tscc/projects/ps-palmer/brittany/SUD_cross_species/magma/nicsa_day11_infusion_pval.tsv\n",
      "pos file written to /tscc/projects/ps-palmer/brittany/SUD_cross_species/magma/nicsa_last_three_days_infusion_median_pos.tsv\n",
      "pval file written to /tscc/projects/ps-palmer/brittany/SUD_cross_species/magma/nicsa_last_three_days_infusion_median_pval.tsv\n",
      "pos file written to /tscc/projects/ps-palmer/brittany/SUD_cross_species/magma/nicsa_total_infusion_10days_pos.tsv\n",
      "pval file written to /tscc/projects/ps-palmer/brittany/SUD_cross_species/magma/nicsa_total_infusion_10days_pval.tsv\n",
      "pos file written to /tscc/projects/ps-palmer/brittany/SUD_cross_species/magma/nicsa_day11_active_inactive_ratio_pos.tsv\n",
      "pval file written to /tscc/projects/ps-palmer/brittany/SUD_cross_species/magma/nicsa_day11_active_inactive_ratio_pval.tsv\n",
      "pos file written to /tscc/projects/ps-palmer/brittany/SUD_cross_species/magma/nicsa_day2_infusion_pos.tsv\n",
      "pval file written to /tscc/projects/ps-palmer/brittany/SUD_cross_species/magma/nicsa_day2_infusion_pval.tsv\n",
      "pos file written to /tscc/projects/ps-palmer/brittany/SUD_cross_species/magma/nicsa_day9_inactivelick_pos.tsv\n",
      "pval file written to /tscc/projects/ps-palmer/brittany/SUD_cross_species/magma/nicsa_day9_inactivelick_pval.tsv\n",
      "pos file written to /tscc/projects/ps-palmer/brittany/SUD_cross_species/magma/nicsa_day1_activelick_pos.tsv\n",
      "pval file written to /tscc/projects/ps-palmer/brittany/SUD_cross_species/magma/nicsa_day1_activelick_pval.tsv\n",
      "pos file written to /tscc/projects/ps-palmer/brittany/SUD_cross_species/magma/nicsa_day4_activelick_pos.tsv\n",
      "pval file written to /tscc/projects/ps-palmer/brittany/SUD_cross_species/magma/nicsa_day4_activelick_pval.tsv\n"
     ]
    }
   ],
   "source": [
    "#export all traits with QTLs\n",
    "path='/tscc/projects/ps-palmer/brittany/SUD_cross_species/nicsa_gwas_pc1/results_run1/gwas/mlma_concat/'\n",
    "\n",
    "for f in qtl_t:\n",
    "    ex_magma_input_file(path+f+'.mlma',f,magma_out_dir)"
   ]
  },
  {
   "cell_type": "markdown",
   "id": "a362f73a-d937-4d32-9a6b-cf228ddb7766",
   "metadata": {
    "jp-MarkdownHeadingCollapsed": true
   },
   "source": [
    "### locomotor"
   ]
  },
  {
   "cell_type": "code",
   "execution_count": 15,
   "id": "74691b7b-6512-401b-8984-9b91da2330d9",
   "metadata": {},
   "outputs": [
    {
     "name": "stdout",
     "output_type": "stream",
     "text": [
      "<bound method NDFrame.head of          Chr          bp          SNP A1 A2     Freq         b        se  \\\n",
      "0          1    735254.0     1:735254  G  A  0.07666  0.030389  0.019776   \n",
      "1          1    763121.0     1:763121  T  C  0.07985  0.039158  0.019658   \n",
      "2          1    767113.0     1:767113  G  A  0.07978  0.039805  0.019681   \n",
      "3          1   1113500.0    1:1113500  A  T  0.05762  0.066123  0.022563   \n",
      "4          1   1124362.0    1:1124362  A  G  0.05754  0.062078  0.022618   \n",
      "...      ...         ...          ... .. ..      ...       ...       ...   \n",
      "5297445   20  54428480.0  20:54428480  A  T  0.01958 -0.034303  0.043364   \n",
      "5297446   20  54428485.0  20:54428485  A  G  0.01958 -0.034303  0.043364   \n",
      "5297447   20  54428858.0  20:54428858  A  C  0.01958 -0.034303  0.043364   \n",
      "5297448   20  54429269.0  20:54429269  G  A  0.01988 -0.024537  0.042427   \n",
      "5297449   20  54429288.0  20:54429288  G  A  0.01988 -0.024537  0.042427   \n",
      "\n",
      "                p  \n",
      "0        0.124380  \n",
      "1        0.046378  \n",
      "2        0.043128  \n",
      "3        0.003384  \n",
      "4        0.006059  \n",
      "...           ...  \n",
      "5297445  0.428915  \n",
      "5297446  0.428915  \n",
      "5297447  0.428915  \n",
      "5297448  0.563037  \n",
      "5297449  0.563037  \n",
      "\n",
      "[5297450 rows x 9 columns]>\n"
     ]
    },
    {
     "name": "stderr",
     "output_type": "stream",
     "text": [
      "/tmp/ipykernel_417470/648551824.py:5: SettingWithCopyWarning: \n",
      "A value is trying to be set on a copy of a slice from a DataFrame.\n",
      "Try using .loc[row_indexer,col_indexer] = value instead\n",
      "\n",
      "See the caveats in the documentation: https://pandas.pydata.org/pandas-docs/stable/user_guide/indexing.html#returning-a-view-versus-a-copy\n",
      "  pos['bp']=pos['bp'].astype(int)\n"
     ]
    },
    {
     "name": "stdout",
     "output_type": "stream",
     "text": [
      "pos file written to /tscc/projects/ps-palmer/brittany/SUD_cross_species/magma/loco_final_mega_pos.tsv\n",
      "pval file written to /tscc/projects/ps-palmer/brittany/SUD_cross_species/magma/loco_final_mega_pval.tsv\n"
     ]
    }
   ],
   "source": [
    "ex_magma_input(loco_final_mega,'loco_final_mega',magma_out_dir)"
   ]
  },
  {
   "cell_type": "code",
   "execution_count": 13,
   "id": "5076977d-5038-4b82-ba5b-410ea4d67d2e",
   "metadata": {},
   "outputs": [
    {
     "data": {
      "text/html": [
       "<div>\n",
       "<style scoped>\n",
       "    .dataframe tbody tr th:only-of-type {\n",
       "        vertical-align: middle;\n",
       "    }\n",
       "\n",
       "    .dataframe tbody tr th {\n",
       "        vertical-align: top;\n",
       "    }\n",
       "\n",
       "    .dataframe thead th {\n",
       "        text-align: right;\n",
       "    }\n",
       "</style>\n",
       "<table border=\"1\" class=\"dataframe\">\n",
       "  <thead>\n",
       "    <tr style=\"text-align: right;\">\n",
       "      <th></th>\n",
       "      <th>Chr</th>\n",
       "      <th>bp</th>\n",
       "      <th>SNP</th>\n",
       "      <th>A1</th>\n",
       "      <th>A2</th>\n",
       "      <th>Freq</th>\n",
       "      <th>b</th>\n",
       "      <th>se</th>\n",
       "      <th>p</th>\n",
       "    </tr>\n",
       "  </thead>\n",
       "  <tbody>\n",
       "    <tr>\n",
       "      <th>0</th>\n",
       "      <td>1</td>\n",
       "      <td>735254.0</td>\n",
       "      <td>1:735254</td>\n",
       "      <td>G</td>\n",
       "      <td>A</td>\n",
       "      <td>0.07666</td>\n",
       "      <td>0.030389</td>\n",
       "      <td>0.019776</td>\n",
       "      <td>0.124380</td>\n",
       "    </tr>\n",
       "    <tr>\n",
       "      <th>1</th>\n",
       "      <td>1</td>\n",
       "      <td>763121.0</td>\n",
       "      <td>1:763121</td>\n",
       "      <td>T</td>\n",
       "      <td>C</td>\n",
       "      <td>0.07985</td>\n",
       "      <td>0.039158</td>\n",
       "      <td>0.019658</td>\n",
       "      <td>0.046378</td>\n",
       "    </tr>\n",
       "    <tr>\n",
       "      <th>2</th>\n",
       "      <td>1</td>\n",
       "      <td>767113.0</td>\n",
       "      <td>1:767113</td>\n",
       "      <td>G</td>\n",
       "      <td>A</td>\n",
       "      <td>0.07978</td>\n",
       "      <td>0.039805</td>\n",
       "      <td>0.019681</td>\n",
       "      <td>0.043128</td>\n",
       "    </tr>\n",
       "    <tr>\n",
       "      <th>3</th>\n",
       "      <td>1</td>\n",
       "      <td>1113500.0</td>\n",
       "      <td>1:1113500</td>\n",
       "      <td>A</td>\n",
       "      <td>T</td>\n",
       "      <td>0.05762</td>\n",
       "      <td>0.066123</td>\n",
       "      <td>0.022563</td>\n",
       "      <td>0.003384</td>\n",
       "    </tr>\n",
       "    <tr>\n",
       "      <th>4</th>\n",
       "      <td>1</td>\n",
       "      <td>1124362.0</td>\n",
       "      <td>1:1124362</td>\n",
       "      <td>A</td>\n",
       "      <td>G</td>\n",
       "      <td>0.05754</td>\n",
       "      <td>0.062078</td>\n",
       "      <td>0.022618</td>\n",
       "      <td>0.006059</td>\n",
       "    </tr>\n",
       "  </tbody>\n",
       "</table>\n",
       "</div>"
      ],
      "text/plain": [
       "   Chr         bp        SNP A1 A2     Freq         b        se         p\n",
       "0    1   735254.0   1:735254  G  A  0.07666  0.030389  0.019776  0.124380\n",
       "1    1   763121.0   1:763121  T  C  0.07985  0.039158  0.019658  0.046378\n",
       "2    1   767113.0   1:767113  G  A  0.07978  0.039805  0.019681  0.043128\n",
       "3    1  1113500.0  1:1113500  A  T  0.05762  0.066123  0.022563  0.003384\n",
       "4    1  1124362.0  1:1124362  A  G  0.05754  0.062078  0.022618  0.006059"
      ]
     },
     "execution_count": 13,
     "metadata": {},
     "output_type": "execute_result"
    }
   ],
   "source": [
    "loco_final_mega.head()"
   ]
  },
  {
   "cell_type": "code",
   "execution_count": 11,
   "id": "b182d85f-542a-4544-a4c0-e1f5d19c4725",
   "metadata": {},
   "outputs": [
    {
     "name": "stdout",
     "output_type": "stream",
     "text": [
      "<bound method NDFrame.head of          Chr          SNP        bp A1 A2      Freq         b        se  \\\n",
      "0          1     1:763121    763121  C  T  0.919802 -0.047976  0.030641   \n",
      "1          1     1:767113    767113  A  G  0.919824 -0.047865  0.030661   \n",
      "2          1    1:1113500   1113500  T  A  0.943119 -0.075407  0.036438   \n",
      "3          1    1:1124362   1124362  G  A  0.943163 -0.067673  0.036326   \n",
      "4          1    1:1169549   1169549  G  T  0.944331 -0.073254  0.036147   \n",
      "...      ...          ...       ... .. ..       ...       ...       ...   \n",
      "5355266   20  20:54428480  54428480  A  T  0.020320 -0.083400  0.059365   \n",
      "5355267   20  20:54428485  54428485  A  G  0.020320 -0.083400  0.059365   \n",
      "5355268   20  20:54428858  54428858  A  C  0.020320 -0.083400  0.059365   \n",
      "5355269   20  20:54429269  54429269  A  G  0.979351  0.068343  0.058609   \n",
      "5355270   20  20:54429288  54429288  A  G  0.979351  0.068343  0.058609   \n",
      "\n",
      "                p  \n",
      "0        0.117404  \n",
      "1        0.118500  \n",
      "2        0.038506  \n",
      "3        0.062475  \n",
      "4        0.042707  \n",
      "...           ...  \n",
      "5355266  0.160057  \n",
      "5355267  0.160057  \n",
      "5355268  0.160057  \n",
      "5355269  0.243574  \n",
      "5355270  0.243574  \n",
      "\n",
      "[5355271 rows x 9 columns]>\n",
      "pos file written to /tscc/projects/ps-palmer/brittany/SUD_cross_species/magma/loco_final_cf_pos.tsv\n",
      "pval file written to /tscc/projects/ps-palmer/brittany/SUD_cross_species/magma/loco_final_cf_pval.tsv\n"
     ]
    }
   ],
   "source": [
    "ex_magma_input(loco_final_cf,'loco_final_cf',magma_out_dir)"
   ]
  },
  {
   "cell_type": "code",
   "execution_count": 26,
   "id": "94e5ce9a-9ff6-4850-afea-8fbdecb23ce4",
   "metadata": {},
   "outputs": [],
   "source": [
    "loco_gsem['BP']=loco_gsem['BP'].apply(lambda x: int(x))\n",
    "loco_gsem['SNP']=loco_gsem['SNP'].apply(lambda x: x[3:])"
   ]
  },
  {
   "cell_type": "code",
   "execution_count": 36,
   "id": "30bdb554-d1e9-441d-8a85-639a67de3d2f",
   "metadata": {},
   "outputs": [
    {
     "name": "stdout",
     "output_type": "stream",
     "text": [
      "         SNP  CHR      POS\n",
      "0  1:1113500    1  1113500\n",
      "1  1:1124362    1  1124362\n",
      "2  1:1169549    1  1169549\n",
      "3  1:1175836    1  1175836\n",
      "4  1:1181278    1  1181278\n",
      "pos file written to /tscc/projects/ps-palmer/brittany/SUD_cross_species/magma/loco_gsem_pos.tsv\n",
      "         SNP         P\n",
      "0  1:1113500  0.035478\n",
      "1  1:1124362  0.039827\n",
      "2  1:1169549  0.013269\n",
      "3  1:1175836  0.020832\n",
      "4  1:1181278  0.017019\n",
      "pval file written to /tscc/projects/ps-palmer/brittany/SUD_cross_species/magma/loco_gsem_pval.tsv\n"
     ]
    }
   ],
   "source": [
    "pos,pval=ex_magma(loco_gsem,['SNP','CHR','BP','P'],'loco_gsem',magma_out_dir)"
   ]
  },
  {
   "cell_type": "markdown",
   "id": "6a13dce9-35b8-4a9c-aec5-3a574fd0ead2",
   "metadata": {
    "jp-MarkdownHeadingCollapsed": true
   },
   "source": [
    "# format RN7.2 Gene locations for magma- format like NCBI38.gene.loc"
   ]
  },
  {
   "cell_type": "markdown",
   "id": "79d203e1-7697-4a7c-8e35-fadff50d5e0f",
   "metadata": {},
   "source": [
    "- seqname - name of the chromosome or scaffold; chromosome names can be given with or without the 'chr' prefix. Important note: the seqname must be one used within Ensembl, i.e. a standard chromosome name or an Ensembl identifier such as a scaffold ID, without any additional content such as species or assembly. See the example GFF output below.\n",
    "- source - name of the program that generated this feature, or the data source (database or project name)\n",
    "- feature - feature type name, e.g. Gene, Variation, Similarity\n",
    "- start - Start position* of the feature, with sequence numbering starting at 1.\n",
    "- end - End position* of the feature, with sequence numbering starting at 1.\n",
    "- score - A floating point value.\n",
    "- strand - defined as + (forward) or - (reverse).\n",
    "- frame - One of '0', '1' or '2'. '0' indicates that the first base of the feature is the first base of a codon, '1' that the second base is the first base of a codon, and so on..\n",
    "- attribute - A semicolon-separated list of tag-value pairs, providing additional information about each feature.\n"
   ]
  },
  {
   "cell_type": "markdown",
   "id": "135ac993-783f-4904-a3d1-b047371f7e20",
   "metadata": {
    "jp-MarkdownHeadingCollapsed": true
   },
   "source": [
    "## read in table that maps the chromosome name to the chromosome number"
   ]
  },
  {
   "cell_type": "markdown",
   "id": "5eafb008-5b96-407d-804a-fb537e749a41",
   "metadata": {},
   "source": [
    "source: https://www.ncbi.nlm.nih.gov/datasets/genome/GCF_015227675.2/"
   ]
  },
  {
   "cell_type": "code",
   "execution_count": 263,
   "id": "65bb557b-44f5-4816-ac98-5d05f11d3e98",
   "metadata": {},
   "outputs": [],
   "source": [
    "chr=pd.read_csv('rn7.2_annotatedgenes_ncbi/sequence_report.tsv',sep='\\t')\n",
    "chr=chr[['RefSeq seq accession','Chromosome name']]\n",
    "chr.columns=['seqname','chr']\n",
    "chr=chr[chr.seqname.str.contains('NC')]"
   ]
  },
  {
   "cell_type": "code",
   "execution_count": 264,
   "id": "ad44cdd4-4809-493c-882b-1d586a3d8010",
   "metadata": {},
   "outputs": [],
   "source": [
    "def pull_gene(ls, str):\n",
    "    for item in ls:\n",
    "        if str in item:\n",
    "            return item\n",
    "    return None\n",
    "def format_column(col,int,delim):\n",
    "    col=col.str.split(delim)\n",
    "    col=col.apply(lambda x: x[int] if isinstance(x, list) and len(x) > 0 else None)\n",
    "    #remove residual quote and spaces\n",
    "    col = col.apply(lambda x: x.replace('\"', '').replace(' ', '') if isinstance(x, str) else x)\n",
    "    return(col)"
   ]
  },
  {
   "cell_type": "markdown",
   "id": "1fc189e2-0769-4f23-a071-20107d57f741",
   "metadata": {
    "jp-MarkdownHeadingCollapsed": true
   },
   "source": [
    "## read in and format gene attribute table"
   ]
  },
  {
   "cell_type": "markdown",
   "id": "1a1b57fd-4210-4152-aa82-64faa2df0997",
   "metadata": {},
   "source": [
    "source: https://www.ncbi.nlm.nih.gov/datasets/genome/GCF_015227675.2/\n",
    "info: https://useast.ensembl.org/info/website/upload/gff.html"
   ]
  },
  {
   "cell_type": "code",
   "execution_count": 265,
   "id": "6bc84715-e18c-4c16-8bd2-fba54af1d4ba",
   "metadata": {},
   "outputs": [
    {
     "name": "stdout",
     "output_type": "stream",
     "text": [
      "{'exon', 'CDS', 'start_codon', 'stop_codon', 'gene', 'transcript'}\n"
     ]
    }
   ],
   "source": [
    "#read in attributes\n",
    "tbl=pd.read_csv('rn7.2_annotatedgenes_ncbi/genomic.gtf',sep='\\t',skiprows=5, header=None)\n",
    "tbl.columns=['seqname','source','feature','start','end','score','strand','frame','attribute']\n",
    "tbl=tbl.drop(len(tbl)-1,axis=0)\n",
    "\n",
    "#make start and stops ints\n",
    "tbl['start']=tbl['start'].astype(int)\n",
    "tbl['end']=tbl['end'].astype(int)\n",
    "\n",
    "#add chromosome numbers\n",
    "tbl=tbl.merge(chr, on='seqname',how='left')\n",
    "#remove those with chromosomes that aren't of interest (NC chrs)\n",
    "tbl=tbl.dropna()\n",
    "\n",
    "#split attribute column\n",
    "tbl['attribute']=tbl.attribute.str.split(\";\")\n",
    "tbl['N_att']= tbl['attribute'].apply(lambda x: len(x))\n",
    "#subset to only features that are genes\n",
    "print(set(tbl['feature']))\n",
    "tbl=tbl[tbl['feature']=='gene']"
   ]
  },
  {
   "cell_type": "code",
   "execution_count": 266,
   "id": "ec1544f0-8961-4501-9f36-2649f34c4231",
   "metadata": {
    "scrolled": true
   },
   "outputs": [],
   "source": [
    "#pull gene name attribute\n",
    "tbl['gene'] = tbl['attribute'].apply(pull_gene, args=(['gene \"']))\n",
    "tbl['gene']=format_column(tbl['gene'],int=2,delim=\" \")\n",
    "#pull geneid attribute \n",
    "tbl['geneid'] = tbl['attribute'].apply(pull_gene, args=(['gene_id \"']))\n",
    "tbl['geneid']=format_column(tbl['geneid'],int=1,delim='\"')\n",
    "#pull RGD ID for later reference\n",
    "tbl['RGD_ID']=tbl['attribute'].apply(pull_gene, args=(['RGD:']))\n",
    "tbl['RGD_ID']=format_column(tbl['RGD_ID'],int=2,delim=\" \")\n",
    "#pull Gene ID number attribute\n",
    "tbl['DB_ID']=tbl['attribute'].apply(pull_gene, args=(['GeneID:']))\n",
    "tbl['DB_ID']=format_column(tbl['DB_ID'],int=2,delim=\" \")"
   ]
  },
  {
   "cell_type": "code",
   "execution_count": 276,
   "id": "b922496b-e302-4063-81bb-4a30c8b3d793",
   "metadata": {},
   "outputs": [],
   "source": [
    "tbl['gene_type']=tbl['attribute'].apply(pull_gene, args=(['gene_biotype \"']))\n",
    "tbl['gene_type']=format_column(tbl['gene_type'],int=2,delim=\" \")"
   ]
  },
  {
   "cell_type": "code",
   "execution_count": 249,
   "id": "1b548d71-9b91-4b11-9e1b-b22860571f96",
   "metadata": {},
   "outputs": [
    {
     "data": {
      "text/html": [
       "<div>\n",
       "<style scoped>\n",
       "    .dataframe tbody tr th:only-of-type {\n",
       "        vertical-align: middle;\n",
       "    }\n",
       "\n",
       "    .dataframe tbody tr th {\n",
       "        vertical-align: top;\n",
       "    }\n",
       "\n",
       "    .dataframe thead th {\n",
       "        text-align: right;\n",
       "    }\n",
       "</style>\n",
       "<table border=\"1\" class=\"dataframe\">\n",
       "  <thead>\n",
       "    <tr style=\"text-align: right;\">\n",
       "      <th></th>\n",
       "      <th>seqname</th>\n",
       "      <th>source</th>\n",
       "      <th>feature</th>\n",
       "      <th>start</th>\n",
       "      <th>end</th>\n",
       "      <th>score</th>\n",
       "      <th>strand</th>\n",
       "      <th>frame</th>\n",
       "      <th>attribute</th>\n",
       "      <th>chr</th>\n",
       "      <th>N_att</th>\n",
       "      <th>gene</th>\n",
       "      <th>geneid</th>\n",
       "      <th>RGD_ID</th>\n",
       "    </tr>\n",
       "  </thead>\n",
       "  <tbody>\n",
       "  </tbody>\n",
       "</table>\n",
       "</div>"
      ],
      "text/plain": [
       "Empty DataFrame\n",
       "Columns: [seqname, source, feature, start, end, score, strand, frame, attribute, chr, N_att, gene, geneid, RGD_ID]\n",
       "Index: []"
      ]
     },
     "execution_count": 249,
     "metadata": {},
     "output_type": "execute_result"
    }
   ],
   "source": [
    "tbl[tbl['geneid'].duplicated(keep=False)]"
   ]
  },
  {
   "cell_type": "code",
   "execution_count": 282,
   "id": "3be1f013-e7a2-4ea8-8161-8c4e67058a12",
   "metadata": {},
   "outputs": [
    {
     "data": {
      "text/html": [
       "<div>\n",
       "<style scoped>\n",
       "    .dataframe tbody tr th:only-of-type {\n",
       "        vertical-align: middle;\n",
       "    }\n",
       "\n",
       "    .dataframe tbody tr th {\n",
       "        vertical-align: top;\n",
       "    }\n",
       "\n",
       "    .dataframe thead th {\n",
       "        text-align: right;\n",
       "    }\n",
       "</style>\n",
       "<table border=\"1\" class=\"dataframe\">\n",
       "  <thead>\n",
       "    <tr style=\"text-align: right;\">\n",
       "      <th></th>\n",
       "      <th>seqname</th>\n",
       "      <th>source</th>\n",
       "      <th>feature</th>\n",
       "      <th>start</th>\n",
       "      <th>end</th>\n",
       "      <th>score</th>\n",
       "      <th>strand</th>\n",
       "      <th>frame</th>\n",
       "      <th>attribute</th>\n",
       "      <th>chr</th>\n",
       "      <th>N_att</th>\n",
       "      <th>gene</th>\n",
       "      <th>geneid</th>\n",
       "      <th>RGD_ID</th>\n",
       "      <th>DB_ID</th>\n",
       "      <th>gene_type</th>\n",
       "    </tr>\n",
       "  </thead>\n",
       "  <tbody>\n",
       "  </tbody>\n",
       "</table>\n",
       "</div>"
      ],
      "text/plain": [
       "Empty DataFrame\n",
       "Columns: [seqname, source, feature, start, end, score, strand, frame, attribute, chr, N_att, gene, geneid, RGD_ID, DB_ID, gene_type]\n",
       "Index: []"
      ]
     },
     "execution_count": 282,
     "metadata": {},
     "output_type": "execute_result"
    }
   ],
   "source": [
    "tbl[tbl['DB_ID'].duplicated(keep=False)]"
   ]
  },
  {
   "cell_type": "markdown",
   "id": "2536c2c1-d66d-4be9-a51c-22c517d4320f",
   "metadata": {
    "jp-MarkdownHeadingCollapsed": true
   },
   "source": [
    "## write to file for later reference"
   ]
  },
  {
   "cell_type": "code",
   "execution_count": 303,
   "id": "f3a80ca2-c4d7-492f-9827-7a0fad6ac7ac",
   "metadata": {},
   "outputs": [],
   "source": [
    "tbl.to_csv('rn7.2_annotatedgenes_ncbi/rn7.2_gene_attribute_table.tsv',index=False,sep='\\t')\n",
    "tbl[['geneid','chr','start','end','strand']].to_csv('rn7.2_annotatedgenes_ncbi/rn7.2_gene_attribute_table_forMAGMA.tsv',sep='\\t',index=False,header=None)"
   ]
  },
  {
   "cell_type": "code",
   "execution_count": 304,
   "id": "513211f7-6033-43a9-8303-954b7a81300a",
   "metadata": {},
   "outputs": [
    {
     "data": {
      "text/html": [
       "<div>\n",
       "<style scoped>\n",
       "    .dataframe tbody tr th:only-of-type {\n",
       "        vertical-align: middle;\n",
       "    }\n",
       "\n",
       "    .dataframe tbody tr th {\n",
       "        vertical-align: top;\n",
       "    }\n",
       "\n",
       "    .dataframe thead th {\n",
       "        text-align: right;\n",
       "    }\n",
       "</style>\n",
       "<table border=\"1\" class=\"dataframe\">\n",
       "  <thead>\n",
       "    <tr style=\"text-align: right;\">\n",
       "      <th></th>\n",
       "      <th>seqname</th>\n",
       "      <th>source</th>\n",
       "      <th>feature</th>\n",
       "      <th>start</th>\n",
       "      <th>end</th>\n",
       "      <th>score</th>\n",
       "      <th>strand</th>\n",
       "      <th>frame</th>\n",
       "      <th>attribute</th>\n",
       "      <th>chr</th>\n",
       "      <th>N_att</th>\n",
       "      <th>gene</th>\n",
       "      <th>geneid</th>\n",
       "      <th>RGD_ID</th>\n",
       "      <th>DB_ID</th>\n",
       "      <th>gene_type</th>\n",
       "    </tr>\n",
       "  </thead>\n",
       "  <tbody>\n",
       "    <tr>\n",
       "      <th>1</th>\n",
       "      <td>NC_051336.1</td>\n",
       "      <td>BestRefSeq%2CGnomon</td>\n",
       "      <td>gene</td>\n",
       "      <td>76909</td>\n",
       "      <td>85784</td>\n",
       "      <td>.</td>\n",
       "      <td>+</td>\n",
       "      <td>.</td>\n",
       "      <td>[gene_id \"Vom2r3\",  transcript_id \"\",  db_xref...</td>\n",
       "      <td>1</td>\n",
       "      <td>10</td>\n",
       "      <td>Vom2r3</td>\n",
       "      <td>Vom2r3</td>\n",
       "      <td>RGD:1565892</td>\n",
       "      <td>GeneID:502213</td>\n",
       "      <td>protein_coding</td>\n",
       "    </tr>\n",
       "    <tr>\n",
       "      <th>45</th>\n",
       "      <td>NC_051336.1</td>\n",
       "      <td>Gnomon</td>\n",
       "      <td>gene</td>\n",
       "      <td>162525</td>\n",
       "      <td>192445</td>\n",
       "      <td>.</td>\n",
       "      <td>-</td>\n",
       "      <td>.</td>\n",
       "      <td>[gene_id \"LOC103693496\",  transcript_id \"\",  d...</td>\n",
       "      <td>1</td>\n",
       "      <td>9</td>\n",
       "      <td>LOC103693496</td>\n",
       "      <td>LOC103693496</td>\n",
       "      <td>RGD:9090555</td>\n",
       "      <td>GeneID:103693496</td>\n",
       "      <td>protein_coding</td>\n",
       "    </tr>\n",
       "    <tr>\n",
       "      <th>147</th>\n",
       "      <td>NC_051336.1</td>\n",
       "      <td>BestRefSeq</td>\n",
       "      <td>gene</td>\n",
       "      <td>226465</td>\n",
       "      <td>241532</td>\n",
       "      <td>.</td>\n",
       "      <td>-</td>\n",
       "      <td>.</td>\n",
       "      <td>[gene_id \"Vom2r4\",  transcript_id \"\",  db_xref...</td>\n",
       "      <td>1</td>\n",
       "      <td>10</td>\n",
       "      <td>Vom2r4</td>\n",
       "      <td>Vom2r4</td>\n",
       "      <td>RGD:1564110</td>\n",
       "      <td>GeneID:308248</td>\n",
       "      <td>protein_coding</td>\n",
       "    </tr>\n",
       "    <tr>\n",
       "      <th>164</th>\n",
       "      <td>NC_051336.1</td>\n",
       "      <td>Gnomon</td>\n",
       "      <td>gene</td>\n",
       "      <td>284195</td>\n",
       "      <td>301267</td>\n",
       "      <td>.</td>\n",
       "      <td>-</td>\n",
       "      <td>.</td>\n",
       "      <td>[gene_id \"LOC102556157\",  transcript_id \"\",  d...</td>\n",
       "      <td>1</td>\n",
       "      <td>9</td>\n",
       "      <td>LOC102556157</td>\n",
       "      <td>LOC102556157</td>\n",
       "      <td>RGD:7626961</td>\n",
       "      <td>GeneID:102556157</td>\n",
       "      <td>protein_coding</td>\n",
       "    </tr>\n",
       "    <tr>\n",
       "      <th>190</th>\n",
       "      <td>NC_051336.1</td>\n",
       "      <td>Gnomon</td>\n",
       "      <td>gene</td>\n",
       "      <td>404295</td>\n",
       "      <td>411163</td>\n",
       "      <td>.</td>\n",
       "      <td>+</td>\n",
       "      <td>.</td>\n",
       "      <td>[gene_id \"LOC103690913\",  transcript_id \"\",  d...</td>\n",
       "      <td>1</td>\n",
       "      <td>9</td>\n",
       "      <td>LOC103690913</td>\n",
       "      <td>LOC103690913</td>\n",
       "      <td>RGD:9095272</td>\n",
       "      <td>GeneID:103690913</td>\n",
       "      <td>protein_coding</td>\n",
       "    </tr>\n",
       "    <tr>\n",
       "      <th>...</th>\n",
       "      <td>...</td>\n",
       "      <td>...</td>\n",
       "      <td>...</td>\n",
       "      <td>...</td>\n",
       "      <td>...</td>\n",
       "      <td>...</td>\n",
       "      <td>...</td>\n",
       "      <td>...</td>\n",
       "      <td>...</td>\n",
       "      <td>...</td>\n",
       "      <td>...</td>\n",
       "      <td>...</td>\n",
       "      <td>...</td>\n",
       "      <td>...</td>\n",
       "      <td>...</td>\n",
       "      <td>...</td>\n",
       "    </tr>\n",
       "    <tr>\n",
       "      <th>2338650</th>\n",
       "      <td>NC_001665.2</td>\n",
       "      <td>RefSeq</td>\n",
       "      <td>gene</td>\n",
       "      <td>9870</td>\n",
       "      <td>10166</td>\n",
       "      <td>.</td>\n",
       "      <td>+</td>\n",
       "      <td>.</td>\n",
       "      <td>[gene_id \"ND4L\",  transcript_id \"\",  db_xref \"...</td>\n",
       "      <td>MT</td>\n",
       "      <td>10</td>\n",
       "      <td>ND4L</td>\n",
       "      <td>ND4L</td>\n",
       "      <td>RGD:620494</td>\n",
       "      <td>GeneID:26200</td>\n",
       "      <td>protein_coding</td>\n",
       "    </tr>\n",
       "    <tr>\n",
       "      <th>2338656</th>\n",
       "      <td>NC_001665.2</td>\n",
       "      <td>RefSeq</td>\n",
       "      <td>gene</td>\n",
       "      <td>10160</td>\n",
       "      <td>11537</td>\n",
       "      <td>.</td>\n",
       "      <td>+</td>\n",
       "      <td>.</td>\n",
       "      <td>[gene_id \"ND4\",  transcript_id \"\",  db_xref \"G...</td>\n",
       "      <td>MT</td>\n",
       "      <td>9</td>\n",
       "      <td>ND4</td>\n",
       "      <td>ND4</td>\n",
       "      <td>RGD:620559</td>\n",
       "      <td>GeneID:26201</td>\n",
       "      <td>protein_coding</td>\n",
       "    </tr>\n",
       "    <tr>\n",
       "      <th>2338671</th>\n",
       "      <td>NC_001665.2</td>\n",
       "      <td>RefSeq</td>\n",
       "      <td>gene</td>\n",
       "      <td>11736</td>\n",
       "      <td>13565</td>\n",
       "      <td>.</td>\n",
       "      <td>+</td>\n",
       "      <td>.</td>\n",
       "      <td>[gene_id \"ND5\",  transcript_id \"\",  db_xref \"G...</td>\n",
       "      <td>MT</td>\n",
       "      <td>10</td>\n",
       "      <td>ND5</td>\n",
       "      <td>ND5</td>\n",
       "      <td>RGD:620560</td>\n",
       "      <td>GeneID:26202</td>\n",
       "      <td>protein_coding</td>\n",
       "    </tr>\n",
       "    <tr>\n",
       "      <th>2338677</th>\n",
       "      <td>NC_001665.2</td>\n",
       "      <td>RefSeq</td>\n",
       "      <td>gene</td>\n",
       "      <td>13543</td>\n",
       "      <td>14061</td>\n",
       "      <td>.</td>\n",
       "      <td>-</td>\n",
       "      <td>.</td>\n",
       "      <td>[gene_id \"ND6\",  transcript_id \"\",  db_xref \"G...</td>\n",
       "      <td>MT</td>\n",
       "      <td>9</td>\n",
       "      <td>ND6</td>\n",
       "      <td>ND6</td>\n",
       "      <td>RGD:620561</td>\n",
       "      <td>GeneID:26203</td>\n",
       "      <td>protein_coding</td>\n",
       "    </tr>\n",
       "    <tr>\n",
       "      <th>2338686</th>\n",
       "      <td>NC_001665.2</td>\n",
       "      <td>RefSeq</td>\n",
       "      <td>gene</td>\n",
       "      <td>14136</td>\n",
       "      <td>15278</td>\n",
       "      <td>.</td>\n",
       "      <td>+</td>\n",
       "      <td>.</td>\n",
       "      <td>[gene_id \"CYTB\",  transcript_id \"\",  db_xref \"...</td>\n",
       "      <td>MT</td>\n",
       "      <td>8</td>\n",
       "      <td>CYTB</td>\n",
       "      <td>CYTB</td>\n",
       "      <td>RGD:620081</td>\n",
       "      <td>GeneID:26192</td>\n",
       "      <td>protein_coding</td>\n",
       "    </tr>\n",
       "  </tbody>\n",
       "</table>\n",
       "<p>21957 rows × 16 columns</p>\n",
       "</div>"
      ],
      "text/plain": [
       "             seqname               source feature   start     end score  \\\n",
       "1        NC_051336.1  BestRefSeq%2CGnomon    gene   76909   85784     .   \n",
       "45       NC_051336.1               Gnomon    gene  162525  192445     .   \n",
       "147      NC_051336.1           BestRefSeq    gene  226465  241532     .   \n",
       "164      NC_051336.1               Gnomon    gene  284195  301267     .   \n",
       "190      NC_051336.1               Gnomon    gene  404295  411163     .   \n",
       "...              ...                  ...     ...     ...     ...   ...   \n",
       "2338650  NC_001665.2               RefSeq    gene    9870   10166     .   \n",
       "2338656  NC_001665.2               RefSeq    gene   10160   11537     .   \n",
       "2338671  NC_001665.2               RefSeq    gene   11736   13565     .   \n",
       "2338677  NC_001665.2               RefSeq    gene   13543   14061     .   \n",
       "2338686  NC_001665.2               RefSeq    gene   14136   15278     .   \n",
       "\n",
       "        strand frame                                          attribute chr  \\\n",
       "1            +     .  [gene_id \"Vom2r3\",  transcript_id \"\",  db_xref...   1   \n",
       "45           -     .  [gene_id \"LOC103693496\",  transcript_id \"\",  d...   1   \n",
       "147          -     .  [gene_id \"Vom2r4\",  transcript_id \"\",  db_xref...   1   \n",
       "164          -     .  [gene_id \"LOC102556157\",  transcript_id \"\",  d...   1   \n",
       "190          +     .  [gene_id \"LOC103690913\",  transcript_id \"\",  d...   1   \n",
       "...        ...   ...                                                ...  ..   \n",
       "2338650      +     .  [gene_id \"ND4L\",  transcript_id \"\",  db_xref \"...  MT   \n",
       "2338656      +     .  [gene_id \"ND4\",  transcript_id \"\",  db_xref \"G...  MT   \n",
       "2338671      +     .  [gene_id \"ND5\",  transcript_id \"\",  db_xref \"G...  MT   \n",
       "2338677      -     .  [gene_id \"ND6\",  transcript_id \"\",  db_xref \"G...  MT   \n",
       "2338686      +     .  [gene_id \"CYTB\",  transcript_id \"\",  db_xref \"...  MT   \n",
       "\n",
       "         N_att          gene        geneid       RGD_ID             DB_ID  \\\n",
       "1           10        Vom2r3        Vom2r3  RGD:1565892     GeneID:502213   \n",
       "45           9  LOC103693496  LOC103693496  RGD:9090555  GeneID:103693496   \n",
       "147         10        Vom2r4        Vom2r4  RGD:1564110     GeneID:308248   \n",
       "164          9  LOC102556157  LOC102556157  RGD:7626961  GeneID:102556157   \n",
       "190          9  LOC103690913  LOC103690913  RGD:9095272  GeneID:103690913   \n",
       "...        ...           ...           ...          ...               ...   \n",
       "2338650     10          ND4L          ND4L   RGD:620494      GeneID:26200   \n",
       "2338656      9           ND4           ND4   RGD:620559      GeneID:26201   \n",
       "2338671     10           ND5           ND5   RGD:620560      GeneID:26202   \n",
       "2338677      9           ND6           ND6   RGD:620561      GeneID:26203   \n",
       "2338686      8          CYTB          CYTB   RGD:620081      GeneID:26192   \n",
       "\n",
       "              gene_type  \n",
       "1        protein_coding  \n",
       "45       protein_coding  \n",
       "147      protein_coding  \n",
       "164      protein_coding  \n",
       "190      protein_coding  \n",
       "...                 ...  \n",
       "2338650  protein_coding  \n",
       "2338656  protein_coding  \n",
       "2338671  protein_coding  \n",
       "2338677  protein_coding  \n",
       "2338686  protein_coding  \n",
       "\n",
       "[21957 rows x 16 columns]"
      ]
     },
     "execution_count": 304,
     "metadata": {},
     "output_type": "execute_result"
    }
   ],
   "source": [
    "tbl_prot=tbl[tbl.gene_type=='protein_coding']\n",
    "tbl_prot"
   ]
  },
  {
   "cell_type": "code",
   "execution_count": 305,
   "id": "49a0d340-24ef-4aba-bc91-579e1f294729",
   "metadata": {},
   "outputs": [],
   "source": [
    "tbl_prot.to_csv('rn7.2_annotatedgenes_ncbi/rn7.2_gene_attribute_table_protein_coding.tsv',index=False,sep='\\t')\n",
    "tbl_prot[['geneid','chr','start','end','strand']].to_csv('rn7.2_annotatedgenes_ncbi/rn7.2_gene_attribute_table_protein_coding_forMAGMA.tsv',sep='\\t',index=False,header=None)"
   ]
  },
  {
   "cell_type": "markdown",
   "id": "aea81495-396a-4730-9edd-0fd428aafb01",
   "metadata": {},
   "source": [
    "# run magma on smkinit and cigday pc1s"
   ]
  },
  {
   "cell_type": "code",
   "execution_count": 289,
   "id": "0fa233f3-d3a6-40ba-a885-bae5e1561ed1",
   "metadata": {},
   "outputs": [
    {
     "data": {
      "text/plain": [
       "'/tscc/projects/ps-palmer/brittany/SUD_cross_species/nicsa_magma'"
      ]
     },
     "execution_count": 289,
     "metadata": {},
     "output_type": "execute_result"
    }
   ],
   "source": [
    "pwd"
   ]
  },
  {
   "cell_type": "markdown",
   "id": "ff54338a-f076-479c-ae88-66833bfed0d7",
   "metadata": {
    "jp-MarkdownHeadingCollapsed": true
   },
   "source": [
    "## cigday"
   ]
  },
  {
   "cell_type": "code",
   "execution_count": null,
   "id": "75c95352-bd08-4681-95ac-506b376283b0",
   "metadata": {},
   "outputs": [],
   "source": [
    "cd /tscc/projects/ps-palmer/brittany/SUD_cross_species/magma"
   ]
  },
  {
   "cell_type": "code",
   "execution_count": null,
   "id": "0af45915-3169-43b2-b716-645841436943",
   "metadata": {},
   "outputs": [],
   "source": [
    "#just the rats in the dataset used\n",
    "prefix=\"cigday_pc1\"\n",
    "gene_loc_file=\"rn7.2_annotatedgenes_ncbi/rn7.2_gene_attribute_table_protein_coding_forMAGMA.tsv\"\n",
    "N=2018\n",
    "nicsa_rats=\"nicsa_gwas_geno/genotypes\"\n",
    "suffix=\"_nicsa_geno\"\n",
    "\n",
    "\n",
    "\n",
    "/tscc/projects/ps-palmer/brittany/magma_v1/magma --annotate nonhuman window=10 --snp-loc \"${prefix}_pos.tsv\" --gene-loc $gene_loc_file --out $prefix$suffix\n",
    "\n",
    "/tscc/projects/ps-palmer/brittany/magma_v1/magma --bfile $nicsa_rats --pval \"${prefix}_pval.tsv\" N=$N --gene-annot \"${prefix}${suffix}.genes.annot\" --out $prefix$suffix\n"
   ]
  },
  {
   "cell_type": "code",
   "execution_count": null,
   "id": "dd8fd951-88f7-4989-a9fe-6c1d7970be56",
   "metadata": {},
   "outputs": [],
   "source": [
    "#all genotypes used\n",
    "prefix=\"cigday_pc1\"\n",
    "gene_loc_file=\"rn7.2_annotatedgenes_ncbi/rn7.2_gene_attribute_table_protein_coding_forMAGMA.tsv\"\n",
    "N=2018\n",
    "all_rats=\"round10_2/round10_2\"\n",
    "suffix=\"_all_geno\"\n",
    "\n",
    "\n",
    "/tscc/projects/ps-palmer/brittany/magma_v1/magma --annotate nonhuman window=10 --snp-loc \"${prefix}_pos.tsv\" --gene-loc $gene_loc_file --out $prefix$suffix\n",
    "\n",
    "/tscc/projects/ps-palmer/brittany/magma_v1/magma --bfile $all_rats --pval \"${prefix}_pval.tsv\" N=$N --gene-annot \"${prefix}${suffix}.genes.annot\" --out $prefix$suffix\n"
   ]
  },
  {
   "cell_type": "markdown",
   "id": "e65f7ee0-52b1-4611-89ce-c4e37222fe29",
   "metadata": {
    "jp-MarkdownHeadingCollapsed": true
   },
   "source": [
    "## smkinit"
   ]
  },
  {
   "cell_type": "code",
   "execution_count": null,
   "id": "347ebc2b-3aee-4615-ae0d-88accbe04157",
   "metadata": {},
   "outputs": [],
   "source": [
    "#just the rats in the dataset used\n",
    "prefix=\"smkinit_pc1\"\n",
    "gene_loc_file=\"rn7.2_annotatedgenes_ncbi/rn7.2_gene_attribute_table_protein_coding_forMAGMA.tsv\"\n",
    "N=2018\n",
    "nicsa_rats=\"nicsa_gwas_geno/genotypes\"\n",
    "suffix=\"_nicsa_geno\"\n",
    "\n",
    "\n",
    "\n",
    "/tscc/projects/ps-palmer/brittany/magma_v1/magma --annotate nonhuman window=10 --snp-loc \"${prefix}_pos.tsv\" --gene-loc $gene_loc_file --out $prefix$suffix\n",
    "\n",
    "/tscc/projects/ps-palmer/brittany/magma_v1/magma --bfile $nicsa_rats --pval \"${prefix}_pval.tsv\" N=$N --gene-annot \"${prefix}${suffix}.genes.annot\" --out $prefix$suffix\n"
   ]
  },
  {
   "cell_type": "code",
   "execution_count": null,
   "id": "2f65b6e5-9016-4c9a-95c8-2b2229032365",
   "metadata": {},
   "outputs": [],
   "source": [
    "#all genotypes used\n",
    "prefix=\"smkinit_pc1\"\n",
    "gene_loc_file=\"rn7.2_annotatedgenes_ncbi/rn7.2_gene_attribute_table_protein_coding_forMAGMA.tsv\"\n",
    "N=2018\n",
    "all_rats=\"round10_2/round10_2\"\n",
    "suffix=\"_all_geno\"\n",
    "\n",
    "\n",
    "/tscc/projects/ps-palmer/brittany/magma_v1/magma --annotate nonhuman window=10 --snp-loc \"${prefix}_pos.tsv\" --gene-loc $gene_loc_file --out $prefix$suffix\n",
    "\n",
    "/tscc/projects/ps-palmer/brittany/magma_v1/magma --bfile $all_rats --pval \"${prefix}_pval.tsv\" N=$N --gene-annot \"${prefix}${suffix}.genes.annot\" --out $prefix$suffix\n"
   ]
  },
  {
   "cell_type": "markdown",
   "id": "7db5a00f-ec69-440d-ac63-1133939fc32b",
   "metadata": {},
   "source": [
    "## locomotor"
   ]
  },
  {
   "cell_type": "markdown",
   "id": "39577f4e-7518-434b-96af-fc5103ef9086",
   "metadata": {},
   "source": [
    "so fun fact- the N that Apurva told me to use use is the number of rats genotyped, not the number of rats that were phenotyed, because Hao Chen's data was removed. SO EVERYTHING IS A LITTLE WRONG....\n",
    "I'll rerun using the correct N just for the 10kb window, and see if it makes any real difference. If it does I guess I can rerun it but I really don't think it's worth the computing power unless it's being included in the manuscript"
   ]
  },
  {
   "cell_type": "code",
   "execution_count": null,
   "id": "391415e3-a208-4296-a5f2-b148ed8282bd",
   "metadata": {},
   "outputs": [],
   "source": [
    "#sensitivity analysis- batch job\n",
    "\n",
    "cd /tscc/projects/ps-palmer/brittany/SUD_cross_species/magma\n",
    "\n",
    "win_ls=( 0 1 5 10 25 50)\n",
    "prefix=\"loco_meta\"\n",
    "gene_loc_file=\"rn7.2_annotatedgenes_ncbi/rn7.2_gene_attribute_table_protein_coding_forMAGMA.tsv\"\n",
    "N=8679 # wrong N- this is the N genotyped\n",
    "rats=\"loco_meta_gwas_geno/genotypes\"\n",
    "suffix=\"\"\n",
    "\n",
    "win=${win_ls[$SLURM_ARRAY_TASK_ID-1]}\n",
    "\n",
    "/tscc/projects/ps-palmer/brittany/magma_v1/magma --annotate nonhuman window=$win --snp-loc \"${prefix}_pos.tsv\" --gene-loc $gene_loc_file --out $prefix$suffix\"_win\"$win\n",
    "\n",
    "/tscc/projects/ps-palmer/brittany/magma_v1/magma --bfile $rats --pval \"${prefix}_pval.tsv\" N=$N --gene-annot \"${prefix}${suffix}\"_win\"${win}.genes.annot\" --out $prefix$suffix\"_win\"$win\n"
   ]
  },
  {
   "cell_type": "code",
   "execution_count": null,
   "id": "538ab572-94d7-44f2-843c-3bc224eefc7e",
   "metadata": {},
   "outputs": [],
   "source": [
    "#single run- just for 10kb window\n",
    "\n",
    "cd /tscc/projects/ps-palmer/brittany/SUD_cross_species/magma\n",
    "\n",
    "prefix=\"loco_meta\"\n",
    "gene_loc_file=\"rn7.2_annotatedgenes_ncbi/rn7.2_gene_attribute_table_protein_coding_forMAGMA.tsv\"\n",
    "N=7722 # this is the N phenotyped\n",
    "rats=\"loco_meta_gwas_geno/genotypes\"\n",
    "suffix=\"\"\n",
    "win=10\n",
    "\n",
    "/tscc/projects/ps-palmer/brittany/magma_v1/magma --annotate nonhuman window=$win --snp-loc \"${prefix}_pos.tsv\" --gene-loc $gene_loc_file --out $prefix$suffix\"_7k_win\"$win\n",
    "\n",
    "/tscc/projects/ps-palmer/brittany/magma_v1/magma --bfile $rats --pval \"${prefix}_pval.tsv\" N=$N --gene-annot \"${prefix}${suffix}\"_7k_win\"${win}.genes.annot\" --out $prefix$suffix\"_7k_win\"$win\n"
   ]
  },
  {
   "cell_type": "code",
   "execution_count": null,
   "id": "ae69bb2d-0645-4587-9812-e58714ae6d7e",
   "metadata": {},
   "outputs": [],
   "source": [
    "#single run- locomotor gSEM common factor\n",
    "cd /tscc/projects/ps-palmer/brittany/SUD_cross_species/magma\n",
    "\n",
    "prefix=\"loco_gsem\"\n",
    "gene_loc_file=\"rn7.2_annotatedgenes_ncbi/rn7.2_gene_attribute_table_protein_coding_forMAGMA.tsv\"\n",
    "N=7722 # this is the N phenotyed\n",
    "rats=\"loco_meta_gwas_geno/genotypes\"\n",
    "suffix=\"\"\n",
    "\n",
    "#win=${win_ls[$SLURM_ARRAY_TASK_ID-1]}\n",
    "win=10\n",
    "/tscc/projects/ps-palmer/brittany/magma_v1/magma --annotate nonhuman window=$win --snp-loc \"${prefix}_pos.tsv\" --gene-loc $gene_loc_file --out $prefix$suffix\"_7k_win\"$win\n",
    "\n",
    "/tscc/projects/ps-palmer/brittany/magma_v1/magma --bfile $rats --pval \"${prefix}_pval.tsv\" N=$N --gene-annot \"${prefix}${suffix}\"_7k_win\"${win}.genes.annot\" --out $prefix$suffix\"_7k_win\"$win\n"
   ]
  },
  {
   "cell_type": "code",
   "execution_count": null,
   "id": "5716e9de-f675-41e6-b97d-a8f0c833dd7f",
   "metadata": {},
   "outputs": [],
   "source": [
    "#single run- final datasets\n",
    "\n",
    "cd /tscc/projects/ps-palmer/brittany/SUD_cross_species/magma\n",
    "\n",
    "prefix=\"loco_final_mega\"\n",
    "gene_loc_file=\"rn7.2_annotatedgenes_ncbi/rn7.2_gene_attribute_table_protein_coding_forMAGMA.tsv\"\n",
    "N=7679 # this is the N phenotyped\n",
    "rats=\"genotypes_loco_final/genotypes\"\n",
    "suffix=\"\"\n",
    "win=10\n",
    "\n",
    "/tscc/projects/ps-palmer/brittany/magma_v1/magma --annotate nonhuman window=$win --snp-loc \"${prefix}_pos.tsv\" --gene-loc $gene_loc_file --out $prefix$suffix\"_7k_win\"$win\n",
    "\n",
    "/tscc/projects/ps-palmer/brittany/magma_v1/magma --bfile $rats --pval \"${prefix}_pval.tsv\" N=$N --gene-annot \"${prefix}${suffix}\"_7k_win\"${win}.genes.annot\" --out $prefix$suffix\"_7k_win\"$win\n"
   ]
  },
  {
   "cell_type": "code",
   "execution_count": null,
   "id": "1e6cb772-c822-4f4b-8e37-6e031a39f9c7",
   "metadata": {},
   "outputs": [],
   "source": [
    "#single run- final datasets\n",
    "\n",
    "cd /tscc/projects/ps-palmer/brittany/SUD_cross_species/magma\n",
    "\n",
    "prefix=\"loco_final_cf\"\n",
    "gene_loc_file=\"rn7.2_annotatedgenes_ncbi/rn7.2_gene_attribute_table_protein_coding_forMAGMA.tsv\"\n",
    "N=7679 # this is the N phenotyped\n",
    "rats=\"genotypes_loco_final/genotypes\"\n",
    "suffix=\"\"\n",
    "win=10\n",
    "\n",
    "/tscc/projects/ps-palmer/brittany/magma_v1/magma --annotate nonhuman window=$win --snp-loc \"${prefix}_pos.tsv\" --gene-loc $gene_loc_file --out $prefix$suffix\"_7k_win\"$win\n",
    "\n",
    "/tscc/projects/ps-palmer/brittany/magma_v1/magma --bfile $rats --pval \"${prefix}_pval.tsv\" N=$N --gene-annot \"${prefix}${suffix}\"_7k_win\"${win}.genes.annot\" --out $prefix$suffix\"_7k_win\"$win\n"
   ]
  },
  {
   "cell_type": "markdown",
   "id": "979131fc-a002-4554-b0a0-a900d6f8f997",
   "metadata": {
    "jp-MarkdownHeadingCollapsed": true
   },
   "source": [
    "## NICSA QTL traits and round 2 PCA"
   ]
  },
  {
   "cell_type": "code",
   "execution_count": 64,
   "id": "83d63cc2-e08f-4cba-9b94-3703207f06e2",
   "metadata": {},
   "outputs": [],
   "source": [
    "proc_data=pd.read_csv('nicsa_gwas_pc2/processed_data_ready.csv')"
   ]
  },
  {
   "cell_type": "code",
   "execution_count": 69,
   "id": "0714ae5a-f1c0-4146-a858-ab5a9372d953",
   "metadata": {},
   "outputs": [],
   "source": [
    "traits=list(qtl_t)+[i[0:len(i)-5] for i in os.listdir(pca_path)]"
   ]
  },
  {
   "cell_type": "code",
   "execution_count": 72,
   "id": "44a3e88e-3531-4564-a3d9-d81b74bc16d3",
   "metadata": {
    "scrolled": true
   },
   "outputs": [
    {
     "name": "stdout",
     "output_type": "stream",
     "text": [
      "nicsa_day8_infusion: 1785\n",
      "nicsa_day6_activelick: 1783\n",
      "nicsa_day2_activelick: 1804\n",
      "nicsa_total_activelick_10days: 1811\n",
      "nicsa_day11_activelick: 1769\n",
      "nicsa_total_inactivelick_10days: 1811\n",
      "nicsa_day4_inactivelick: 1802\n",
      "nicsa_day8_activelick: 1785\n",
      "nicsa_day5_infusion: 1802\n",
      "nicsa_active_inactive_ratio_all_days: 1811\n",
      "nicsa_day10_inactivelick: 1811\n",
      "nicsa_day3_active_inactive_ratio: 1774\n",
      "nicsa_day6_infusion: 1784\n",
      "nicsa_day3_inactivelick: 1804\n",
      "nicsa_day1_inactivelick: 1811\n",
      "nicsa_slope_nicotine_infusion: 1811\n",
      "nicsa_day4_infusion: 1794\n",
      "nicsa_first_three_days_infusion_median: 1811\n",
      "nicsa_day1_infusion: 1811\n",
      "nicsa_day8_active_inactive_ratio: 1738\n",
      "nicsa_active_inactive_ratio_last_three_median: 1811\n",
      "nicsa_day6_active_inactive_ratio: 1746\n",
      "nicsa_day4_active_inactive_ratio: 1766\n",
      "nicsa_day3_activelick: 1799\n",
      "nicsa_day11_infusion: 1771\n",
      "nicsa_last_three_days_infusion_median: 1811\n",
      "nicsa_total_infusion_10days: 1811\n",
      "nicsa_day11_active_inactive_ratio: 1624\n",
      "nicsa_day2_infusion: 1805\n",
      "nicsa_day9_inactivelick: 1799\n",
      "nicsa_day1_activelick: 1811\n",
      "nicsa_day4_activelick: 1794\n",
      "pc1_smkinit_qtl: 1811\n",
      "pc1_cigday1a_qtl: 1750\n",
      "pc1_smkinit1a_qtl: 1811\n",
      "pc1_cigday2a_qtl: 1750\n",
      "pc1_cigday_qtl: 1750\n"
     ]
    }
   ],
   "source": [
    "for t in traits:\n",
    "    print(t+': '+str(len(proc_data[t].dropna())))"
   ]
  },
  {
   "cell_type": "code",
   "execution_count": null,
   "id": "1906cbb3-b088-4436-a40b-e3a01d4a8f92",
   "metadata": {},
   "outputs": [],
   "source": [
    "#!/bin/bash\n",
    "#SBATCH --job-name nicsa_qtl\n",
    "#SBATCH --partition condo\n",
    "#SBATCH --qos condo\n",
    "#SBATCH --nodes 1\n",
    "#SBATCH -a 1-37\n",
    "#SBATCH -c 1\n",
    "#SBATCH -t 8:00:00\n",
    "#SBATCH --mem-per-cpu 8G\n",
    "#SBATCH -o /tscc/nfs/home/bsleger/bsl/SUD_cross_species/magma_nicsa-%j.o\n",
    "#SBATCH -e /tscc/nfs/home/bsleger/bsl/SUD_cross_species/magma_nicsa-%j.e\n",
    "#SBATCH --mail-type END,FAIL\n",
    "#SBATCH --mail-user bsleger@ucsd.edu\n",
    "#SBATCH --account csd795\n",
    "\n",
    "\n",
    "cd /tscc/projects/ps-palmer/brittany/SUD_cross_species/magma\n",
    "\n",
    "#just the rats in the dataset used\n",
    "prefixes=('nicsa_day8_infusion' 'nicsa_day6_activelick' 'nicsa_day2_activelick' 'nicsa_total_activelick_10days' 'nicsa_day11_activelick' 'nicsa_total_inactivelick_10days' 'nicsa_day4_inactivelick' 'nicsa_day8_activelick' 'nicsa_day5_infusion' 'nicsa_active_inactive_ratio_all_days' 'nicsa_day10_inactivelick' 'nicsa_day3_active_inactive_ratio' 'nicsa_day6_infusion' 'nicsa_day3_inactivelick' 'nicsa_day1_inactivelick' 'nicsa_slope_nicotine_infusion' 'nicsa_day4_infusion' 'nicsa_first_three_days_infusion_median' 'nicsa_day1_infusion' 'nicsa_day8_active_inactive_ratio' 'nicsa_active_inactive_ratio_last_three_median' 'nicsa_day6_active_inactive_ratio' 'nicsa_day4_active_inactive_ratio' 'nicsa_day3_activelick' 'nicsa_day11_infusion' 'nicsa_last_three_days_infusion_median' 'nicsa_total_infusion_10days' 'nicsa_day11_active_inactive_ratio' 'nicsa_day2_infusion' 'nicsa_day9_inactivelick' 'nicsa_day1_activelick' 'nicsa_day4_activelick' 'pc1_smkinit_qtl' 'pc1_cigday1a_qtl' 'pc1_smkinit1a_qtl' 'pc1_cigday2a_qtl' 'pc1_cigday_qtl')\n",
    "Ns=(1785 1783 1804 1811 1769 1811 1802 1785 1802 1811 1811 1774 1784 1804 1811 1811 1794 1811 1811 1738 1811 1746 1766 1799 1771 1811 1811 1624 1805 1799 1811 1794 1811 1750 1811 1750 1750)\n",
    "gene_loc_file=\"rn7.2_annotatedgenes_ncbi/rn7.2_gene_attribute_table_protein_coding_forMAGMA.tsv\"\n",
    "nicsa_rats=\"nicsa_gwas_geno/genotypes\"\n",
    "suffix=\"_nicsa_geno\"    \n",
    "prefix=${prefixes[$SLURM_ARRAY_TASK_ID-1]}\n",
    "N=${Ns[$SLURM_ARRAY_TASK_ID-1]}\n",
    "\n",
    "\n",
    "/tscc/projects/ps-palmer/brittany/magma_v1/magma --annotate nonhuman window=10 --snp-loc \"${prefix}_pos.tsv\" --gene-loc $gene_loc_file --out $prefix$suffix\"_win\"$win\n",
    "\n",
    "/tscc/projects/ps-palmer/brittany/magma_v1/magma --bfile $nicsa_rats --pval \"${prefix}_pval.tsv\" N=$N --gene-annot \"${prefix}${suffix}\"_win\"${win}.genes.annot\" --out $prefix$suffix\"_win\"$win\n"
   ]
  }
 ],
 "metadata": {
  "kernelspec": {
   "display_name": "Python [conda env:env-std-py38]",
   "language": "python",
   "name": "conda-env-env-std-py38-py"
  },
  "language_info": {
   "codemirror_mode": {
    "name": "ipython",
    "version": 3
   },
   "file_extension": ".py",
   "mimetype": "text/x-python",
   "name": "python",
   "nbconvert_exporter": "python",
   "pygments_lexer": "ipython3",
   "version": "3.8.13"
  }
 },
 "nbformat": 4,
 "nbformat_minor": 5
}
