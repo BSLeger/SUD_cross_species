{
 "cells": [
  {
   "cell_type": "code",
   "execution_count": 1,
   "id": "57e2b90c-2fff-47e2-bcf6-a1a1d39ae074",
   "metadata": {},
   "outputs": [],
   "source": [
    "cd /tscc/projects/ps-palmer/brittany/MetaXcan/GTEx/brain_models/\n",
    "db_list=(`ls *.db`)\n",
    "\n",
    "cd /tscc/projects/ps-palmer/brittany/MetaXcan/"
   ]
  },
  {
   "cell_type": "code",
   "execution_count": 2,
   "id": "c34be8b1-baff-447d-b00c-c279b6d54b24",
   "metadata": {},
   "outputs": [
    {
     "name": "stdout",
     "output_type": "stream",
     "text": [
      "en_Brain_Amygdala.db\n"
     ]
    }
   ],
   "source": [
    "echo $db_list"
   ]
  },
  {
   "cell_type": "code",
   "execution_count": 8,
   "id": "508f4b32-54c8-461f-93f9-0bb149572c4b",
   "metadata": {},
   "outputs": [
    {
     "name": "stdout",
     "output_type": "stream",
     "text": [
      "en_Brain_Amygdala.db\n",
      "en_Brain_Anterior_cingulate_cortex_BA24.db\n",
      "en_Brain_Caudate_basal_ganglia.db\n",
      "en_Brain_Cerebellar_Hemisphere.db\n",
      "en_Brain_Cerebellum.db\n",
      "en_Brain_Cortex.db\n",
      "en_Brain_Frontal_Cortex_BA9.db\n",
      "en_Brain_Hippocampus.db\n",
      "en_Brain_Hypothalamus.db\n",
      "en_Brain_Nucleus_accumbens_basal_ganglia.db\n",
      "en_Brain_Putamen_basal_ganglia.db\n",
      "en_Brain_Spinal_cord_cervical_c-1.db\n",
      "en_Brain_Substantia_nigra.db\n"
     ]
    }
   ],
   "source": [
    "cd /tscc/projects/ps-palmer/brittany/MetaXcan/GTEx/brain_models/\n",
    "ls *.db "
   ]
  },
  {
   "cell_type": "code",
   "execution_count": 9,
   "id": "407eafe1-f5f0-4b13-a729-ce4cb01cad4f",
   "metadata": {},
   "outputs": [
    {
     "name": "stdout",
     "output_type": "stream",
     "text": [
      "predixcan_externalizing2019_en_Brain_Anterior_cingulate_cortex_BA24.db.csv\n",
      "predixcan_externalizing2019_en_Brain_Frontal_Cortex_BA9.db.csv\n",
      "predixcan_externalizing2019_en_Brain_Hippocampus.db.csv\n",
      "predixcan_externalizing2019_en_Brain_Nucleus_accumbens_basal_ganglia.db.csv\n",
      "predixcan_externalizing2019_en_Brain_Spinal_cord_cervical_c-1.db.csv\n",
      "predixcan_externalizing2019_en_Brain_Substantia_nigra.db.csv\n",
      "predixcan_externalizing_en_Brain_Amygdala.csv\n"
     ]
    }
   ],
   "source": [
    "cd /tscc/projects/ps-palmer/brittany/MetaXcan/\n",
    "ls results "
   ]
  },
  {
   "cell_type": "code",
   "execution_count": null,
   "id": "9856168e-22bb-4693-84e4-22aea47aded3",
   "metadata": {},
   "outputs": [],
   "source": [
    "en_Brain_Caudate_basal_ganglia.db\n",
    "en_Brain_Cerebellar_Hemisphere.db\n",
    "en_Brain_Cerebellum.db\n",
    "en_Brain_Cortex.db\n",
    "en_Brain_Hypothalamus.db\n",
    "en_Brain_Putamen_basal_ganglia.db\n"
   ]
  },
  {
   "cell_type": "code",
   "execution_count": 10,
   "id": "1a81bc8b-27aa-42f4-a20d-6f34711acd55",
   "metadata": {},
   "outputs": [],
   "source": [
    "failed_rerun=( en_Brain_Caudate_basal_ganglia.db en_Brain_Cerebellar_Hemisphere.db en_Brain_Cerebellum.db en_Brain_Cortex.db en_Brain_Hypothalamus.db en_Brain_Putamen_basal_ganglia.db )"
   ]
  },
  {
   "cell_type": "code",
   "execution_count": 14,
   "id": "caea8303-9e12-4124-95f7-b2de3c0d2c2e",
   "metadata": {},
   "outputs": [
    {
     "name": "stdout",
     "output_type": "stream",
     "text": [
      "en_Brain_Caudate_basal_ganglia.db[2]\n"
     ]
    }
   ],
   "source": [
    "echo $failed_rerun[2]"
   ]
  }
 ],
 "metadata": {
  "kernelspec": {
   "display_name": "Bash",
   "language": "bash",
   "name": "bash"
  },
  "language_info": {
   "codemirror_mode": "shell",
   "file_extension": ".sh",
   "mimetype": "text/x-sh",
   "name": "bash"
  }
 },
 "nbformat": 4,
 "nbformat_minor": 5
}
