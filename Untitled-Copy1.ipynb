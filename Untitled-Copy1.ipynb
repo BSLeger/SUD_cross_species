{
 "cells": [
  {
   "cell_type": "code",
   "execution_count": 11,
   "id": "842c6d84-9eb5-4cf0-ac2b-14e7b648f64c",
   "metadata": {},
   "outputs": [],
   "source": [
    "cd /tscc/projects/ps-palmer/brittany/MetaXcan/GTEx/brain_models/\n",
    "db_list=(`ls *.db`)"
   ]
  },
  {
   "cell_type": "code",
   "execution_count": 12,
   "id": "8ec44732-913f-4348-914f-5b000631d2af",
   "metadata": {},
   "outputs": [],
   "source": [
    "cd /tscc/projects/ps-palmer/brittany/MetaXcan/"
   ]
  },
  {
   "cell_type": "code",
   "execution_count": null,
   "id": "2bdea617-7049-41e4-8266-38150c551fe7",
   "metadata": {},
   "outputs": [],
   "source": [
    "source activate imlabtools"
   ]
  },
  {
   "cell_type": "code",
   "execution_count": 13,
   "id": "a5675567-abee-4c94-a738-47aa308ee55c",
   "metadata": {},
   "outputs": [
    {
     "name": "stdout",
     "output_type": "stream",
     "text": [
      "en_Brain_Amygdala.db\n"
     ]
    }
   ],
   "source": [
    "echo ${db_list[0]}"
   ]
  },
  {
   "cell_type": "code",
   "execution_count": 3,
   "id": "d3be0808-c90a-4111-a36c-78296c2fd274",
   "metadata": {},
   "outputs": [
    {
     "name": "stdout",
     "output_type": "stream",
     "text": [
      "ls en_Brain_Amygdala.db en_Brain_Anterior_cingulate_cortex_BA24.db en_Brain_Caudate_basal_ganglia.db en_Brain_Cerebellar_Hemisphere.db en_Brain_Cerebellum.db en_Brain_Cortex.db en_Brain_Frontal_Cortex_BA9.db en_Brain_Hippocampus.db en_Brain_Hypothalamus.db en_Brain_Nucleus_accumbens_basal_ganglia.db en_Brain_Putamen_basal_ganglia.db en_Brain_Spinal_cord_cervical_c-1.db en_Brain_Substantia_nigra.db\n"
     ]
    }
   ],
   "source": [
    "m=${db_list[$SLURM_ARRAY_TASK_ID-1]}\n",
    "echo $m"
   ]
  },
  {
   "cell_type": "code",
   "execution_count": null,
   "id": "f582341d-281f-4070-9e41-06eccda096ef",
   "metadata": {},
   "outputs": [],
   "source": [
    "cd /tscc/projects/ps-palmer/brittany/MetaXcan\n",
    "source activate imlabtools\n",
    "\n",
    "m=\"GTEx/brain_models/en_Brain_Amygdala.db\"\n",
    "\n",
    "software/SPrediXcan.py \\\n",
    "--model_db_path $m \\\n",
    "--covariance GTEx/gtex_v8_expression_elastic_net_snp_smultixcan_covariance.txt.gz \\\n",
    "--gwas_file /tscc/projects/ps-palmer/brittany/SUD_cross_species/ext_sumstat_2019/FINAL.EXT_COMMON_FACTOR.EXTERNALIZING.20191014.PREPARED.wFREQ.A1.txt.gz \\\n",
    "--snp_column SNP \\\n",
    "--effect_allele_column A1 \\\n",
    "--non_effect_allele_column A2 \\\n",
    "--beta_column BETA.A1 \\\n",
    "--pvalue_column P \\\n",
    "--output_file results/predixcan_externalizing_en_Brain_Amygdala.csv\n"
   ]
  },
  {
   "cell_type": "code",
   "execution_count": null,
   "id": "df37c16a-74c0-4d37-b3c5-9e7cf5e65298",
   "metadata": {},
   "outputs": [],
   "source": []
  }
 ],
 "metadata": {
  "kernelspec": {
   "display_name": "Bash",
   "language": "bash",
   "name": "bash"
  },
  "language_info": {
   "codemirror_mode": "shell",
   "file_extension": ".sh",
   "mimetype": "text/x-sh",
   "name": "bash"
  }
 },
 "nbformat": 4,
 "nbformat_minor": 5
}
