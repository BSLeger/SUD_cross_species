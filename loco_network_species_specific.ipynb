{
 "cells": [
  {
   "cell_type": "markdown",
   "id": "72712048-273e-4a08-a4e4-7a05d94ea9ca",
   "metadata": {},
   "source": [
    "purpose: identify rat and human only networks and compare to sarah's combined approach"
   ]
  },
  {
   "cell_type": "markdown",
   "id": "d3108de3-5737-410b-9f4b-16e0a66dc849",
   "metadata": {},
   "source": [
    "# set-up"
   ]
  },
  {
   "cell_type": "markdown",
   "id": "2cf5d8cf-c5f6-46c2-82ad-a144802994c6",
   "metadata": {},
   "source": [
    "Note: functions are at bottom of notebook- run first"
   ]
  },
  {
   "cell_type": "code",
   "execution_count": 1,
   "id": "437f63b3-ac6f-4041-adab-fbace899d08d",
   "metadata": {},
   "outputs": [],
   "source": [
    "import os\n",
    "import pandas as pd\n",
    "import ndex2\n",
    "import networkx as nx\n",
    "from netcoloc import netprop_zscore\n",
    "from netcoloc import netprop\n",
    "from netcoloc import network_colocalization\n",
    "import sys\n",
    "import random"
   ]
  },
  {
   "cell_type": "code",
   "execution_count": 2,
   "id": "c16e3d31-d171-4ba6-b8a0-a0c524e100e3",
   "metadata": {},
   "outputs": [],
   "source": [
    "os.chdir('/tscc/projects/ps-palmer/brittany/rare_common_alcohol/rare_common_alcohol_comparison/notebooks/')\n",
    "from rca_functions import *"
   ]
  },
  {
   "cell_type": "code",
   "execution_count": 3,
   "id": "28044212-ea41-48ca-913e-e39b06975b9d",
   "metadata": {},
   "outputs": [],
   "source": [
    "os.chdir('/tscc/projects/ps-palmer/brittany/SUD_cross_species/')"
   ]
  },
  {
   "cell_type": "code",
   "execution_count": 4,
   "id": "43c311ea-05f5-463f-94c0-3d47eb142e4b",
   "metadata": {},
   "outputs": [],
   "source": [
    "random_seed=random.seed(211)"
   ]
  },
  {
   "cell_type": "code",
   "execution_count": 5,
   "id": "a9a11659-d95c-4cfa-898a-f812e44a3b03",
   "metadata": {},
   "outputs": [],
   "source": [
    "save_fig=True"
   ]
  },
  {
   "cell_type": "code",
   "execution_count": 6,
   "id": "f7eec1f1-6893-4f9d-9122-0631b4d1c070",
   "metadata": {},
   "outputs": [
    {
     "name": "stdout",
     "output_type": "stream",
     "text": [
      "NDEx credentials imported from meta file\n"
     ]
    }
   ],
   "source": [
    "#create a file called environ_ndex_meta.py where you save variables 'ndex_user' and 'ndex_password'\n",
    "#otherwise will prompt you to define those within the notebooks\n",
    "if os.path.isfile('../environ_ndex_meta.py'):\n",
    "    print ('NDEx credentials imported from meta file')\n",
    "    sys.path.insert(1, '../')\n",
    "    from environ_ndex_meta import *\n",
    "    sys.path.pop(1)\n",
    "else:\n",
    "    # Prompt the user for a username\n",
    "    ndex_user = input(\"Enter your NDEx username: \")\n",
    "    # Prompt the user for a password\n",
    "    ndex_password = input(\"Enter your NDEx password: \")"
   ]
  },
  {
   "cell_type": "code",
   "execution_count": 7,
   "id": "03396888-358d-4547-85bb-bfd05266d265",
   "metadata": {},
   "outputs": [],
   "source": [
    "IBM=['#648FFF','#785EF0','#DC267F','#FE6100','#FFB000']\n",
    "colour_dict={\n",
    "    'ext':IBM[1],\n",
    "    'ext_alt':IBM[0],\n",
    "    'ext_munged':IBM[1],\n",
    "    'ext_munged_alt':IBM[0],\n",
    "    'loco':IBM[4],\n",
    "    'loco_alt':IBM[3],\n",
    "    'shared':IBM[2],\n",
    "    'other':'#CCCCCC',\n",
    "    'shared_alt':'#780534'\n",
    "}"
   ]
  },
  {
   "cell_type": "code",
   "execution_count": 8,
   "id": "3264a733-e214-4ae3-82a5-e15ccbfe4a11",
   "metadata": {},
   "outputs": [],
   "source": [
    "UUIDs={\n",
    "    'PCNet2.0':'d73d6357-e87b-11ee-9621-005056ae23aa',\n",
    "    'PCNet2.1':'e9c574f4-e87a-11ee-9621-005056ae23aa',\n",
    "    'PCNet2.2':'8b4b54fa-e87d-11ee-9621-005056ae23aa'\n",
    "}"
   ]
  },
  {
   "cell_type": "markdown",
   "id": "a216c53a-7660-4f3f-b4b4-3d06000f2020",
   "metadata": {},
   "source": [
    "# functions"
   ]
  },
  {
   "cell_type": "code",
   "execution_count": 9,
   "id": "211462b0-937d-4a06-b719-cd070190a4c5",
   "metadata": {},
   "outputs": [],
   "source": [
    "def import_seedgenes(path,pcol='P',gene_col='GENE NAME',delim='comma', cutoff=None):\n",
    "    if delim=='comma':\n",
    "        df=pd.read_csv(path,sep=',')\n",
    "    else:\n",
    "        df=pd.read_csv(path,sep='\\t')\n",
    "    if pcol==None:\n",
    "        print('pvalue column not specified- all genes will be used')\n",
    "        cutoff=None\n",
    "    if cutoff=='bonferroni':\n",
    "        df=df[df[pcol]<0.05/len(df)]\n",
    "    elif cutoff=='FDR_05':\n",
    "        df=df[df[pcol]<0.05]\n",
    "    else:\n",
    "        print('cutoff not defined/custom- using all genes ')\n",
    "        df=df\n",
    "    print(df.head())\n",
    "    return(df)"
   ]
  },
  {
   "cell_type": "code",
   "execution_count": 10,
   "id": "e3ecb683-2e4e-4e32-a238-9a6dd0a71b21",
   "metadata": {},
   "outputs": [],
   "source": [
    "def import_interactome(interactome_name=None, UUIDs=UUIDs,ndex_user=None, ndex_password=None,UUID=None):\n",
    "    \"\"\"\n",
    "    Imports a gene interactome from the NDEx database and returns it as a NetworkX graph object. Optionally,\n",
    "    the function allows for importing using a unique identifier (UUID) or by an interactome name.\n",
    "\n",
    "    The function checks if the interactome name provided corresponds to a predefined dictionary of UUIDs. If it does, it\n",
    "    retrieves the network using the specified credentials. If an interactome name is not provided but a UUID is,\n",
    "    it retrieves the network using the provided UUID. The nodes of pcnet_v14 are relabelled by their gene name rather than ID number.\n",
    "\n",
    "    Parameters:\n",
    "    - interactome_name (str, optional): The name of the interactome as defined in the UUIDs dictionary. If not provided\n",
    "      but a UUID is, the interactome associated with the UUID is imported instead.\n",
    "    - ndex_user (str, optional): The NDEx account username for accessing private networks.\n",
    "    - ndex_password (str, optional): The NDEx account password for accessing private networks.\n",
    "    - UUID (str, optional): A specific UUID to directly download an interactome from NDEx if the interactome name is not used.\n",
    "\n",
    "    Returns:\n",
    "    networkx.Graph: A graph object representing the interactome. Nodes and edges represent genes and their interactions, respectively.\n",
    "\n",
    "    Notes:\n",
    "    - The function uses the NDEx2 Python client and requires Internet access to NDEx's servers.\n",
    "    - Depending on the access rights of the NDEx account, private or public interactomes can be retrieved.\n",
    "    - The function prints the number of nodes and edges of the imported graph for diagnostic purposes.\n",
    "\n",
    "    Raises:\n",
    "    - ValueError: If neither an interactome name nor a UUID is provided.\n",
    "    \"\"\"    \n",
    "    interactome_uuid=UUIDs[interactome_name]\n",
    "    print(interactome_name)\n",
    "    ndex_server='public.ndexbio.org'\n",
    "    #import network based on provided interactome key\n",
    "    if (interactome_name in UUIDs.keys()):\n",
    "        graph = ndex2.create_nice_cx_from_server(\n",
    "                    ndex_server, \n",
    "                    username=ndex_user, \n",
    "                    password=ndex_password, \n",
    "                    uuid=interactome_uuid\n",
    "                ).to_networkx()\n",
    "        if (interactome_name=='pcnet_v14'):\n",
    "            graph=nx.relabel_nodes(graph, nx.get_node_attributes(graph, 'HGNC Symbol'))\n",
    "        # print out interactome num nodes and edges for diagnostic purposes\n",
    "        print('number of nodes:')\n",
    "        print(len(graph.nodes))\n",
    "        print('\\nnumber of edges:')\n",
    "        print(len(graph.edges))\n",
    "        return(graph)\n",
    "    elif(interactome_name==None & UUID!=None):\n",
    "        print('using novel UUID. For UUIDs used in this study, see UUID_dict')\n",
    "        graph = ndex2.create_nice_cx_from_server(\n",
    "            ndex_server, \n",
    "            username=ndex_user, \n",
    "            password=ndex_password, \n",
    "            uuid=UUID\n",
    "        ).to_networkx()\n",
    "        # print out interactome num nodes and edges for diagnostic purposes\n",
    "        print('number of nodes:')\n",
    "        print(len(graph.nodes))\n",
    "        print('\\nnumber of edges:')\n",
    "        print(len(graph.edges))\n",
    "        return(graph)\n",
    "    else:\n",
    "        print('UUID/interactome name not provided- please provide either to import interactome.')"
   ]
  },
  {
   "cell_type": "markdown",
   "id": "672a40ad-6c4c-4ced-ae03-76cc85504fbf",
   "metadata": {},
   "source": [
    "# Interactome Set-up"
   ]
  },
  {
   "cell_type": "markdown",
   "id": "f295ef67-d5ad-42ae-9f84-162cbb7c9f11",
   "metadata": {},
   "source": [
    "pcnet2- versions \n",
    "from wright et al. 2024 preprint:\n",
    "PCNet 2.0= best-performing ranked composite (top 15 interactomes, 3.85M interactions)\n",
    "PCNet 2.1= top 8 interactomes, 1.75M interactions\n",
    "PCNet 2.2= top 10 co-citation-free interactomes, 3.32M interactions "
   ]
  },
  {
   "cell_type": "code",
   "execution_count": 11,
   "id": "6f4e5cbc-c23f-48ee-b32a-1d92d1e9f039",
   "metadata": {},
   "outputs": [],
   "source": [
    "interactome_name='PCNet2.0'"
   ]
  },
  {
   "cell_type": "code",
   "execution_count": 12,
   "id": "a80cdec2-c012-4458-a4d7-1dfe405c66bc",
   "metadata": {},
   "outputs": [
    {
     "name": "stdout",
     "output_type": "stream",
     "text": [
      "PCNet2.0\n",
      "number of nodes:\n",
      "19267\n",
      "\n",
      "number of edges:\n",
      "3852119\n"
     ]
    }
   ],
   "source": [
    "graph=import_interactome('PCNet2.0')"
   ]
  },
  {
   "cell_type": "code",
   "execution_count": 13,
   "id": "85753f92-12f5-4ba8-8270-5c5d2c90ee58",
   "metadata": {},
   "outputs": [],
   "source": [
    "all_nodes=list(graph.nodes())"
   ]
  },
  {
   "cell_type": "code",
   "execution_count": 14,
   "id": "245c67ed-15bc-469b-9434-28755a6708b6",
   "metadata": {},
   "outputs": [
    {
     "name": "stdout",
     "output_type": "stream",
     "text": [
      "\n",
      "calculating w_prime\n",
      "\n",
      "calculating w_double_prime\n"
     ]
    }
   ],
   "source": [
    "# pre calculate the matricies used for network propagation\n",
    "print('\\ncalculating w_prime')\n",
    "w_prime = netprop.get_normalized_adjacency_matrix(graph, conserve_heat=True)\n",
    "\n",
    "print('\\ncalculating w_double_prime')\n",
    "w_double_prime = netprop.get_individual_heats_matrix(w_prime, .5)"
   ]
  },
  {
   "cell_type": "markdown",
   "id": "a48bd722-8b8c-4eb2-841e-26799f9b5405",
   "metadata": {},
   "source": [
    "# import NPS scores and seed genes"
   ]
  },
  {
   "cell_type": "code",
   "execution_count": 15,
   "id": "fb17ed54-1598-4530-9897-e7062d7381b7",
   "metadata": {},
   "outputs": [],
   "source": [
    "mag_dir='magma/seed_genes/'\n",
    "file_dict={\n",
    "    'loco':mag_dir+'loco_win10_annot.tsv',\n",
    "    'ext_munged':mag_dir+'ext_munged_annot.tsv',\n",
    "    'ext':mag_dir+'ext_orig_annot.tsv'\n",
    "}"
   ]
  },
  {
   "cell_type": "code",
   "execution_count": 16,
   "id": "0d648371-ab74-4cf4-b4b6-f8da3260f7a3",
   "metadata": {},
   "outputs": [],
   "source": [
    "seed_dict={}"
   ]
  },
  {
   "cell_type": "code",
   "execution_count": 17,
   "id": "da4b21d5-30d8-4f73-a6b3-44da10c1b3ab",
   "metadata": {},
   "outputs": [],
   "source": [
    "loco=pd.read_csv(file_dict['loco'],sep='\\t')\n",
    "loco_bonf_cut=2.6389402016150313e-06 #calculated in define_seed_genes_orthologs- from raw magma results before adding in ortholog info\n",
    "seed_dict['loco_FDR']=(set(loco[loco['Q']<0.05]['HM_ORTHO']))\n",
    "seed_dict['loco_bonf']=(set(loco[loco['P']<loco_bonf_cut]['HM_ORTHO']))"
   ]
  },
  {
   "cell_type": "code",
   "execution_count": 18,
   "id": "782784f4-4c2b-468b-a485-3f979fa00c1c",
   "metadata": {},
   "outputs": [],
   "source": [
    "ext=pd.read_csv(file_dict['ext'],sep='\\t')\n",
    "ext_bonf_cut=0.05/len(ext) # no ortholog adding, so can calculate from this table\n",
    "seed_dict['ext_munged_FDR']=(set(ext[ext['Q']<0.05]['GENE']))\n",
    "seed_dict['ext_munged_bonf']=(set(ext[ext['P']<ext_bonf_cut]['GENE']))"
   ]
  },
  {
   "cell_type": "code",
   "execution_count": 19,
   "id": "db414d53-1141-496f-a27a-76fe31c623e6",
   "metadata": {},
   "outputs": [],
   "source": [
    "ext=pd.read_csv(file_dict['ext'],sep='\\t')\n",
    "ext_bonf_cut=0.05/len(ext) # no ortholog adding, so can calculate from this table\n",
    "seed_dict['ext_FDR']=(set(ext[ext['Q']<0.05]['GENE']))\n",
    "seed_dict['ext_bonf']=(set(ext[ext['P']<ext_bonf_cut]['GENE']))"
   ]
  },
  {
   "cell_type": "code",
   "execution_count": 20,
   "id": "d261951a-78cb-42fb-a6e8-ab75f74cae79",
   "metadata": {},
   "outputs": [],
   "source": [
    "NPS_dict={}\n",
    "for k in seed_dict.keys():\n",
    "    for u in UUIDs.keys():\n",
    "        p=('network_scores/'+k+'_'+u+'_zscore.tsv')\n",
    "        if os.path.isfile(p):\n",
    "            t=pd.read_csv('network_scores/'+k+'_'+u+'_zscore.tsv',header=None, sep='\\t')\n",
    "            t.index=t[0]\n",
    "            t=t.drop(columns=[0])\n",
    "            t=t[1].squeeze()\n",
    "            t = pd.DataFrame({'z':t})\n",
    "            NPS_dict[k+'_'+u]=t"
   ]
  },
  {
   "cell_type": "code",
   "execution_count": 21,
   "id": "0559c1a9-3131-45a6-9ac4-a57fbdf1396c",
   "metadata": {},
   "outputs": [],
   "source": [
    "NPS_dict_series={}\n",
    "for k in seed_dict.keys():\n",
    "    for u in UUIDs.keys():\n",
    "        p=('network_scores/'+k+'_'+u+'_zscore.tsv')\n",
    "        if os.path.isfile(p):\n",
    "            t=pd.read_csv('network_scores/'+k+'_'+u+'_zscore.tsv',header=None, sep='\\t')\n",
    "            t.index=t[0]\n",
    "            t=t.drop(columns=[0])\n",
    "            #t=t[1].squeeze()\n",
    "            #t = pd.DataFrame({'z':t})\n",
    "            NPS_dict_series[k+'_'+u]=t"
   ]
  },
  {
   "cell_type": "markdown",
   "id": "e922d6f8-56cd-459f-b416-8c98fc105e4d",
   "metadata": {},
   "source": [
    "# choose datasets for analysis"
   ]
  },
  {
   "cell_type": "code",
   "execution_count": 26,
   "id": "0955ef35-3847-4c96-a321-b45a833c6161",
   "metadata": {},
   "outputs": [],
   "source": [
    "cut_r= 'FDR'\n",
    "cut_h='bonf'\n",
    "trait_r='loco'\n",
    "trait_h='ext'\n",
    "\n",
    "#labels\n",
    "label_r=trait_r+'_'+cut_r\n",
    "label_h=trait_h+'_'+cut_h\n",
    "#seed genes\n",
    "seed_r=seed_dict[label_r]\n",
    "seed_h=seed_dict[label_h]\n",
    "#NPS scores\n",
    "NPS_r=NPS_dict[label_r+'_'+interactome_name]\n",
    "NPS_h=NPS_dict[label_h+'_'+interactome_name]"
   ]
  },
  {
   "cell_type": "code",
   "execution_count": 31,
   "id": "3f480bba-1573-4a77-b004-1c6546bda62a",
   "metadata": {},
   "outputs": [],
   "source": [
    "tbl_z = pd.concat([NPS_r, NPS_h], axis=1)\n",
    "tbl_z.columns = ('z1', 'z2')\n",
    "tbl_z['z_comb'] = tbl_z['z1'] * tbl_z['z2']"
   ]
  },
  {
   "cell_type": "code",
   "execution_count": 34,
   "id": "7cd00521-6539-48bf-b7e8-9e154b873a18",
   "metadata": {},
   "outputs": [],
   "source": [
    "outNetwork = tbl_z[(tbl_z['z1'] <= 1.5) | (tbl_z['z2'] <= 1.5) | (tbl_z['z_comb'] <= 3)]"
   ]
  },
  {
   "cell_type": "code",
   "execution_count": 45,
   "id": "f339d02b-8ea0-4269-bf42-62eef3501b2c",
   "metadata": {},
   "outputs": [
    {
     "data": {
      "text/html": [
       "<div>\n",
       "<style scoped>\n",
       "    .dataframe tbody tr th:only-of-type {\n",
       "        vertical-align: middle;\n",
       "    }\n",
       "\n",
       "    .dataframe tbody tr th {\n",
       "        vertical-align: top;\n",
       "    }\n",
       "\n",
       "    .dataframe thead th {\n",
       "        text-align: right;\n",
       "    }\n",
       "</style>\n",
       "<table border=\"1\" class=\"dataframe\">\n",
       "  <thead>\n",
       "    <tr style=\"text-align: right;\">\n",
       "      <th></th>\n",
       "      <th>z1</th>\n",
       "      <th>z2</th>\n",
       "      <th>z_comb</th>\n",
       "    </tr>\n",
       "    <tr>\n",
       "      <th>0</th>\n",
       "      <th></th>\n",
       "      <th></th>\n",
       "      <th></th>\n",
       "    </tr>\n",
       "  </thead>\n",
       "  <tbody>\n",
       "    <tr>\n",
       "      <th>ENG</th>\n",
       "      <td>-0.744393</td>\n",
       "      <td>16.950689</td>\n",
       "      <td>-12.617967</td>\n",
       "    </tr>\n",
       "    <tr>\n",
       "      <th>USP4</th>\n",
       "      <td>-1.477881</td>\n",
       "      <td>7.051032</td>\n",
       "      <td>-10.420590</td>\n",
       "    </tr>\n",
       "    <tr>\n",
       "      <th>FKBP1B</th>\n",
       "      <td>-1.252511</td>\n",
       "      <td>23.776959</td>\n",
       "      <td>-29.780897</td>\n",
       "    </tr>\n",
       "    <tr>\n",
       "      <th>CDH1</th>\n",
       "      <td>-0.234462</td>\n",
       "      <td>8.771228</td>\n",
       "      <td>-2.056516</td>\n",
       "    </tr>\n",
       "    <tr>\n",
       "      <th>MAPK4</th>\n",
       "      <td>-0.146717</td>\n",
       "      <td>15.883059</td>\n",
       "      <td>-2.330308</td>\n",
       "    </tr>\n",
       "    <tr>\n",
       "      <th>...</th>\n",
       "      <td>...</td>\n",
       "      <td>...</td>\n",
       "      <td>...</td>\n",
       "    </tr>\n",
       "    <tr>\n",
       "      <th>C1orf185</th>\n",
       "      <td>-0.582319</td>\n",
       "      <td>8.699207</td>\n",
       "      <td>-5.065716</td>\n",
       "    </tr>\n",
       "    <tr>\n",
       "      <th>MUSTN1</th>\n",
       "      <td>-0.379153</td>\n",
       "      <td>5.432832</td>\n",
       "      <td>-2.059877</td>\n",
       "    </tr>\n",
       "    <tr>\n",
       "      <th>OR51C1P</th>\n",
       "      <td>-0.750784</td>\n",
       "      <td>3.916532</td>\n",
       "      <td>-2.940471</td>\n",
       "    </tr>\n",
       "    <tr>\n",
       "      <th>C3orf70</th>\n",
       "      <td>-0.810496</td>\n",
       "      <td>5.047098</td>\n",
       "      <td>-4.090654</td>\n",
       "    </tr>\n",
       "    <tr>\n",
       "      <th>ZNF705B</th>\n",
       "      <td>-0.129737</td>\n",
       "      <td>4.178678</td>\n",
       "      <td>-0.542130</td>\n",
       "    </tr>\n",
       "  </tbody>\n",
       "</table>\n",
       "<p>645 rows × 3 columns</p>\n",
       "</div>"
      ],
      "text/plain": [
       "                z1         z2     z_comb\n",
       "0                                       \n",
       "ENG      -0.744393  16.950689 -12.617967\n",
       "USP4     -1.477881   7.051032 -10.420590\n",
       "FKBP1B   -1.252511  23.776959 -29.780897\n",
       "CDH1     -0.234462   8.771228  -2.056516\n",
       "MAPK4    -0.146717  15.883059  -2.330308\n",
       "...            ...        ...        ...\n",
       "C1orf185 -0.582319   8.699207  -5.065716\n",
       "MUSTN1   -0.379153   5.432832  -2.059877\n",
       "OR51C1P  -0.750784   3.916532  -2.940471\n",
       "C3orf70  -0.810496   5.047098  -4.090654\n",
       "ZNF705B  -0.129737   4.178678  -0.542130\n",
       "\n",
       "[645 rows x 3 columns]"
      ]
     },
     "execution_count": 45,
     "metadata": {},
     "output_type": "execute_result"
    }
   ],
   "source": [
    "outNetwork[(outNetwork['z2'] > 3) & (outNetwork['z1'] < 0) ]"
   ]
  },
  {
   "cell_type": "code",
   "execution_count": 46,
   "id": "a83c0c31-4263-4d58-8665-e3774d5c3be9",
   "metadata": {},
   "outputs": [
    {
     "data": {
      "text/html": [
       "<div>\n",
       "<style scoped>\n",
       "    .dataframe tbody tr th:only-of-type {\n",
       "        vertical-align: middle;\n",
       "    }\n",
       "\n",
       "    .dataframe tbody tr th {\n",
       "        vertical-align: top;\n",
       "    }\n",
       "\n",
       "    .dataframe thead th {\n",
       "        text-align: right;\n",
       "    }\n",
       "</style>\n",
       "<table border=\"1\" class=\"dataframe\">\n",
       "  <thead>\n",
       "    <tr style=\"text-align: right;\">\n",
       "      <th></th>\n",
       "      <th>z1</th>\n",
       "      <th>z2</th>\n",
       "      <th>z_comb</th>\n",
       "    </tr>\n",
       "    <tr>\n",
       "      <th>0</th>\n",
       "      <th></th>\n",
       "      <th></th>\n",
       "      <th></th>\n",
       "    </tr>\n",
       "  </thead>\n",
       "  <tbody>\n",
       "    <tr>\n",
       "      <th>ARMS2</th>\n",
       "      <td>3.699224</td>\n",
       "      <td>-0.433692</td>\n",
       "      <td>-1.604323</td>\n",
       "    </tr>\n",
       "    <tr>\n",
       "      <th>MAPKAPK2</th>\n",
       "      <td>22.766790</td>\n",
       "      <td>-0.408899</td>\n",
       "      <td>-9.309320</td>\n",
       "    </tr>\n",
       "    <tr>\n",
       "      <th>MAP3K14</th>\n",
       "      <td>15.765021</td>\n",
       "      <td>-0.718074</td>\n",
       "      <td>-11.320452</td>\n",
       "    </tr>\n",
       "    <tr>\n",
       "      <th>ICAM2</th>\n",
       "      <td>15.625302</td>\n",
       "      <td>-0.451414</td>\n",
       "      <td>-7.053476</td>\n",
       "    </tr>\n",
       "    <tr>\n",
       "      <th>FNTA</th>\n",
       "      <td>22.734155</td>\n",
       "      <td>-0.764155</td>\n",
       "      <td>-17.372426</td>\n",
       "    </tr>\n",
       "    <tr>\n",
       "      <th>...</th>\n",
       "      <td>...</td>\n",
       "      <td>...</td>\n",
       "      <td>...</td>\n",
       "    </tr>\n",
       "    <tr>\n",
       "      <th>EEF1E1-BLOC1S5</th>\n",
       "      <td>3.689466</td>\n",
       "      <td>-0.358867</td>\n",
       "      <td>-1.324027</td>\n",
       "    </tr>\n",
       "    <tr>\n",
       "      <th>LRRC71</th>\n",
       "      <td>9.770999</td>\n",
       "      <td>-0.283165</td>\n",
       "      <td>-2.766803</td>\n",
       "    </tr>\n",
       "    <tr>\n",
       "      <th>FBXO39</th>\n",
       "      <td>4.773257</td>\n",
       "      <td>-0.102815</td>\n",
       "      <td>-0.490765</td>\n",
       "    </tr>\n",
       "    <tr>\n",
       "      <th>FCRLB</th>\n",
       "      <td>4.895835</td>\n",
       "      <td>-0.830742</td>\n",
       "      <td>-4.067177</td>\n",
       "    </tr>\n",
       "    <tr>\n",
       "      <th>LRRC72</th>\n",
       "      <td>4.119772</td>\n",
       "      <td>-0.899990</td>\n",
       "      <td>-3.707753</td>\n",
       "    </tr>\n",
       "  </tbody>\n",
       "</table>\n",
       "<p>307 rows × 3 columns</p>\n",
       "</div>"
      ],
      "text/plain": [
       "                       z1        z2     z_comb\n",
       "0                                             \n",
       "ARMS2            3.699224 -0.433692  -1.604323\n",
       "MAPKAPK2        22.766790 -0.408899  -9.309320\n",
       "MAP3K14         15.765021 -0.718074 -11.320452\n",
       "ICAM2           15.625302 -0.451414  -7.053476\n",
       "FNTA            22.734155 -0.764155 -17.372426\n",
       "...                   ...       ...        ...\n",
       "EEF1E1-BLOC1S5   3.689466 -0.358867  -1.324027\n",
       "LRRC71           9.770999 -0.283165  -2.766803\n",
       "FBXO39           4.773257 -0.102815  -0.490765\n",
       "FCRLB            4.895835 -0.830742  -4.067177\n",
       "LRRC72           4.119772 -0.899990  -3.707753\n",
       "\n",
       "[307 rows x 3 columns]"
      ]
     },
     "execution_count": 46,
     "metadata": {},
     "output_type": "execute_result"
    }
   ],
   "source": [
    "outNetwork[(outNetwork['z1'] > 3) & (outNetwork['z2'] < 0) ]"
   ]
  }
 ],
 "metadata": {
  "kernelspec": {
   "display_name": "Python [conda env:env-std-py38]",
   "language": "python",
   "name": "conda-env-env-std-py38-py"
  },
  "language_info": {
   "codemirror_mode": {
    "name": "ipython",
    "version": 3
   },
   "file_extension": ".py",
   "mimetype": "text/x-python",
   "name": "python",
   "nbconvert_exporter": "python",
   "pygments_lexer": "ipython3",
   "version": "3.8.13"
  }
 },
 "nbformat": 4,
 "nbformat_minor": 5
}
