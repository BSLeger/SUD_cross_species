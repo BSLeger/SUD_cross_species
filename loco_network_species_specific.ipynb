{
 "cells": [
  {
   "cell_type": "markdown",
   "id": "72712048-273e-4a08-a4e4-7a05d94ea9ca",
   "metadata": {},
   "source": [
    "purpose: identify rat and human only networks and compare to sarah's combined approach"
   ]
  },
  {
   "cell_type": "markdown",
   "id": "82772544-cf4a-4013-b03e-7641c04f3f65",
   "metadata": {},
   "source": [
    "# set-up"
   ]
  },
  {
   "cell_type": "markdown",
   "id": "dacf95ee-5806-4452-8390-ca708ba62d48",
   "metadata": {},
   "source": [
    "## import packages"
   ]
  },
  {
   "cell_type": "code",
   "execution_count": 2,
   "id": "f4e10543-a1dc-4a5a-8733-3b233e31ab45",
   "metadata": {},
   "outputs": [],
   "source": [
    "from ndex2.nice_cx_network import NiceCXNetwork\n",
    "import ndex2.client as nc\n",
    "import ndex2\n",
    "import networkx as nx\n",
    "import pandas as pd\n",
    "import numpy as np\n",
    "import os\n",
    "from netcoloc import netprop_zscore\n",
    "from netcoloc import netprop\n",
    "from netcoloc import network_colocalization\n",
    "from scipy.stats import hypergeom\n",
    "#import upsetplot\n",
    "from upsetplot import plot as upplot\n",
    "from upsetplot import from_contents\n",
    "from upsetplot import UpSet\n",
    "\n",
    "import matplotlib.pyplot as plt\n",
    "import sys"
   ]
  },
  {
   "cell_type": "code",
   "execution_count": 3,
   "id": "9d011e7d-8f74-4358-9d1c-26fdb799f9a7",
   "metadata": {},
   "outputs": [],
   "source": [
    "os.chdir('../')"
   ]
  },
  {
   "cell_type": "code",
   "execution_count": 4,
   "id": "7c11fc0d-a179-420c-9cd7-68b7afd948c3",
   "metadata": {},
   "outputs": [],
   "source": [
    "#boolean determining whether figures will be saved\n",
    "save_fig=True"
   ]
  },
  {
   "cell_type": "code",
   "execution_count": 5,
   "id": "53cfdbc1-796b-4221-899f-e4cab8a83af0",
   "metadata": {},
   "outputs": [
    {
     "name": "stdout",
     "output_type": "stream",
     "text": [
      "NDEx credentials imported from meta file\n"
     ]
    }
   ],
   "source": [
    "#create a file called environ_ndex_meta.py where you save variables 'ndex_user' and 'ndex_password'\n",
    "#otherwise will prompt you to define those within the notebooks\n",
    "if os.path.isfile('../environ_ndex_meta.py'):\n",
    "    print ('NDEx credentials imported from meta file')\n",
    "    sys.path.insert(1, '../')\n",
    "    from environ_ndex_meta import *\n",
    "    sys.path.pop(1)\n",
    "else:\n",
    "    # Prompt the user for a username\n",
    "    ndex_user = input(\"Enter your NDEx username: \")\n",
    "    # Prompt the user for a password\n",
    "    ndex_password = input(\"Enter your NDEx password: \")"
   ]
  },
  {
   "cell_type": "code",
   "execution_count": 6,
   "id": "1e340379-2e24-4690-96be-7fee3eec8318",
   "metadata": {},
   "outputs": [],
   "source": [
    "IBM=['#648FFF','#785EF0','#DC267F','#FE6100','#FFB000']\n",
    "colour_dict={\n",
    "    'ext':IBM[1],\n",
    "    'ext_alt':IBM[0],\n",
    "    'ext_munged':IBM[1],\n",
    "    'ext_munged_alt':IBM[0],\n",
    "    'loco':IBM[4],\n",
    "    'loco_alt':IBM[3],\n",
    "    'shared':IBM[2],\n",
    "    'other':'#CCCCCC'\n",
    "}"
   ]
  },
  {
   "cell_type": "code",
   "execution_count": 10,
   "id": "21589740-f1b6-4cc0-82d4-567b5753cb1e",
   "metadata": {},
   "outputs": [],
   "source": [
    "UUIDs={\n",
    "    'PCNet2.0':'d73d6357-e87b-11ee-9621-005056ae23aa',\n",
    "    'PCNet2.1':'e9c574f4-e87a-11ee-9621-005056ae23aa',\n",
    "    'PCNet2.2':'8b4b54fa-e87d-11ee-9621-005056ae23aa',\n",
    "    'loco-ext':'0dfe4771-2a90-11ef-9621-005056ae23aa'\n",
    "}"
   ]
  },
  {
   "cell_type": "markdown",
   "id": "696aba98-65ce-4f3b-8dbc-0afd0f93b54c",
   "metadata": {},
   "source": [
    "# functions"
   ]
  },
  {
   "cell_type": "code",
   "execution_count": 10,
   "id": "94fa1035-7ab3-490c-8daf-1af94de3da85",
   "metadata": {},
   "outputs": [],
   "source": [
    "def import_interactome(interactome_name=None, UUIDs=UUIDs,ndex_user=None, ndex_password=None,UUID=None):\n",
    "    \"\"\"\n",
    "    Imports a gene interactome from the NDEx database and returns it as a NetworkX graph object. Optionally,\n",
    "    the function allows for importing using a unique identifier (UUID) or by an interactome name.\n",
    "\n",
    "    The function checks if the interactome name provided corresponds to a predefined dictionary of UUIDs. If it does, it\n",
    "    retrieves the network using the specified credentials. If an interactome name is not provided but a UUID is,\n",
    "    it retrieves the network using the provided UUID. The nodes of pcnet_v14 are relabelled by their gene name rather than ID number.\n",
    "\n",
    "    Parameters:\n",
    "    - interactome_name (str, optional): The name of the interactome as defined in the UUIDs dictionary. If not provided\n",
    "      but a UUID is, the interactome associated with the UUID is imported instead.\n",
    "    - ndex_user (str, optional): The NDEx account username for accessing private networks.\n",
    "    - ndex_password (str, optional): The NDEx account password for accessing private networks.\n",
    "    - UUID (str, optional): A specific UUID to directly download an interactome from NDEx if the interactome name is not used.\n",
    "\n",
    "    Returns:\n",
    "    networkx.Graph: A graph object representing the interactome. Nodes and edges represent genes and their interactions, respectively.\n",
    "\n",
    "    Notes:\n",
    "    - The function uses the NDEx2 Python client and requires Internet access to NDEx's servers.\n",
    "    - Depending on the access rights of the NDEx account, private or public interactomes can be retrieved.\n",
    "    - The function prints the number of nodes and edges of the imported graph for diagnostic purposes.\n",
    "\n",
    "    Raises:\n",
    "    - ValueError: If neither an interactome name nor a UUID is provided.\n",
    "    \"\"\"    \n",
    "    interactome_uuid=UUIDs[interactome_name]\n",
    "    print(interactome_name)\n",
    "    ndex_server='public.ndexbio.org'\n",
    "    #import network based on provided interactome key\n",
    "    if (interactome_name in UUIDs.keys()):\n",
    "        graph = ndex2.create_nice_cx_from_server(\n",
    "                    ndex_server, \n",
    "                    username=ndex_user, \n",
    "                    password=ndex_password, \n",
    "                    uuid=interactome_uuid\n",
    "                ).to_networkx()\n",
    "        if (interactome_name=='pcnet_v14'):\n",
    "            graph=nx.relabel_nodes(graph, nx.get_node_attributes(graph, 'HGNC Symbol'))\n",
    "        # print out interactome num nodes and edges for diagnostic purposes\n",
    "        print('number of nodes:')\n",
    "        print(len(graph.nodes))\n",
    "        print('\\nnumber of edges:')\n",
    "        print(len(graph.edges))\n",
    "        return(graph)\n",
    "    elif(interactome_name==None & UUID!=None):\n",
    "        print('using novel UUID. For UUIDs used in this study, see UUID_dict')\n",
    "        graph = ndex2.create_nice_cx_from_server(\n",
    "            ndex_server, \n",
    "            username=ndex_user, \n",
    "            password=ndex_password, \n",
    "            uuid=UUID\n",
    "        ).to_networkx()\n",
    "        # print out interactome num nodes and edges for diagnostic purposes\n",
    "        print('number of nodes:')\n",
    "        print(len(graph.nodes))\n",
    "        print('\\nnumber of edges:')\n",
    "        print(len(graph.edges))\n",
    "        return(graph)\n",
    "    else:\n",
    "        print('UUID/interactome name not provided- please provide either to import interactome.')"
   ]
  },
  {
   "cell_type": "markdown",
   "id": "f0235d16-e3a1-42b5-b905-2fec66718d0c",
   "metadata": {
    "tags": []
   },
   "source": [
    "# import network data"
   ]
  },
  {
   "cell_type": "code",
   "execution_count": 11,
   "id": "fa08dd3a-2d58-43eb-b2fa-0f13b0b6eaac",
   "metadata": {},
   "outputs": [],
   "source": [
    "analysis_dataset='loco-ext'"
   ]
  },
  {
   "cell_type": "code",
   "execution_count": 12,
   "id": "94694a25-0d98-4cb7-8cf2-9363f3931ead",
   "metadata": {},
   "outputs": [],
   "source": [
    "#read in network chosen above\n",
    "network = ndex2.create_nice_cx_from_server(server='public.ndexbio.org',username=ndex_user,password=ndex_password, uuid=UUIDs[analysis_dataset])\n",
    "nodes=list(nx.get_node_attributes(network, 'n').values())"
   ]
  },
  {
   "cell_type": "code",
   "execution_count": null,
   "id": "71caa2e5-5f8c-4e02-b30f-77e1b16a579b",
   "metadata": {},
   "outputs": [],
   "source": [
    "nps_h=pd.read_csv('')"
   ]
  }
 ],
 "metadata": {
  "kernelspec": {
   "display_name": "Python [conda env:env-std-py38]",
   "language": "python",
   "name": "conda-env-env-std-py38-py"
  },
  "language_info": {
   "codemirror_mode": {
    "name": "ipython",
    "version": 3
   },
   "file_extension": ".py",
   "mimetype": "text/x-python",
   "name": "python",
   "nbconvert_exporter": "python",
   "pygments_lexer": "ipython3",
   "version": "3.8.13"
  }
 },
 "nbformat": 4,
 "nbformat_minor": 5
}
